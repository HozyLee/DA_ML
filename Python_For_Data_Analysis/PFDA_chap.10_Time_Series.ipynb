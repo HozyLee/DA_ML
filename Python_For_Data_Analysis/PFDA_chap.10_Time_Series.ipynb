{
 "cells": [
  {
   "cell_type": "code",
   "execution_count": 1,
   "metadata": {},
   "outputs": [],
   "source": [
    "import pandas as pd\n",
    "import numpy as np\n",
    "import matplotlib.pyplot as plt"
   ]
  },
  {
   "cell_type": "markdown",
   "metadata": {},
   "source": [
    "# 10 시계열\n",
    "### 1. 고정빈도 표현\n",
    "### 2. 일괄적인 간격\n",
    "### pandas의 강력한 기능 : 불규칙적이고 고정된 빈도를 갖는 시계열 데이터 -> 리샘플링 메셔드를 통해(p.425 10.6 )\n",
    "### 금융, 경제, 서버로그 데이터 분석에 주로 이용"
   ]
  },
  {
   "cell_type": "markdown",
   "metadata": {},
   "source": [
    "# 10.1 날짜, 시간 자료형, 도구 \n",
    "### 파이썬 표준 라이브러리 : 날짜, 시간, 달력 기능을 제공\n",
    "### datetime, time, calendar 모듈 : 기본 내장 라이브러리/ 날짜에 최적화"
   ]
  },
  {
   "cell_type": "code",
   "execution_count": 2,
   "metadata": {},
   "outputs": [],
   "source": [
    "from datetime import datetime"
   ]
  },
  {
   "cell_type": "code",
   "execution_count": 3,
   "metadata": {},
   "outputs": [],
   "source": [
    "now = datetime.now()"
   ]
  },
  {
   "cell_type": "code",
   "execution_count": 4,
   "metadata": {},
   "outputs": [
    {
     "data": {
      "text/plain": [
       "datetime.datetime(2018, 4, 26, 15, 19, 18, 748565)"
      ]
     },
     "execution_count": 4,
     "metadata": {},
     "output_type": "execute_result"
    }
   ],
   "source": [
    "now"
   ]
  },
  {
   "cell_type": "code",
   "execution_count": 5,
   "metadata": {},
   "outputs": [
    {
     "data": {
      "text/plain": [
       "(2018, 4, 26)"
      ]
     },
     "execution_count": 5,
     "metadata": {},
     "output_type": "execute_result"
    }
   ],
   "source": [
    "now.year, now.month, now.day"
   ]
  },
  {
   "cell_type": "markdown",
   "metadata": {},
   "source": [
    "#### datetime.timedelta : datetime 간의 시간적 차이"
   ]
  },
  {
   "cell_type": "code",
   "execution_count": 6,
   "metadata": {},
   "outputs": [],
   "source": [
    "delta = datetime(2011,1,7) - datetime(2008,6,24,8,15)"
   ]
  },
  {
   "cell_type": "code",
   "execution_count": 199,
   "metadata": {},
   "outputs": [
    {
     "data": {
      "text/plain": [
       "datetime.timedelta(926, 56700)"
      ]
     },
     "execution_count": 199,
     "metadata": {},
     "output_type": "execute_result"
    }
   ],
   "source": [
    "delta\n",
    "# 두 시간의 차이를 낸 값은 timedelta 객체가 된다."
   ]
  },
  {
   "cell_type": "code",
   "execution_count": 8,
   "metadata": {},
   "outputs": [
    {
     "data": {
      "text/plain": [
       "926"
      ]
     },
     "execution_count": 8,
     "metadata": {},
     "output_type": "execute_result"
    }
   ],
   "source": [
    "delta.days"
   ]
  },
  {
   "cell_type": "markdown",
   "metadata": {},
   "source": [
    "#### datetim.timedelta : timedelta 를 더하거나 빼서 새로운 객체를 만들 수 있다.\n",
    "#### timedelta( n ) : 기본값으로 단위는 '일(day)'이다. n 일( n days )"
   ]
  },
  {
   "cell_type": "code",
   "execution_count": 9,
   "metadata": {},
   "outputs": [],
   "source": [
    "from datetime import timedelta"
   ]
  },
  {
   "cell_type": "code",
   "execution_count": 10,
   "metadata": {},
   "outputs": [],
   "source": [
    "start = datetime(2011, 1, 7)"
   ]
  },
  {
   "cell_type": "code",
   "execution_count": 11,
   "metadata": {},
   "outputs": [
    {
     "data": {
      "text/plain": [
       "datetime.datetime(2011, 1, 19, 0, 0)"
      ]
     },
     "execution_count": 11,
     "metadata": {},
     "output_type": "execute_result"
    }
   ],
   "source": [
    "start + timedelta(12) # 12일을 더한다."
   ]
  },
  {
   "cell_type": "code",
   "execution_count": 12,
   "metadata": {},
   "outputs": [
    {
     "data": {
      "text/plain": [
       "datetime.datetime(2010, 12, 14, 0, 0)"
      ]
     },
     "execution_count": 12,
     "metadata": {},
     "output_type": "execute_result"
    }
   ],
   "source": [
    "start - 2 * timedelta(12) # timedelta 메서드는 숫자와 연산이 가능하며 여기서 2*12일(24일)을 빼서 24일 전 datetime을 구한 것이다."
   ]
  },
  {
   "cell_type": "raw",
   "metadata": {},
   "source": [
    "datetime 모듈 자료형\n",
    "1. date : 달력을 사용하여 날짜(년,월,일)을 저장한다.\n",
    "2. time : 하루 중 시간을 시간,분,초,마이크로 초 단위로 저장한다.\n",
    "3. datetime : 날짜와 시간을 같이 저장\n",
    "4. timedelta : 두 datetime 값 간의 차이(일, 초, 마이크로초)를 표현"
   ]
  },
  {
   "cell_type": "markdown",
   "metadata": {},
   "source": [
    "## 10.1.1 문자열을 datetime 으로 변환하기\n",
    "#### 날짜 -> 문자 : str(datetime 객체)\n",
    "#### 문자 -> 날짜 : datetime.strptime(날짜를 나타내는 문자열 , 포맷형식)\n",
    "####\n",
    "#### pandas 로 외부 데이터를 불러오는 경우 날짜를 나타내는 열이 있으면\n",
    "#### 문자열로 저장되기 때문에 datetime 객체로 변환하는 작업 필요\n",
    "####\n",
    "#### 포맷 규칙\n",
    "#### %Y : 네 자리 연도\n",
    "#### %y : 두 자리 연도\n",
    "#### %m : 두 자리 월[01,03]\n",
    "#### %d : 두 자리 일[03, 31]\n",
    "#### % H : 24시 형식 시간[00,23]\n",
    "#### % I : 12시 형식 시간[01,12]\n",
    "#### % M : 분\n",
    "#### % S : 초"
   ]
  },
  {
   "cell_type": "code",
   "execution_count": 13,
   "metadata": {},
   "outputs": [],
   "source": [
    "stamp = datetime(2018,3,27)"
   ]
  },
  {
   "cell_type": "code",
   "execution_count": 14,
   "metadata": {},
   "outputs": [
    {
     "data": {
      "text/plain": [
       "'2018-03-27 00:00:00'"
      ]
     },
     "execution_count": 14,
     "metadata": {},
     "output_type": "execute_result"
    }
   ],
   "source": [
    "str(stamp) \n",
    "# str() 함수를 이용하여 datetime 객체 -> 문자열"
   ]
  },
  {
   "cell_type": "code",
   "execution_count": 214,
   "metadata": {},
   "outputs": [
    {
     "data": {
      "text/plain": [
       "datetime.datetime(2018, 1, 3, 0, 0)"
      ]
     },
     "execution_count": 214,
     "metadata": {},
     "output_type": "execute_result"
    }
   ],
   "source": [
    "datetime.strptime('18-01-03','%y-%m-%d')\n",
    "# datetime package 내부의 strptime( 문자열, 포맷형식) 을 이용하여\n",
    "# 날짜를 나타내는 문자열 -> datetime 객체로 변환\n",
    "\n",
    "\n",
    "# pandas 로 외부의 데이터를 불러오는 경우\n",
    "# "
   ]
  },
  {
   "cell_type": "code",
   "execution_count": 211,
   "metadata": {},
   "outputs": [
    {
     "data": {
      "text/plain": [
       "'2018-03-27'"
      ]
     },
     "execution_count": 211,
     "metadata": {},
     "output_type": "execute_result"
    }
   ],
   "source": [
    "stamp.strftime('%Y-%m-%d') # strftime 을 이용하여 datetime 객체를 문자화 시킨다."
   ]
  },
  {
   "cell_type": "code",
   "execution_count": 16,
   "metadata": {},
   "outputs": [
    {
     "data": {
      "text/plain": [
       "'27-03-2018'"
      ]
     },
     "execution_count": 16,
     "metadata": {},
     "output_type": "execute_result"
    }
   ],
   "source": [
    "stamp.strftime('%d-%m-%Y') # 포맷 형식을 변경하여 원하는 방식으로 문자화시킬 수 있다."
   ]
  },
  {
   "cell_type": "code",
   "execution_count": 17,
   "metadata": {},
   "outputs": [],
   "source": [
    "value = '2018-03-27'"
   ]
  },
  {
   "cell_type": "code",
   "execution_count": 18,
   "metadata": {},
   "outputs": [
    {
     "data": {
      "text/plain": [
       "datetime.datetime(2018, 3, 27, 0, 0)"
      ]
     },
     "execution_count": 18,
     "metadata": {},
     "output_type": "execute_result"
    }
   ],
   "source": [
    "datetime.strptime(value , '%Y-%m-%d') # 알려진 형식의 날짜를 파싱하는 최적의 방법\n",
    "\n",
    "# 한계 : 매번 고정된 규칙을 따르는 것은 귀찮은 일이다."
   ]
  },
  {
   "cell_type": "markdown",
   "metadata": {},
   "source": [
    "#### 대부분 사람들이 인지하는 날짜 표현 방식을 인식하여 파싱하기\n",
    "#### 좀 더 유연한 파싱 : 여러 규칙에 대응할 수 있는\n",
    "#### dateutil.parser.parse( ' 0000 - 00 - 00 ' , dayfirst = T or F ) 메서드 사용\n",
    "#### 한계점 : 날짜를 나타내지 않는 문자열도 datetime 으로 반환하는 경우가 있다.\n",
    "##### ex ) '42' -> '2042년'\n",
    "\n",
    "#### 정규화 되지 않은 날짜 형식을 datetime 객체로 변환할 때 정말 유용하다."
   ]
  },
  {
   "cell_type": "code",
   "execution_count": 19,
   "metadata": {},
   "outputs": [],
   "source": [
    "from dateutil.parser import parse"
   ]
  },
  {
   "cell_type": "code",
   "execution_count": 20,
   "metadata": {},
   "outputs": [
    {
     "data": {
      "text/plain": [
       "datetime.datetime(2011, 3, 14, 0, 0)"
      ]
     },
     "execution_count": 20,
     "metadata": {},
     "output_type": "execute_result"
    }
   ],
   "source": [
    "parse('2011/03/14')"
   ]
  },
  {
   "cell_type": "code",
   "execution_count": 21,
   "metadata": {},
   "outputs": [
    {
     "data": {
      "text/plain": [
       "datetime.datetime(2013, 2, 23, 0, 0)"
      ]
     },
     "execution_count": 21,
     "metadata": {},
     "output_type": "execute_result"
    }
   ],
   "source": [
    "parse('2013-2-23')"
   ]
  },
  {
   "cell_type": "code",
   "execution_count": 22,
   "metadata": {},
   "outputs": [
    {
     "data": {
      "text/plain": [
       "datetime.datetime(1997, 1, 31, 22, 45)"
      ]
     },
     "execution_count": 22,
     "metadata": {},
     "output_type": "execute_result"
    }
   ],
   "source": [
    "parse('Jan 31, 1997 10:45 pm')\n",
    "# 표현이 제각각이어도 파싱할 수 있다."
   ]
  },
  {
   "cell_type": "code",
   "execution_count": 23,
   "metadata": {},
   "outputs": [
    {
     "data": {
      "text/plain": [
       "datetime.datetime(1998, 7, 2, 0, 0)"
      ]
     },
     "execution_count": 23,
     "metadata": {},
     "output_type": "execute_result"
    }
   ],
   "source": [
    "parse('7/2/1998') # 날짜가 맨 앞에 오는 경우\n",
    "# 지금은 1998 년 2 월 7일로 하고 싶은데\n",
    "# 아래와 같이 7월 2일로 잘못 저장된다."
   ]
  },
  {
   "cell_type": "code",
   "execution_count": 24,
   "metadata": {},
   "outputs": [
    {
     "data": {
      "text/plain": [
       "datetime.datetime(1998, 2, 7, 0, 0)"
      ]
     },
     "execution_count": 24,
     "metadata": {},
     "output_type": "execute_result"
    }
   ],
   "source": [
    "parse('7/2/1998', dayfirst = True)\n",
    "# dayfirts = True 로 넘겨주어 가장 앞의 요소를 day로 인식하게 한다."
   ]
  },
  {
   "cell_type": "code",
   "execution_count": 25,
   "metadata": {},
   "outputs": [],
   "source": [
    "notnorm_dt = ['2017/3/24 00:23', '13:00 23-4-2000', '15.3.2018 18:00'] \n",
    "#포맷이 정규화 되지 않은(각각 표현하는 방식이 다른) 날짜를 나타내는 문자열 리스트"
   ]
  },
  {
   "cell_type": "code",
   "execution_count": 26,
   "metadata": {},
   "outputs": [
    {
     "name": "stdout",
     "output_type": "stream",
     "text": [
      "2017-03-24 00:23:00\n",
      "2000-04-23 13:00:00\n",
      "2018-03-15 18:00:00\n"
     ]
    }
   ],
   "source": [
    "for i in notnorm_dt:\n",
    "    print(parse(i))\n",
    "# dateutil.parser.parse() 메서드를 이용해 정규화 되지 않은 문자열을 알아서 일관된 포맷으로 정규화 해준다."
   ]
  },
  {
   "cell_type": "markdown",
   "metadata": {},
   "source": [
    "### pandas 의 to_datetime 메서드\n",
    "#### pd.to_datetime( ) : 많은 종류의 날짜형식을 DatetimeIndex 객체로 반환\n",
    "##### dateutil.parser.parse( ) 메서드의 index 화 버전이라고 생각해도된다.\n",
    "#### DataFrame 에서 날짜 형식의 col 을 인지로 넘길 수 있다."
   ]
  },
  {
   "cell_type": "code",
   "execution_count": 27,
   "metadata": {},
   "outputs": [],
   "source": [
    "datestrs = ['7-6-2011 13:00' , '8/6/2011']"
   ]
  },
  {
   "cell_type": "code",
   "execution_count": 28,
   "metadata": {},
   "outputs": [
    {
     "data": {
      "text/plain": [
       "DatetimeIndex(['2011-07-06 13:00:00', '2011-08-06 00:00:00'], dtype='datetime64[ns]', freq=None)"
      ]
     },
     "execution_count": 28,
     "metadata": {},
     "output_type": "execute_result"
    }
   ],
   "source": [
    "pd.to_datetime(datestrs) # 문자열을 인덱스로 추출해준다."
   ]
  },
  {
   "cell_type": "code",
   "execution_count": 29,
   "metadata": {},
   "outputs": [],
   "source": [
    "# 날짜를 모르는 경우(None) 값은 경우도 처리해준다.\n",
    "idx = pd.to_datetime(datestrs + [None])"
   ]
  },
  {
   "cell_type": "code",
   "execution_count": 30,
   "metadata": {},
   "outputs": [
    {
     "data": {
      "text/plain": [
       "DatetimeIndex(['2011-07-06 13:00:00', '2011-08-06 00:00:00', 'NaT'], dtype='datetime64[ns]', freq=None)"
      ]
     },
     "execution_count": 30,
     "metadata": {},
     "output_type": "execute_result"
    }
   ],
   "source": [
    "idx"
   ]
  },
  {
   "cell_type": "code",
   "execution_count": 31,
   "metadata": {},
   "outputs": [
    {
     "data": {
      "text/plain": [
       "NaT"
      ]
     },
     "execution_count": 31,
     "metadata": {},
     "output_type": "execute_result"
    }
   ],
   "source": [
    "idx[2] # NaT : Not a Time 누락된 타임스탬프를 나타낸다."
   ]
  },
  {
   "cell_type": "code",
   "execution_count": 32,
   "metadata": {},
   "outputs": [
    {
     "data": {
      "text/plain": [
       "array([False, False,  True])"
      ]
     },
     "execution_count": 32,
     "metadata": {},
     "output_type": "execute_result"
    }
   ],
   "source": [
    "pd.isnull(idx)"
   ]
  },
  {
   "cell_type": "markdown",
   "metadata": {},
   "source": [
    "# 10.2 시계열 기초\n",
    "#### 기본적인 시계열 종류 : 타임스탬프로 색인된 Series 객체"
   ]
  },
  {
   "cell_type": "code",
   "execution_count": 33,
   "metadata": {},
   "outputs": [],
   "source": [
    "dates = [datetime(2011,1,2), datetime(2011,1,5), datetime(2011,1,7),\n",
    "         datetime(2011,1,8), datetime(2011,1,10),datetime(2011,1,12)]"
   ]
  },
  {
   "cell_type": "code",
   "execution_count": 34,
   "metadata": {},
   "outputs": [],
   "source": [
    "ts = pd.Series(np.random.randn(6), index = dates)\n",
    "# 인덱스를 datetime 객체를 가진 리스트로 주었다."
   ]
  },
  {
   "cell_type": "code",
   "execution_count": 35,
   "metadata": {
    "scrolled": true
   },
   "outputs": [
    {
     "data": {
      "text/plain": [
       "2011-01-02   -0.277957\n",
       "2011-01-05   -1.521713\n",
       "2011-01-07   -0.216465\n",
       "2011-01-08   -0.675459\n",
       "2011-01-10   -0.286333\n",
       "2011-01-12    2.030976\n",
       "dtype: float64"
      ]
     },
     "execution_count": 35,
     "metadata": {},
     "output_type": "execute_result"
    }
   ],
   "source": [
    "ts"
   ]
  },
  {
   "cell_type": "code",
   "execution_count": 36,
   "metadata": {
    "scrolled": true
   },
   "outputs": [
    {
     "data": {
      "text/plain": [
       "2011-01-02   -0.277957\n",
       "2011-01-07   -0.216465\n",
       "2011-01-10   -0.286333\n",
       "dtype: float64"
      ]
     },
     "execution_count": 36,
     "metadata": {},
     "output_type": "execute_result"
    }
   ],
   "source": [
    "ts[::2] # 2 간격마다 데이터를 뽑는 슬라이싱 기술 (하나 고르고 하나 뛰어 넘고)"
   ]
  },
  {
   "cell_type": "code",
   "execution_count": 37,
   "metadata": {},
   "outputs": [
    {
     "data": {
      "text/plain": [
       "2011-01-02   -0.277957\n",
       "2011-01-08   -0.675459\n",
       "dtype: float64"
      ]
     },
     "execution_count": 37,
     "metadata": {},
     "output_type": "execute_result"
    }
   ],
   "source": [
    "ts[::3] # 하나 고르고 두개 뛰어넘고"
   ]
  },
  {
   "cell_type": "code",
   "execution_count": 38,
   "metadata": {},
   "outputs": [
    {
     "data": {
      "text/plain": [
       "2011-01-02   -0.277957\n",
       "2011-01-10   -0.286333\n",
       "dtype: float64"
      ]
     },
     "execution_count": 38,
     "metadata": {},
     "output_type": "execute_result"
    }
   ],
   "source": [
    "ts[::4] # 하나 고르고 세개 뛰어넘고"
   ]
  },
  {
   "cell_type": "code",
   "execution_count": 39,
   "metadata": {
    "scrolled": true
   },
   "outputs": [
    {
     "data": {
      "text/plain": [
       "2011-01-02   -0.555913\n",
       "2011-01-05         NaN\n",
       "2011-01-07   -0.432930\n",
       "2011-01-08         NaN\n",
       "2011-01-10   -0.572666\n",
       "2011-01-12         NaN\n",
       "dtype: float64"
      ]
     },
     "execution_count": 39,
     "metadata": {},
     "output_type": "execute_result"
    }
   ],
   "source": [
    "ts + ts[::2]\n",
    "\n",
    "# ts 와 ts[::2] 각각은 길이가 5 와 3으로 다르지만\n",
    "# 인덱스가 있기 때문에 같은 인덱스에 해당하는 데이터끼리 연산 수행\n",
    "# 없는 것은 연산 불가이므로 NaN 반환"
   ]
  },
  {
   "cell_type": "code",
   "execution_count": 40,
   "metadata": {},
   "outputs": [
    {
     "data": {
      "text/plain": [
       "2011-01-02   -0.277957\n",
       "2011-01-05   -1.521713\n",
       "dtype: float64"
      ]
     },
     "execution_count": 40,
     "metadata": {},
     "output_type": "execute_result"
    }
   ],
   "source": [
    "ts[:2]\n",
    "# 일반적인 인덱싱"
   ]
  },
  {
   "cell_type": "markdown",
   "metadata": {},
   "source": [
    "### 규칙적인 특정 기간(날짜) 색인하기\n",
    "#### pd.date_range('날짜 문자열' , periods = 숫자(숫자 만큼의 날) , freq = )\n",
    "#### freq 옵션\n",
    "#### 'D' : day 일별로 - 기본 옵션\n",
    "#### 'W' : week '날짜 문자열' 다음의 가장 가까운 '일요일' 부터 시작하여 '일요일만 체크'\n",
    "#### 'M' : month '월별로' 마지막 날짜"
   ]
  },
  {
   "cell_type": "code",
   "execution_count": 41,
   "metadata": {},
   "outputs": [
    {
     "data": {
      "text/plain": [
       "DatetimeIndex(['2018-05-06', '2018-05-13', '2018-05-20', '2018-05-27',\n",
       "               '2018-06-03', '2018-06-10', '2018-06-17', '2018-06-24',\n",
       "               '2018-07-01', '2018-07-08', '2018-07-15', '2018-07-22',\n",
       "               '2018-07-29', '2018-08-05', '2018-08-12', '2018-08-19',\n",
       "               '2018-08-26', '2018-09-02', '2018-09-09', '2018-09-16',\n",
       "               '2018-09-23', '2018-09-30', '2018-10-07', '2018-10-14',\n",
       "               '2018-10-21', '2018-10-28', '2018-11-04', '2018-11-11',\n",
       "               '2018-11-18', '2018-11-25', '2018-12-02', '2018-12-09',\n",
       "               '2018-12-16', '2018-12-23', '2018-12-30', '2019-01-06',\n",
       "               '2019-01-13', '2019-01-20', '2019-01-27', '2019-02-03',\n",
       "               '2019-02-10', '2019-02-17', '2019-02-24', '2019-03-03',\n",
       "               '2019-03-10', '2019-03-17', '2019-03-24', '2019-03-31',\n",
       "               '2019-04-07', '2019-04-14', '2019-04-21', '2019-04-28',\n",
       "               '2019-05-05', '2019-05-12', '2019-05-19', '2019-05-26',\n",
       "               '2019-06-02', '2019-06-09', '2019-06-16', '2019-06-23',\n",
       "               '2019-06-30', '2019-07-07', '2019-07-14', '2019-07-21',\n",
       "               '2019-07-28', '2019-08-04', '2019-08-11', '2019-08-18',\n",
       "               '2019-08-25', '2019-09-01', '2019-09-08', '2019-09-15',\n",
       "               '2019-09-22', '2019-09-29', '2019-10-06', '2019-10-13',\n",
       "               '2019-10-20', '2019-10-27', '2019-11-03', '2019-11-10',\n",
       "               '2019-11-17', '2019-11-24', '2019-12-01', '2019-12-08',\n",
       "               '2019-12-15', '2019-12-22', '2019-12-29', '2020-01-05',\n",
       "               '2020-01-12', '2020-01-19', '2020-01-26', '2020-02-02',\n",
       "               '2020-02-09', '2020-02-16', '2020-02-23', '2020-03-01',\n",
       "               '2020-03-08', '2020-03-15', '2020-03-22', '2020-03-29'],\n",
       "              dtype='datetime64[ns]', freq='W-SUN')"
      ]
     },
     "execution_count": 41,
     "metadata": {},
     "output_type": "execute_result"
    }
   ],
   "source": [
    "pd.date_range('5/1/2018', periods = 100, freq = 'W')\n",
    "# 5/6(일) 이 가장 가까운 일요일로 그 때부터 시작하여 100개의 일요일 체크"
   ]
  },
  {
   "cell_type": "code",
   "execution_count": 42,
   "metadata": {},
   "outputs": [
    {
     "data": {
      "text/plain": [
       "DatetimeIndex(['2018-03-06', '2018-03-13', '2018-03-20', '2018-03-27',\n",
       "               '2018-04-03', '2018-04-10', '2018-04-17', '2018-04-24',\n",
       "               '2018-05-01', '2018-05-08', '2018-05-15', '2018-05-22',\n",
       "               '2018-05-29', '2018-06-05', '2018-06-12', '2018-06-19',\n",
       "               '2018-06-26', '2018-07-03', '2018-07-10', '2018-07-17',\n",
       "               '2018-07-24', '2018-07-31', '2018-08-07', '2018-08-14',\n",
       "               '2018-08-21', '2018-08-28', '2018-09-04', '2018-09-11',\n",
       "               '2018-09-18', '2018-09-25', '2018-10-02', '2018-10-09',\n",
       "               '2018-10-16', '2018-10-23', '2018-10-30', '2018-11-06',\n",
       "               '2018-11-13', '2018-11-20', '2018-11-27', '2018-12-04',\n",
       "               '2018-12-11', '2018-12-18', '2018-12-25', '2019-01-01',\n",
       "               '2019-01-08', '2019-01-15', '2019-01-22', '2019-01-29',\n",
       "               '2019-02-05', '2019-02-12', '2019-02-19', '2019-02-26',\n",
       "               '2019-03-05', '2019-03-12', '2019-03-19', '2019-03-26',\n",
       "               '2019-04-02', '2019-04-09', '2019-04-16', '2019-04-23',\n",
       "               '2019-04-30', '2019-05-07', '2019-05-14', '2019-05-21',\n",
       "               '2019-05-28', '2019-06-04', '2019-06-11', '2019-06-18',\n",
       "               '2019-06-25', '2019-07-02', '2019-07-09', '2019-07-16',\n",
       "               '2019-07-23', '2019-07-30', '2019-08-06', '2019-08-13',\n",
       "               '2019-08-20', '2019-08-27', '2019-09-03', '2019-09-10',\n",
       "               '2019-09-17', '2019-09-24', '2019-10-01', '2019-10-08',\n",
       "               '2019-10-15', '2019-10-22', '2019-10-29', '2019-11-05',\n",
       "               '2019-11-12', '2019-11-19', '2019-11-26', '2019-12-03',\n",
       "               '2019-12-10', '2019-12-17', '2019-12-24', '2019-12-31',\n",
       "               '2020-01-07', '2020-01-14', '2020-01-21', '2020-01-28'],\n",
       "              dtype='datetime64[ns]', freq='W-TUE')"
      ]
     },
     "execution_count": 42,
     "metadata": {},
     "output_type": "execute_result"
    }
   ],
   "source": [
    "pd.date_range('3/1/2018', periods = 100, freq = 'W-TUE')\n",
    "# 'W-해당요일' 옵션 : 입력 날짜 이후의 가장 가까운 해당 요일부터 그 요일만 체크"
   ]
  },
  {
   "cell_type": "code",
   "execution_count": 43,
   "metadata": {},
   "outputs": [
    {
     "data": {
      "text/plain": [
       "DatetimeIndex(['2011-01-31', '2011-02-28', '2011-03-31', '2011-04-30',\n",
       "               '2011-05-31', '2011-06-30', '2011-07-31', '2011-08-31',\n",
       "               '2011-09-30', '2011-10-31', '2011-11-30', '2011-12-31',\n",
       "               '2012-01-31', '2012-02-29', '2012-03-31', '2012-04-30',\n",
       "               '2012-05-31', '2012-06-30', '2012-07-31', '2012-08-31',\n",
       "               '2012-09-30', '2012-10-31', '2012-11-30', '2012-12-31',\n",
       "               '2013-01-31', '2013-02-28', '2013-03-31', '2013-04-30',\n",
       "               '2013-05-31', '2013-06-30', '2013-07-31', '2013-08-31',\n",
       "               '2013-09-30', '2013-10-31', '2013-11-30', '2013-12-31',\n",
       "               '2014-01-31', '2014-02-28', '2014-03-31', '2014-04-30',\n",
       "               '2014-05-31', '2014-06-30', '2014-07-31', '2014-08-31',\n",
       "               '2014-09-30', '2014-10-31', '2014-11-30', '2014-12-31',\n",
       "               '2015-01-31', '2015-02-28', '2015-03-31', '2015-04-30',\n",
       "               '2015-05-31', '2015-06-30', '2015-07-31', '2015-08-31',\n",
       "               '2015-09-30', '2015-10-31', '2015-11-30', '2015-12-31',\n",
       "               '2016-01-31', '2016-02-29', '2016-03-31', '2016-04-30',\n",
       "               '2016-05-31', '2016-06-30', '2016-07-31', '2016-08-31',\n",
       "               '2016-09-30', '2016-10-31', '2016-11-30', '2016-12-31',\n",
       "               '2017-01-31', '2017-02-28', '2017-03-31', '2017-04-30',\n",
       "               '2017-05-31', '2017-06-30', '2017-07-31', '2017-08-31',\n",
       "               '2017-09-30', '2017-10-31', '2017-11-30', '2017-12-31',\n",
       "               '2018-01-31', '2018-02-28', '2018-03-31', '2018-04-30',\n",
       "               '2018-05-31', '2018-06-30', '2018-07-31', '2018-08-31',\n",
       "               '2018-09-30', '2018-10-31', '2018-11-30', '2018-12-31',\n",
       "               '2019-01-31', '2019-02-28', '2019-03-31', '2019-04-30'],\n",
       "              dtype='datetime64[ns]', freq='M')"
      ]
     },
     "execution_count": 43,
     "metadata": {},
     "output_type": "execute_result"
    }
   ],
   "source": [
    "pd.date_range('1/1/2011', periods = 100, freq = 'M') # 월(Month) 의 마지막 날짜"
   ]
  },
  {
   "cell_type": "markdown",
   "metadata": {},
   "source": [
    "#### 그렇다면 train.csv 데이터의 datetime columns 을 DatetimeIndex 인 데이터 프레임의 인덱스로 넣어주자"
   ]
  },
  {
   "cell_type": "code",
   "execution_count": 44,
   "metadata": {
    "scrolled": true
   },
   "outputs": [
    {
     "data": {
      "text/html": [
       "<div>\n",
       "<style scoped>\n",
       "    .dataframe tbody tr th:only-of-type {\n",
       "        vertical-align: middle;\n",
       "    }\n",
       "\n",
       "    .dataframe tbody tr th {\n",
       "        vertical-align: top;\n",
       "    }\n",
       "\n",
       "    .dataframe thead th {\n",
       "        text-align: right;\n",
       "    }\n",
       "</style>\n",
       "<table border=\"1\" class=\"dataframe\">\n",
       "  <thead>\n",
       "    <tr style=\"text-align: right;\">\n",
       "      <th></th>\n",
       "      <th>datetime</th>\n",
       "      <th>Vancouver</th>\n",
       "      <th>Portland</th>\n",
       "      <th>San Francisco</th>\n",
       "      <th>Seattle</th>\n",
       "      <th>Los Angeles</th>\n",
       "      <th>San Diego</th>\n",
       "      <th>Las Vegas</th>\n",
       "      <th>Phoenix</th>\n",
       "      <th>Albuquerque</th>\n",
       "      <th>...</th>\n",
       "      <th>Philadelphia</th>\n",
       "      <th>New York</th>\n",
       "      <th>Montreal</th>\n",
       "      <th>Boston</th>\n",
       "      <th>Beersheba</th>\n",
       "      <th>Tel Aviv District</th>\n",
       "      <th>Eilat</th>\n",
       "      <th>Haifa</th>\n",
       "      <th>Nahariyya</th>\n",
       "      <th>Jerusalem</th>\n",
       "    </tr>\n",
       "  </thead>\n",
       "  <tbody>\n",
       "    <tr>\n",
       "      <th>0</th>\n",
       "      <td>2012-10-01 12:00:00</td>\n",
       "      <td>NaN</td>\n",
       "      <td>NaN</td>\n",
       "      <td>NaN</td>\n",
       "      <td>NaN</td>\n",
       "      <td>NaN</td>\n",
       "      <td>NaN</td>\n",
       "      <td>NaN</td>\n",
       "      <td>NaN</td>\n",
       "      <td>NaN</td>\n",
       "      <td>...</td>\n",
       "      <td>NaN</td>\n",
       "      <td>NaN</td>\n",
       "      <td>NaN</td>\n",
       "      <td>NaN</td>\n",
       "      <td>NaN</td>\n",
       "      <td>NaN</td>\n",
       "      <td>25.0</td>\n",
       "      <td>NaN</td>\n",
       "      <td>NaN</td>\n",
       "      <td>NaN</td>\n",
       "    </tr>\n",
       "    <tr>\n",
       "      <th>1</th>\n",
       "      <td>2012-10-01 13:00:00</td>\n",
       "      <td>76.0</td>\n",
       "      <td>81.0</td>\n",
       "      <td>88.0</td>\n",
       "      <td>81.0</td>\n",
       "      <td>88.0</td>\n",
       "      <td>82.0</td>\n",
       "      <td>22.0</td>\n",
       "      <td>23.0</td>\n",
       "      <td>50.0</td>\n",
       "      <td>...</td>\n",
       "      <td>71.0</td>\n",
       "      <td>58.0</td>\n",
       "      <td>93.0</td>\n",
       "      <td>68.0</td>\n",
       "      <td>50.0</td>\n",
       "      <td>63.0</td>\n",
       "      <td>22.0</td>\n",
       "      <td>51.0</td>\n",
       "      <td>51.0</td>\n",
       "      <td>50.0</td>\n",
       "    </tr>\n",
       "    <tr>\n",
       "      <th>2</th>\n",
       "      <td>2012-10-01 14:00:00</td>\n",
       "      <td>76.0</td>\n",
       "      <td>80.0</td>\n",
       "      <td>87.0</td>\n",
       "      <td>80.0</td>\n",
       "      <td>88.0</td>\n",
       "      <td>81.0</td>\n",
       "      <td>21.0</td>\n",
       "      <td>23.0</td>\n",
       "      <td>49.0</td>\n",
       "      <td>...</td>\n",
       "      <td>70.0</td>\n",
       "      <td>57.0</td>\n",
       "      <td>91.0</td>\n",
       "      <td>68.0</td>\n",
       "      <td>51.0</td>\n",
       "      <td>62.0</td>\n",
       "      <td>22.0</td>\n",
       "      <td>51.0</td>\n",
       "      <td>51.0</td>\n",
       "      <td>50.0</td>\n",
       "    </tr>\n",
       "    <tr>\n",
       "      <th>3</th>\n",
       "      <td>2012-10-01 15:00:00</td>\n",
       "      <td>76.0</td>\n",
       "      <td>80.0</td>\n",
       "      <td>86.0</td>\n",
       "      <td>80.0</td>\n",
       "      <td>88.0</td>\n",
       "      <td>81.0</td>\n",
       "      <td>21.0</td>\n",
       "      <td>23.0</td>\n",
       "      <td>49.0</td>\n",
       "      <td>...</td>\n",
       "      <td>70.0</td>\n",
       "      <td>57.0</td>\n",
       "      <td>87.0</td>\n",
       "      <td>68.0</td>\n",
       "      <td>51.0</td>\n",
       "      <td>62.0</td>\n",
       "      <td>22.0</td>\n",
       "      <td>51.0</td>\n",
       "      <td>51.0</td>\n",
       "      <td>50.0</td>\n",
       "    </tr>\n",
       "    <tr>\n",
       "      <th>4</th>\n",
       "      <td>2012-10-01 16:00:00</td>\n",
       "      <td>77.0</td>\n",
       "      <td>80.0</td>\n",
       "      <td>85.0</td>\n",
       "      <td>79.0</td>\n",
       "      <td>88.0</td>\n",
       "      <td>81.0</td>\n",
       "      <td>21.0</td>\n",
       "      <td>23.0</td>\n",
       "      <td>49.0</td>\n",
       "      <td>...</td>\n",
       "      <td>69.0</td>\n",
       "      <td>57.0</td>\n",
       "      <td>84.0</td>\n",
       "      <td>68.0</td>\n",
       "      <td>52.0</td>\n",
       "      <td>62.0</td>\n",
       "      <td>22.0</td>\n",
       "      <td>51.0</td>\n",
       "      <td>51.0</td>\n",
       "      <td>50.0</td>\n",
       "    </tr>\n",
       "  </tbody>\n",
       "</table>\n",
       "<p>5 rows × 37 columns</p>\n",
       "</div>"
      ],
      "text/plain": [
       "              datetime  Vancouver  Portland  San Francisco  Seattle  \\\n",
       "0  2012-10-01 12:00:00        NaN       NaN            NaN      NaN   \n",
       "1  2012-10-01 13:00:00       76.0      81.0           88.0     81.0   \n",
       "2  2012-10-01 14:00:00       76.0      80.0           87.0     80.0   \n",
       "3  2012-10-01 15:00:00       76.0      80.0           86.0     80.0   \n",
       "4  2012-10-01 16:00:00       77.0      80.0           85.0     79.0   \n",
       "\n",
       "   Los Angeles  San Diego  Las Vegas  Phoenix  Albuquerque    ...      \\\n",
       "0          NaN        NaN        NaN      NaN          NaN    ...       \n",
       "1         88.0       82.0       22.0     23.0         50.0    ...       \n",
       "2         88.0       81.0       21.0     23.0         49.0    ...       \n",
       "3         88.0       81.0       21.0     23.0         49.0    ...       \n",
       "4         88.0       81.0       21.0     23.0         49.0    ...       \n",
       "\n",
       "   Philadelphia  New York  Montreal  Boston  Beersheba  Tel Aviv District  \\\n",
       "0           NaN       NaN       NaN     NaN        NaN                NaN   \n",
       "1          71.0      58.0      93.0    68.0       50.0               63.0   \n",
       "2          70.0      57.0      91.0    68.0       51.0               62.0   \n",
       "3          70.0      57.0      87.0    68.0       51.0               62.0   \n",
       "4          69.0      57.0      84.0    68.0       52.0               62.0   \n",
       "\n",
       "   Eilat  Haifa  Nahariyya  Jerusalem  \n",
       "0   25.0    NaN        NaN        NaN  \n",
       "1   22.0   51.0       51.0       50.0  \n",
       "2   22.0   51.0       51.0       50.0  \n",
       "3   22.0   51.0       51.0       50.0  \n",
       "4   22.0   51.0       51.0       50.0  \n",
       "\n",
       "[5 rows x 37 columns]"
      ]
     },
     "execution_count": 44,
     "metadata": {},
     "output_type": "execute_result"
    }
   ],
   "source": [
    "train2 = train.copy()\n",
    "\n",
    "train.head()"
   ]
  },
  {
   "cell_type": "code",
   "execution_count": 45,
   "metadata": {
    "scrolled": true
   },
   "outputs": [],
   "source": [
    "# pd.date_range(train['datetime'][0], periods = len(train['datetime']), freq = 'h') == train['datetime']"
   ]
  },
  {
   "cell_type": "code",
   "execution_count": 46,
   "metadata": {},
   "outputs": [],
   "source": [
    "new_datetime = []\n",
    "for i in train['datetime']:\n",
    "    parsed_time = parse(i) \n",
    "    new_datetime.append(parsed_time)\n",
    "    \n",
    "    \n",
    "#datetime 안의 timestamp 하나하나를 바꾸어주고 datetime 객체로 변환시켜 리스트로 만드는 작업"
   ]
  },
  {
   "cell_type": "code",
   "execution_count": 47,
   "metadata": {},
   "outputs": [
    {
     "data": {
      "text/plain": [
       "[datetime.datetime(2012, 10, 1, 12, 0),\n",
       " datetime.datetime(2012, 10, 1, 13, 0),\n",
       " datetime.datetime(2012, 10, 1, 14, 0),\n",
       " datetime.datetime(2012, 10, 1, 15, 0),\n",
       " datetime.datetime(2012, 10, 1, 16, 0),\n",
       " datetime.datetime(2012, 10, 1, 17, 0),\n",
       " datetime.datetime(2012, 10, 1, 18, 0),\n",
       " datetime.datetime(2012, 10, 1, 19, 0),\n",
       " datetime.datetime(2012, 10, 1, 20, 0),\n",
       " datetime.datetime(2012, 10, 1, 21, 0),\n",
       " datetime.datetime(2012, 10, 1, 22, 0),\n",
       " datetime.datetime(2012, 10, 1, 23, 0),\n",
       " datetime.datetime(2012, 10, 2, 0, 0),\n",
       " datetime.datetime(2012, 10, 2, 1, 0),\n",
       " datetime.datetime(2012, 10, 2, 2, 0),\n",
       " datetime.datetime(2012, 10, 2, 3, 0),\n",
       " datetime.datetime(2012, 10, 2, 4, 0),\n",
       " datetime.datetime(2012, 10, 2, 5, 0),\n",
       " datetime.datetime(2012, 10, 2, 6, 0),\n",
       " datetime.datetime(2012, 10, 2, 7, 0),\n",
       " datetime.datetime(2012, 10, 2, 8, 0),\n",
       " datetime.datetime(2012, 10, 2, 9, 0),\n",
       " datetime.datetime(2012, 10, 2, 10, 0),\n",
       " datetime.datetime(2012, 10, 2, 11, 0),\n",
       " datetime.datetime(2012, 10, 2, 12, 0),\n",
       " datetime.datetime(2012, 10, 2, 13, 0),\n",
       " datetime.datetime(2012, 10, 2, 14, 0),\n",
       " datetime.datetime(2012, 10, 2, 15, 0),\n",
       " datetime.datetime(2012, 10, 2, 16, 0),\n",
       " datetime.datetime(2012, 10, 2, 17, 0),\n",
       " datetime.datetime(2012, 10, 2, 18, 0),\n",
       " datetime.datetime(2012, 10, 2, 19, 0),\n",
       " datetime.datetime(2012, 10, 2, 20, 0),\n",
       " datetime.datetime(2012, 10, 2, 21, 0),\n",
       " datetime.datetime(2012, 10, 2, 22, 0),\n",
       " datetime.datetime(2012, 10, 2, 23, 0),\n",
       " datetime.datetime(2012, 10, 3, 0, 0),\n",
       " datetime.datetime(2012, 10, 3, 1, 0),\n",
       " datetime.datetime(2012, 10, 3, 2, 0),\n",
       " datetime.datetime(2012, 10, 3, 3, 0),\n",
       " datetime.datetime(2012, 10, 3, 4, 0),\n",
       " datetime.datetime(2012, 10, 3, 5, 0),\n",
       " datetime.datetime(2012, 10, 3, 6, 0),\n",
       " datetime.datetime(2012, 10, 3, 7, 0),\n",
       " datetime.datetime(2012, 10, 3, 8, 0),\n",
       " datetime.datetime(2012, 10, 3, 9, 0),\n",
       " datetime.datetime(2012, 10, 3, 10, 0),\n",
       " datetime.datetime(2012, 10, 3, 11, 0),\n",
       " datetime.datetime(2012, 10, 3, 12, 0),\n",
       " datetime.datetime(2012, 10, 3, 13, 0),\n",
       " datetime.datetime(2012, 10, 3, 14, 0),\n",
       " datetime.datetime(2012, 10, 3, 15, 0),\n",
       " datetime.datetime(2012, 10, 3, 16, 0),\n",
       " datetime.datetime(2012, 10, 3, 17, 0),\n",
       " datetime.datetime(2012, 10, 3, 18, 0),\n",
       " datetime.datetime(2012, 10, 3, 19, 0),\n",
       " datetime.datetime(2012, 10, 3, 20, 0),\n",
       " datetime.datetime(2012, 10, 3, 21, 0),\n",
       " datetime.datetime(2012, 10, 3, 22, 0),\n",
       " datetime.datetime(2012, 10, 3, 23, 0),\n",
       " datetime.datetime(2012, 10, 4, 0, 0),\n",
       " datetime.datetime(2012, 10, 4, 1, 0),\n",
       " datetime.datetime(2012, 10, 4, 2, 0),\n",
       " datetime.datetime(2012, 10, 4, 3, 0),\n",
       " datetime.datetime(2012, 10, 4, 4, 0),\n",
       " datetime.datetime(2012, 10, 4, 5, 0),\n",
       " datetime.datetime(2012, 10, 4, 6, 0),\n",
       " datetime.datetime(2012, 10, 4, 7, 0),\n",
       " datetime.datetime(2012, 10, 4, 8, 0),\n",
       " datetime.datetime(2012, 10, 4, 9, 0),\n",
       " datetime.datetime(2012, 10, 4, 10, 0),\n",
       " datetime.datetime(2012, 10, 4, 11, 0),\n",
       " datetime.datetime(2012, 10, 4, 12, 0),\n",
       " datetime.datetime(2012, 10, 4, 13, 0),\n",
       " datetime.datetime(2012, 10, 4, 14, 0),\n",
       " datetime.datetime(2012, 10, 4, 15, 0),\n",
       " datetime.datetime(2012, 10, 4, 16, 0),\n",
       " datetime.datetime(2012, 10, 4, 17, 0),\n",
       " datetime.datetime(2012, 10, 4, 18, 0),\n",
       " datetime.datetime(2012, 10, 4, 19, 0),\n",
       " datetime.datetime(2012, 10, 4, 20, 0),\n",
       " datetime.datetime(2012, 10, 4, 21, 0),\n",
       " datetime.datetime(2012, 10, 4, 22, 0),\n",
       " datetime.datetime(2012, 10, 4, 23, 0),\n",
       " datetime.datetime(2012, 10, 5, 0, 0),\n",
       " datetime.datetime(2012, 10, 5, 1, 0),\n",
       " datetime.datetime(2012, 10, 5, 2, 0),\n",
       " datetime.datetime(2012, 10, 5, 3, 0),\n",
       " datetime.datetime(2012, 10, 5, 4, 0),\n",
       " datetime.datetime(2012, 10, 5, 5, 0),\n",
       " datetime.datetime(2012, 10, 5, 6, 0),\n",
       " datetime.datetime(2012, 10, 5, 7, 0),\n",
       " datetime.datetime(2012, 10, 5, 8, 0),\n",
       " datetime.datetime(2012, 10, 5, 9, 0),\n",
       " datetime.datetime(2012, 10, 5, 10, 0),\n",
       " datetime.datetime(2012, 10, 5, 11, 0),\n",
       " datetime.datetime(2012, 10, 5, 12, 0),\n",
       " datetime.datetime(2012, 10, 5, 13, 0),\n",
       " datetime.datetime(2012, 10, 5, 14, 0),\n",
       " datetime.datetime(2012, 10, 5, 15, 0),\n",
       " datetime.datetime(2012, 10, 5, 16, 0),\n",
       " datetime.datetime(2012, 10, 5, 17, 0),\n",
       " datetime.datetime(2012, 10, 5, 18, 0),\n",
       " datetime.datetime(2012, 10, 5, 19, 0),\n",
       " datetime.datetime(2012, 10, 5, 20, 0),\n",
       " datetime.datetime(2012, 10, 5, 21, 0),\n",
       " datetime.datetime(2012, 10, 5, 22, 0),\n",
       " datetime.datetime(2012, 10, 5, 23, 0),\n",
       " datetime.datetime(2012, 10, 6, 0, 0),\n",
       " datetime.datetime(2012, 10, 6, 1, 0),\n",
       " datetime.datetime(2012, 10, 6, 2, 0),\n",
       " datetime.datetime(2012, 10, 6, 3, 0),\n",
       " datetime.datetime(2012, 10, 6, 4, 0),\n",
       " datetime.datetime(2012, 10, 6, 5, 0),\n",
       " datetime.datetime(2012, 10, 6, 6, 0),\n",
       " datetime.datetime(2012, 10, 6, 7, 0),\n",
       " datetime.datetime(2012, 10, 6, 8, 0),\n",
       " datetime.datetime(2012, 10, 6, 9, 0),\n",
       " datetime.datetime(2012, 10, 6, 10, 0),\n",
       " datetime.datetime(2012, 10, 6, 11, 0),\n",
       " datetime.datetime(2012, 10, 6, 12, 0),\n",
       " datetime.datetime(2012, 10, 6, 13, 0),\n",
       " datetime.datetime(2012, 10, 6, 14, 0),\n",
       " datetime.datetime(2012, 10, 6, 15, 0),\n",
       " datetime.datetime(2012, 10, 6, 16, 0),\n",
       " datetime.datetime(2012, 10, 6, 17, 0),\n",
       " datetime.datetime(2012, 10, 6, 18, 0),\n",
       " datetime.datetime(2012, 10, 6, 19, 0),\n",
       " datetime.datetime(2012, 10, 6, 20, 0),\n",
       " datetime.datetime(2012, 10, 6, 21, 0),\n",
       " datetime.datetime(2012, 10, 6, 22, 0),\n",
       " datetime.datetime(2012, 10, 6, 23, 0),\n",
       " datetime.datetime(2012, 10, 7, 0, 0),\n",
       " datetime.datetime(2012, 10, 7, 1, 0),\n",
       " datetime.datetime(2012, 10, 7, 2, 0),\n",
       " datetime.datetime(2012, 10, 7, 3, 0),\n",
       " datetime.datetime(2012, 10, 7, 4, 0),\n",
       " datetime.datetime(2012, 10, 7, 5, 0),\n",
       " datetime.datetime(2012, 10, 7, 6, 0),\n",
       " datetime.datetime(2012, 10, 7, 7, 0),\n",
       " datetime.datetime(2012, 10, 7, 8, 0),\n",
       " datetime.datetime(2012, 10, 7, 9, 0),\n",
       " datetime.datetime(2012, 10, 7, 10, 0),\n",
       " datetime.datetime(2012, 10, 7, 11, 0),\n",
       " datetime.datetime(2012, 10, 7, 12, 0),\n",
       " datetime.datetime(2012, 10, 7, 13, 0),\n",
       " datetime.datetime(2012, 10, 7, 14, 0),\n",
       " datetime.datetime(2012, 10, 7, 15, 0),\n",
       " datetime.datetime(2012, 10, 7, 16, 0),\n",
       " datetime.datetime(2012, 10, 7, 17, 0),\n",
       " datetime.datetime(2012, 10, 7, 18, 0),\n",
       " datetime.datetime(2012, 10, 7, 19, 0),\n",
       " datetime.datetime(2012, 10, 7, 20, 0),\n",
       " datetime.datetime(2012, 10, 7, 21, 0),\n",
       " datetime.datetime(2012, 10, 7, 22, 0),\n",
       " datetime.datetime(2012, 10, 7, 23, 0),\n",
       " datetime.datetime(2012, 10, 8, 0, 0),\n",
       " datetime.datetime(2012, 10, 8, 1, 0),\n",
       " datetime.datetime(2012, 10, 8, 2, 0),\n",
       " datetime.datetime(2012, 10, 8, 3, 0),\n",
       " datetime.datetime(2012, 10, 8, 4, 0),\n",
       " datetime.datetime(2012, 10, 8, 5, 0),\n",
       " datetime.datetime(2012, 10, 8, 6, 0),\n",
       " datetime.datetime(2012, 10, 8, 7, 0),\n",
       " datetime.datetime(2012, 10, 8, 8, 0),\n",
       " datetime.datetime(2012, 10, 8, 9, 0),\n",
       " datetime.datetime(2012, 10, 8, 10, 0),\n",
       " datetime.datetime(2012, 10, 8, 11, 0),\n",
       " datetime.datetime(2012, 10, 8, 12, 0),\n",
       " datetime.datetime(2012, 10, 8, 13, 0),\n",
       " datetime.datetime(2012, 10, 8, 14, 0),\n",
       " datetime.datetime(2012, 10, 8, 15, 0),\n",
       " datetime.datetime(2012, 10, 8, 16, 0),\n",
       " datetime.datetime(2012, 10, 8, 17, 0),\n",
       " datetime.datetime(2012, 10, 8, 18, 0),\n",
       " datetime.datetime(2012, 10, 8, 19, 0),\n",
       " datetime.datetime(2012, 10, 8, 20, 0),\n",
       " datetime.datetime(2012, 10, 8, 21, 0),\n",
       " datetime.datetime(2012, 10, 8, 22, 0),\n",
       " datetime.datetime(2012, 10, 8, 23, 0),\n",
       " datetime.datetime(2012, 10, 9, 0, 0),\n",
       " datetime.datetime(2012, 10, 9, 1, 0),\n",
       " datetime.datetime(2012, 10, 9, 2, 0),\n",
       " datetime.datetime(2012, 10, 9, 3, 0),\n",
       " datetime.datetime(2012, 10, 9, 4, 0),\n",
       " datetime.datetime(2012, 10, 9, 5, 0),\n",
       " datetime.datetime(2012, 10, 9, 6, 0),\n",
       " datetime.datetime(2012, 10, 9, 7, 0),\n",
       " datetime.datetime(2012, 10, 9, 8, 0),\n",
       " datetime.datetime(2012, 10, 9, 9, 0),\n",
       " datetime.datetime(2012, 10, 9, 10, 0),\n",
       " datetime.datetime(2012, 10, 9, 11, 0),\n",
       " datetime.datetime(2012, 10, 9, 12, 0),\n",
       " datetime.datetime(2012, 10, 9, 13, 0),\n",
       " datetime.datetime(2012, 10, 9, 14, 0),\n",
       " datetime.datetime(2012, 10, 9, 15, 0),\n",
       " datetime.datetime(2012, 10, 9, 16, 0),\n",
       " datetime.datetime(2012, 10, 9, 17, 0),\n",
       " datetime.datetime(2012, 10, 9, 18, 0),\n",
       " datetime.datetime(2012, 10, 9, 19, 0),\n",
       " datetime.datetime(2012, 10, 9, 20, 0),\n",
       " datetime.datetime(2012, 10, 9, 21, 0),\n",
       " datetime.datetime(2012, 10, 9, 22, 0),\n",
       " datetime.datetime(2012, 10, 9, 23, 0),\n",
       " datetime.datetime(2012, 10, 10, 0, 0),\n",
       " datetime.datetime(2012, 10, 10, 1, 0),\n",
       " datetime.datetime(2012, 10, 10, 2, 0),\n",
       " datetime.datetime(2012, 10, 10, 3, 0),\n",
       " datetime.datetime(2012, 10, 10, 4, 0),\n",
       " datetime.datetime(2012, 10, 10, 5, 0),\n",
       " datetime.datetime(2012, 10, 10, 6, 0),\n",
       " datetime.datetime(2012, 10, 10, 7, 0),\n",
       " datetime.datetime(2012, 10, 10, 8, 0),\n",
       " datetime.datetime(2012, 10, 10, 9, 0),\n",
       " datetime.datetime(2012, 10, 10, 10, 0),\n",
       " datetime.datetime(2012, 10, 10, 11, 0),\n",
       " datetime.datetime(2012, 10, 10, 12, 0),\n",
       " datetime.datetime(2012, 10, 10, 13, 0),\n",
       " datetime.datetime(2012, 10, 10, 14, 0),\n",
       " datetime.datetime(2012, 10, 10, 15, 0),\n",
       " datetime.datetime(2012, 10, 10, 16, 0),\n",
       " datetime.datetime(2012, 10, 10, 17, 0),\n",
       " datetime.datetime(2012, 10, 10, 18, 0),\n",
       " datetime.datetime(2012, 10, 10, 19, 0),\n",
       " datetime.datetime(2012, 10, 10, 20, 0),\n",
       " datetime.datetime(2012, 10, 10, 21, 0),\n",
       " datetime.datetime(2012, 10, 10, 22, 0),\n",
       " datetime.datetime(2012, 10, 10, 23, 0),\n",
       " datetime.datetime(2012, 10, 11, 0, 0),\n",
       " datetime.datetime(2012, 10, 11, 1, 0),\n",
       " datetime.datetime(2012, 10, 11, 2, 0),\n",
       " datetime.datetime(2012, 10, 11, 3, 0),\n",
       " datetime.datetime(2012, 10, 11, 4, 0),\n",
       " datetime.datetime(2012, 10, 11, 5, 0),\n",
       " datetime.datetime(2012, 10, 11, 6, 0),\n",
       " datetime.datetime(2012, 10, 11, 7, 0),\n",
       " datetime.datetime(2012, 10, 11, 8, 0),\n",
       " datetime.datetime(2012, 10, 11, 9, 0),\n",
       " datetime.datetime(2012, 10, 11, 10, 0),\n",
       " datetime.datetime(2012, 10, 11, 11, 0),\n",
       " datetime.datetime(2012, 10, 11, 12, 0),\n",
       " datetime.datetime(2012, 10, 11, 13, 0),\n",
       " datetime.datetime(2012, 10, 11, 14, 0),\n",
       " datetime.datetime(2012, 10, 11, 15, 0),\n",
       " datetime.datetime(2012, 10, 11, 16, 0),\n",
       " datetime.datetime(2012, 10, 11, 17, 0),\n",
       " datetime.datetime(2012, 10, 11, 18, 0),\n",
       " datetime.datetime(2012, 10, 11, 19, 0),\n",
       " datetime.datetime(2012, 10, 11, 20, 0),\n",
       " datetime.datetime(2012, 10, 11, 21, 0),\n",
       " datetime.datetime(2012, 10, 11, 22, 0),\n",
       " datetime.datetime(2012, 10, 11, 23, 0),\n",
       " datetime.datetime(2012, 10, 12, 0, 0),\n",
       " datetime.datetime(2012, 10, 12, 1, 0),\n",
       " datetime.datetime(2012, 10, 12, 2, 0),\n",
       " datetime.datetime(2012, 10, 12, 3, 0),\n",
       " datetime.datetime(2012, 10, 12, 4, 0),\n",
       " datetime.datetime(2012, 10, 12, 5, 0),\n",
       " datetime.datetime(2012, 10, 12, 6, 0),\n",
       " datetime.datetime(2012, 10, 12, 7, 0),\n",
       " datetime.datetime(2012, 10, 12, 8, 0),\n",
       " datetime.datetime(2012, 10, 12, 9, 0),\n",
       " datetime.datetime(2012, 10, 12, 10, 0),\n",
       " datetime.datetime(2012, 10, 12, 11, 0),\n",
       " datetime.datetime(2012, 10, 12, 12, 0),\n",
       " datetime.datetime(2012, 10, 12, 13, 0),\n",
       " datetime.datetime(2012, 10, 12, 14, 0),\n",
       " datetime.datetime(2012, 10, 12, 15, 0),\n",
       " datetime.datetime(2012, 10, 12, 16, 0),\n",
       " datetime.datetime(2012, 10, 12, 17, 0),\n",
       " datetime.datetime(2012, 10, 12, 18, 0),\n",
       " datetime.datetime(2012, 10, 12, 19, 0),\n",
       " datetime.datetime(2012, 10, 12, 20, 0),\n",
       " datetime.datetime(2012, 10, 12, 21, 0),\n",
       " datetime.datetime(2012, 10, 12, 22, 0),\n",
       " datetime.datetime(2012, 10, 12, 23, 0),\n",
       " datetime.datetime(2012, 10, 13, 0, 0),\n",
       " datetime.datetime(2012, 10, 13, 1, 0),\n",
       " datetime.datetime(2012, 10, 13, 2, 0),\n",
       " datetime.datetime(2012, 10, 13, 3, 0),\n",
       " datetime.datetime(2012, 10, 13, 4, 0),\n",
       " datetime.datetime(2012, 10, 13, 5, 0),\n",
       " datetime.datetime(2012, 10, 13, 6, 0),\n",
       " datetime.datetime(2012, 10, 13, 7, 0),\n",
       " datetime.datetime(2012, 10, 13, 8, 0),\n",
       " datetime.datetime(2012, 10, 13, 9, 0),\n",
       " datetime.datetime(2012, 10, 13, 10, 0),\n",
       " datetime.datetime(2012, 10, 13, 11, 0),\n",
       " datetime.datetime(2012, 10, 13, 12, 0),\n",
       " datetime.datetime(2012, 10, 13, 13, 0),\n",
       " datetime.datetime(2012, 10, 13, 14, 0),\n",
       " datetime.datetime(2012, 10, 13, 15, 0),\n",
       " datetime.datetime(2012, 10, 13, 16, 0),\n",
       " datetime.datetime(2012, 10, 13, 17, 0),\n",
       " datetime.datetime(2012, 10, 13, 18, 0),\n",
       " datetime.datetime(2012, 10, 13, 19, 0),\n",
       " datetime.datetime(2012, 10, 13, 20, 0),\n",
       " datetime.datetime(2012, 10, 13, 21, 0),\n",
       " datetime.datetime(2012, 10, 13, 22, 0),\n",
       " datetime.datetime(2012, 10, 13, 23, 0),\n",
       " datetime.datetime(2012, 10, 14, 0, 0),\n",
       " datetime.datetime(2012, 10, 14, 1, 0),\n",
       " datetime.datetime(2012, 10, 14, 2, 0),\n",
       " datetime.datetime(2012, 10, 14, 3, 0),\n",
       " datetime.datetime(2012, 10, 14, 4, 0),\n",
       " datetime.datetime(2012, 10, 14, 5, 0),\n",
       " datetime.datetime(2012, 10, 14, 6, 0),\n",
       " datetime.datetime(2012, 10, 14, 7, 0),\n",
       " datetime.datetime(2012, 10, 14, 8, 0),\n",
       " datetime.datetime(2012, 10, 14, 9, 0),\n",
       " datetime.datetime(2012, 10, 14, 10, 0),\n",
       " datetime.datetime(2012, 10, 14, 11, 0),\n",
       " datetime.datetime(2012, 10, 14, 12, 0),\n",
       " datetime.datetime(2012, 10, 14, 13, 0),\n",
       " datetime.datetime(2012, 10, 14, 14, 0),\n",
       " datetime.datetime(2012, 10, 14, 15, 0),\n",
       " datetime.datetime(2012, 10, 14, 16, 0),\n",
       " datetime.datetime(2012, 10, 14, 17, 0),\n",
       " datetime.datetime(2012, 10, 14, 18, 0),\n",
       " datetime.datetime(2012, 10, 14, 19, 0),\n",
       " datetime.datetime(2012, 10, 14, 20, 0),\n",
       " datetime.datetime(2012, 10, 14, 21, 0),\n",
       " datetime.datetime(2012, 10, 14, 22, 0),\n",
       " datetime.datetime(2012, 10, 14, 23, 0),\n",
       " datetime.datetime(2012, 10, 15, 0, 0),\n",
       " datetime.datetime(2012, 10, 15, 1, 0),\n",
       " datetime.datetime(2012, 10, 15, 2, 0),\n",
       " datetime.datetime(2012, 10, 15, 3, 0),\n",
       " datetime.datetime(2012, 10, 15, 4, 0),\n",
       " datetime.datetime(2012, 10, 15, 5, 0),\n",
       " datetime.datetime(2012, 10, 15, 6, 0),\n",
       " datetime.datetime(2012, 10, 15, 7, 0),\n",
       " datetime.datetime(2012, 10, 15, 8, 0),\n",
       " datetime.datetime(2012, 10, 15, 9, 0),\n",
       " datetime.datetime(2012, 10, 15, 10, 0),\n",
       " datetime.datetime(2012, 10, 15, 11, 0),\n",
       " datetime.datetime(2012, 10, 15, 12, 0),\n",
       " datetime.datetime(2012, 10, 15, 13, 0),\n",
       " datetime.datetime(2012, 10, 15, 14, 0),\n",
       " datetime.datetime(2012, 10, 15, 15, 0),\n",
       " datetime.datetime(2012, 10, 15, 16, 0),\n",
       " datetime.datetime(2012, 10, 15, 17, 0),\n",
       " datetime.datetime(2012, 10, 15, 18, 0),\n",
       " datetime.datetime(2012, 10, 15, 19, 0),\n",
       " datetime.datetime(2012, 10, 15, 20, 0),\n",
       " datetime.datetime(2012, 10, 15, 21, 0),\n",
       " datetime.datetime(2012, 10, 15, 22, 0),\n",
       " datetime.datetime(2012, 10, 15, 23, 0),\n",
       " datetime.datetime(2012, 10, 16, 0, 0),\n",
       " datetime.datetime(2012, 10, 16, 1, 0),\n",
       " datetime.datetime(2012, 10, 16, 2, 0),\n",
       " datetime.datetime(2012, 10, 16, 3, 0),\n",
       " datetime.datetime(2012, 10, 16, 4, 0),\n",
       " datetime.datetime(2012, 10, 16, 5, 0),\n",
       " datetime.datetime(2012, 10, 16, 6, 0),\n",
       " datetime.datetime(2012, 10, 16, 7, 0),\n",
       " datetime.datetime(2012, 10, 16, 8, 0),\n",
       " datetime.datetime(2012, 10, 16, 9, 0),\n",
       " datetime.datetime(2012, 10, 16, 10, 0),\n",
       " datetime.datetime(2012, 10, 16, 11, 0),\n",
       " datetime.datetime(2012, 10, 16, 12, 0),\n",
       " datetime.datetime(2012, 10, 16, 13, 0),\n",
       " datetime.datetime(2012, 10, 16, 14, 0),\n",
       " datetime.datetime(2012, 10, 16, 15, 0),\n",
       " datetime.datetime(2012, 10, 16, 16, 0),\n",
       " datetime.datetime(2012, 10, 16, 17, 0),\n",
       " datetime.datetime(2012, 10, 16, 18, 0),\n",
       " datetime.datetime(2012, 10, 16, 19, 0),\n",
       " datetime.datetime(2012, 10, 16, 20, 0),\n",
       " datetime.datetime(2012, 10, 16, 21, 0),\n",
       " datetime.datetime(2012, 10, 16, 22, 0),\n",
       " datetime.datetime(2012, 10, 16, 23, 0),\n",
       " datetime.datetime(2012, 10, 17, 0, 0),\n",
       " datetime.datetime(2012, 10, 17, 1, 0),\n",
       " datetime.datetime(2012, 10, 17, 2, 0),\n",
       " datetime.datetime(2012, 10, 17, 3, 0),\n",
       " datetime.datetime(2012, 10, 17, 4, 0),\n",
       " datetime.datetime(2012, 10, 17, 5, 0),\n",
       " datetime.datetime(2012, 10, 17, 6, 0),\n",
       " datetime.datetime(2012, 10, 17, 7, 0),\n",
       " datetime.datetime(2012, 10, 17, 8, 0),\n",
       " datetime.datetime(2012, 10, 17, 9, 0),\n",
       " datetime.datetime(2012, 10, 17, 10, 0),\n",
       " datetime.datetime(2012, 10, 17, 11, 0),\n",
       " datetime.datetime(2012, 10, 17, 12, 0),\n",
       " datetime.datetime(2012, 10, 17, 13, 0),\n",
       " datetime.datetime(2012, 10, 17, 14, 0),\n",
       " datetime.datetime(2012, 10, 17, 15, 0),\n",
       " datetime.datetime(2012, 10, 17, 16, 0),\n",
       " datetime.datetime(2012, 10, 17, 17, 0),\n",
       " datetime.datetime(2012, 10, 17, 18, 0),\n",
       " datetime.datetime(2012, 10, 17, 19, 0),\n",
       " datetime.datetime(2012, 10, 17, 20, 0),\n",
       " datetime.datetime(2012, 10, 17, 21, 0),\n",
       " datetime.datetime(2012, 10, 17, 22, 0),\n",
       " datetime.datetime(2012, 10, 17, 23, 0),\n",
       " datetime.datetime(2012, 10, 18, 0, 0),\n",
       " datetime.datetime(2012, 10, 18, 1, 0),\n",
       " datetime.datetime(2012, 10, 18, 2, 0),\n",
       " datetime.datetime(2012, 10, 18, 3, 0),\n",
       " datetime.datetime(2012, 10, 18, 4, 0),\n",
       " datetime.datetime(2012, 10, 18, 5, 0),\n",
       " datetime.datetime(2012, 10, 18, 6, 0),\n",
       " datetime.datetime(2012, 10, 18, 7, 0),\n",
       " datetime.datetime(2012, 10, 18, 8, 0),\n",
       " datetime.datetime(2012, 10, 18, 9, 0),\n",
       " datetime.datetime(2012, 10, 18, 10, 0),\n",
       " datetime.datetime(2012, 10, 18, 11, 0),\n",
       " datetime.datetime(2012, 10, 18, 12, 0),\n",
       " datetime.datetime(2012, 10, 18, 13, 0),\n",
       " datetime.datetime(2012, 10, 18, 14, 0),\n",
       " datetime.datetime(2012, 10, 18, 15, 0),\n",
       " datetime.datetime(2012, 10, 18, 16, 0),\n",
       " datetime.datetime(2012, 10, 18, 17, 0),\n",
       " datetime.datetime(2012, 10, 18, 18, 0),\n",
       " datetime.datetime(2012, 10, 18, 19, 0),\n",
       " datetime.datetime(2012, 10, 18, 20, 0),\n",
       " datetime.datetime(2012, 10, 18, 21, 0),\n",
       " datetime.datetime(2012, 10, 18, 22, 0),\n",
       " datetime.datetime(2012, 10, 18, 23, 0),\n",
       " datetime.datetime(2012, 10, 19, 0, 0),\n",
       " datetime.datetime(2012, 10, 19, 1, 0),\n",
       " datetime.datetime(2012, 10, 19, 2, 0),\n",
       " datetime.datetime(2012, 10, 19, 3, 0),\n",
       " datetime.datetime(2012, 10, 19, 4, 0),\n",
       " datetime.datetime(2012, 10, 19, 5, 0),\n",
       " datetime.datetime(2012, 10, 19, 6, 0),\n",
       " datetime.datetime(2012, 10, 19, 7, 0),\n",
       " datetime.datetime(2012, 10, 19, 8, 0),\n",
       " datetime.datetime(2012, 10, 19, 9, 0),\n",
       " datetime.datetime(2012, 10, 19, 10, 0),\n",
       " datetime.datetime(2012, 10, 19, 11, 0),\n",
       " datetime.datetime(2012, 10, 19, 12, 0),\n",
       " datetime.datetime(2012, 10, 19, 13, 0),\n",
       " datetime.datetime(2012, 10, 19, 14, 0),\n",
       " datetime.datetime(2012, 10, 19, 15, 0),\n",
       " datetime.datetime(2012, 10, 19, 16, 0),\n",
       " datetime.datetime(2012, 10, 19, 17, 0),\n",
       " datetime.datetime(2012, 10, 19, 18, 0),\n",
       " datetime.datetime(2012, 10, 19, 19, 0),\n",
       " datetime.datetime(2012, 10, 19, 20, 0),\n",
       " datetime.datetime(2012, 10, 19, 21, 0),\n",
       " datetime.datetime(2012, 10, 19, 22, 0),\n",
       " datetime.datetime(2012, 10, 19, 23, 0),\n",
       " datetime.datetime(2012, 10, 20, 0, 0),\n",
       " datetime.datetime(2012, 10, 20, 1, 0),\n",
       " datetime.datetime(2012, 10, 20, 2, 0),\n",
       " datetime.datetime(2012, 10, 20, 3, 0),\n",
       " datetime.datetime(2012, 10, 20, 4, 0),\n",
       " datetime.datetime(2012, 10, 20, 5, 0),\n",
       " datetime.datetime(2012, 10, 20, 6, 0),\n",
       " datetime.datetime(2012, 10, 20, 7, 0),\n",
       " datetime.datetime(2012, 10, 20, 8, 0),\n",
       " datetime.datetime(2012, 10, 20, 9, 0),\n",
       " datetime.datetime(2012, 10, 20, 10, 0),\n",
       " datetime.datetime(2012, 10, 20, 11, 0),\n",
       " datetime.datetime(2012, 10, 20, 12, 0),\n",
       " datetime.datetime(2012, 10, 20, 13, 0),\n",
       " datetime.datetime(2012, 10, 20, 14, 0),\n",
       " datetime.datetime(2012, 10, 20, 15, 0),\n",
       " datetime.datetime(2012, 10, 20, 16, 0),\n",
       " datetime.datetime(2012, 10, 20, 17, 0),\n",
       " datetime.datetime(2012, 10, 20, 18, 0),\n",
       " datetime.datetime(2012, 10, 20, 19, 0),\n",
       " datetime.datetime(2012, 10, 20, 20, 0),\n",
       " datetime.datetime(2012, 10, 20, 21, 0),\n",
       " datetime.datetime(2012, 10, 20, 22, 0),\n",
       " datetime.datetime(2012, 10, 20, 23, 0),\n",
       " datetime.datetime(2012, 10, 21, 0, 0),\n",
       " datetime.datetime(2012, 10, 21, 1, 0),\n",
       " datetime.datetime(2012, 10, 21, 2, 0),\n",
       " datetime.datetime(2012, 10, 21, 3, 0),\n",
       " datetime.datetime(2012, 10, 21, 4, 0),\n",
       " datetime.datetime(2012, 10, 21, 5, 0),\n",
       " datetime.datetime(2012, 10, 21, 6, 0),\n",
       " datetime.datetime(2012, 10, 21, 7, 0),\n",
       " datetime.datetime(2012, 10, 21, 8, 0),\n",
       " datetime.datetime(2012, 10, 21, 9, 0),\n",
       " datetime.datetime(2012, 10, 21, 10, 0),\n",
       " datetime.datetime(2012, 10, 21, 11, 0),\n",
       " datetime.datetime(2012, 10, 21, 12, 0),\n",
       " datetime.datetime(2012, 10, 21, 13, 0),\n",
       " datetime.datetime(2012, 10, 21, 14, 0),\n",
       " datetime.datetime(2012, 10, 21, 15, 0),\n",
       " datetime.datetime(2012, 10, 21, 16, 0),\n",
       " datetime.datetime(2012, 10, 21, 17, 0),\n",
       " datetime.datetime(2012, 10, 21, 18, 0),\n",
       " datetime.datetime(2012, 10, 21, 19, 0),\n",
       " datetime.datetime(2012, 10, 21, 20, 0),\n",
       " datetime.datetime(2012, 10, 21, 21, 0),\n",
       " datetime.datetime(2012, 10, 21, 22, 0),\n",
       " datetime.datetime(2012, 10, 21, 23, 0),\n",
       " datetime.datetime(2012, 10, 22, 0, 0),\n",
       " datetime.datetime(2012, 10, 22, 1, 0),\n",
       " datetime.datetime(2012, 10, 22, 2, 0),\n",
       " datetime.datetime(2012, 10, 22, 3, 0),\n",
       " datetime.datetime(2012, 10, 22, 4, 0),\n",
       " datetime.datetime(2012, 10, 22, 5, 0),\n",
       " datetime.datetime(2012, 10, 22, 6, 0),\n",
       " datetime.datetime(2012, 10, 22, 7, 0),\n",
       " datetime.datetime(2012, 10, 22, 8, 0),\n",
       " datetime.datetime(2012, 10, 22, 9, 0),\n",
       " datetime.datetime(2012, 10, 22, 10, 0),\n",
       " datetime.datetime(2012, 10, 22, 11, 0),\n",
       " datetime.datetime(2012, 10, 22, 12, 0),\n",
       " datetime.datetime(2012, 10, 22, 13, 0),\n",
       " datetime.datetime(2012, 10, 22, 14, 0),\n",
       " datetime.datetime(2012, 10, 22, 15, 0),\n",
       " datetime.datetime(2012, 10, 22, 16, 0),\n",
       " datetime.datetime(2012, 10, 22, 17, 0),\n",
       " datetime.datetime(2012, 10, 22, 18, 0),\n",
       " datetime.datetime(2012, 10, 22, 19, 0),\n",
       " datetime.datetime(2012, 10, 22, 20, 0),\n",
       " datetime.datetime(2012, 10, 22, 21, 0),\n",
       " datetime.datetime(2012, 10, 22, 22, 0),\n",
       " datetime.datetime(2012, 10, 22, 23, 0),\n",
       " datetime.datetime(2012, 10, 23, 0, 0),\n",
       " datetime.datetime(2012, 10, 23, 1, 0),\n",
       " datetime.datetime(2012, 10, 23, 2, 0),\n",
       " datetime.datetime(2012, 10, 23, 3, 0),\n",
       " datetime.datetime(2012, 10, 23, 4, 0),\n",
       " datetime.datetime(2012, 10, 23, 5, 0),\n",
       " datetime.datetime(2012, 10, 23, 6, 0),\n",
       " datetime.datetime(2012, 10, 23, 7, 0),\n",
       " datetime.datetime(2012, 10, 23, 8, 0),\n",
       " datetime.datetime(2012, 10, 23, 9, 0),\n",
       " datetime.datetime(2012, 10, 23, 10, 0),\n",
       " datetime.datetime(2012, 10, 23, 11, 0),\n",
       " datetime.datetime(2012, 10, 23, 12, 0),\n",
       " datetime.datetime(2012, 10, 23, 13, 0),\n",
       " datetime.datetime(2012, 10, 23, 14, 0),\n",
       " datetime.datetime(2012, 10, 23, 15, 0),\n",
       " datetime.datetime(2012, 10, 23, 16, 0),\n",
       " datetime.datetime(2012, 10, 23, 17, 0),\n",
       " datetime.datetime(2012, 10, 23, 18, 0),\n",
       " datetime.datetime(2012, 10, 23, 19, 0),\n",
       " datetime.datetime(2012, 10, 23, 20, 0),\n",
       " datetime.datetime(2012, 10, 23, 21, 0),\n",
       " datetime.datetime(2012, 10, 23, 22, 0),\n",
       " datetime.datetime(2012, 10, 23, 23, 0),\n",
       " datetime.datetime(2012, 10, 24, 0, 0),\n",
       " datetime.datetime(2012, 10, 24, 1, 0),\n",
       " datetime.datetime(2012, 10, 24, 2, 0),\n",
       " datetime.datetime(2012, 10, 24, 3, 0),\n",
       " datetime.datetime(2012, 10, 24, 4, 0),\n",
       " datetime.datetime(2012, 10, 24, 5, 0),\n",
       " datetime.datetime(2012, 10, 24, 6, 0),\n",
       " datetime.datetime(2012, 10, 24, 7, 0),\n",
       " datetime.datetime(2012, 10, 24, 8, 0),\n",
       " datetime.datetime(2012, 10, 24, 9, 0),\n",
       " datetime.datetime(2012, 10, 24, 10, 0),\n",
       " datetime.datetime(2012, 10, 24, 11, 0),\n",
       " datetime.datetime(2012, 10, 24, 12, 0),\n",
       " datetime.datetime(2012, 10, 24, 13, 0),\n",
       " datetime.datetime(2012, 10, 24, 14, 0),\n",
       " datetime.datetime(2012, 10, 24, 15, 0),\n",
       " datetime.datetime(2012, 10, 24, 16, 0),\n",
       " datetime.datetime(2012, 10, 24, 17, 0),\n",
       " datetime.datetime(2012, 10, 24, 18, 0),\n",
       " datetime.datetime(2012, 10, 24, 19, 0),\n",
       " datetime.datetime(2012, 10, 24, 20, 0),\n",
       " datetime.datetime(2012, 10, 24, 21, 0),\n",
       " datetime.datetime(2012, 10, 24, 22, 0),\n",
       " datetime.datetime(2012, 10, 24, 23, 0),\n",
       " datetime.datetime(2012, 10, 25, 0, 0),\n",
       " datetime.datetime(2012, 10, 25, 1, 0),\n",
       " datetime.datetime(2012, 10, 25, 2, 0),\n",
       " datetime.datetime(2012, 10, 25, 3, 0),\n",
       " datetime.datetime(2012, 10, 25, 4, 0),\n",
       " datetime.datetime(2012, 10, 25, 5, 0),\n",
       " datetime.datetime(2012, 10, 25, 6, 0),\n",
       " datetime.datetime(2012, 10, 25, 7, 0),\n",
       " datetime.datetime(2012, 10, 25, 8, 0),\n",
       " datetime.datetime(2012, 10, 25, 9, 0),\n",
       " datetime.datetime(2012, 10, 25, 10, 0),\n",
       " datetime.datetime(2012, 10, 25, 11, 0),\n",
       " datetime.datetime(2012, 10, 25, 12, 0),\n",
       " datetime.datetime(2012, 10, 25, 13, 0),\n",
       " datetime.datetime(2012, 10, 25, 14, 0),\n",
       " datetime.datetime(2012, 10, 25, 15, 0),\n",
       " datetime.datetime(2012, 10, 25, 16, 0),\n",
       " datetime.datetime(2012, 10, 25, 17, 0),\n",
       " datetime.datetime(2012, 10, 25, 18, 0),\n",
       " datetime.datetime(2012, 10, 25, 19, 0),\n",
       " datetime.datetime(2012, 10, 25, 20, 0),\n",
       " datetime.datetime(2012, 10, 25, 21, 0),\n",
       " datetime.datetime(2012, 10, 25, 22, 0),\n",
       " datetime.datetime(2012, 10, 25, 23, 0),\n",
       " datetime.datetime(2012, 10, 26, 0, 0),\n",
       " datetime.datetime(2012, 10, 26, 1, 0),\n",
       " datetime.datetime(2012, 10, 26, 2, 0),\n",
       " datetime.datetime(2012, 10, 26, 3, 0),\n",
       " datetime.datetime(2012, 10, 26, 4, 0),\n",
       " datetime.datetime(2012, 10, 26, 5, 0),\n",
       " datetime.datetime(2012, 10, 26, 6, 0),\n",
       " datetime.datetime(2012, 10, 26, 7, 0),\n",
       " datetime.datetime(2012, 10, 26, 8, 0),\n",
       " datetime.datetime(2012, 10, 26, 9, 0),\n",
       " datetime.datetime(2012, 10, 26, 10, 0),\n",
       " datetime.datetime(2012, 10, 26, 11, 0),\n",
       " datetime.datetime(2012, 10, 26, 12, 0),\n",
       " datetime.datetime(2012, 10, 26, 13, 0),\n",
       " datetime.datetime(2012, 10, 26, 14, 0),\n",
       " datetime.datetime(2012, 10, 26, 15, 0),\n",
       " datetime.datetime(2012, 10, 26, 16, 0),\n",
       " datetime.datetime(2012, 10, 26, 17, 0),\n",
       " datetime.datetime(2012, 10, 26, 18, 0),\n",
       " datetime.datetime(2012, 10, 26, 19, 0),\n",
       " datetime.datetime(2012, 10, 26, 20, 0),\n",
       " datetime.datetime(2012, 10, 26, 21, 0),\n",
       " datetime.datetime(2012, 10, 26, 22, 0),\n",
       " datetime.datetime(2012, 10, 26, 23, 0),\n",
       " datetime.datetime(2012, 10, 27, 0, 0),\n",
       " datetime.datetime(2012, 10, 27, 1, 0),\n",
       " datetime.datetime(2012, 10, 27, 2, 0),\n",
       " datetime.datetime(2012, 10, 27, 3, 0),\n",
       " datetime.datetime(2012, 10, 27, 4, 0),\n",
       " datetime.datetime(2012, 10, 27, 5, 0),\n",
       " datetime.datetime(2012, 10, 27, 6, 0),\n",
       " datetime.datetime(2012, 10, 27, 7, 0),\n",
       " datetime.datetime(2012, 10, 27, 8, 0),\n",
       " datetime.datetime(2012, 10, 27, 9, 0),\n",
       " datetime.datetime(2012, 10, 27, 10, 0),\n",
       " datetime.datetime(2012, 10, 27, 11, 0),\n",
       " datetime.datetime(2012, 10, 27, 12, 0),\n",
       " datetime.datetime(2012, 10, 27, 13, 0),\n",
       " datetime.datetime(2012, 10, 27, 14, 0),\n",
       " datetime.datetime(2012, 10, 27, 15, 0),\n",
       " datetime.datetime(2012, 10, 27, 16, 0),\n",
       " datetime.datetime(2012, 10, 27, 17, 0),\n",
       " datetime.datetime(2012, 10, 27, 18, 0),\n",
       " datetime.datetime(2012, 10, 27, 19, 0),\n",
       " datetime.datetime(2012, 10, 27, 20, 0),\n",
       " datetime.datetime(2012, 10, 27, 21, 0),\n",
       " datetime.datetime(2012, 10, 27, 22, 0),\n",
       " datetime.datetime(2012, 10, 27, 23, 0),\n",
       " datetime.datetime(2012, 10, 28, 0, 0),\n",
       " datetime.datetime(2012, 10, 28, 1, 0),\n",
       " datetime.datetime(2012, 10, 28, 2, 0),\n",
       " datetime.datetime(2012, 10, 28, 3, 0),\n",
       " datetime.datetime(2012, 10, 28, 4, 0),\n",
       " datetime.datetime(2012, 10, 28, 5, 0),\n",
       " datetime.datetime(2012, 10, 28, 6, 0),\n",
       " datetime.datetime(2012, 10, 28, 7, 0),\n",
       " datetime.datetime(2012, 10, 28, 8, 0),\n",
       " datetime.datetime(2012, 10, 28, 9, 0),\n",
       " datetime.datetime(2012, 10, 28, 10, 0),\n",
       " datetime.datetime(2012, 10, 28, 11, 0),\n",
       " datetime.datetime(2012, 10, 28, 12, 0),\n",
       " datetime.datetime(2012, 10, 28, 13, 0),\n",
       " datetime.datetime(2012, 10, 28, 14, 0),\n",
       " datetime.datetime(2012, 10, 28, 15, 0),\n",
       " datetime.datetime(2012, 10, 28, 16, 0),\n",
       " datetime.datetime(2012, 10, 28, 17, 0),\n",
       " datetime.datetime(2012, 10, 28, 18, 0),\n",
       " datetime.datetime(2012, 10, 28, 19, 0),\n",
       " datetime.datetime(2012, 10, 28, 20, 0),\n",
       " datetime.datetime(2012, 10, 28, 21, 0),\n",
       " datetime.datetime(2012, 10, 28, 22, 0),\n",
       " datetime.datetime(2012, 10, 28, 23, 0),\n",
       " datetime.datetime(2012, 10, 29, 0, 0),\n",
       " datetime.datetime(2012, 10, 29, 1, 0),\n",
       " datetime.datetime(2012, 10, 29, 2, 0),\n",
       " datetime.datetime(2012, 10, 29, 3, 0),\n",
       " datetime.datetime(2012, 10, 29, 4, 0),\n",
       " datetime.datetime(2012, 10, 29, 5, 0),\n",
       " datetime.datetime(2012, 10, 29, 6, 0),\n",
       " datetime.datetime(2012, 10, 29, 7, 0),\n",
       " datetime.datetime(2012, 10, 29, 8, 0),\n",
       " datetime.datetime(2012, 10, 29, 9, 0),\n",
       " datetime.datetime(2012, 10, 29, 10, 0),\n",
       " datetime.datetime(2012, 10, 29, 11, 0),\n",
       " datetime.datetime(2012, 10, 29, 12, 0),\n",
       " datetime.datetime(2012, 10, 29, 13, 0),\n",
       " datetime.datetime(2012, 10, 29, 14, 0),\n",
       " datetime.datetime(2012, 10, 29, 15, 0),\n",
       " datetime.datetime(2012, 10, 29, 16, 0),\n",
       " datetime.datetime(2012, 10, 29, 17, 0),\n",
       " datetime.datetime(2012, 10, 29, 18, 0),\n",
       " datetime.datetime(2012, 10, 29, 19, 0),\n",
       " datetime.datetime(2012, 10, 29, 20, 0),\n",
       " datetime.datetime(2012, 10, 29, 21, 0),\n",
       " datetime.datetime(2012, 10, 29, 22, 0),\n",
       " datetime.datetime(2012, 10, 29, 23, 0),\n",
       " datetime.datetime(2012, 10, 30, 0, 0),\n",
       " datetime.datetime(2012, 10, 30, 1, 0),\n",
       " datetime.datetime(2012, 10, 30, 2, 0),\n",
       " datetime.datetime(2012, 10, 30, 3, 0),\n",
       " datetime.datetime(2012, 10, 30, 4, 0),\n",
       " datetime.datetime(2012, 10, 30, 5, 0),\n",
       " datetime.datetime(2012, 10, 30, 6, 0),\n",
       " datetime.datetime(2012, 10, 30, 7, 0),\n",
       " datetime.datetime(2012, 10, 30, 8, 0),\n",
       " datetime.datetime(2012, 10, 30, 9, 0),\n",
       " datetime.datetime(2012, 10, 30, 10, 0),\n",
       " datetime.datetime(2012, 10, 30, 11, 0),\n",
       " datetime.datetime(2012, 10, 30, 12, 0),\n",
       " datetime.datetime(2012, 10, 30, 13, 0),\n",
       " datetime.datetime(2012, 10, 30, 14, 0),\n",
       " datetime.datetime(2012, 10, 30, 15, 0),\n",
       " datetime.datetime(2012, 10, 30, 16, 0),\n",
       " datetime.datetime(2012, 10, 30, 17, 0),\n",
       " datetime.datetime(2012, 10, 30, 18, 0),\n",
       " datetime.datetime(2012, 10, 30, 19, 0),\n",
       " datetime.datetime(2012, 10, 30, 20, 0),\n",
       " datetime.datetime(2012, 10, 30, 21, 0),\n",
       " datetime.datetime(2012, 10, 30, 22, 0),\n",
       " datetime.datetime(2012, 10, 30, 23, 0),\n",
       " datetime.datetime(2012, 10, 31, 0, 0),\n",
       " datetime.datetime(2012, 10, 31, 1, 0),\n",
       " datetime.datetime(2012, 10, 31, 2, 0),\n",
       " datetime.datetime(2012, 10, 31, 3, 0),\n",
       " datetime.datetime(2012, 10, 31, 4, 0),\n",
       " datetime.datetime(2012, 10, 31, 5, 0),\n",
       " datetime.datetime(2012, 10, 31, 6, 0),\n",
       " datetime.datetime(2012, 10, 31, 7, 0),\n",
       " datetime.datetime(2012, 10, 31, 8, 0),\n",
       " datetime.datetime(2012, 10, 31, 9, 0),\n",
       " datetime.datetime(2012, 10, 31, 10, 0),\n",
       " datetime.datetime(2012, 10, 31, 11, 0),\n",
       " datetime.datetime(2012, 10, 31, 12, 0),\n",
       " datetime.datetime(2012, 10, 31, 13, 0),\n",
       " datetime.datetime(2012, 10, 31, 14, 0),\n",
       " datetime.datetime(2012, 10, 31, 15, 0),\n",
       " datetime.datetime(2012, 10, 31, 16, 0),\n",
       " datetime.datetime(2012, 10, 31, 17, 0),\n",
       " datetime.datetime(2012, 10, 31, 18, 0),\n",
       " datetime.datetime(2012, 10, 31, 19, 0),\n",
       " datetime.datetime(2012, 10, 31, 20, 0),\n",
       " datetime.datetime(2012, 10, 31, 21, 0),\n",
       " datetime.datetime(2012, 10, 31, 22, 0),\n",
       " datetime.datetime(2012, 10, 31, 23, 0),\n",
       " datetime.datetime(2012, 11, 1, 0, 0),\n",
       " datetime.datetime(2012, 11, 1, 1, 0),\n",
       " datetime.datetime(2012, 11, 1, 2, 0),\n",
       " datetime.datetime(2012, 11, 1, 3, 0),\n",
       " datetime.datetime(2012, 11, 1, 4, 0),\n",
       " datetime.datetime(2012, 11, 1, 5, 0),\n",
       " datetime.datetime(2012, 11, 1, 6, 0),\n",
       " datetime.datetime(2012, 11, 1, 7, 0),\n",
       " datetime.datetime(2012, 11, 1, 8, 0),\n",
       " datetime.datetime(2012, 11, 1, 9, 0),\n",
       " datetime.datetime(2012, 11, 1, 10, 0),\n",
       " datetime.datetime(2012, 11, 1, 11, 0),\n",
       " datetime.datetime(2012, 11, 1, 12, 0),\n",
       " datetime.datetime(2012, 11, 1, 13, 0),\n",
       " datetime.datetime(2012, 11, 1, 14, 0),\n",
       " datetime.datetime(2012, 11, 1, 15, 0),\n",
       " datetime.datetime(2012, 11, 1, 16, 0),\n",
       " datetime.datetime(2012, 11, 1, 17, 0),\n",
       " datetime.datetime(2012, 11, 1, 18, 0),\n",
       " datetime.datetime(2012, 11, 1, 19, 0),\n",
       " datetime.datetime(2012, 11, 1, 20, 0),\n",
       " datetime.datetime(2012, 11, 1, 21, 0),\n",
       " datetime.datetime(2012, 11, 1, 22, 0),\n",
       " datetime.datetime(2012, 11, 1, 23, 0),\n",
       " datetime.datetime(2012, 11, 2, 0, 0),\n",
       " datetime.datetime(2012, 11, 2, 1, 0),\n",
       " datetime.datetime(2012, 11, 2, 2, 0),\n",
       " datetime.datetime(2012, 11, 2, 3, 0),\n",
       " datetime.datetime(2012, 11, 2, 4, 0),\n",
       " datetime.datetime(2012, 11, 2, 5, 0),\n",
       " datetime.datetime(2012, 11, 2, 6, 0),\n",
       " datetime.datetime(2012, 11, 2, 7, 0),\n",
       " datetime.datetime(2012, 11, 2, 8, 0),\n",
       " datetime.datetime(2012, 11, 2, 9, 0),\n",
       " datetime.datetime(2012, 11, 2, 10, 0),\n",
       " datetime.datetime(2012, 11, 2, 11, 0),\n",
       " datetime.datetime(2012, 11, 2, 12, 0),\n",
       " datetime.datetime(2012, 11, 2, 13, 0),\n",
       " datetime.datetime(2012, 11, 2, 14, 0),\n",
       " datetime.datetime(2012, 11, 2, 15, 0),\n",
       " datetime.datetime(2012, 11, 2, 16, 0),\n",
       " datetime.datetime(2012, 11, 2, 17, 0),\n",
       " datetime.datetime(2012, 11, 2, 18, 0),\n",
       " datetime.datetime(2012, 11, 2, 19, 0),\n",
       " datetime.datetime(2012, 11, 2, 20, 0),\n",
       " datetime.datetime(2012, 11, 2, 21, 0),\n",
       " datetime.datetime(2012, 11, 2, 22, 0),\n",
       " datetime.datetime(2012, 11, 2, 23, 0),\n",
       " datetime.datetime(2012, 11, 3, 0, 0),\n",
       " datetime.datetime(2012, 11, 3, 1, 0),\n",
       " datetime.datetime(2012, 11, 3, 2, 0),\n",
       " datetime.datetime(2012, 11, 3, 3, 0),\n",
       " datetime.datetime(2012, 11, 3, 4, 0),\n",
       " datetime.datetime(2012, 11, 3, 5, 0),\n",
       " datetime.datetime(2012, 11, 3, 6, 0),\n",
       " datetime.datetime(2012, 11, 3, 7, 0),\n",
       " datetime.datetime(2012, 11, 3, 8, 0),\n",
       " datetime.datetime(2012, 11, 3, 9, 0),\n",
       " datetime.datetime(2012, 11, 3, 10, 0),\n",
       " datetime.datetime(2012, 11, 3, 11, 0),\n",
       " datetime.datetime(2012, 11, 3, 12, 0),\n",
       " datetime.datetime(2012, 11, 3, 13, 0),\n",
       " datetime.datetime(2012, 11, 3, 14, 0),\n",
       " datetime.datetime(2012, 11, 3, 15, 0),\n",
       " datetime.datetime(2012, 11, 3, 16, 0),\n",
       " datetime.datetime(2012, 11, 3, 17, 0),\n",
       " datetime.datetime(2012, 11, 3, 18, 0),\n",
       " datetime.datetime(2012, 11, 3, 19, 0),\n",
       " datetime.datetime(2012, 11, 3, 20, 0),\n",
       " datetime.datetime(2012, 11, 3, 21, 0),\n",
       " datetime.datetime(2012, 11, 3, 22, 0),\n",
       " datetime.datetime(2012, 11, 3, 23, 0),\n",
       " datetime.datetime(2012, 11, 4, 0, 0),\n",
       " datetime.datetime(2012, 11, 4, 1, 0),\n",
       " datetime.datetime(2012, 11, 4, 2, 0),\n",
       " datetime.datetime(2012, 11, 4, 3, 0),\n",
       " datetime.datetime(2012, 11, 4, 4, 0),\n",
       " datetime.datetime(2012, 11, 4, 5, 0),\n",
       " datetime.datetime(2012, 11, 4, 6, 0),\n",
       " datetime.datetime(2012, 11, 4, 7, 0),\n",
       " datetime.datetime(2012, 11, 4, 8, 0),\n",
       " datetime.datetime(2012, 11, 4, 9, 0),\n",
       " datetime.datetime(2012, 11, 4, 10, 0),\n",
       " datetime.datetime(2012, 11, 4, 11, 0),\n",
       " datetime.datetime(2012, 11, 4, 12, 0),\n",
       " datetime.datetime(2012, 11, 4, 13, 0),\n",
       " datetime.datetime(2012, 11, 4, 14, 0),\n",
       " datetime.datetime(2012, 11, 4, 15, 0),\n",
       " datetime.datetime(2012, 11, 4, 16, 0),\n",
       " datetime.datetime(2012, 11, 4, 17, 0),\n",
       " datetime.datetime(2012, 11, 4, 18, 0),\n",
       " datetime.datetime(2012, 11, 4, 19, 0),\n",
       " datetime.datetime(2012, 11, 4, 20, 0),\n",
       " datetime.datetime(2012, 11, 4, 21, 0),\n",
       " datetime.datetime(2012, 11, 4, 22, 0),\n",
       " datetime.datetime(2012, 11, 4, 23, 0),\n",
       " datetime.datetime(2012, 11, 5, 0, 0),\n",
       " datetime.datetime(2012, 11, 5, 1, 0),\n",
       " datetime.datetime(2012, 11, 5, 2, 0),\n",
       " datetime.datetime(2012, 11, 5, 3, 0),\n",
       " datetime.datetime(2012, 11, 5, 4, 0),\n",
       " datetime.datetime(2012, 11, 5, 5, 0),\n",
       " datetime.datetime(2012, 11, 5, 6, 0),\n",
       " datetime.datetime(2012, 11, 5, 7, 0),\n",
       " datetime.datetime(2012, 11, 5, 8, 0),\n",
       " datetime.datetime(2012, 11, 5, 9, 0),\n",
       " datetime.datetime(2012, 11, 5, 10, 0),\n",
       " datetime.datetime(2012, 11, 5, 11, 0),\n",
       " datetime.datetime(2012, 11, 5, 12, 0),\n",
       " datetime.datetime(2012, 11, 5, 13, 0),\n",
       " datetime.datetime(2012, 11, 5, 14, 0),\n",
       " datetime.datetime(2012, 11, 5, 15, 0),\n",
       " datetime.datetime(2012, 11, 5, 16, 0),\n",
       " datetime.datetime(2012, 11, 5, 17, 0),\n",
       " datetime.datetime(2012, 11, 5, 18, 0),\n",
       " datetime.datetime(2012, 11, 5, 19, 0),\n",
       " datetime.datetime(2012, 11, 5, 20, 0),\n",
       " datetime.datetime(2012, 11, 5, 21, 0),\n",
       " datetime.datetime(2012, 11, 5, 22, 0),\n",
       " datetime.datetime(2012, 11, 5, 23, 0),\n",
       " datetime.datetime(2012, 11, 6, 0, 0),\n",
       " datetime.datetime(2012, 11, 6, 1, 0),\n",
       " datetime.datetime(2012, 11, 6, 2, 0),\n",
       " datetime.datetime(2012, 11, 6, 3, 0),\n",
       " datetime.datetime(2012, 11, 6, 4, 0),\n",
       " datetime.datetime(2012, 11, 6, 5, 0),\n",
       " datetime.datetime(2012, 11, 6, 6, 0),\n",
       " datetime.datetime(2012, 11, 6, 7, 0),\n",
       " datetime.datetime(2012, 11, 6, 8, 0),\n",
       " datetime.datetime(2012, 11, 6, 9, 0),\n",
       " datetime.datetime(2012, 11, 6, 10, 0),\n",
       " datetime.datetime(2012, 11, 6, 11, 0),\n",
       " datetime.datetime(2012, 11, 6, 12, 0),\n",
       " datetime.datetime(2012, 11, 6, 13, 0),\n",
       " datetime.datetime(2012, 11, 6, 14, 0),\n",
       " datetime.datetime(2012, 11, 6, 15, 0),\n",
       " datetime.datetime(2012, 11, 6, 16, 0),\n",
       " datetime.datetime(2012, 11, 6, 17, 0),\n",
       " datetime.datetime(2012, 11, 6, 18, 0),\n",
       " datetime.datetime(2012, 11, 6, 19, 0),\n",
       " datetime.datetime(2012, 11, 6, 20, 0),\n",
       " datetime.datetime(2012, 11, 6, 21, 0),\n",
       " datetime.datetime(2012, 11, 6, 22, 0),\n",
       " datetime.datetime(2012, 11, 6, 23, 0),\n",
       " datetime.datetime(2012, 11, 7, 0, 0),\n",
       " datetime.datetime(2012, 11, 7, 1, 0),\n",
       " datetime.datetime(2012, 11, 7, 2, 0),\n",
       " datetime.datetime(2012, 11, 7, 3, 0),\n",
       " datetime.datetime(2012, 11, 7, 4, 0),\n",
       " datetime.datetime(2012, 11, 7, 5, 0),\n",
       " datetime.datetime(2012, 11, 7, 6, 0),\n",
       " datetime.datetime(2012, 11, 7, 7, 0),\n",
       " datetime.datetime(2012, 11, 7, 8, 0),\n",
       " datetime.datetime(2012, 11, 7, 9, 0),\n",
       " datetime.datetime(2012, 11, 7, 10, 0),\n",
       " datetime.datetime(2012, 11, 7, 11, 0),\n",
       " datetime.datetime(2012, 11, 7, 12, 0),\n",
       " datetime.datetime(2012, 11, 7, 13, 0),\n",
       " datetime.datetime(2012, 11, 7, 14, 0),\n",
       " datetime.datetime(2012, 11, 7, 15, 0),\n",
       " datetime.datetime(2012, 11, 7, 16, 0),\n",
       " datetime.datetime(2012, 11, 7, 17, 0),\n",
       " datetime.datetime(2012, 11, 7, 18, 0),\n",
       " datetime.datetime(2012, 11, 7, 19, 0),\n",
       " datetime.datetime(2012, 11, 7, 20, 0),\n",
       " datetime.datetime(2012, 11, 7, 21, 0),\n",
       " datetime.datetime(2012, 11, 7, 22, 0),\n",
       " datetime.datetime(2012, 11, 7, 23, 0),\n",
       " datetime.datetime(2012, 11, 8, 0, 0),\n",
       " datetime.datetime(2012, 11, 8, 1, 0),\n",
       " datetime.datetime(2012, 11, 8, 2, 0),\n",
       " datetime.datetime(2012, 11, 8, 3, 0),\n",
       " datetime.datetime(2012, 11, 8, 4, 0),\n",
       " datetime.datetime(2012, 11, 8, 5, 0),\n",
       " datetime.datetime(2012, 11, 8, 6, 0),\n",
       " datetime.datetime(2012, 11, 8, 7, 0),\n",
       " datetime.datetime(2012, 11, 8, 8, 0),\n",
       " datetime.datetime(2012, 11, 8, 9, 0),\n",
       " datetime.datetime(2012, 11, 8, 10, 0),\n",
       " datetime.datetime(2012, 11, 8, 11, 0),\n",
       " datetime.datetime(2012, 11, 8, 12, 0),\n",
       " datetime.datetime(2012, 11, 8, 13, 0),\n",
       " datetime.datetime(2012, 11, 8, 14, 0),\n",
       " datetime.datetime(2012, 11, 8, 15, 0),\n",
       " datetime.datetime(2012, 11, 8, 16, 0),\n",
       " datetime.datetime(2012, 11, 8, 17, 0),\n",
       " datetime.datetime(2012, 11, 8, 18, 0),\n",
       " datetime.datetime(2012, 11, 8, 19, 0),\n",
       " datetime.datetime(2012, 11, 8, 20, 0),\n",
       " datetime.datetime(2012, 11, 8, 21, 0),\n",
       " datetime.datetime(2012, 11, 8, 22, 0),\n",
       " datetime.datetime(2012, 11, 8, 23, 0),\n",
       " datetime.datetime(2012, 11, 9, 0, 0),\n",
       " datetime.datetime(2012, 11, 9, 1, 0),\n",
       " datetime.datetime(2012, 11, 9, 2, 0),\n",
       " datetime.datetime(2012, 11, 9, 3, 0),\n",
       " datetime.datetime(2012, 11, 9, 4, 0),\n",
       " datetime.datetime(2012, 11, 9, 5, 0),\n",
       " datetime.datetime(2012, 11, 9, 6, 0),\n",
       " datetime.datetime(2012, 11, 9, 7, 0),\n",
       " datetime.datetime(2012, 11, 9, 8, 0),\n",
       " datetime.datetime(2012, 11, 9, 9, 0),\n",
       " datetime.datetime(2012, 11, 9, 10, 0),\n",
       " datetime.datetime(2012, 11, 9, 11, 0),\n",
       " datetime.datetime(2012, 11, 9, 12, 0),\n",
       " datetime.datetime(2012, 11, 9, 13, 0),\n",
       " datetime.datetime(2012, 11, 9, 14, 0),\n",
       " datetime.datetime(2012, 11, 9, 15, 0),\n",
       " datetime.datetime(2012, 11, 9, 16, 0),\n",
       " datetime.datetime(2012, 11, 9, 17, 0),\n",
       " datetime.datetime(2012, 11, 9, 18, 0),\n",
       " datetime.datetime(2012, 11, 9, 19, 0),\n",
       " datetime.datetime(2012, 11, 9, 20, 0),\n",
       " datetime.datetime(2012, 11, 9, 21, 0),\n",
       " datetime.datetime(2012, 11, 9, 22, 0),\n",
       " datetime.datetime(2012, 11, 9, 23, 0),\n",
       " datetime.datetime(2012, 11, 10, 0, 0),\n",
       " datetime.datetime(2012, 11, 10, 1, 0),\n",
       " datetime.datetime(2012, 11, 10, 2, 0),\n",
       " datetime.datetime(2012, 11, 10, 3, 0),\n",
       " datetime.datetime(2012, 11, 10, 4, 0),\n",
       " datetime.datetime(2012, 11, 10, 5, 0),\n",
       " datetime.datetime(2012, 11, 10, 6, 0),\n",
       " datetime.datetime(2012, 11, 10, 7, 0),\n",
       " datetime.datetime(2012, 11, 10, 8, 0),\n",
       " datetime.datetime(2012, 11, 10, 9, 0),\n",
       " datetime.datetime(2012, 11, 10, 10, 0),\n",
       " datetime.datetime(2012, 11, 10, 11, 0),\n",
       " datetime.datetime(2012, 11, 10, 12, 0),\n",
       " datetime.datetime(2012, 11, 10, 13, 0),\n",
       " datetime.datetime(2012, 11, 10, 14, 0),\n",
       " datetime.datetime(2012, 11, 10, 15, 0),\n",
       " datetime.datetime(2012, 11, 10, 16, 0),\n",
       " datetime.datetime(2012, 11, 10, 17, 0),\n",
       " datetime.datetime(2012, 11, 10, 18, 0),\n",
       " datetime.datetime(2012, 11, 10, 19, 0),\n",
       " datetime.datetime(2012, 11, 10, 20, 0),\n",
       " datetime.datetime(2012, 11, 10, 21, 0),\n",
       " datetime.datetime(2012, 11, 10, 22, 0),\n",
       " datetime.datetime(2012, 11, 10, 23, 0),\n",
       " datetime.datetime(2012, 11, 11, 0, 0),\n",
       " datetime.datetime(2012, 11, 11, 1, 0),\n",
       " datetime.datetime(2012, 11, 11, 2, 0),\n",
       " datetime.datetime(2012, 11, 11, 3, 0),\n",
       " datetime.datetime(2012, 11, 11, 4, 0),\n",
       " datetime.datetime(2012, 11, 11, 5, 0),\n",
       " datetime.datetime(2012, 11, 11, 6, 0),\n",
       " datetime.datetime(2012, 11, 11, 7, 0),\n",
       " datetime.datetime(2012, 11, 11, 8, 0),\n",
       " datetime.datetime(2012, 11, 11, 9, 0),\n",
       " datetime.datetime(2012, 11, 11, 10, 0),\n",
       " datetime.datetime(2012, 11, 11, 11, 0),\n",
       " datetime.datetime(2012, 11, 11, 12, 0),\n",
       " datetime.datetime(2012, 11, 11, 13, 0),\n",
       " datetime.datetime(2012, 11, 11, 14, 0),\n",
       " datetime.datetime(2012, 11, 11, 15, 0),\n",
       " datetime.datetime(2012, 11, 11, 16, 0),\n",
       " datetime.datetime(2012, 11, 11, 17, 0),\n",
       " datetime.datetime(2012, 11, 11, 18, 0),\n",
       " datetime.datetime(2012, 11, 11, 19, 0),\n",
       " datetime.datetime(2012, 11, 11, 20, 0),\n",
       " datetime.datetime(2012, 11, 11, 21, 0),\n",
       " datetime.datetime(2012, 11, 11, 22, 0),\n",
       " datetime.datetime(2012, 11, 11, 23, 0),\n",
       " datetime.datetime(2012, 11, 12, 0, 0),\n",
       " datetime.datetime(2012, 11, 12, 1, 0),\n",
       " datetime.datetime(2012, 11, 12, 2, 0),\n",
       " datetime.datetime(2012, 11, 12, 3, 0),\n",
       " ...]"
      ]
     },
     "execution_count": 47,
     "metadata": {},
     "output_type": "execute_result"
    }
   ],
   "source": [
    "new_datetime"
   ]
  },
  {
   "cell_type": "code",
   "execution_count": 48,
   "metadata": {},
   "outputs": [],
   "source": [
    "train.index = new_datetime\n",
    "# datetime 객체를 인덱스로 삼는다."
   ]
  },
  {
   "cell_type": "code",
   "execution_count": 49,
   "metadata": {},
   "outputs": [
    {
     "data": {
      "text/html": [
       "<div>\n",
       "<style scoped>\n",
       "    .dataframe tbody tr th:only-of-type {\n",
       "        vertical-align: middle;\n",
       "    }\n",
       "\n",
       "    .dataframe tbody tr th {\n",
       "        vertical-align: top;\n",
       "    }\n",
       "\n",
       "    .dataframe thead th {\n",
       "        text-align: right;\n",
       "    }\n",
       "</style>\n",
       "<table border=\"1\" class=\"dataframe\">\n",
       "  <thead>\n",
       "    <tr style=\"text-align: right;\">\n",
       "      <th></th>\n",
       "      <th>datetime</th>\n",
       "      <th>Vancouver</th>\n",
       "      <th>Portland</th>\n",
       "      <th>San Francisco</th>\n",
       "      <th>Seattle</th>\n",
       "      <th>Los Angeles</th>\n",
       "      <th>San Diego</th>\n",
       "      <th>Las Vegas</th>\n",
       "      <th>Phoenix</th>\n",
       "      <th>Albuquerque</th>\n",
       "      <th>...</th>\n",
       "      <th>Philadelphia</th>\n",
       "      <th>New York</th>\n",
       "      <th>Montreal</th>\n",
       "      <th>Boston</th>\n",
       "      <th>Beersheba</th>\n",
       "      <th>Tel Aviv District</th>\n",
       "      <th>Eilat</th>\n",
       "      <th>Haifa</th>\n",
       "      <th>Nahariyya</th>\n",
       "      <th>Jerusalem</th>\n",
       "    </tr>\n",
       "  </thead>\n",
       "  <tbody>\n",
       "    <tr>\n",
       "      <th>2012-10-01 12:00:00</th>\n",
       "      <td>2012-10-01 12:00:00</td>\n",
       "      <td>NaN</td>\n",
       "      <td>NaN</td>\n",
       "      <td>NaN</td>\n",
       "      <td>NaN</td>\n",
       "      <td>NaN</td>\n",
       "      <td>NaN</td>\n",
       "      <td>NaN</td>\n",
       "      <td>NaN</td>\n",
       "      <td>NaN</td>\n",
       "      <td>...</td>\n",
       "      <td>NaN</td>\n",
       "      <td>NaN</td>\n",
       "      <td>NaN</td>\n",
       "      <td>NaN</td>\n",
       "      <td>NaN</td>\n",
       "      <td>NaN</td>\n",
       "      <td>25.0</td>\n",
       "      <td>NaN</td>\n",
       "      <td>NaN</td>\n",
       "      <td>NaN</td>\n",
       "    </tr>\n",
       "    <tr>\n",
       "      <th>2012-10-01 13:00:00</th>\n",
       "      <td>2012-10-01 13:00:00</td>\n",
       "      <td>76.0</td>\n",
       "      <td>81.0</td>\n",
       "      <td>88.0</td>\n",
       "      <td>81.0</td>\n",
       "      <td>88.0</td>\n",
       "      <td>82.0</td>\n",
       "      <td>22.0</td>\n",
       "      <td>23.0</td>\n",
       "      <td>50.0</td>\n",
       "      <td>...</td>\n",
       "      <td>71.0</td>\n",
       "      <td>58.0</td>\n",
       "      <td>93.0</td>\n",
       "      <td>68.0</td>\n",
       "      <td>50.0</td>\n",
       "      <td>63.0</td>\n",
       "      <td>22.0</td>\n",
       "      <td>51.0</td>\n",
       "      <td>51.0</td>\n",
       "      <td>50.0</td>\n",
       "    </tr>\n",
       "    <tr>\n",
       "      <th>2012-10-01 14:00:00</th>\n",
       "      <td>2012-10-01 14:00:00</td>\n",
       "      <td>76.0</td>\n",
       "      <td>80.0</td>\n",
       "      <td>87.0</td>\n",
       "      <td>80.0</td>\n",
       "      <td>88.0</td>\n",
       "      <td>81.0</td>\n",
       "      <td>21.0</td>\n",
       "      <td>23.0</td>\n",
       "      <td>49.0</td>\n",
       "      <td>...</td>\n",
       "      <td>70.0</td>\n",
       "      <td>57.0</td>\n",
       "      <td>91.0</td>\n",
       "      <td>68.0</td>\n",
       "      <td>51.0</td>\n",
       "      <td>62.0</td>\n",
       "      <td>22.0</td>\n",
       "      <td>51.0</td>\n",
       "      <td>51.0</td>\n",
       "      <td>50.0</td>\n",
       "    </tr>\n",
       "    <tr>\n",
       "      <th>2012-10-01 15:00:00</th>\n",
       "      <td>2012-10-01 15:00:00</td>\n",
       "      <td>76.0</td>\n",
       "      <td>80.0</td>\n",
       "      <td>86.0</td>\n",
       "      <td>80.0</td>\n",
       "      <td>88.0</td>\n",
       "      <td>81.0</td>\n",
       "      <td>21.0</td>\n",
       "      <td>23.0</td>\n",
       "      <td>49.0</td>\n",
       "      <td>...</td>\n",
       "      <td>70.0</td>\n",
       "      <td>57.0</td>\n",
       "      <td>87.0</td>\n",
       "      <td>68.0</td>\n",
       "      <td>51.0</td>\n",
       "      <td>62.0</td>\n",
       "      <td>22.0</td>\n",
       "      <td>51.0</td>\n",
       "      <td>51.0</td>\n",
       "      <td>50.0</td>\n",
       "    </tr>\n",
       "    <tr>\n",
       "      <th>2012-10-01 16:00:00</th>\n",
       "      <td>2012-10-01 16:00:00</td>\n",
       "      <td>77.0</td>\n",
       "      <td>80.0</td>\n",
       "      <td>85.0</td>\n",
       "      <td>79.0</td>\n",
       "      <td>88.0</td>\n",
       "      <td>81.0</td>\n",
       "      <td>21.0</td>\n",
       "      <td>23.0</td>\n",
       "      <td>49.0</td>\n",
       "      <td>...</td>\n",
       "      <td>69.0</td>\n",
       "      <td>57.0</td>\n",
       "      <td>84.0</td>\n",
       "      <td>68.0</td>\n",
       "      <td>52.0</td>\n",
       "      <td>62.0</td>\n",
       "      <td>22.0</td>\n",
       "      <td>51.0</td>\n",
       "      <td>51.0</td>\n",
       "      <td>50.0</td>\n",
       "    </tr>\n",
       "  </tbody>\n",
       "</table>\n",
       "<p>5 rows × 37 columns</p>\n",
       "</div>"
      ],
      "text/plain": [
       "                                datetime  Vancouver  Portland  San Francisco  \\\n",
       "2012-10-01 12:00:00  2012-10-01 12:00:00        NaN       NaN            NaN   \n",
       "2012-10-01 13:00:00  2012-10-01 13:00:00       76.0      81.0           88.0   \n",
       "2012-10-01 14:00:00  2012-10-01 14:00:00       76.0      80.0           87.0   \n",
       "2012-10-01 15:00:00  2012-10-01 15:00:00       76.0      80.0           86.0   \n",
       "2012-10-01 16:00:00  2012-10-01 16:00:00       77.0      80.0           85.0   \n",
       "\n",
       "                     Seattle  Los Angeles  San Diego  Las Vegas  Phoenix  \\\n",
       "2012-10-01 12:00:00      NaN          NaN        NaN        NaN      NaN   \n",
       "2012-10-01 13:00:00     81.0         88.0       82.0       22.0     23.0   \n",
       "2012-10-01 14:00:00     80.0         88.0       81.0       21.0     23.0   \n",
       "2012-10-01 15:00:00     80.0         88.0       81.0       21.0     23.0   \n",
       "2012-10-01 16:00:00     79.0         88.0       81.0       21.0     23.0   \n",
       "\n",
       "                     Albuquerque    ...      Philadelphia  New York  Montreal  \\\n",
       "2012-10-01 12:00:00          NaN    ...               NaN       NaN       NaN   \n",
       "2012-10-01 13:00:00         50.0    ...              71.0      58.0      93.0   \n",
       "2012-10-01 14:00:00         49.0    ...              70.0      57.0      91.0   \n",
       "2012-10-01 15:00:00         49.0    ...              70.0      57.0      87.0   \n",
       "2012-10-01 16:00:00         49.0    ...              69.0      57.0      84.0   \n",
       "\n",
       "                     Boston  Beersheba  Tel Aviv District  Eilat  Haifa  \\\n",
       "2012-10-01 12:00:00     NaN        NaN                NaN   25.0    NaN   \n",
       "2012-10-01 13:00:00    68.0       50.0               63.0   22.0   51.0   \n",
       "2012-10-01 14:00:00    68.0       51.0               62.0   22.0   51.0   \n",
       "2012-10-01 15:00:00    68.0       51.0               62.0   22.0   51.0   \n",
       "2012-10-01 16:00:00    68.0       52.0               62.0   22.0   51.0   \n",
       "\n",
       "                     Nahariyya  Jerusalem  \n",
       "2012-10-01 12:00:00        NaN        NaN  \n",
       "2012-10-01 13:00:00       51.0       50.0  \n",
       "2012-10-01 14:00:00       51.0       50.0  \n",
       "2012-10-01 15:00:00       51.0       50.0  \n",
       "2012-10-01 16:00:00       51.0       50.0  \n",
       "\n",
       "[5 rows x 37 columns]"
      ]
     },
     "execution_count": 49,
     "metadata": {},
     "output_type": "execute_result"
    }
   ],
   "source": [
    "train.head()"
   ]
  },
  {
   "cell_type": "raw",
   "metadata": {},
   "source": [
    "그렇다면 인덱스가 datetimeindex 객체이므로 원하는 시간(예 : '2017-05' 2017년 5월 데이터만 추출) 만 추출할 수 있다."
   ]
  },
  {
   "cell_type": "code",
   "execution_count": 50,
   "metadata": {},
   "outputs": [
    {
     "data": {
      "text/html": [
       "<div>\n",
       "<style scoped>\n",
       "    .dataframe tbody tr th:only-of-type {\n",
       "        vertical-align: middle;\n",
       "    }\n",
       "\n",
       "    .dataframe tbody tr th {\n",
       "        vertical-align: top;\n",
       "    }\n",
       "\n",
       "    .dataframe thead th {\n",
       "        text-align: right;\n",
       "    }\n",
       "</style>\n",
       "<table border=\"1\" class=\"dataframe\">\n",
       "  <thead>\n",
       "    <tr style=\"text-align: right;\">\n",
       "      <th></th>\n",
       "      <th>datetime</th>\n",
       "      <th>Vancouver</th>\n",
       "      <th>Portland</th>\n",
       "      <th>San Francisco</th>\n",
       "      <th>Seattle</th>\n",
       "      <th>Los Angeles</th>\n",
       "      <th>San Diego</th>\n",
       "      <th>Las Vegas</th>\n",
       "      <th>Phoenix</th>\n",
       "      <th>Albuquerque</th>\n",
       "      <th>...</th>\n",
       "      <th>Philadelphia</th>\n",
       "      <th>New York</th>\n",
       "      <th>Montreal</th>\n",
       "      <th>Boston</th>\n",
       "      <th>Beersheba</th>\n",
       "      <th>Tel Aviv District</th>\n",
       "      <th>Eilat</th>\n",
       "      <th>Haifa</th>\n",
       "      <th>Nahariyya</th>\n",
       "      <th>Jerusalem</th>\n",
       "    </tr>\n",
       "  </thead>\n",
       "  <tbody>\n",
       "    <tr>\n",
       "      <th>2015-05-03 00:00:00</th>\n",
       "      <td>2015-05-03 00:00:00</td>\n",
       "      <td>89.0</td>\n",
       "      <td>45.0</td>\n",
       "      <td>70.0</td>\n",
       "      <td>47.0</td>\n",
       "      <td>29.0</td>\n",
       "      <td>56.0</td>\n",
       "      <td>14.0</td>\n",
       "      <td>22.0</td>\n",
       "      <td>27.0</td>\n",
       "      <td>...</td>\n",
       "      <td>48.0</td>\n",
       "      <td>47.0</td>\n",
       "      <td>46.0</td>\n",
       "      <td>82.0</td>\n",
       "      <td>94.0</td>\n",
       "      <td>100.0</td>\n",
       "      <td>100.0</td>\n",
       "      <td>100.0</td>\n",
       "      <td>98.0</td>\n",
       "      <td>94.0</td>\n",
       "    </tr>\n",
       "    <tr>\n",
       "      <th>2015-05-03 01:00:00</th>\n",
       "      <td>2015-05-03 01:00:00</td>\n",
       "      <td>89.0</td>\n",
       "      <td>42.0</td>\n",
       "      <td>67.0</td>\n",
       "      <td>43.0</td>\n",
       "      <td>26.0</td>\n",
       "      <td>51.0</td>\n",
       "      <td>13.0</td>\n",
       "      <td>20.0</td>\n",
       "      <td>24.0</td>\n",
       "      <td>...</td>\n",
       "      <td>45.0</td>\n",
       "      <td>48.0</td>\n",
       "      <td>46.0</td>\n",
       "      <td>85.0</td>\n",
       "      <td>94.0</td>\n",
       "      <td>100.0</td>\n",
       "      <td>100.0</td>\n",
       "      <td>100.0</td>\n",
       "      <td>98.0</td>\n",
       "      <td>99.0</td>\n",
       "    </tr>\n",
       "    <tr>\n",
       "      <th>2015-05-03 02:00:00</th>\n",
       "      <td>2015-05-03 02:00:00</td>\n",
       "      <td>80.0</td>\n",
       "      <td>41.0</td>\n",
       "      <td>71.0</td>\n",
       "      <td>43.0</td>\n",
       "      <td>29.0</td>\n",
       "      <td>60.0</td>\n",
       "      <td>13.0</td>\n",
       "      <td>20.0</td>\n",
       "      <td>28.0</td>\n",
       "      <td>...</td>\n",
       "      <td>53.0</td>\n",
       "      <td>63.0</td>\n",
       "      <td>47.0</td>\n",
       "      <td>87.0</td>\n",
       "      <td>95.0</td>\n",
       "      <td>98.0</td>\n",
       "      <td>100.0</td>\n",
       "      <td>100.0</td>\n",
       "      <td>98.0</td>\n",
       "      <td>98.0</td>\n",
       "    </tr>\n",
       "    <tr>\n",
       "      <th>2015-05-03 03:00:00</th>\n",
       "      <td>2015-05-03 03:00:00</td>\n",
       "      <td>91.0</td>\n",
       "      <td>54.0</td>\n",
       "      <td>81.0</td>\n",
       "      <td>50.0</td>\n",
       "      <td>44.0</td>\n",
       "      <td>68.0</td>\n",
       "      <td>20.0</td>\n",
       "      <td>22.0</td>\n",
       "      <td>35.0</td>\n",
       "      <td>...</td>\n",
       "      <td>57.0</td>\n",
       "      <td>63.0</td>\n",
       "      <td>75.0</td>\n",
       "      <td>84.0</td>\n",
       "      <td>98.0</td>\n",
       "      <td>100.0</td>\n",
       "      <td>100.0</td>\n",
       "      <td>100.0</td>\n",
       "      <td>99.0</td>\n",
       "      <td>95.0</td>\n",
       "    </tr>\n",
       "    <tr>\n",
       "      <th>2015-05-03 04:00:00</th>\n",
       "      <td>2015-05-03 04:00:00</td>\n",
       "      <td>93.0</td>\n",
       "      <td>49.0</td>\n",
       "      <td>84.0</td>\n",
       "      <td>47.0</td>\n",
       "      <td>43.0</td>\n",
       "      <td>78.0</td>\n",
       "      <td>19.0</td>\n",
       "      <td>22.0</td>\n",
       "      <td>38.0</td>\n",
       "      <td>...</td>\n",
       "      <td>66.0</td>\n",
       "      <td>72.0</td>\n",
       "      <td>75.0</td>\n",
       "      <td>88.0</td>\n",
       "      <td>92.0</td>\n",
       "      <td>100.0</td>\n",
       "      <td>93.0</td>\n",
       "      <td>100.0</td>\n",
       "      <td>92.0</td>\n",
       "      <td>95.0</td>\n",
       "    </tr>\n",
       "    <tr>\n",
       "      <th>2015-05-03 05:00:00</th>\n",
       "      <td>2015-05-03 05:00:00</td>\n",
       "      <td>96.0</td>\n",
       "      <td>58.0</td>\n",
       "      <td>92.0</td>\n",
       "      <td>51.0</td>\n",
       "      <td>53.0</td>\n",
       "      <td>86.0</td>\n",
       "      <td>23.0</td>\n",
       "      <td>23.0</td>\n",
       "      <td>44.0</td>\n",
       "      <td>...</td>\n",
       "      <td>72.0</td>\n",
       "      <td>74.0</td>\n",
       "      <td>75.0</td>\n",
       "      <td>87.0</td>\n",
       "      <td>84.0</td>\n",
       "      <td>100.0</td>\n",
       "      <td>83.0</td>\n",
       "      <td>100.0</td>\n",
       "      <td>80.0</td>\n",
       "      <td>93.0</td>\n",
       "    </tr>\n",
       "    <tr>\n",
       "      <th>2015-05-03 06:00:00</th>\n",
       "      <td>2015-05-03 06:00:00</td>\n",
       "      <td>96.0</td>\n",
       "      <td>58.0</td>\n",
       "      <td>88.0</td>\n",
       "      <td>61.0</td>\n",
       "      <td>57.0</td>\n",
       "      <td>82.0</td>\n",
       "      <td>25.0</td>\n",
       "      <td>27.0</td>\n",
       "      <td>45.0</td>\n",
       "      <td>...</td>\n",
       "      <td>75.0</td>\n",
       "      <td>72.0</td>\n",
       "      <td>75.0</td>\n",
       "      <td>87.0</td>\n",
       "      <td>84.0</td>\n",
       "      <td>100.0</td>\n",
       "      <td>83.0</td>\n",
       "      <td>100.0</td>\n",
       "      <td>80.0</td>\n",
       "      <td>89.0</td>\n",
       "    </tr>\n",
       "    <tr>\n",
       "      <th>2015-05-03 07:00:00</th>\n",
       "      <td>2015-05-03 07:00:00</td>\n",
       "      <td>96.0</td>\n",
       "      <td>69.0</td>\n",
       "      <td>100.0</td>\n",
       "      <td>64.0</td>\n",
       "      <td>70.0</td>\n",
       "      <td>94.0</td>\n",
       "      <td>30.0</td>\n",
       "      <td>28.0</td>\n",
       "      <td>52.0</td>\n",
       "      <td>...</td>\n",
       "      <td>81.0</td>\n",
       "      <td>72.0</td>\n",
       "      <td>75.0</td>\n",
       "      <td>86.0</td>\n",
       "      <td>84.0</td>\n",
       "      <td>100.0</td>\n",
       "      <td>83.0</td>\n",
       "      <td>100.0</td>\n",
       "      <td>80.0</td>\n",
       "      <td>87.0</td>\n",
       "    </tr>\n",
       "    <tr>\n",
       "      <th>2015-05-03 08:00:00</th>\n",
       "      <td>2015-05-03 08:00:00</td>\n",
       "      <td>100.0</td>\n",
       "      <td>72.0</td>\n",
       "      <td>100.0</td>\n",
       "      <td>72.0</td>\n",
       "      <td>76.0</td>\n",
       "      <td>94.0</td>\n",
       "      <td>33.0</td>\n",
       "      <td>31.0</td>\n",
       "      <td>55.0</td>\n",
       "      <td>...</td>\n",
       "      <td>86.0</td>\n",
       "      <td>83.0</td>\n",
       "      <td>81.0</td>\n",
       "      <td>85.0</td>\n",
       "      <td>79.0</td>\n",
       "      <td>97.0</td>\n",
       "      <td>74.0</td>\n",
       "      <td>100.0</td>\n",
       "      <td>88.0</td>\n",
       "      <td>84.0</td>\n",
       "    </tr>\n",
       "    <tr>\n",
       "      <th>2015-05-03 09:00:00</th>\n",
       "      <td>2015-05-03 09:00:00</td>\n",
       "      <td>100.0</td>\n",
       "      <td>78.0</td>\n",
       "      <td>100.0</td>\n",
       "      <td>76.0</td>\n",
       "      <td>75.0</td>\n",
       "      <td>95.0</td>\n",
       "      <td>34.0</td>\n",
       "      <td>31.0</td>\n",
       "      <td>56.0</td>\n",
       "      <td>...</td>\n",
       "      <td>75.0</td>\n",
       "      <td>79.0</td>\n",
       "      <td>80.0</td>\n",
       "      <td>84.0</td>\n",
       "      <td>76.0</td>\n",
       "      <td>96.0</td>\n",
       "      <td>60.0</td>\n",
       "      <td>96.0</td>\n",
       "      <td>62.0</td>\n",
       "      <td>79.0</td>\n",
       "    </tr>\n",
       "    <tr>\n",
       "      <th>2015-05-03 10:00:00</th>\n",
       "      <td>2015-05-03 10:00:00</td>\n",
       "      <td>96.0</td>\n",
       "      <td>80.0</td>\n",
       "      <td>100.0</td>\n",
       "      <td>85.0</td>\n",
       "      <td>83.0</td>\n",
       "      <td>94.0</td>\n",
       "      <td>37.0</td>\n",
       "      <td>35.0</td>\n",
       "      <td>59.0</td>\n",
       "      <td>...</td>\n",
       "      <td>84.0</td>\n",
       "      <td>56.0</td>\n",
       "      <td>68.0</td>\n",
       "      <td>83.0</td>\n",
       "      <td>68.0</td>\n",
       "      <td>93.0</td>\n",
       "      <td>56.0</td>\n",
       "      <td>93.0</td>\n",
       "      <td>59.0</td>\n",
       "      <td>77.0</td>\n",
       "    </tr>\n",
       "    <tr>\n",
       "      <th>2015-05-03 11:00:00</th>\n",
       "      <td>2015-05-03 11:00:00</td>\n",
       "      <td>100.0</td>\n",
       "      <td>85.0</td>\n",
       "      <td>100.0</td>\n",
       "      <td>90.0</td>\n",
       "      <td>85.0</td>\n",
       "      <td>94.0</td>\n",
       "      <td>39.0</td>\n",
       "      <td>36.0</td>\n",
       "      <td>61.0</td>\n",
       "      <td>...</td>\n",
       "      <td>78.0</td>\n",
       "      <td>59.0</td>\n",
       "      <td>74.0</td>\n",
       "      <td>82.0</td>\n",
       "      <td>58.0</td>\n",
       "      <td>89.0</td>\n",
       "      <td>51.0</td>\n",
       "      <td>89.0</td>\n",
       "      <td>56.0</td>\n",
       "      <td>73.0</td>\n",
       "    </tr>\n",
       "    <tr>\n",
       "      <th>2015-05-03 12:00:00</th>\n",
       "      <td>2015-05-03 12:00:00</td>\n",
       "      <td>100.0</td>\n",
       "      <td>74.0</td>\n",
       "      <td>100.0</td>\n",
       "      <td>79.0</td>\n",
       "      <td>78.0</td>\n",
       "      <td>91.0</td>\n",
       "      <td>30.0</td>\n",
       "      <td>28.0</td>\n",
       "      <td>49.0</td>\n",
       "      <td>...</td>\n",
       "      <td>64.0</td>\n",
       "      <td>56.0</td>\n",
       "      <td>74.0</td>\n",
       "      <td>77.0</td>\n",
       "      <td>58.0</td>\n",
       "      <td>89.0</td>\n",
       "      <td>51.0</td>\n",
       "      <td>89.0</td>\n",
       "      <td>56.0</td>\n",
       "      <td>72.0</td>\n",
       "    </tr>\n",
       "    <tr>\n",
       "      <th>2015-05-03 13:00:00</th>\n",
       "      <td>2015-05-03 13:00:00</td>\n",
       "      <td>100.0</td>\n",
       "      <td>84.0</td>\n",
       "      <td>100.0</td>\n",
       "      <td>90.0</td>\n",
       "      <td>82.0</td>\n",
       "      <td>92.0</td>\n",
       "      <td>35.0</td>\n",
       "      <td>32.0</td>\n",
       "      <td>56.0</td>\n",
       "      <td>...</td>\n",
       "      <td>60.0</td>\n",
       "      <td>55.0</td>\n",
       "      <td>74.0</td>\n",
       "      <td>77.0</td>\n",
       "      <td>58.0</td>\n",
       "      <td>89.0</td>\n",
       "      <td>51.0</td>\n",
       "      <td>89.0</td>\n",
       "      <td>56.0</td>\n",
       "      <td>66.0</td>\n",
       "    </tr>\n",
       "    <tr>\n",
       "      <th>2015-05-03 14:00:00</th>\n",
       "      <td>2015-05-03 14:00:00</td>\n",
       "      <td>100.0</td>\n",
       "      <td>79.0</td>\n",
       "      <td>100.0</td>\n",
       "      <td>84.0</td>\n",
       "      <td>78.0</td>\n",
       "      <td>90.0</td>\n",
       "      <td>30.0</td>\n",
       "      <td>27.0</td>\n",
       "      <td>48.0</td>\n",
       "      <td>...</td>\n",
       "      <td>49.0</td>\n",
       "      <td>49.0</td>\n",
       "      <td>62.0</td>\n",
       "      <td>73.0</td>\n",
       "      <td>53.0</td>\n",
       "      <td>84.0</td>\n",
       "      <td>50.0</td>\n",
       "      <td>93.0</td>\n",
       "      <td>73.0</td>\n",
       "      <td>64.0</td>\n",
       "    </tr>\n",
       "    <tr>\n",
       "      <th>2015-05-03 15:00:00</th>\n",
       "      <td>2015-05-03 15:00:00</td>\n",
       "      <td>99.0</td>\n",
       "      <td>69.0</td>\n",
       "      <td>89.0</td>\n",
       "      <td>73.0</td>\n",
       "      <td>70.0</td>\n",
       "      <td>82.0</td>\n",
       "      <td>31.0</td>\n",
       "      <td>32.0</td>\n",
       "      <td>51.0</td>\n",
       "      <td>...</td>\n",
       "      <td>49.0</td>\n",
       "      <td>41.0</td>\n",
       "      <td>61.0</td>\n",
       "      <td>71.0</td>\n",
       "      <td>47.0</td>\n",
       "      <td>92.0</td>\n",
       "      <td>50.0</td>\n",
       "      <td>92.0</td>\n",
       "      <td>57.0</td>\n",
       "      <td>70.0</td>\n",
       "    </tr>\n",
       "    <tr>\n",
       "      <th>2015-05-03 16:00:00</th>\n",
       "      <td>2015-05-03 16:00:00</td>\n",
       "      <td>88.0</td>\n",
       "      <td>65.0</td>\n",
       "      <td>93.0</td>\n",
       "      <td>69.0</td>\n",
       "      <td>67.0</td>\n",
       "      <td>82.0</td>\n",
       "      <td>24.0</td>\n",
       "      <td>23.0</td>\n",
       "      <td>40.0</td>\n",
       "      <td>...</td>\n",
       "      <td>34.0</td>\n",
       "      <td>29.0</td>\n",
       "      <td>58.0</td>\n",
       "      <td>66.0</td>\n",
       "      <td>56.0</td>\n",
       "      <td>95.0</td>\n",
       "      <td>52.0</td>\n",
       "      <td>95.0</td>\n",
       "      <td>72.0</td>\n",
       "      <td>66.0</td>\n",
       "    </tr>\n",
       "    <tr>\n",
       "      <th>2015-05-03 17:00:00</th>\n",
       "      <td>2015-05-03 17:00:00</td>\n",
       "      <td>94.0</td>\n",
       "      <td>57.0</td>\n",
       "      <td>86.0</td>\n",
       "      <td>60.0</td>\n",
       "      <td>60.0</td>\n",
       "      <td>75.0</td>\n",
       "      <td>22.0</td>\n",
       "      <td>25.0</td>\n",
       "      <td>40.0</td>\n",
       "      <td>...</td>\n",
       "      <td>30.0</td>\n",
       "      <td>29.0</td>\n",
       "      <td>55.0</td>\n",
       "      <td>64.0</td>\n",
       "      <td>71.0</td>\n",
       "      <td>100.0</td>\n",
       "      <td>57.0</td>\n",
       "      <td>100.0</td>\n",
       "      <td>97.0</td>\n",
       "      <td>69.0</td>\n",
       "    </tr>\n",
       "    <tr>\n",
       "      <th>2015-05-03 18:00:00</th>\n",
       "      <td>2015-05-03 18:00:00</td>\n",
       "      <td>94.0</td>\n",
       "      <td>57.0</td>\n",
       "      <td>85.0</td>\n",
       "      <td>60.0</td>\n",
       "      <td>60.0</td>\n",
       "      <td>76.0</td>\n",
       "      <td>20.0</td>\n",
       "      <td>23.0</td>\n",
       "      <td>36.0</td>\n",
       "      <td>...</td>\n",
       "      <td>29.0</td>\n",
       "      <td>29.0</td>\n",
       "      <td>55.0</td>\n",
       "      <td>64.0</td>\n",
       "      <td>71.0</td>\n",
       "      <td>100.0</td>\n",
       "      <td>57.0</td>\n",
       "      <td>100.0</td>\n",
       "      <td>97.0</td>\n",
       "      <td>77.0</td>\n",
       "    </tr>\n",
       "    <tr>\n",
       "      <th>2015-05-03 19:00:00</th>\n",
       "      <td>2015-05-03 19:00:00</td>\n",
       "      <td>94.0</td>\n",
       "      <td>45.0</td>\n",
       "      <td>76.0</td>\n",
       "      <td>48.0</td>\n",
       "      <td>51.0</td>\n",
       "      <td>68.0</td>\n",
       "      <td>19.0</td>\n",
       "      <td>26.0</td>\n",
       "      <td>36.0</td>\n",
       "      <td>...</td>\n",
       "      <td>25.0</td>\n",
       "      <td>28.0</td>\n",
       "      <td>55.0</td>\n",
       "      <td>60.0</td>\n",
       "      <td>71.0</td>\n",
       "      <td>100.0</td>\n",
       "      <td>57.0</td>\n",
       "      <td>100.0</td>\n",
       "      <td>97.0</td>\n",
       "      <td>79.0</td>\n",
       "    </tr>\n",
       "    <tr>\n",
       "      <th>2015-05-03 20:00:00</th>\n",
       "      <td>2015-05-03 20:00:00</td>\n",
       "      <td>82.0</td>\n",
       "      <td>42.0</td>\n",
       "      <td>73.0</td>\n",
       "      <td>45.0</td>\n",
       "      <td>49.0</td>\n",
       "      <td>66.0</td>\n",
       "      <td>17.0</td>\n",
       "      <td>25.0</td>\n",
       "      <td>34.0</td>\n",
       "      <td>...</td>\n",
       "      <td>23.0</td>\n",
       "      <td>24.0</td>\n",
       "      <td>52.0</td>\n",
       "      <td>60.0</td>\n",
       "      <td>80.0</td>\n",
       "      <td>98.0</td>\n",
       "      <td>64.0</td>\n",
       "      <td>100.0</td>\n",
       "      <td>98.0</td>\n",
       "      <td>85.0</td>\n",
       "    </tr>\n",
       "    <tr>\n",
       "      <th>2015-05-03 21:00:00</th>\n",
       "      <td>2015-05-03 21:00:00</td>\n",
       "      <td>90.0</td>\n",
       "      <td>41.0</td>\n",
       "      <td>75.0</td>\n",
       "      <td>44.0</td>\n",
       "      <td>49.0</td>\n",
       "      <td>66.0</td>\n",
       "      <td>17.0</td>\n",
       "      <td>23.0</td>\n",
       "      <td>31.0</td>\n",
       "      <td>...</td>\n",
       "      <td>27.0</td>\n",
       "      <td>24.0</td>\n",
       "      <td>49.0</td>\n",
       "      <td>63.0</td>\n",
       "      <td>98.0</td>\n",
       "      <td>100.0</td>\n",
       "      <td>79.0</td>\n",
       "      <td>100.0</td>\n",
       "      <td>99.0</td>\n",
       "      <td>86.0</td>\n",
       "    </tr>\n",
       "    <tr>\n",
       "      <th>2015-05-03 22:00:00</th>\n",
       "      <td>2015-05-03 22:00:00</td>\n",
       "      <td>88.0</td>\n",
       "      <td>37.0</td>\n",
       "      <td>70.0</td>\n",
       "      <td>40.0</td>\n",
       "      <td>46.0</td>\n",
       "      <td>63.0</td>\n",
       "      <td>15.0</td>\n",
       "      <td>22.0</td>\n",
       "      <td>29.0</td>\n",
       "      <td>...</td>\n",
       "      <td>24.0</td>\n",
       "      <td>30.0</td>\n",
       "      <td>48.0</td>\n",
       "      <td>62.0</td>\n",
       "      <td>98.0</td>\n",
       "      <td>100.0</td>\n",
       "      <td>86.0</td>\n",
       "      <td>100.0</td>\n",
       "      <td>99.0</td>\n",
       "      <td>94.0</td>\n",
       "    </tr>\n",
       "    <tr>\n",
       "      <th>2015-05-03 23:00:00</th>\n",
       "      <td>2015-05-03 23:00:00</td>\n",
       "      <td>86.0</td>\n",
       "      <td>35.0</td>\n",
       "      <td>71.0</td>\n",
       "      <td>38.0</td>\n",
       "      <td>45.0</td>\n",
       "      <td>62.0</td>\n",
       "      <td>14.0</td>\n",
       "      <td>21.0</td>\n",
       "      <td>26.0</td>\n",
       "      <td>...</td>\n",
       "      <td>26.0</td>\n",
       "      <td>31.0</td>\n",
       "      <td>47.0</td>\n",
       "      <td>63.0</td>\n",
       "      <td>98.0</td>\n",
       "      <td>100.0</td>\n",
       "      <td>100.0</td>\n",
       "      <td>100.0</td>\n",
       "      <td>99.0</td>\n",
       "      <td>97.0</td>\n",
       "    </tr>\n",
       "  </tbody>\n",
       "</table>\n",
       "<p>24 rows × 37 columns</p>\n",
       "</div>"
      ],
      "text/plain": [
       "                                datetime  Vancouver  Portland  San Francisco  \\\n",
       "2015-05-03 00:00:00  2015-05-03 00:00:00       89.0      45.0           70.0   \n",
       "2015-05-03 01:00:00  2015-05-03 01:00:00       89.0      42.0           67.0   \n",
       "2015-05-03 02:00:00  2015-05-03 02:00:00       80.0      41.0           71.0   \n",
       "2015-05-03 03:00:00  2015-05-03 03:00:00       91.0      54.0           81.0   \n",
       "2015-05-03 04:00:00  2015-05-03 04:00:00       93.0      49.0           84.0   \n",
       "2015-05-03 05:00:00  2015-05-03 05:00:00       96.0      58.0           92.0   \n",
       "2015-05-03 06:00:00  2015-05-03 06:00:00       96.0      58.0           88.0   \n",
       "2015-05-03 07:00:00  2015-05-03 07:00:00       96.0      69.0          100.0   \n",
       "2015-05-03 08:00:00  2015-05-03 08:00:00      100.0      72.0          100.0   \n",
       "2015-05-03 09:00:00  2015-05-03 09:00:00      100.0      78.0          100.0   \n",
       "2015-05-03 10:00:00  2015-05-03 10:00:00       96.0      80.0          100.0   \n",
       "2015-05-03 11:00:00  2015-05-03 11:00:00      100.0      85.0          100.0   \n",
       "2015-05-03 12:00:00  2015-05-03 12:00:00      100.0      74.0          100.0   \n",
       "2015-05-03 13:00:00  2015-05-03 13:00:00      100.0      84.0          100.0   \n",
       "2015-05-03 14:00:00  2015-05-03 14:00:00      100.0      79.0          100.0   \n",
       "2015-05-03 15:00:00  2015-05-03 15:00:00       99.0      69.0           89.0   \n",
       "2015-05-03 16:00:00  2015-05-03 16:00:00       88.0      65.0           93.0   \n",
       "2015-05-03 17:00:00  2015-05-03 17:00:00       94.0      57.0           86.0   \n",
       "2015-05-03 18:00:00  2015-05-03 18:00:00       94.0      57.0           85.0   \n",
       "2015-05-03 19:00:00  2015-05-03 19:00:00       94.0      45.0           76.0   \n",
       "2015-05-03 20:00:00  2015-05-03 20:00:00       82.0      42.0           73.0   \n",
       "2015-05-03 21:00:00  2015-05-03 21:00:00       90.0      41.0           75.0   \n",
       "2015-05-03 22:00:00  2015-05-03 22:00:00       88.0      37.0           70.0   \n",
       "2015-05-03 23:00:00  2015-05-03 23:00:00       86.0      35.0           71.0   \n",
       "\n",
       "                     Seattle  Los Angeles  San Diego  Las Vegas  Phoenix  \\\n",
       "2015-05-03 00:00:00     47.0         29.0       56.0       14.0     22.0   \n",
       "2015-05-03 01:00:00     43.0         26.0       51.0       13.0     20.0   \n",
       "2015-05-03 02:00:00     43.0         29.0       60.0       13.0     20.0   \n",
       "2015-05-03 03:00:00     50.0         44.0       68.0       20.0     22.0   \n",
       "2015-05-03 04:00:00     47.0         43.0       78.0       19.0     22.0   \n",
       "2015-05-03 05:00:00     51.0         53.0       86.0       23.0     23.0   \n",
       "2015-05-03 06:00:00     61.0         57.0       82.0       25.0     27.0   \n",
       "2015-05-03 07:00:00     64.0         70.0       94.0       30.0     28.0   \n",
       "2015-05-03 08:00:00     72.0         76.0       94.0       33.0     31.0   \n",
       "2015-05-03 09:00:00     76.0         75.0       95.0       34.0     31.0   \n",
       "2015-05-03 10:00:00     85.0         83.0       94.0       37.0     35.0   \n",
       "2015-05-03 11:00:00     90.0         85.0       94.0       39.0     36.0   \n",
       "2015-05-03 12:00:00     79.0         78.0       91.0       30.0     28.0   \n",
       "2015-05-03 13:00:00     90.0         82.0       92.0       35.0     32.0   \n",
       "2015-05-03 14:00:00     84.0         78.0       90.0       30.0     27.0   \n",
       "2015-05-03 15:00:00     73.0         70.0       82.0       31.0     32.0   \n",
       "2015-05-03 16:00:00     69.0         67.0       82.0       24.0     23.0   \n",
       "2015-05-03 17:00:00     60.0         60.0       75.0       22.0     25.0   \n",
       "2015-05-03 18:00:00     60.0         60.0       76.0       20.0     23.0   \n",
       "2015-05-03 19:00:00     48.0         51.0       68.0       19.0     26.0   \n",
       "2015-05-03 20:00:00     45.0         49.0       66.0       17.0     25.0   \n",
       "2015-05-03 21:00:00     44.0         49.0       66.0       17.0     23.0   \n",
       "2015-05-03 22:00:00     40.0         46.0       63.0       15.0     22.0   \n",
       "2015-05-03 23:00:00     38.0         45.0       62.0       14.0     21.0   \n",
       "\n",
       "                     Albuquerque    ...      Philadelphia  New York  Montreal  \\\n",
       "2015-05-03 00:00:00         27.0    ...              48.0      47.0      46.0   \n",
       "2015-05-03 01:00:00         24.0    ...              45.0      48.0      46.0   \n",
       "2015-05-03 02:00:00         28.0    ...              53.0      63.0      47.0   \n",
       "2015-05-03 03:00:00         35.0    ...              57.0      63.0      75.0   \n",
       "2015-05-03 04:00:00         38.0    ...              66.0      72.0      75.0   \n",
       "2015-05-03 05:00:00         44.0    ...              72.0      74.0      75.0   \n",
       "2015-05-03 06:00:00         45.0    ...              75.0      72.0      75.0   \n",
       "2015-05-03 07:00:00         52.0    ...              81.0      72.0      75.0   \n",
       "2015-05-03 08:00:00         55.0    ...              86.0      83.0      81.0   \n",
       "2015-05-03 09:00:00         56.0    ...              75.0      79.0      80.0   \n",
       "2015-05-03 10:00:00         59.0    ...              84.0      56.0      68.0   \n",
       "2015-05-03 11:00:00         61.0    ...              78.0      59.0      74.0   \n",
       "2015-05-03 12:00:00         49.0    ...              64.0      56.0      74.0   \n",
       "2015-05-03 13:00:00         56.0    ...              60.0      55.0      74.0   \n",
       "2015-05-03 14:00:00         48.0    ...              49.0      49.0      62.0   \n",
       "2015-05-03 15:00:00         51.0    ...              49.0      41.0      61.0   \n",
       "2015-05-03 16:00:00         40.0    ...              34.0      29.0      58.0   \n",
       "2015-05-03 17:00:00         40.0    ...              30.0      29.0      55.0   \n",
       "2015-05-03 18:00:00         36.0    ...              29.0      29.0      55.0   \n",
       "2015-05-03 19:00:00         36.0    ...              25.0      28.0      55.0   \n",
       "2015-05-03 20:00:00         34.0    ...              23.0      24.0      52.0   \n",
       "2015-05-03 21:00:00         31.0    ...              27.0      24.0      49.0   \n",
       "2015-05-03 22:00:00         29.0    ...              24.0      30.0      48.0   \n",
       "2015-05-03 23:00:00         26.0    ...              26.0      31.0      47.0   \n",
       "\n",
       "                     Boston  Beersheba  Tel Aviv District  Eilat  Haifa  \\\n",
       "2015-05-03 00:00:00    82.0       94.0              100.0  100.0  100.0   \n",
       "2015-05-03 01:00:00    85.0       94.0              100.0  100.0  100.0   \n",
       "2015-05-03 02:00:00    87.0       95.0               98.0  100.0  100.0   \n",
       "2015-05-03 03:00:00    84.0       98.0              100.0  100.0  100.0   \n",
       "2015-05-03 04:00:00    88.0       92.0              100.0   93.0  100.0   \n",
       "2015-05-03 05:00:00    87.0       84.0              100.0   83.0  100.0   \n",
       "2015-05-03 06:00:00    87.0       84.0              100.0   83.0  100.0   \n",
       "2015-05-03 07:00:00    86.0       84.0              100.0   83.0  100.0   \n",
       "2015-05-03 08:00:00    85.0       79.0               97.0   74.0  100.0   \n",
       "2015-05-03 09:00:00    84.0       76.0               96.0   60.0   96.0   \n",
       "2015-05-03 10:00:00    83.0       68.0               93.0   56.0   93.0   \n",
       "2015-05-03 11:00:00    82.0       58.0               89.0   51.0   89.0   \n",
       "2015-05-03 12:00:00    77.0       58.0               89.0   51.0   89.0   \n",
       "2015-05-03 13:00:00    77.0       58.0               89.0   51.0   89.0   \n",
       "2015-05-03 14:00:00    73.0       53.0               84.0   50.0   93.0   \n",
       "2015-05-03 15:00:00    71.0       47.0               92.0   50.0   92.0   \n",
       "2015-05-03 16:00:00    66.0       56.0               95.0   52.0   95.0   \n",
       "2015-05-03 17:00:00    64.0       71.0              100.0   57.0  100.0   \n",
       "2015-05-03 18:00:00    64.0       71.0              100.0   57.0  100.0   \n",
       "2015-05-03 19:00:00    60.0       71.0              100.0   57.0  100.0   \n",
       "2015-05-03 20:00:00    60.0       80.0               98.0   64.0  100.0   \n",
       "2015-05-03 21:00:00    63.0       98.0              100.0   79.0  100.0   \n",
       "2015-05-03 22:00:00    62.0       98.0              100.0   86.0  100.0   \n",
       "2015-05-03 23:00:00    63.0       98.0              100.0  100.0  100.0   \n",
       "\n",
       "                     Nahariyya  Jerusalem  \n",
       "2015-05-03 00:00:00       98.0       94.0  \n",
       "2015-05-03 01:00:00       98.0       99.0  \n",
       "2015-05-03 02:00:00       98.0       98.0  \n",
       "2015-05-03 03:00:00       99.0       95.0  \n",
       "2015-05-03 04:00:00       92.0       95.0  \n",
       "2015-05-03 05:00:00       80.0       93.0  \n",
       "2015-05-03 06:00:00       80.0       89.0  \n",
       "2015-05-03 07:00:00       80.0       87.0  \n",
       "2015-05-03 08:00:00       88.0       84.0  \n",
       "2015-05-03 09:00:00       62.0       79.0  \n",
       "2015-05-03 10:00:00       59.0       77.0  \n",
       "2015-05-03 11:00:00       56.0       73.0  \n",
       "2015-05-03 12:00:00       56.0       72.0  \n",
       "2015-05-03 13:00:00       56.0       66.0  \n",
       "2015-05-03 14:00:00       73.0       64.0  \n",
       "2015-05-03 15:00:00       57.0       70.0  \n",
       "2015-05-03 16:00:00       72.0       66.0  \n",
       "2015-05-03 17:00:00       97.0       69.0  \n",
       "2015-05-03 18:00:00       97.0       77.0  \n",
       "2015-05-03 19:00:00       97.0       79.0  \n",
       "2015-05-03 20:00:00       98.0       85.0  \n",
       "2015-05-03 21:00:00       99.0       86.0  \n",
       "2015-05-03 22:00:00       99.0       94.0  \n",
       "2015-05-03 23:00:00       99.0       97.0  \n",
       "\n",
       "[24 rows x 37 columns]"
      ]
     },
     "execution_count": 50,
     "metadata": {},
     "output_type": "execute_result"
    }
   ],
   "source": [
    "train['2015-05-03'] # 이요오오옹오오오올~~~~"
   ]
  },
  {
   "cell_type": "raw",
   "metadata": {},
   "source": [
    "이렇게 수고스러운 방법 말고 더 쉬운 방법으로 해보자!!!\n",
    "문자열 -> datetime 객체로 만들어주는 pd.to_datetime( ) 메서드를 사용하면\n",
    "위처럼 긴 코드를 작성하지 않아도 된다."
   ]
  },
  {
   "cell_type": "raw",
   "metadata": {},
   "source": [
    "위에서 copy 해 놓은 train2 데이터를 통해 테스트 해볼 것이다."
   ]
  },
  {
   "cell_type": "code",
   "execution_count": 51,
   "metadata": {},
   "outputs": [
    {
     "data": {
      "text/html": [
       "<div>\n",
       "<style scoped>\n",
       "    .dataframe tbody tr th:only-of-type {\n",
       "        vertical-align: middle;\n",
       "    }\n",
       "\n",
       "    .dataframe tbody tr th {\n",
       "        vertical-align: top;\n",
       "    }\n",
       "\n",
       "    .dataframe thead th {\n",
       "        text-align: right;\n",
       "    }\n",
       "</style>\n",
       "<table border=\"1\" class=\"dataframe\">\n",
       "  <thead>\n",
       "    <tr style=\"text-align: right;\">\n",
       "      <th></th>\n",
       "      <th>datetime</th>\n",
       "      <th>Vancouver</th>\n",
       "      <th>Portland</th>\n",
       "      <th>San Francisco</th>\n",
       "      <th>Seattle</th>\n",
       "      <th>Los Angeles</th>\n",
       "      <th>San Diego</th>\n",
       "      <th>Las Vegas</th>\n",
       "      <th>Phoenix</th>\n",
       "      <th>Albuquerque</th>\n",
       "      <th>...</th>\n",
       "      <th>Philadelphia</th>\n",
       "      <th>New York</th>\n",
       "      <th>Montreal</th>\n",
       "      <th>Boston</th>\n",
       "      <th>Beersheba</th>\n",
       "      <th>Tel Aviv District</th>\n",
       "      <th>Eilat</th>\n",
       "      <th>Haifa</th>\n",
       "      <th>Nahariyya</th>\n",
       "      <th>Jerusalem</th>\n",
       "    </tr>\n",
       "  </thead>\n",
       "  <tbody>\n",
       "    <tr>\n",
       "      <th>0</th>\n",
       "      <td>2012-10-01 12:00:00</td>\n",
       "      <td>NaN</td>\n",
       "      <td>NaN</td>\n",
       "      <td>NaN</td>\n",
       "      <td>NaN</td>\n",
       "      <td>NaN</td>\n",
       "      <td>NaN</td>\n",
       "      <td>NaN</td>\n",
       "      <td>NaN</td>\n",
       "      <td>NaN</td>\n",
       "      <td>...</td>\n",
       "      <td>NaN</td>\n",
       "      <td>NaN</td>\n",
       "      <td>NaN</td>\n",
       "      <td>NaN</td>\n",
       "      <td>NaN</td>\n",
       "      <td>NaN</td>\n",
       "      <td>25.0</td>\n",
       "      <td>NaN</td>\n",
       "      <td>NaN</td>\n",
       "      <td>NaN</td>\n",
       "    </tr>\n",
       "    <tr>\n",
       "      <th>1</th>\n",
       "      <td>2012-10-01 13:00:00</td>\n",
       "      <td>76.0</td>\n",
       "      <td>81.0</td>\n",
       "      <td>88.0</td>\n",
       "      <td>81.0</td>\n",
       "      <td>88.0</td>\n",
       "      <td>82.0</td>\n",
       "      <td>22.0</td>\n",
       "      <td>23.0</td>\n",
       "      <td>50.0</td>\n",
       "      <td>...</td>\n",
       "      <td>71.0</td>\n",
       "      <td>58.0</td>\n",
       "      <td>93.0</td>\n",
       "      <td>68.0</td>\n",
       "      <td>50.0</td>\n",
       "      <td>63.0</td>\n",
       "      <td>22.0</td>\n",
       "      <td>51.0</td>\n",
       "      <td>51.0</td>\n",
       "      <td>50.0</td>\n",
       "    </tr>\n",
       "    <tr>\n",
       "      <th>2</th>\n",
       "      <td>2012-10-01 14:00:00</td>\n",
       "      <td>76.0</td>\n",
       "      <td>80.0</td>\n",
       "      <td>87.0</td>\n",
       "      <td>80.0</td>\n",
       "      <td>88.0</td>\n",
       "      <td>81.0</td>\n",
       "      <td>21.0</td>\n",
       "      <td>23.0</td>\n",
       "      <td>49.0</td>\n",
       "      <td>...</td>\n",
       "      <td>70.0</td>\n",
       "      <td>57.0</td>\n",
       "      <td>91.0</td>\n",
       "      <td>68.0</td>\n",
       "      <td>51.0</td>\n",
       "      <td>62.0</td>\n",
       "      <td>22.0</td>\n",
       "      <td>51.0</td>\n",
       "      <td>51.0</td>\n",
       "      <td>50.0</td>\n",
       "    </tr>\n",
       "    <tr>\n",
       "      <th>3</th>\n",
       "      <td>2012-10-01 15:00:00</td>\n",
       "      <td>76.0</td>\n",
       "      <td>80.0</td>\n",
       "      <td>86.0</td>\n",
       "      <td>80.0</td>\n",
       "      <td>88.0</td>\n",
       "      <td>81.0</td>\n",
       "      <td>21.0</td>\n",
       "      <td>23.0</td>\n",
       "      <td>49.0</td>\n",
       "      <td>...</td>\n",
       "      <td>70.0</td>\n",
       "      <td>57.0</td>\n",
       "      <td>87.0</td>\n",
       "      <td>68.0</td>\n",
       "      <td>51.0</td>\n",
       "      <td>62.0</td>\n",
       "      <td>22.0</td>\n",
       "      <td>51.0</td>\n",
       "      <td>51.0</td>\n",
       "      <td>50.0</td>\n",
       "    </tr>\n",
       "    <tr>\n",
       "      <th>4</th>\n",
       "      <td>2012-10-01 16:00:00</td>\n",
       "      <td>77.0</td>\n",
       "      <td>80.0</td>\n",
       "      <td>85.0</td>\n",
       "      <td>79.0</td>\n",
       "      <td>88.0</td>\n",
       "      <td>81.0</td>\n",
       "      <td>21.0</td>\n",
       "      <td>23.0</td>\n",
       "      <td>49.0</td>\n",
       "      <td>...</td>\n",
       "      <td>69.0</td>\n",
       "      <td>57.0</td>\n",
       "      <td>84.0</td>\n",
       "      <td>68.0</td>\n",
       "      <td>52.0</td>\n",
       "      <td>62.0</td>\n",
       "      <td>22.0</td>\n",
       "      <td>51.0</td>\n",
       "      <td>51.0</td>\n",
       "      <td>50.0</td>\n",
       "    </tr>\n",
       "  </tbody>\n",
       "</table>\n",
       "<p>5 rows × 37 columns</p>\n",
       "</div>"
      ],
      "text/plain": [
       "              datetime  Vancouver  Portland  San Francisco  Seattle  \\\n",
       "0  2012-10-01 12:00:00        NaN       NaN            NaN      NaN   \n",
       "1  2012-10-01 13:00:00       76.0      81.0           88.0     81.0   \n",
       "2  2012-10-01 14:00:00       76.0      80.0           87.0     80.0   \n",
       "3  2012-10-01 15:00:00       76.0      80.0           86.0     80.0   \n",
       "4  2012-10-01 16:00:00       77.0      80.0           85.0     79.0   \n",
       "\n",
       "   Los Angeles  San Diego  Las Vegas  Phoenix  Albuquerque    ...      \\\n",
       "0          NaN        NaN        NaN      NaN          NaN    ...       \n",
       "1         88.0       82.0       22.0     23.0         50.0    ...       \n",
       "2         88.0       81.0       21.0     23.0         49.0    ...       \n",
       "3         88.0       81.0       21.0     23.0         49.0    ...       \n",
       "4         88.0       81.0       21.0     23.0         49.0    ...       \n",
       "\n",
       "   Philadelphia  New York  Montreal  Boston  Beersheba  Tel Aviv District  \\\n",
       "0           NaN       NaN       NaN     NaN        NaN                NaN   \n",
       "1          71.0      58.0      93.0    68.0       50.0               63.0   \n",
       "2          70.0      57.0      91.0    68.0       51.0               62.0   \n",
       "3          70.0      57.0      87.0    68.0       51.0               62.0   \n",
       "4          69.0      57.0      84.0    68.0       52.0               62.0   \n",
       "\n",
       "   Eilat  Haifa  Nahariyya  Jerusalem  \n",
       "0   25.0    NaN        NaN        NaN  \n",
       "1   22.0   51.0       51.0       50.0  \n",
       "2   22.0   51.0       51.0       50.0  \n",
       "3   22.0   51.0       51.0       50.0  \n",
       "4   22.0   51.0       51.0       50.0  \n",
       "\n",
       "[5 rows x 37 columns]"
      ]
     },
     "execution_count": 51,
     "metadata": {},
     "output_type": "execute_result"
    }
   ],
   "source": [
    "train2.head()"
   ]
  },
  {
   "cell_type": "code",
   "execution_count": 52,
   "metadata": {},
   "outputs": [],
   "source": [
    "new_datetime2 = pd.to_datetime(train['datetime']) # datetime 객체로 변환 후 저장"
   ]
  },
  {
   "cell_type": "code",
   "execution_count": 53,
   "metadata": {},
   "outputs": [],
   "source": [
    "train2.index = new_datetime2"
   ]
  },
  {
   "cell_type": "code",
   "execution_count": 54,
   "metadata": {},
   "outputs": [
    {
     "data": {
      "text/html": [
       "<div>\n",
       "<style scoped>\n",
       "    .dataframe tbody tr th:only-of-type {\n",
       "        vertical-align: middle;\n",
       "    }\n",
       "\n",
       "    .dataframe tbody tr th {\n",
       "        vertical-align: top;\n",
       "    }\n",
       "\n",
       "    .dataframe thead th {\n",
       "        text-align: right;\n",
       "    }\n",
       "</style>\n",
       "<table border=\"1\" class=\"dataframe\">\n",
       "  <thead>\n",
       "    <tr style=\"text-align: right;\">\n",
       "      <th></th>\n",
       "      <th>datetime</th>\n",
       "      <th>Vancouver</th>\n",
       "      <th>Portland</th>\n",
       "      <th>San Francisco</th>\n",
       "      <th>Seattle</th>\n",
       "      <th>Los Angeles</th>\n",
       "      <th>San Diego</th>\n",
       "      <th>Las Vegas</th>\n",
       "      <th>Phoenix</th>\n",
       "      <th>Albuquerque</th>\n",
       "      <th>...</th>\n",
       "      <th>Philadelphia</th>\n",
       "      <th>New York</th>\n",
       "      <th>Montreal</th>\n",
       "      <th>Boston</th>\n",
       "      <th>Beersheba</th>\n",
       "      <th>Tel Aviv District</th>\n",
       "      <th>Eilat</th>\n",
       "      <th>Haifa</th>\n",
       "      <th>Nahariyya</th>\n",
       "      <th>Jerusalem</th>\n",
       "    </tr>\n",
       "    <tr>\n",
       "      <th>datetime</th>\n",
       "      <th></th>\n",
       "      <th></th>\n",
       "      <th></th>\n",
       "      <th></th>\n",
       "      <th></th>\n",
       "      <th></th>\n",
       "      <th></th>\n",
       "      <th></th>\n",
       "      <th></th>\n",
       "      <th></th>\n",
       "      <th></th>\n",
       "      <th></th>\n",
       "      <th></th>\n",
       "      <th></th>\n",
       "      <th></th>\n",
       "      <th></th>\n",
       "      <th></th>\n",
       "      <th></th>\n",
       "      <th></th>\n",
       "      <th></th>\n",
       "      <th></th>\n",
       "    </tr>\n",
       "  </thead>\n",
       "  <tbody>\n",
       "    <tr>\n",
       "      <th>2015-02-01 00:00:00</th>\n",
       "      <td>2015-02-01 00:00:00</td>\n",
       "      <td>100.0</td>\n",
       "      <td>81.0</td>\n",
       "      <td>73.0</td>\n",
       "      <td>99.0</td>\n",
       "      <td>46.0</td>\n",
       "      <td>70.0</td>\n",
       "      <td>82.0</td>\n",
       "      <td>95.0</td>\n",
       "      <td>86.0</td>\n",
       "      <td>...</td>\n",
       "      <td>70.0</td>\n",
       "      <td>74.0</td>\n",
       "      <td>67.0</td>\n",
       "      <td>100.0</td>\n",
       "      <td>83.0</td>\n",
       "      <td>77.0</td>\n",
       "      <td>100.0</td>\n",
       "      <td>100.0</td>\n",
       "      <td>97.0</td>\n",
       "      <td>91.0</td>\n",
       "    </tr>\n",
       "    <tr>\n",
       "      <th>2015-02-01 01:00:00</th>\n",
       "      <td>2015-02-01 01:00:00</td>\n",
       "      <td>100.0</td>\n",
       "      <td>79.0</td>\n",
       "      <td>74.0</td>\n",
       "      <td>96.0</td>\n",
       "      <td>42.0</td>\n",
       "      <td>71.0</td>\n",
       "      <td>73.0</td>\n",
       "      <td>95.0</td>\n",
       "      <td>90.0</td>\n",
       "      <td>...</td>\n",
       "      <td>71.0</td>\n",
       "      <td>74.0</td>\n",
       "      <td>68.0</td>\n",
       "      <td>100.0</td>\n",
       "      <td>82.0</td>\n",
       "      <td>79.0</td>\n",
       "      <td>100.0</td>\n",
       "      <td>100.0</td>\n",
       "      <td>100.0</td>\n",
       "      <td>93.0</td>\n",
       "    </tr>\n",
       "    <tr>\n",
       "      <th>2015-02-01 02:00:00</th>\n",
       "      <td>2015-02-01 02:00:00</td>\n",
       "      <td>100.0</td>\n",
       "      <td>80.0</td>\n",
       "      <td>75.0</td>\n",
       "      <td>97.0</td>\n",
       "      <td>46.0</td>\n",
       "      <td>72.0</td>\n",
       "      <td>73.0</td>\n",
       "      <td>92.0</td>\n",
       "      <td>81.0</td>\n",
       "      <td>...</td>\n",
       "      <td>73.0</td>\n",
       "      <td>76.0</td>\n",
       "      <td>68.0</td>\n",
       "      <td>100.0</td>\n",
       "      <td>82.0</td>\n",
       "      <td>80.0</td>\n",
       "      <td>100.0</td>\n",
       "      <td>100.0</td>\n",
       "      <td>100.0</td>\n",
       "      <td>90.0</td>\n",
       "    </tr>\n",
       "    <tr>\n",
       "      <th>2015-02-01 03:00:00</th>\n",
       "      <td>2015-02-01 03:00:00</td>\n",
       "      <td>100.0</td>\n",
       "      <td>83.0</td>\n",
       "      <td>82.0</td>\n",
       "      <td>96.0</td>\n",
       "      <td>50.0</td>\n",
       "      <td>75.0</td>\n",
       "      <td>76.0</td>\n",
       "      <td>92.0</td>\n",
       "      <td>88.0</td>\n",
       "      <td>...</td>\n",
       "      <td>75.0</td>\n",
       "      <td>76.0</td>\n",
       "      <td>68.0</td>\n",
       "      <td>100.0</td>\n",
       "      <td>82.0</td>\n",
       "      <td>81.0</td>\n",
       "      <td>100.0</td>\n",
       "      <td>100.0</td>\n",
       "      <td>100.0</td>\n",
       "      <td>89.0</td>\n",
       "    </tr>\n",
       "    <tr>\n",
       "      <th>2015-02-01 04:00:00</th>\n",
       "      <td>2015-02-01 04:00:00</td>\n",
       "      <td>100.0</td>\n",
       "      <td>84.0</td>\n",
       "      <td>81.0</td>\n",
       "      <td>98.0</td>\n",
       "      <td>54.0</td>\n",
       "      <td>76.0</td>\n",
       "      <td>75.0</td>\n",
       "      <td>89.0</td>\n",
       "      <td>74.0</td>\n",
       "      <td>...</td>\n",
       "      <td>77.0</td>\n",
       "      <td>76.0</td>\n",
       "      <td>72.0</td>\n",
       "      <td>100.0</td>\n",
       "      <td>83.0</td>\n",
       "      <td>81.0</td>\n",
       "      <td>100.0</td>\n",
       "      <td>100.0</td>\n",
       "      <td>93.0</td>\n",
       "      <td>87.0</td>\n",
       "    </tr>\n",
       "    <tr>\n",
       "      <th>2015-02-01 05:00:00</th>\n",
       "      <td>2015-02-01 05:00:00</td>\n",
       "      <td>100.0</td>\n",
       "      <td>86.0</td>\n",
       "      <td>87.0</td>\n",
       "      <td>97.0</td>\n",
       "      <td>58.0</td>\n",
       "      <td>79.0</td>\n",
       "      <td>77.0</td>\n",
       "      <td>88.0</td>\n",
       "      <td>75.0</td>\n",
       "      <td>...</td>\n",
       "      <td>79.0</td>\n",
       "      <td>83.0</td>\n",
       "      <td>78.0</td>\n",
       "      <td>100.0</td>\n",
       "      <td>83.0</td>\n",
       "      <td>85.0</td>\n",
       "      <td>100.0</td>\n",
       "      <td>100.0</td>\n",
       "      <td>93.0</td>\n",
       "      <td>85.0</td>\n",
       "    </tr>\n",
       "    <tr>\n",
       "      <th>2015-02-01 06:00:00</th>\n",
       "      <td>2015-02-01 06:00:00</td>\n",
       "      <td>100.0</td>\n",
       "      <td>86.0</td>\n",
       "      <td>87.0</td>\n",
       "      <td>99.0</td>\n",
       "      <td>60.0</td>\n",
       "      <td>78.0</td>\n",
       "      <td>73.0</td>\n",
       "      <td>87.0</td>\n",
       "      <td>79.0</td>\n",
       "      <td>...</td>\n",
       "      <td>79.0</td>\n",
       "      <td>83.0</td>\n",
       "      <td>80.0</td>\n",
       "      <td>100.0</td>\n",
       "      <td>83.0</td>\n",
       "      <td>83.0</td>\n",
       "      <td>100.0</td>\n",
       "      <td>100.0</td>\n",
       "      <td>93.0</td>\n",
       "      <td>84.0</td>\n",
       "    </tr>\n",
       "    <tr>\n",
       "      <th>2015-02-01 07:00:00</th>\n",
       "      <td>2015-02-01 07:00:00</td>\n",
       "      <td>100.0</td>\n",
       "      <td>89.0</td>\n",
       "      <td>94.0</td>\n",
       "      <td>97.0</td>\n",
       "      <td>64.0</td>\n",
       "      <td>82.0</td>\n",
       "      <td>77.0</td>\n",
       "      <td>86.0</td>\n",
       "      <td>80.0</td>\n",
       "      <td>...</td>\n",
       "      <td>81.0</td>\n",
       "      <td>83.0</td>\n",
       "      <td>81.0</td>\n",
       "      <td>100.0</td>\n",
       "      <td>85.0</td>\n",
       "      <td>53.0</td>\n",
       "      <td>100.0</td>\n",
       "      <td>99.0</td>\n",
       "      <td>52.0</td>\n",
       "      <td>83.0</td>\n",
       "    </tr>\n",
       "    <tr>\n",
       "      <th>2015-02-01 08:00:00</th>\n",
       "      <td>2015-02-01 08:00:00</td>\n",
       "      <td>100.0</td>\n",
       "      <td>89.0</td>\n",
       "      <td>96.0</td>\n",
       "      <td>98.0</td>\n",
       "      <td>67.0</td>\n",
       "      <td>82.0</td>\n",
       "      <td>75.0</td>\n",
       "      <td>86.0</td>\n",
       "      <td>83.0</td>\n",
       "      <td>...</td>\n",
       "      <td>82.0</td>\n",
       "      <td>76.0</td>\n",
       "      <td>81.0</td>\n",
       "      <td>100.0</td>\n",
       "      <td>85.0</td>\n",
       "      <td>36.0</td>\n",
       "      <td>100.0</td>\n",
       "      <td>99.0</td>\n",
       "      <td>52.0</td>\n",
       "      <td>82.0</td>\n",
       "    </tr>\n",
       "    <tr>\n",
       "      <th>2015-02-01 09:00:00</th>\n",
       "      <td>2015-02-01 09:00:00</td>\n",
       "      <td>100.0</td>\n",
       "      <td>89.0</td>\n",
       "      <td>95.0</td>\n",
       "      <td>98.0</td>\n",
       "      <td>68.0</td>\n",
       "      <td>80.0</td>\n",
       "      <td>77.0</td>\n",
       "      <td>87.0</td>\n",
       "      <td>72.0</td>\n",
       "      <td>...</td>\n",
       "      <td>78.0</td>\n",
       "      <td>76.0</td>\n",
       "      <td>82.0</td>\n",
       "      <td>100.0</td>\n",
       "      <td>85.0</td>\n",
       "      <td>26.0</td>\n",
       "      <td>100.0</td>\n",
       "      <td>99.0</td>\n",
       "      <td>52.0</td>\n",
       "      <td>82.0</td>\n",
       "    </tr>\n",
       "    <tr>\n",
       "      <th>2015-02-01 10:00:00</th>\n",
       "      <td>2015-02-01 10:00:00</td>\n",
       "      <td>100.0</td>\n",
       "      <td>90.0</td>\n",
       "      <td>98.0</td>\n",
       "      <td>100.0</td>\n",
       "      <td>71.0</td>\n",
       "      <td>81.0</td>\n",
       "      <td>74.0</td>\n",
       "      <td>85.0</td>\n",
       "      <td>80.0</td>\n",
       "      <td>...</td>\n",
       "      <td>80.0</td>\n",
       "      <td>76.0</td>\n",
       "      <td>82.0</td>\n",
       "      <td>100.0</td>\n",
       "      <td>77.0</td>\n",
       "      <td>31.0</td>\n",
       "      <td>93.0</td>\n",
       "      <td>84.0</td>\n",
       "      <td>44.0</td>\n",
       "      <td>80.0</td>\n",
       "    </tr>\n",
       "    <tr>\n",
       "      <th>2015-02-01 11:00:00</th>\n",
       "      <td>2015-02-01 11:00:00</td>\n",
       "      <td>100.0</td>\n",
       "      <td>90.0</td>\n",
       "      <td>98.0</td>\n",
       "      <td>100.0</td>\n",
       "      <td>72.0</td>\n",
       "      <td>80.0</td>\n",
       "      <td>74.0</td>\n",
       "      <td>86.0</td>\n",
       "      <td>74.0</td>\n",
       "      <td>...</td>\n",
       "      <td>77.0</td>\n",
       "      <td>79.0</td>\n",
       "      <td>83.0</td>\n",
       "      <td>100.0</td>\n",
       "      <td>77.0</td>\n",
       "      <td>31.0</td>\n",
       "      <td>93.0</td>\n",
       "      <td>84.0</td>\n",
       "      <td>44.0</td>\n",
       "      <td>80.0</td>\n",
       "    </tr>\n",
       "    <tr>\n",
       "      <th>2015-02-01 12:00:00</th>\n",
       "      <td>2015-02-01 12:00:00</td>\n",
       "      <td>100.0</td>\n",
       "      <td>91.0</td>\n",
       "      <td>98.0</td>\n",
       "      <td>100.0</td>\n",
       "      <td>73.0</td>\n",
       "      <td>80.0</td>\n",
       "      <td>71.0</td>\n",
       "      <td>88.0</td>\n",
       "      <td>77.0</td>\n",
       "      <td>...</td>\n",
       "      <td>81.0</td>\n",
       "      <td>79.0</td>\n",
       "      <td>83.0</td>\n",
       "      <td>100.0</td>\n",
       "      <td>77.0</td>\n",
       "      <td>32.0</td>\n",
       "      <td>93.0</td>\n",
       "      <td>84.0</td>\n",
       "      <td>44.0</td>\n",
       "      <td>81.0</td>\n",
       "    </tr>\n",
       "    <tr>\n",
       "      <th>2015-02-01 13:00:00</th>\n",
       "      <td>2015-02-01 13:00:00</td>\n",
       "      <td>100.0</td>\n",
       "      <td>91.0</td>\n",
       "      <td>98.0</td>\n",
       "      <td>100.0</td>\n",
       "      <td>74.0</td>\n",
       "      <td>78.0</td>\n",
       "      <td>73.0</td>\n",
       "      <td>89.0</td>\n",
       "      <td>68.0</td>\n",
       "      <td>...</td>\n",
       "      <td>76.0</td>\n",
       "      <td>79.0</td>\n",
       "      <td>80.0</td>\n",
       "      <td>100.0</td>\n",
       "      <td>76.0</td>\n",
       "      <td>32.0</td>\n",
       "      <td>92.0</td>\n",
       "      <td>84.0</td>\n",
       "      <td>45.0</td>\n",
       "      <td>80.0</td>\n",
       "    </tr>\n",
       "    <tr>\n",
       "      <th>2015-02-01 14:00:00</th>\n",
       "      <td>2015-02-01 14:00:00</td>\n",
       "      <td>100.0</td>\n",
       "      <td>91.0</td>\n",
       "      <td>98.0</td>\n",
       "      <td>100.0</td>\n",
       "      <td>75.0</td>\n",
       "      <td>78.0</td>\n",
       "      <td>71.0</td>\n",
       "      <td>90.0</td>\n",
       "      <td>67.0</td>\n",
       "      <td>...</td>\n",
       "      <td>78.0</td>\n",
       "      <td>82.0</td>\n",
       "      <td>62.0</td>\n",
       "      <td>100.0</td>\n",
       "      <td>72.0</td>\n",
       "      <td>43.0</td>\n",
       "      <td>90.0</td>\n",
       "      <td>91.0</td>\n",
       "      <td>72.0</td>\n",
       "      <td>80.0</td>\n",
       "    </tr>\n",
       "    <tr>\n",
       "      <th>2015-02-01 15:00:00</th>\n",
       "      <td>2015-02-01 15:00:00</td>\n",
       "      <td>100.0</td>\n",
       "      <td>95.0</td>\n",
       "      <td>90.0</td>\n",
       "      <td>100.0</td>\n",
       "      <td>58.0</td>\n",
       "      <td>67.0</td>\n",
       "      <td>66.0</td>\n",
       "      <td>93.0</td>\n",
       "      <td>84.0</td>\n",
       "      <td>...</td>\n",
       "      <td>79.0</td>\n",
       "      <td>81.0</td>\n",
       "      <td>61.0</td>\n",
       "      <td>100.0</td>\n",
       "      <td>72.0</td>\n",
       "      <td>42.0</td>\n",
       "      <td>95.0</td>\n",
       "      <td>83.0</td>\n",
       "      <td>53.0</td>\n",
       "      <td>86.0</td>\n",
       "    </tr>\n",
       "    <tr>\n",
       "      <th>2015-02-01 16:00:00</th>\n",
       "      <td>2015-02-01 16:00:00</td>\n",
       "      <td>100.0</td>\n",
       "      <td>94.0</td>\n",
       "      <td>93.0</td>\n",
       "      <td>100.0</td>\n",
       "      <td>65.0</td>\n",
       "      <td>70.0</td>\n",
       "      <td>65.0</td>\n",
       "      <td>94.0</td>\n",
       "      <td>78.0</td>\n",
       "      <td>...</td>\n",
       "      <td>81.0</td>\n",
       "      <td>80.0</td>\n",
       "      <td>64.0</td>\n",
       "      <td>100.0</td>\n",
       "      <td>77.0</td>\n",
       "      <td>48.0</td>\n",
       "      <td>96.0</td>\n",
       "      <td>86.0</td>\n",
       "      <td>65.0</td>\n",
       "      <td>85.0</td>\n",
       "    </tr>\n",
       "    <tr>\n",
       "      <th>2015-02-01 17:00:00</th>\n",
       "      <td>2015-02-01 17:00:00</td>\n",
       "      <td>100.0</td>\n",
       "      <td>97.0</td>\n",
       "      <td>88.0</td>\n",
       "      <td>100.0</td>\n",
       "      <td>54.0</td>\n",
       "      <td>63.0</td>\n",
       "      <td>61.0</td>\n",
       "      <td>97.0</td>\n",
       "      <td>89.0</td>\n",
       "      <td>...</td>\n",
       "      <td>82.0</td>\n",
       "      <td>83.0</td>\n",
       "      <td>55.0</td>\n",
       "      <td>100.0</td>\n",
       "      <td>86.0</td>\n",
       "      <td>60.0</td>\n",
       "      <td>100.0</td>\n",
       "      <td>93.0</td>\n",
       "      <td>87.0</td>\n",
       "      <td>89.0</td>\n",
       "    </tr>\n",
       "    <tr>\n",
       "      <th>2015-02-01 18:00:00</th>\n",
       "      <td>2015-02-01 18:00:00</td>\n",
       "      <td>100.0</td>\n",
       "      <td>95.0</td>\n",
       "      <td>88.0</td>\n",
       "      <td>100.0</td>\n",
       "      <td>55.0</td>\n",
       "      <td>65.0</td>\n",
       "      <td>59.0</td>\n",
       "      <td>88.0</td>\n",
       "      <td>83.0</td>\n",
       "      <td>...</td>\n",
       "      <td>81.0</td>\n",
       "      <td>81.0</td>\n",
       "      <td>53.0</td>\n",
       "      <td>100.0</td>\n",
       "      <td>86.0</td>\n",
       "      <td>64.0</td>\n",
       "      <td>100.0</td>\n",
       "      <td>96.0</td>\n",
       "      <td>87.0</td>\n",
       "      <td>86.0</td>\n",
       "    </tr>\n",
       "    <tr>\n",
       "      <th>2015-02-01 19:00:00</th>\n",
       "      <td>2015-02-01 19:00:00</td>\n",
       "      <td>100.0</td>\n",
       "      <td>100.0</td>\n",
       "      <td>81.0</td>\n",
       "      <td>100.0</td>\n",
       "      <td>40.0</td>\n",
       "      <td>55.0</td>\n",
       "      <td>55.0</td>\n",
       "      <td>94.0</td>\n",
       "      <td>100.0</td>\n",
       "      <td>...</td>\n",
       "      <td>84.0</td>\n",
       "      <td>85.0</td>\n",
       "      <td>52.0</td>\n",
       "      <td>100.0</td>\n",
       "      <td>81.0</td>\n",
       "      <td>69.0</td>\n",
       "      <td>100.0</td>\n",
       "      <td>100.0</td>\n",
       "      <td>89.0</td>\n",
       "      <td>92.0</td>\n",
       "    </tr>\n",
       "    <tr>\n",
       "      <th>2015-02-01 20:00:00</th>\n",
       "      <td>2015-02-01 20:00:00</td>\n",
       "      <td>100.0</td>\n",
       "      <td>100.0</td>\n",
       "      <td>80.0</td>\n",
       "      <td>100.0</td>\n",
       "      <td>37.0</td>\n",
       "      <td>54.0</td>\n",
       "      <td>52.0</td>\n",
       "      <td>89.0</td>\n",
       "      <td>100.0</td>\n",
       "      <td>...</td>\n",
       "      <td>83.0</td>\n",
       "      <td>89.0</td>\n",
       "      <td>53.0</td>\n",
       "      <td>100.0</td>\n",
       "      <td>81.0</td>\n",
       "      <td>70.0</td>\n",
       "      <td>100.0</td>\n",
       "      <td>99.0</td>\n",
       "      <td>89.0</td>\n",
       "      <td>91.0</td>\n",
       "    </tr>\n",
       "    <tr>\n",
       "      <th>2015-02-01 21:00:00</th>\n",
       "      <td>2015-02-01 21:00:00</td>\n",
       "      <td>100.0</td>\n",
       "      <td>99.0</td>\n",
       "      <td>79.0</td>\n",
       "      <td>100.0</td>\n",
       "      <td>37.0</td>\n",
       "      <td>53.0</td>\n",
       "      <td>48.0</td>\n",
       "      <td>82.0</td>\n",
       "      <td>99.0</td>\n",
       "      <td>...</td>\n",
       "      <td>88.0</td>\n",
       "      <td>85.0</td>\n",
       "      <td>53.0</td>\n",
       "      <td>100.0</td>\n",
       "      <td>81.0</td>\n",
       "      <td>73.0</td>\n",
       "      <td>100.0</td>\n",
       "      <td>100.0</td>\n",
       "      <td>89.0</td>\n",
       "      <td>92.0</td>\n",
       "    </tr>\n",
       "    <tr>\n",
       "      <th>2015-02-01 22:00:00</th>\n",
       "      <td>2015-02-01 22:00:00</td>\n",
       "      <td>100.0</td>\n",
       "      <td>99.0</td>\n",
       "      <td>77.0</td>\n",
       "      <td>100.0</td>\n",
       "      <td>34.0</td>\n",
       "      <td>52.0</td>\n",
       "      <td>46.0</td>\n",
       "      <td>77.0</td>\n",
       "      <td>99.0</td>\n",
       "      <td>...</td>\n",
       "      <td>86.0</td>\n",
       "      <td>85.0</td>\n",
       "      <td>55.0</td>\n",
       "      <td>100.0</td>\n",
       "      <td>80.0</td>\n",
       "      <td>74.0</td>\n",
       "      <td>100.0</td>\n",
       "      <td>100.0</td>\n",
       "      <td>94.0</td>\n",
       "      <td>91.0</td>\n",
       "    </tr>\n",
       "    <tr>\n",
       "      <th>2015-02-01 23:00:00</th>\n",
       "      <td>2015-02-01 23:00:00</td>\n",
       "      <td>100.0</td>\n",
       "      <td>99.0</td>\n",
       "      <td>76.0</td>\n",
       "      <td>100.0</td>\n",
       "      <td>32.0</td>\n",
       "      <td>51.0</td>\n",
       "      <td>43.0</td>\n",
       "      <td>71.0</td>\n",
       "      <td>99.0</td>\n",
       "      <td>...</td>\n",
       "      <td>89.0</td>\n",
       "      <td>90.0</td>\n",
       "      <td>55.0</td>\n",
       "      <td>100.0</td>\n",
       "      <td>80.0</td>\n",
       "      <td>75.0</td>\n",
       "      <td>100.0</td>\n",
       "      <td>99.0</td>\n",
       "      <td>94.0</td>\n",
       "      <td>91.0</td>\n",
       "    </tr>\n",
       "    <tr>\n",
       "      <th>2015-02-02 00:00:00</th>\n",
       "      <td>2015-02-02 00:00:00</td>\n",
       "      <td>99.0</td>\n",
       "      <td>98.0</td>\n",
       "      <td>84.0</td>\n",
       "      <td>100.0</td>\n",
       "      <td>51.0</td>\n",
       "      <td>66.0</td>\n",
       "      <td>58.0</td>\n",
       "      <td>84.0</td>\n",
       "      <td>88.0</td>\n",
       "      <td>...</td>\n",
       "      <td>84.0</td>\n",
       "      <td>88.0</td>\n",
       "      <td>56.0</td>\n",
       "      <td>100.0</td>\n",
       "      <td>79.0</td>\n",
       "      <td>75.0</td>\n",
       "      <td>100.0</td>\n",
       "      <td>99.0</td>\n",
       "      <td>94.0</td>\n",
       "      <td>88.0</td>\n",
       "    </tr>\n",
       "    <tr>\n",
       "      <th>2015-02-02 01:00:00</th>\n",
       "      <td>2015-02-02 01:00:00</td>\n",
       "      <td>99.0</td>\n",
       "      <td>98.0</td>\n",
       "      <td>80.0</td>\n",
       "      <td>100.0</td>\n",
       "      <td>43.0</td>\n",
       "      <td>60.0</td>\n",
       "      <td>48.0</td>\n",
       "      <td>72.0</td>\n",
       "      <td>91.0</td>\n",
       "      <td>...</td>\n",
       "      <td>89.0</td>\n",
       "      <td>97.0</td>\n",
       "      <td>56.0</td>\n",
       "      <td>100.0</td>\n",
       "      <td>79.0</td>\n",
       "      <td>84.0</td>\n",
       "      <td>100.0</td>\n",
       "      <td>95.0</td>\n",
       "      <td>95.0</td>\n",
       "      <td>89.0</td>\n",
       "    </tr>\n",
       "    <tr>\n",
       "      <th>2015-02-02 02:00:00</th>\n",
       "      <td>2015-02-02 02:00:00</td>\n",
       "      <td>99.0</td>\n",
       "      <td>98.0</td>\n",
       "      <td>85.0</td>\n",
       "      <td>100.0</td>\n",
       "      <td>55.0</td>\n",
       "      <td>69.0</td>\n",
       "      <td>57.0</td>\n",
       "      <td>78.0</td>\n",
       "      <td>84.0</td>\n",
       "      <td>...</td>\n",
       "      <td>87.0</td>\n",
       "      <td>95.0</td>\n",
       "      <td>57.0</td>\n",
       "      <td>100.0</td>\n",
       "      <td>78.0</td>\n",
       "      <td>82.0</td>\n",
       "      <td>100.0</td>\n",
       "      <td>95.0</td>\n",
       "      <td>95.0</td>\n",
       "      <td>87.0</td>\n",
       "    </tr>\n",
       "    <tr>\n",
       "      <th>2015-02-02 03:00:00</th>\n",
       "      <td>2015-02-02 03:00:00</td>\n",
       "      <td>100.0</td>\n",
       "      <td>97.0</td>\n",
       "      <td>84.0</td>\n",
       "      <td>98.0</td>\n",
       "      <td>50.0</td>\n",
       "      <td>63.0</td>\n",
       "      <td>55.0</td>\n",
       "      <td>73.0</td>\n",
       "      <td>83.0</td>\n",
       "      <td>...</td>\n",
       "      <td>91.0</td>\n",
       "      <td>90.0</td>\n",
       "      <td>64.0</td>\n",
       "      <td>100.0</td>\n",
       "      <td>80.0</td>\n",
       "      <td>82.0</td>\n",
       "      <td>100.0</td>\n",
       "      <td>98.0</td>\n",
       "      <td>97.0</td>\n",
       "      <td>86.0</td>\n",
       "    </tr>\n",
       "    <tr>\n",
       "      <th>2015-02-02 04:00:00</th>\n",
       "      <td>2015-02-02 04:00:00</td>\n",
       "      <td>100.0</td>\n",
       "      <td>96.0</td>\n",
       "      <td>90.0</td>\n",
       "      <td>99.0</td>\n",
       "      <td>68.0</td>\n",
       "      <td>77.0</td>\n",
       "      <td>67.0</td>\n",
       "      <td>84.0</td>\n",
       "      <td>73.0</td>\n",
       "      <td>...</td>\n",
       "      <td>87.0</td>\n",
       "      <td>89.0</td>\n",
       "      <td>68.0</td>\n",
       "      <td>100.0</td>\n",
       "      <td>80.0</td>\n",
       "      <td>81.0</td>\n",
       "      <td>100.0</td>\n",
       "      <td>100.0</td>\n",
       "      <td>98.0</td>\n",
       "      <td>84.0</td>\n",
       "    </tr>\n",
       "    <tr>\n",
       "      <th>2015-02-02 05:00:00</th>\n",
       "      <td>2015-02-02 05:00:00</td>\n",
       "      <td>100.0</td>\n",
       "      <td>95.0</td>\n",
       "      <td>91.0</td>\n",
       "      <td>98.0</td>\n",
       "      <td>68.0</td>\n",
       "      <td>77.0</td>\n",
       "      <td>69.0</td>\n",
       "      <td>82.0</td>\n",
       "      <td>70.0</td>\n",
       "      <td>...</td>\n",
       "      <td>89.0</td>\n",
       "      <td>89.0</td>\n",
       "      <td>68.0</td>\n",
       "      <td>100.0</td>\n",
       "      <td>82.0</td>\n",
       "      <td>83.0</td>\n",
       "      <td>100.0</td>\n",
       "      <td>100.0</td>\n",
       "      <td>92.0</td>\n",
       "      <td>82.0</td>\n",
       "    </tr>\n",
       "    <tr>\n",
       "      <th>...</th>\n",
       "      <td>...</td>\n",
       "      <td>...</td>\n",
       "      <td>...</td>\n",
       "      <td>...</td>\n",
       "      <td>...</td>\n",
       "      <td>...</td>\n",
       "      <td>...</td>\n",
       "      <td>...</td>\n",
       "      <td>...</td>\n",
       "      <td>...</td>\n",
       "      <td>...</td>\n",
       "      <td>...</td>\n",
       "      <td>...</td>\n",
       "      <td>...</td>\n",
       "      <td>...</td>\n",
       "      <td>...</td>\n",
       "      <td>...</td>\n",
       "      <td>...</td>\n",
       "      <td>...</td>\n",
       "      <td>...</td>\n",
       "      <td>...</td>\n",
       "    </tr>\n",
       "    <tr>\n",
       "      <th>2015-02-27 18:00:00</th>\n",
       "      <td>2015-02-27 18:00:00</td>\n",
       "      <td>94.0</td>\n",
       "      <td>99.0</td>\n",
       "      <td>89.0</td>\n",
       "      <td>99.0</td>\n",
       "      <td>67.0</td>\n",
       "      <td>73.0</td>\n",
       "      <td>41.0</td>\n",
       "      <td>44.0</td>\n",
       "      <td>97.0</td>\n",
       "      <td>...</td>\n",
       "      <td>74.0</td>\n",
       "      <td>100.0</td>\n",
       "      <td>67.0</td>\n",
       "      <td>100.0</td>\n",
       "      <td>76.0</td>\n",
       "      <td>57.0</td>\n",
       "      <td>83.0</td>\n",
       "      <td>81.0</td>\n",
       "      <td>81.0</td>\n",
       "      <td>83.0</td>\n",
       "    </tr>\n",
       "    <tr>\n",
       "      <th>2015-02-27 19:00:00</th>\n",
       "      <td>2015-02-27 19:00:00</td>\n",
       "      <td>94.0</td>\n",
       "      <td>100.0</td>\n",
       "      <td>87.0</td>\n",
       "      <td>99.0</td>\n",
       "      <td>57.0</td>\n",
       "      <td>70.0</td>\n",
       "      <td>30.0</td>\n",
       "      <td>47.0</td>\n",
       "      <td>100.0</td>\n",
       "      <td>...</td>\n",
       "      <td>74.0</td>\n",
       "      <td>100.0</td>\n",
       "      <td>72.0</td>\n",
       "      <td>100.0</td>\n",
       "      <td>81.0</td>\n",
       "      <td>60.0</td>\n",
       "      <td>93.0</td>\n",
       "      <td>82.0</td>\n",
       "      <td>82.0</td>\n",
       "      <td>88.0</td>\n",
       "    </tr>\n",
       "    <tr>\n",
       "      <th>2015-02-27 20:00:00</th>\n",
       "      <td>2015-02-27 20:00:00</td>\n",
       "      <td>92.0</td>\n",
       "      <td>100.0</td>\n",
       "      <td>87.0</td>\n",
       "      <td>98.0</td>\n",
       "      <td>57.0</td>\n",
       "      <td>68.0</td>\n",
       "      <td>29.0</td>\n",
       "      <td>45.0</td>\n",
       "      <td>100.0</td>\n",
       "      <td>...</td>\n",
       "      <td>72.0</td>\n",
       "      <td>100.0</td>\n",
       "      <td>70.0</td>\n",
       "      <td>100.0</td>\n",
       "      <td>84.0</td>\n",
       "      <td>60.0</td>\n",
       "      <td>95.0</td>\n",
       "      <td>85.0</td>\n",
       "      <td>85.0</td>\n",
       "      <td>90.0</td>\n",
       "    </tr>\n",
       "    <tr>\n",
       "      <th>2015-02-27 21:00:00</th>\n",
       "      <td>2015-02-27 21:00:00</td>\n",
       "      <td>95.0</td>\n",
       "      <td>100.0</td>\n",
       "      <td>87.0</td>\n",
       "      <td>96.0</td>\n",
       "      <td>59.0</td>\n",
       "      <td>69.0</td>\n",
       "      <td>27.0</td>\n",
       "      <td>41.0</td>\n",
       "      <td>98.0</td>\n",
       "      <td>...</td>\n",
       "      <td>76.0</td>\n",
       "      <td>84.0</td>\n",
       "      <td>68.0</td>\n",
       "      <td>100.0</td>\n",
       "      <td>81.0</td>\n",
       "      <td>71.0</td>\n",
       "      <td>95.0</td>\n",
       "      <td>80.0</td>\n",
       "      <td>81.0</td>\n",
       "      <td>89.0</td>\n",
       "    </tr>\n",
       "    <tr>\n",
       "      <th>2015-02-27 22:00:00</th>\n",
       "      <td>2015-02-27 22:00:00</td>\n",
       "      <td>91.0</td>\n",
       "      <td>100.0</td>\n",
       "      <td>87.0</td>\n",
       "      <td>96.0</td>\n",
       "      <td>58.0</td>\n",
       "      <td>65.0</td>\n",
       "      <td>27.0</td>\n",
       "      <td>40.0</td>\n",
       "      <td>98.0</td>\n",
       "      <td>...</td>\n",
       "      <td>72.0</td>\n",
       "      <td>88.0</td>\n",
       "      <td>67.0</td>\n",
       "      <td>100.0</td>\n",
       "      <td>85.0</td>\n",
       "      <td>67.0</td>\n",
       "      <td>98.0</td>\n",
       "      <td>86.0</td>\n",
       "      <td>86.0</td>\n",
       "      <td>91.0</td>\n",
       "    </tr>\n",
       "    <tr>\n",
       "      <th>2015-02-27 23:00:00</th>\n",
       "      <td>2015-02-27 23:00:00</td>\n",
       "      <td>94.0</td>\n",
       "      <td>100.0</td>\n",
       "      <td>87.0</td>\n",
       "      <td>95.0</td>\n",
       "      <td>59.0</td>\n",
       "      <td>64.0</td>\n",
       "      <td>25.0</td>\n",
       "      <td>37.0</td>\n",
       "      <td>97.0</td>\n",
       "      <td>...</td>\n",
       "      <td>74.0</td>\n",
       "      <td>71.0</td>\n",
       "      <td>64.0</td>\n",
       "      <td>100.0</td>\n",
       "      <td>84.0</td>\n",
       "      <td>82.0</td>\n",
       "      <td>99.0</td>\n",
       "      <td>82.0</td>\n",
       "      <td>84.0</td>\n",
       "      <td>91.0</td>\n",
       "    </tr>\n",
       "    <tr>\n",
       "      <th>2015-02-28 00:00:00</th>\n",
       "      <td>2015-02-28 00:00:00</td>\n",
       "      <td>94.0</td>\n",
       "      <td>94.0</td>\n",
       "      <td>90.0</td>\n",
       "      <td>98.0</td>\n",
       "      <td>68.0</td>\n",
       "      <td>80.0</td>\n",
       "      <td>36.0</td>\n",
       "      <td>43.0</td>\n",
       "      <td>96.0</td>\n",
       "      <td>...</td>\n",
       "      <td>68.0</td>\n",
       "      <td>71.0</td>\n",
       "      <td>64.0</td>\n",
       "      <td>100.0</td>\n",
       "      <td>84.0</td>\n",
       "      <td>82.0</td>\n",
       "      <td>99.0</td>\n",
       "      <td>82.0</td>\n",
       "      <td>84.0</td>\n",
       "      <td>92.0</td>\n",
       "    </tr>\n",
       "    <tr>\n",
       "      <th>2015-02-28 01:00:00</th>\n",
       "      <td>2015-02-28 01:00:00</td>\n",
       "      <td>99.0</td>\n",
       "      <td>96.0</td>\n",
       "      <td>89.0</td>\n",
       "      <td>95.0</td>\n",
       "      <td>67.0</td>\n",
       "      <td>74.0</td>\n",
       "      <td>31.0</td>\n",
       "      <td>37.0</td>\n",
       "      <td>95.0</td>\n",
       "      <td>...</td>\n",
       "      <td>73.0</td>\n",
       "      <td>71.0</td>\n",
       "      <td>64.0</td>\n",
       "      <td>100.0</td>\n",
       "      <td>96.0</td>\n",
       "      <td>100.0</td>\n",
       "      <td>100.0</td>\n",
       "      <td>100.0</td>\n",
       "      <td>95.0</td>\n",
       "      <td>91.0</td>\n",
       "    </tr>\n",
       "    <tr>\n",
       "      <th>2015-02-28 02:00:00</th>\n",
       "      <td>2015-02-28 02:00:00</td>\n",
       "      <td>99.0</td>\n",
       "      <td>93.0</td>\n",
       "      <td>91.0</td>\n",
       "      <td>96.0</td>\n",
       "      <td>73.0</td>\n",
       "      <td>84.0</td>\n",
       "      <td>38.0</td>\n",
       "      <td>40.0</td>\n",
       "      <td>94.0</td>\n",
       "      <td>...</td>\n",
       "      <td>70.0</td>\n",
       "      <td>74.0</td>\n",
       "      <td>64.0</td>\n",
       "      <td>100.0</td>\n",
       "      <td>96.0</td>\n",
       "      <td>100.0</td>\n",
       "      <td>100.0</td>\n",
       "      <td>100.0</td>\n",
       "      <td>95.0</td>\n",
       "      <td>92.0</td>\n",
       "    </tr>\n",
       "    <tr>\n",
       "      <th>2015-02-28 03:00:00</th>\n",
       "      <td>2015-02-28 03:00:00</td>\n",
       "      <td>99.0</td>\n",
       "      <td>91.0</td>\n",
       "      <td>91.0</td>\n",
       "      <td>95.0</td>\n",
       "      <td>75.0</td>\n",
       "      <td>80.0</td>\n",
       "      <td>35.0</td>\n",
       "      <td>42.0</td>\n",
       "      <td>95.0</td>\n",
       "      <td>...</td>\n",
       "      <td>75.0</td>\n",
       "      <td>74.0</td>\n",
       "      <td>64.0</td>\n",
       "      <td>100.0</td>\n",
       "      <td>96.0</td>\n",
       "      <td>100.0</td>\n",
       "      <td>100.0</td>\n",
       "      <td>100.0</td>\n",
       "      <td>95.0</td>\n",
       "      <td>91.0</td>\n",
       "    </tr>\n",
       "    <tr>\n",
       "      <th>2015-02-28 04:00:00</th>\n",
       "      <td>2015-02-28 04:00:00</td>\n",
       "      <td>98.0</td>\n",
       "      <td>87.0</td>\n",
       "      <td>93.0</td>\n",
       "      <td>98.0</td>\n",
       "      <td>82.0</td>\n",
       "      <td>95.0</td>\n",
       "      <td>46.0</td>\n",
       "      <td>45.0</td>\n",
       "      <td>93.0</td>\n",
       "      <td>...</td>\n",
       "      <td>69.0</td>\n",
       "      <td>74.0</td>\n",
       "      <td>65.0</td>\n",
       "      <td>100.0</td>\n",
       "      <td>90.0</td>\n",
       "      <td>100.0</td>\n",
       "      <td>100.0</td>\n",
       "      <td>100.0</td>\n",
       "      <td>96.0</td>\n",
       "      <td>92.0</td>\n",
       "    </tr>\n",
       "    <tr>\n",
       "      <th>2015-02-28 05:00:00</th>\n",
       "      <td>2015-02-28 05:00:00</td>\n",
       "      <td>98.0</td>\n",
       "      <td>84.0</td>\n",
       "      <td>94.0</td>\n",
       "      <td>97.0</td>\n",
       "      <td>85.0</td>\n",
       "      <td>96.0</td>\n",
       "      <td>46.0</td>\n",
       "      <td>47.0</td>\n",
       "      <td>94.0</td>\n",
       "      <td>...</td>\n",
       "      <td>72.0</td>\n",
       "      <td>72.0</td>\n",
       "      <td>65.0</td>\n",
       "      <td>100.0</td>\n",
       "      <td>90.0</td>\n",
       "      <td>100.0</td>\n",
       "      <td>100.0</td>\n",
       "      <td>100.0</td>\n",
       "      <td>96.0</td>\n",
       "      <td>92.0</td>\n",
       "    </tr>\n",
       "    <tr>\n",
       "      <th>2015-02-28 06:00:00</th>\n",
       "      <td>2015-02-28 06:00:00</td>\n",
       "      <td>98.0</td>\n",
       "      <td>81.0</td>\n",
       "      <td>95.0</td>\n",
       "      <td>96.0</td>\n",
       "      <td>88.0</td>\n",
       "      <td>96.0</td>\n",
       "      <td>48.0</td>\n",
       "      <td>55.0</td>\n",
       "      <td>94.0</td>\n",
       "      <td>...</td>\n",
       "      <td>64.0</td>\n",
       "      <td>72.0</td>\n",
       "      <td>65.0</td>\n",
       "      <td>100.0</td>\n",
       "      <td>90.0</td>\n",
       "      <td>100.0</td>\n",
       "      <td>100.0</td>\n",
       "      <td>100.0</td>\n",
       "      <td>96.0</td>\n",
       "      <td>86.0</td>\n",
       "    </tr>\n",
       "    <tr>\n",
       "      <th>2015-02-28 07:00:00</th>\n",
       "      <td>2015-02-28 07:00:00</td>\n",
       "      <td>100.0</td>\n",
       "      <td>79.0</td>\n",
       "      <td>95.0</td>\n",
       "      <td>96.0</td>\n",
       "      <td>91.0</td>\n",
       "      <td>98.0</td>\n",
       "      <td>49.0</td>\n",
       "      <td>56.0</td>\n",
       "      <td>94.0</td>\n",
       "      <td>...</td>\n",
       "      <td>70.0</td>\n",
       "      <td>72.0</td>\n",
       "      <td>70.0</td>\n",
       "      <td>100.0</td>\n",
       "      <td>96.0</td>\n",
       "      <td>97.0</td>\n",
       "      <td>100.0</td>\n",
       "      <td>97.0</td>\n",
       "      <td>82.0</td>\n",
       "      <td>88.0</td>\n",
       "    </tr>\n",
       "    <tr>\n",
       "      <th>2015-02-28 08:00:00</th>\n",
       "      <td>2015-02-28 08:00:00</td>\n",
       "      <td>100.0</td>\n",
       "      <td>76.0</td>\n",
       "      <td>96.0</td>\n",
       "      <td>95.0</td>\n",
       "      <td>94.0</td>\n",
       "      <td>98.0</td>\n",
       "      <td>50.0</td>\n",
       "      <td>61.0</td>\n",
       "      <td>95.0</td>\n",
       "      <td>...</td>\n",
       "      <td>66.0</td>\n",
       "      <td>75.0</td>\n",
       "      <td>70.0</td>\n",
       "      <td>100.0</td>\n",
       "      <td>96.0</td>\n",
       "      <td>97.0</td>\n",
       "      <td>100.0</td>\n",
       "      <td>97.0</td>\n",
       "      <td>82.0</td>\n",
       "      <td>84.0</td>\n",
       "    </tr>\n",
       "    <tr>\n",
       "      <th>2015-02-28 09:00:00</th>\n",
       "      <td>2015-02-28 09:00:00</td>\n",
       "      <td>100.0</td>\n",
       "      <td>74.0</td>\n",
       "      <td>97.0</td>\n",
       "      <td>95.0</td>\n",
       "      <td>93.0</td>\n",
       "      <td>97.0</td>\n",
       "      <td>53.0</td>\n",
       "      <td>67.0</td>\n",
       "      <td>94.0</td>\n",
       "      <td>...</td>\n",
       "      <td>65.0</td>\n",
       "      <td>75.0</td>\n",
       "      <td>70.0</td>\n",
       "      <td>100.0</td>\n",
       "      <td>96.0</td>\n",
       "      <td>97.0</td>\n",
       "      <td>100.0</td>\n",
       "      <td>97.0</td>\n",
       "      <td>82.0</td>\n",
       "      <td>83.0</td>\n",
       "    </tr>\n",
       "    <tr>\n",
       "      <th>2015-02-28 10:00:00</th>\n",
       "      <td>2015-02-28 10:00:00</td>\n",
       "      <td>100.0</td>\n",
       "      <td>71.0</td>\n",
       "      <td>98.0</td>\n",
       "      <td>94.0</td>\n",
       "      <td>96.0</td>\n",
       "      <td>98.0</td>\n",
       "      <td>55.0</td>\n",
       "      <td>73.0</td>\n",
       "      <td>95.0</td>\n",
       "      <td>...</td>\n",
       "      <td>60.0</td>\n",
       "      <td>75.0</td>\n",
       "      <td>61.0</td>\n",
       "      <td>100.0</td>\n",
       "      <td>85.0</td>\n",
       "      <td>96.0</td>\n",
       "      <td>92.0</td>\n",
       "      <td>96.0</td>\n",
       "      <td>63.0</td>\n",
       "      <td>78.0</td>\n",
       "    </tr>\n",
       "    <tr>\n",
       "      <th>2015-02-28 11:00:00</th>\n",
       "      <td>2015-02-28 11:00:00</td>\n",
       "      <td>100.0</td>\n",
       "      <td>69.0</td>\n",
       "      <td>99.0</td>\n",
       "      <td>94.0</td>\n",
       "      <td>97.0</td>\n",
       "      <td>97.0</td>\n",
       "      <td>57.0</td>\n",
       "      <td>79.0</td>\n",
       "      <td>95.0</td>\n",
       "      <td>...</td>\n",
       "      <td>58.0</td>\n",
       "      <td>73.0</td>\n",
       "      <td>61.0</td>\n",
       "      <td>100.0</td>\n",
       "      <td>85.0</td>\n",
       "      <td>96.0</td>\n",
       "      <td>92.0</td>\n",
       "      <td>96.0</td>\n",
       "      <td>63.0</td>\n",
       "      <td>76.0</td>\n",
       "    </tr>\n",
       "    <tr>\n",
       "      <th>2015-02-28 12:00:00</th>\n",
       "      <td>2015-02-28 12:00:00</td>\n",
       "      <td>100.0</td>\n",
       "      <td>68.0</td>\n",
       "      <td>98.0</td>\n",
       "      <td>95.0</td>\n",
       "      <td>96.0</td>\n",
       "      <td>97.0</td>\n",
       "      <td>55.0</td>\n",
       "      <td>78.0</td>\n",
       "      <td>95.0</td>\n",
       "      <td>...</td>\n",
       "      <td>64.0</td>\n",
       "      <td>73.0</td>\n",
       "      <td>61.0</td>\n",
       "      <td>100.0</td>\n",
       "      <td>85.0</td>\n",
       "      <td>96.0</td>\n",
       "      <td>92.0</td>\n",
       "      <td>96.0</td>\n",
       "      <td>63.0</td>\n",
       "      <td>75.0</td>\n",
       "    </tr>\n",
       "    <tr>\n",
       "      <th>2015-02-28 13:00:00</th>\n",
       "      <td>2015-02-28 13:00:00</td>\n",
       "      <td>100.0</td>\n",
       "      <td>66.0</td>\n",
       "      <td>100.0</td>\n",
       "      <td>94.0</td>\n",
       "      <td>97.0</td>\n",
       "      <td>96.0</td>\n",
       "      <td>59.0</td>\n",
       "      <td>86.0</td>\n",
       "      <td>95.0</td>\n",
       "      <td>...</td>\n",
       "      <td>59.0</td>\n",
       "      <td>73.0</td>\n",
       "      <td>80.0</td>\n",
       "      <td>100.0</td>\n",
       "      <td>71.0</td>\n",
       "      <td>95.0</td>\n",
       "      <td>87.0</td>\n",
       "      <td>95.0</td>\n",
       "      <td>73.0</td>\n",
       "      <td>72.0</td>\n",
       "    </tr>\n",
       "    <tr>\n",
       "      <th>2015-02-28 14:00:00</th>\n",
       "      <td>2015-02-28 14:00:00</td>\n",
       "      <td>100.0</td>\n",
       "      <td>65.0</td>\n",
       "      <td>100.0</td>\n",
       "      <td>95.0</td>\n",
       "      <td>96.0</td>\n",
       "      <td>96.0</td>\n",
       "      <td>58.0</td>\n",
       "      <td>88.0</td>\n",
       "      <td>95.0</td>\n",
       "      <td>...</td>\n",
       "      <td>62.0</td>\n",
       "      <td>74.0</td>\n",
       "      <td>80.0</td>\n",
       "      <td>100.0</td>\n",
       "      <td>50.0</td>\n",
       "      <td>90.0</td>\n",
       "      <td>87.0</td>\n",
       "      <td>90.0</td>\n",
       "      <td>73.0</td>\n",
       "      <td>71.0</td>\n",
       "    </tr>\n",
       "    <tr>\n",
       "      <th>2015-02-28 15:00:00</th>\n",
       "      <td>2015-02-28 15:00:00</td>\n",
       "      <td>100.0</td>\n",
       "      <td>63.0</td>\n",
       "      <td>97.0</td>\n",
       "      <td>93.0</td>\n",
       "      <td>85.0</td>\n",
       "      <td>95.0</td>\n",
       "      <td>47.0</td>\n",
       "      <td>76.0</td>\n",
       "      <td>97.0</td>\n",
       "      <td>...</td>\n",
       "      <td>64.0</td>\n",
       "      <td>73.0</td>\n",
       "      <td>78.0</td>\n",
       "      <td>100.0</td>\n",
       "      <td>51.0</td>\n",
       "      <td>88.0</td>\n",
       "      <td>86.0</td>\n",
       "      <td>90.0</td>\n",
       "      <td>74.0</td>\n",
       "      <td>77.0</td>\n",
       "    </tr>\n",
       "    <tr>\n",
       "      <th>2015-02-28 16:00:00</th>\n",
       "      <td>2015-02-28 16:00:00</td>\n",
       "      <td>100.0</td>\n",
       "      <td>62.0</td>\n",
       "      <td>98.0</td>\n",
       "      <td>94.0</td>\n",
       "      <td>88.0</td>\n",
       "      <td>95.0</td>\n",
       "      <td>50.0</td>\n",
       "      <td>82.0</td>\n",
       "      <td>97.0</td>\n",
       "      <td>...</td>\n",
       "      <td>67.0</td>\n",
       "      <td>73.0</td>\n",
       "      <td>66.0</td>\n",
       "      <td>100.0</td>\n",
       "      <td>79.0</td>\n",
       "      <td>64.0</td>\n",
       "      <td>86.0</td>\n",
       "      <td>100.0</td>\n",
       "      <td>98.0</td>\n",
       "      <td>73.0</td>\n",
       "    </tr>\n",
       "    <tr>\n",
       "      <th>2015-02-28 17:00:00</th>\n",
       "      <td>2015-02-28 17:00:00</td>\n",
       "      <td>100.0</td>\n",
       "      <td>60.0</td>\n",
       "      <td>96.0</td>\n",
       "      <td>93.0</td>\n",
       "      <td>81.0</td>\n",
       "      <td>94.0</td>\n",
       "      <td>42.0</td>\n",
       "      <td>74.0</td>\n",
       "      <td>98.0</td>\n",
       "      <td>...</td>\n",
       "      <td>69.0</td>\n",
       "      <td>77.0</td>\n",
       "      <td>63.0</td>\n",
       "      <td>100.0</td>\n",
       "      <td>79.0</td>\n",
       "      <td>69.0</td>\n",
       "      <td>86.0</td>\n",
       "      <td>100.0</td>\n",
       "      <td>95.0</td>\n",
       "      <td>76.0</td>\n",
       "    </tr>\n",
       "    <tr>\n",
       "      <th>2015-02-28 18:00:00</th>\n",
       "      <td>2015-02-28 18:00:00</td>\n",
       "      <td>99.0</td>\n",
       "      <td>59.0</td>\n",
       "      <td>95.0</td>\n",
       "      <td>89.0</td>\n",
       "      <td>80.0</td>\n",
       "      <td>91.0</td>\n",
       "      <td>42.0</td>\n",
       "      <td>75.0</td>\n",
       "      <td>97.0</td>\n",
       "      <td>...</td>\n",
       "      <td>66.0</td>\n",
       "      <td>77.0</td>\n",
       "      <td>62.0</td>\n",
       "      <td>100.0</td>\n",
       "      <td>79.0</td>\n",
       "      <td>69.0</td>\n",
       "      <td>86.0</td>\n",
       "      <td>100.0</td>\n",
       "      <td>95.0</td>\n",
       "      <td>83.0</td>\n",
       "    </tr>\n",
       "    <tr>\n",
       "      <th>2015-02-28 19:00:00</th>\n",
       "      <td>2015-02-28 19:00:00</td>\n",
       "      <td>98.0</td>\n",
       "      <td>57.0</td>\n",
       "      <td>93.0</td>\n",
       "      <td>89.0</td>\n",
       "      <td>70.0</td>\n",
       "      <td>91.0</td>\n",
       "      <td>32.0</td>\n",
       "      <td>65.0</td>\n",
       "      <td>99.0</td>\n",
       "      <td>...</td>\n",
       "      <td>70.0</td>\n",
       "      <td>77.0</td>\n",
       "      <td>61.0</td>\n",
       "      <td>100.0</td>\n",
       "      <td>90.0</td>\n",
       "      <td>75.0</td>\n",
       "      <td>100.0</td>\n",
       "      <td>100.0</td>\n",
       "      <td>95.0</td>\n",
       "      <td>85.0</td>\n",
       "    </tr>\n",
       "    <tr>\n",
       "      <th>2015-02-28 20:00:00</th>\n",
       "      <td>2015-02-28 20:00:00</td>\n",
       "      <td>98.0</td>\n",
       "      <td>55.0</td>\n",
       "      <td>92.0</td>\n",
       "      <td>86.0</td>\n",
       "      <td>67.0</td>\n",
       "      <td>89.0</td>\n",
       "      <td>29.0</td>\n",
       "      <td>63.0</td>\n",
       "      <td>98.0</td>\n",
       "      <td>...</td>\n",
       "      <td>69.0</td>\n",
       "      <td>69.0</td>\n",
       "      <td>60.0</td>\n",
       "      <td>100.0</td>\n",
       "      <td>90.0</td>\n",
       "      <td>78.0</td>\n",
       "      <td>100.0</td>\n",
       "      <td>100.0</td>\n",
       "      <td>95.0</td>\n",
       "      <td>91.0</td>\n",
       "    </tr>\n",
       "    <tr>\n",
       "      <th>2015-02-28 21:00:00</th>\n",
       "      <td>2015-02-28 21:00:00</td>\n",
       "      <td>98.0</td>\n",
       "      <td>53.0</td>\n",
       "      <td>91.0</td>\n",
       "      <td>81.0</td>\n",
       "      <td>79.0</td>\n",
       "      <td>89.0</td>\n",
       "      <td>29.0</td>\n",
       "      <td>59.0</td>\n",
       "      <td>98.0</td>\n",
       "      <td>...</td>\n",
       "      <td>70.0</td>\n",
       "      <td>69.0</td>\n",
       "      <td>60.0</td>\n",
       "      <td>100.0</td>\n",
       "      <td>90.0</td>\n",
       "      <td>79.0</td>\n",
       "      <td>100.0</td>\n",
       "      <td>100.0</td>\n",
       "      <td>95.0</td>\n",
       "      <td>88.0</td>\n",
       "    </tr>\n",
       "    <tr>\n",
       "      <th>2015-02-28 22:00:00</th>\n",
       "      <td>2015-02-28 22:00:00</td>\n",
       "      <td>92.0</td>\n",
       "      <td>52.0</td>\n",
       "      <td>90.0</td>\n",
       "      <td>79.0</td>\n",
       "      <td>71.0</td>\n",
       "      <td>86.0</td>\n",
       "      <td>26.0</td>\n",
       "      <td>58.0</td>\n",
       "      <td>97.0</td>\n",
       "      <td>...</td>\n",
       "      <td>68.0</td>\n",
       "      <td>69.0</td>\n",
       "      <td>63.0</td>\n",
       "      <td>100.0</td>\n",
       "      <td>89.0</td>\n",
       "      <td>82.0</td>\n",
       "      <td>100.0</td>\n",
       "      <td>100.0</td>\n",
       "      <td>93.0</td>\n",
       "      <td>97.0</td>\n",
       "    </tr>\n",
       "    <tr>\n",
       "      <th>2015-02-28 23:00:00</th>\n",
       "      <td>2015-02-28 23:00:00</td>\n",
       "      <td>92.0</td>\n",
       "      <td>50.0</td>\n",
       "      <td>88.0</td>\n",
       "      <td>75.0</td>\n",
       "      <td>77.0</td>\n",
       "      <td>85.0</td>\n",
       "      <td>25.0</td>\n",
       "      <td>54.0</td>\n",
       "      <td>97.0</td>\n",
       "      <td>...</td>\n",
       "      <td>69.0</td>\n",
       "      <td>79.0</td>\n",
       "      <td>67.0</td>\n",
       "      <td>100.0</td>\n",
       "      <td>89.0</td>\n",
       "      <td>83.0</td>\n",
       "      <td>100.0</td>\n",
       "      <td>100.0</td>\n",
       "      <td>93.0</td>\n",
       "      <td>97.0</td>\n",
       "    </tr>\n",
       "  </tbody>\n",
       "</table>\n",
       "<p>672 rows × 37 columns</p>\n",
       "</div>"
      ],
      "text/plain": [
       "                                datetime  Vancouver  Portland  San Francisco  \\\n",
       "datetime                                                                       \n",
       "2015-02-01 00:00:00  2015-02-01 00:00:00      100.0      81.0           73.0   \n",
       "2015-02-01 01:00:00  2015-02-01 01:00:00      100.0      79.0           74.0   \n",
       "2015-02-01 02:00:00  2015-02-01 02:00:00      100.0      80.0           75.0   \n",
       "2015-02-01 03:00:00  2015-02-01 03:00:00      100.0      83.0           82.0   \n",
       "2015-02-01 04:00:00  2015-02-01 04:00:00      100.0      84.0           81.0   \n",
       "2015-02-01 05:00:00  2015-02-01 05:00:00      100.0      86.0           87.0   \n",
       "2015-02-01 06:00:00  2015-02-01 06:00:00      100.0      86.0           87.0   \n",
       "2015-02-01 07:00:00  2015-02-01 07:00:00      100.0      89.0           94.0   \n",
       "2015-02-01 08:00:00  2015-02-01 08:00:00      100.0      89.0           96.0   \n",
       "2015-02-01 09:00:00  2015-02-01 09:00:00      100.0      89.0           95.0   \n",
       "2015-02-01 10:00:00  2015-02-01 10:00:00      100.0      90.0           98.0   \n",
       "2015-02-01 11:00:00  2015-02-01 11:00:00      100.0      90.0           98.0   \n",
       "2015-02-01 12:00:00  2015-02-01 12:00:00      100.0      91.0           98.0   \n",
       "2015-02-01 13:00:00  2015-02-01 13:00:00      100.0      91.0           98.0   \n",
       "2015-02-01 14:00:00  2015-02-01 14:00:00      100.0      91.0           98.0   \n",
       "2015-02-01 15:00:00  2015-02-01 15:00:00      100.0      95.0           90.0   \n",
       "2015-02-01 16:00:00  2015-02-01 16:00:00      100.0      94.0           93.0   \n",
       "2015-02-01 17:00:00  2015-02-01 17:00:00      100.0      97.0           88.0   \n",
       "2015-02-01 18:00:00  2015-02-01 18:00:00      100.0      95.0           88.0   \n",
       "2015-02-01 19:00:00  2015-02-01 19:00:00      100.0     100.0           81.0   \n",
       "2015-02-01 20:00:00  2015-02-01 20:00:00      100.0     100.0           80.0   \n",
       "2015-02-01 21:00:00  2015-02-01 21:00:00      100.0      99.0           79.0   \n",
       "2015-02-01 22:00:00  2015-02-01 22:00:00      100.0      99.0           77.0   \n",
       "2015-02-01 23:00:00  2015-02-01 23:00:00      100.0      99.0           76.0   \n",
       "2015-02-02 00:00:00  2015-02-02 00:00:00       99.0      98.0           84.0   \n",
       "2015-02-02 01:00:00  2015-02-02 01:00:00       99.0      98.0           80.0   \n",
       "2015-02-02 02:00:00  2015-02-02 02:00:00       99.0      98.0           85.0   \n",
       "2015-02-02 03:00:00  2015-02-02 03:00:00      100.0      97.0           84.0   \n",
       "2015-02-02 04:00:00  2015-02-02 04:00:00      100.0      96.0           90.0   \n",
       "2015-02-02 05:00:00  2015-02-02 05:00:00      100.0      95.0           91.0   \n",
       "...                                  ...        ...       ...            ...   \n",
       "2015-02-27 18:00:00  2015-02-27 18:00:00       94.0      99.0           89.0   \n",
       "2015-02-27 19:00:00  2015-02-27 19:00:00       94.0     100.0           87.0   \n",
       "2015-02-27 20:00:00  2015-02-27 20:00:00       92.0     100.0           87.0   \n",
       "2015-02-27 21:00:00  2015-02-27 21:00:00       95.0     100.0           87.0   \n",
       "2015-02-27 22:00:00  2015-02-27 22:00:00       91.0     100.0           87.0   \n",
       "2015-02-27 23:00:00  2015-02-27 23:00:00       94.0     100.0           87.0   \n",
       "2015-02-28 00:00:00  2015-02-28 00:00:00       94.0      94.0           90.0   \n",
       "2015-02-28 01:00:00  2015-02-28 01:00:00       99.0      96.0           89.0   \n",
       "2015-02-28 02:00:00  2015-02-28 02:00:00       99.0      93.0           91.0   \n",
       "2015-02-28 03:00:00  2015-02-28 03:00:00       99.0      91.0           91.0   \n",
       "2015-02-28 04:00:00  2015-02-28 04:00:00       98.0      87.0           93.0   \n",
       "2015-02-28 05:00:00  2015-02-28 05:00:00       98.0      84.0           94.0   \n",
       "2015-02-28 06:00:00  2015-02-28 06:00:00       98.0      81.0           95.0   \n",
       "2015-02-28 07:00:00  2015-02-28 07:00:00      100.0      79.0           95.0   \n",
       "2015-02-28 08:00:00  2015-02-28 08:00:00      100.0      76.0           96.0   \n",
       "2015-02-28 09:00:00  2015-02-28 09:00:00      100.0      74.0           97.0   \n",
       "2015-02-28 10:00:00  2015-02-28 10:00:00      100.0      71.0           98.0   \n",
       "2015-02-28 11:00:00  2015-02-28 11:00:00      100.0      69.0           99.0   \n",
       "2015-02-28 12:00:00  2015-02-28 12:00:00      100.0      68.0           98.0   \n",
       "2015-02-28 13:00:00  2015-02-28 13:00:00      100.0      66.0          100.0   \n",
       "2015-02-28 14:00:00  2015-02-28 14:00:00      100.0      65.0          100.0   \n",
       "2015-02-28 15:00:00  2015-02-28 15:00:00      100.0      63.0           97.0   \n",
       "2015-02-28 16:00:00  2015-02-28 16:00:00      100.0      62.0           98.0   \n",
       "2015-02-28 17:00:00  2015-02-28 17:00:00      100.0      60.0           96.0   \n",
       "2015-02-28 18:00:00  2015-02-28 18:00:00       99.0      59.0           95.0   \n",
       "2015-02-28 19:00:00  2015-02-28 19:00:00       98.0      57.0           93.0   \n",
       "2015-02-28 20:00:00  2015-02-28 20:00:00       98.0      55.0           92.0   \n",
       "2015-02-28 21:00:00  2015-02-28 21:00:00       98.0      53.0           91.0   \n",
       "2015-02-28 22:00:00  2015-02-28 22:00:00       92.0      52.0           90.0   \n",
       "2015-02-28 23:00:00  2015-02-28 23:00:00       92.0      50.0           88.0   \n",
       "\n",
       "                     Seattle  Los Angeles  San Diego  Las Vegas  Phoenix  \\\n",
       "datetime                                                                   \n",
       "2015-02-01 00:00:00     99.0         46.0       70.0       82.0     95.0   \n",
       "2015-02-01 01:00:00     96.0         42.0       71.0       73.0     95.0   \n",
       "2015-02-01 02:00:00     97.0         46.0       72.0       73.0     92.0   \n",
       "2015-02-01 03:00:00     96.0         50.0       75.0       76.0     92.0   \n",
       "2015-02-01 04:00:00     98.0         54.0       76.0       75.0     89.0   \n",
       "2015-02-01 05:00:00     97.0         58.0       79.0       77.0     88.0   \n",
       "2015-02-01 06:00:00     99.0         60.0       78.0       73.0     87.0   \n",
       "2015-02-01 07:00:00     97.0         64.0       82.0       77.0     86.0   \n",
       "2015-02-01 08:00:00     98.0         67.0       82.0       75.0     86.0   \n",
       "2015-02-01 09:00:00     98.0         68.0       80.0       77.0     87.0   \n",
       "2015-02-01 10:00:00    100.0         71.0       81.0       74.0     85.0   \n",
       "2015-02-01 11:00:00    100.0         72.0       80.0       74.0     86.0   \n",
       "2015-02-01 12:00:00    100.0         73.0       80.0       71.0     88.0   \n",
       "2015-02-01 13:00:00    100.0         74.0       78.0       73.0     89.0   \n",
       "2015-02-01 14:00:00    100.0         75.0       78.0       71.0     90.0   \n",
       "2015-02-01 15:00:00    100.0         58.0       67.0       66.0     93.0   \n",
       "2015-02-01 16:00:00    100.0         65.0       70.0       65.0     94.0   \n",
       "2015-02-01 17:00:00    100.0         54.0       63.0       61.0     97.0   \n",
       "2015-02-01 18:00:00    100.0         55.0       65.0       59.0     88.0   \n",
       "2015-02-01 19:00:00    100.0         40.0       55.0       55.0     94.0   \n",
       "2015-02-01 20:00:00    100.0         37.0       54.0       52.0     89.0   \n",
       "2015-02-01 21:00:00    100.0         37.0       53.0       48.0     82.0   \n",
       "2015-02-01 22:00:00    100.0         34.0       52.0       46.0     77.0   \n",
       "2015-02-01 23:00:00    100.0         32.0       51.0       43.0     71.0   \n",
       "2015-02-02 00:00:00    100.0         51.0       66.0       58.0     84.0   \n",
       "2015-02-02 01:00:00    100.0         43.0       60.0       48.0     72.0   \n",
       "2015-02-02 02:00:00    100.0         55.0       69.0       57.0     78.0   \n",
       "2015-02-02 03:00:00     98.0         50.0       63.0       55.0     73.0   \n",
       "2015-02-02 04:00:00     99.0         68.0       77.0       67.0     84.0   \n",
       "2015-02-02 05:00:00     98.0         68.0       77.0       69.0     82.0   \n",
       "...                      ...          ...        ...        ...      ...   \n",
       "2015-02-27 18:00:00     99.0         67.0       73.0       41.0     44.0   \n",
       "2015-02-27 19:00:00     99.0         57.0       70.0       30.0     47.0   \n",
       "2015-02-27 20:00:00     98.0         57.0       68.0       29.0     45.0   \n",
       "2015-02-27 21:00:00     96.0         59.0       69.0       27.0     41.0   \n",
       "2015-02-27 22:00:00     96.0         58.0       65.0       27.0     40.0   \n",
       "2015-02-27 23:00:00     95.0         59.0       64.0       25.0     37.0   \n",
       "2015-02-28 00:00:00     98.0         68.0       80.0       36.0     43.0   \n",
       "2015-02-28 01:00:00     95.0         67.0       74.0       31.0     37.0   \n",
       "2015-02-28 02:00:00     96.0         73.0       84.0       38.0     40.0   \n",
       "2015-02-28 03:00:00     95.0         75.0       80.0       35.0     42.0   \n",
       "2015-02-28 04:00:00     98.0         82.0       95.0       46.0     45.0   \n",
       "2015-02-28 05:00:00     97.0         85.0       96.0       46.0     47.0   \n",
       "2015-02-28 06:00:00     96.0         88.0       96.0       48.0     55.0   \n",
       "2015-02-28 07:00:00     96.0         91.0       98.0       49.0     56.0   \n",
       "2015-02-28 08:00:00     95.0         94.0       98.0       50.0     61.0   \n",
       "2015-02-28 09:00:00     95.0         93.0       97.0       53.0     67.0   \n",
       "2015-02-28 10:00:00     94.0         96.0       98.0       55.0     73.0   \n",
       "2015-02-28 11:00:00     94.0         97.0       97.0       57.0     79.0   \n",
       "2015-02-28 12:00:00     95.0         96.0       97.0       55.0     78.0   \n",
       "2015-02-28 13:00:00     94.0         97.0       96.0       59.0     86.0   \n",
       "2015-02-28 14:00:00     95.0         96.0       96.0       58.0     88.0   \n",
       "2015-02-28 15:00:00     93.0         85.0       95.0       47.0     76.0   \n",
       "2015-02-28 16:00:00     94.0         88.0       95.0       50.0     82.0   \n",
       "2015-02-28 17:00:00     93.0         81.0       94.0       42.0     74.0   \n",
       "2015-02-28 18:00:00     89.0         80.0       91.0       42.0     75.0   \n",
       "2015-02-28 19:00:00     89.0         70.0       91.0       32.0     65.0   \n",
       "2015-02-28 20:00:00     86.0         67.0       89.0       29.0     63.0   \n",
       "2015-02-28 21:00:00     81.0         79.0       89.0       29.0     59.0   \n",
       "2015-02-28 22:00:00     79.0         71.0       86.0       26.0     58.0   \n",
       "2015-02-28 23:00:00     75.0         77.0       85.0       25.0     54.0   \n",
       "\n",
       "                     Albuquerque    ...      Philadelphia  New York  Montreal  \\\n",
       "datetime                            ...                                         \n",
       "2015-02-01 00:00:00         86.0    ...              70.0      74.0      67.0   \n",
       "2015-02-01 01:00:00         90.0    ...              71.0      74.0      68.0   \n",
       "2015-02-01 02:00:00         81.0    ...              73.0      76.0      68.0   \n",
       "2015-02-01 03:00:00         88.0    ...              75.0      76.0      68.0   \n",
       "2015-02-01 04:00:00         74.0    ...              77.0      76.0      72.0   \n",
       "2015-02-01 05:00:00         75.0    ...              79.0      83.0      78.0   \n",
       "2015-02-01 06:00:00         79.0    ...              79.0      83.0      80.0   \n",
       "2015-02-01 07:00:00         80.0    ...              81.0      83.0      81.0   \n",
       "2015-02-01 08:00:00         83.0    ...              82.0      76.0      81.0   \n",
       "2015-02-01 09:00:00         72.0    ...              78.0      76.0      82.0   \n",
       "2015-02-01 10:00:00         80.0    ...              80.0      76.0      82.0   \n",
       "2015-02-01 11:00:00         74.0    ...              77.0      79.0      83.0   \n",
       "2015-02-01 12:00:00         77.0    ...              81.0      79.0      83.0   \n",
       "2015-02-01 13:00:00         68.0    ...              76.0      79.0      80.0   \n",
       "2015-02-01 14:00:00         67.0    ...              78.0      82.0      62.0   \n",
       "2015-02-01 15:00:00         84.0    ...              79.0      81.0      61.0   \n",
       "2015-02-01 16:00:00         78.0    ...              81.0      80.0      64.0   \n",
       "2015-02-01 17:00:00         89.0    ...              82.0      83.0      55.0   \n",
       "2015-02-01 18:00:00         83.0    ...              81.0      81.0      53.0   \n",
       "2015-02-01 19:00:00        100.0    ...              84.0      85.0      52.0   \n",
       "2015-02-01 20:00:00        100.0    ...              83.0      89.0      53.0   \n",
       "2015-02-01 21:00:00         99.0    ...              88.0      85.0      53.0   \n",
       "2015-02-01 22:00:00         99.0    ...              86.0      85.0      55.0   \n",
       "2015-02-01 23:00:00         99.0    ...              89.0      90.0      55.0   \n",
       "2015-02-02 00:00:00         88.0    ...              84.0      88.0      56.0   \n",
       "2015-02-02 01:00:00         91.0    ...              89.0      97.0      56.0   \n",
       "2015-02-02 02:00:00         84.0    ...              87.0      95.0      57.0   \n",
       "2015-02-02 03:00:00         83.0    ...              91.0      90.0      64.0   \n",
       "2015-02-02 04:00:00         73.0    ...              87.0      89.0      68.0   \n",
       "2015-02-02 05:00:00         70.0    ...              89.0      89.0      68.0   \n",
       "...                          ...    ...               ...       ...       ...   \n",
       "2015-02-27 18:00:00         97.0    ...              74.0     100.0      67.0   \n",
       "2015-02-27 19:00:00        100.0    ...              74.0     100.0      72.0   \n",
       "2015-02-27 20:00:00        100.0    ...              72.0     100.0      70.0   \n",
       "2015-02-27 21:00:00         98.0    ...              76.0      84.0      68.0   \n",
       "2015-02-27 22:00:00         98.0    ...              72.0      88.0      67.0   \n",
       "2015-02-27 23:00:00         97.0    ...              74.0      71.0      64.0   \n",
       "2015-02-28 00:00:00         96.0    ...              68.0      71.0      64.0   \n",
       "2015-02-28 01:00:00         95.0    ...              73.0      71.0      64.0   \n",
       "2015-02-28 02:00:00         94.0    ...              70.0      74.0      64.0   \n",
       "2015-02-28 03:00:00         95.0    ...              75.0      74.0      64.0   \n",
       "2015-02-28 04:00:00         93.0    ...              69.0      74.0      65.0   \n",
       "2015-02-28 05:00:00         94.0    ...              72.0      72.0      65.0   \n",
       "2015-02-28 06:00:00         94.0    ...              64.0      72.0      65.0   \n",
       "2015-02-28 07:00:00         94.0    ...              70.0      72.0      70.0   \n",
       "2015-02-28 08:00:00         95.0    ...              66.0      75.0      70.0   \n",
       "2015-02-28 09:00:00         94.0    ...              65.0      75.0      70.0   \n",
       "2015-02-28 10:00:00         95.0    ...              60.0      75.0      61.0   \n",
       "2015-02-28 11:00:00         95.0    ...              58.0      73.0      61.0   \n",
       "2015-02-28 12:00:00         95.0    ...              64.0      73.0      61.0   \n",
       "2015-02-28 13:00:00         95.0    ...              59.0      73.0      80.0   \n",
       "2015-02-28 14:00:00         95.0    ...              62.0      74.0      80.0   \n",
       "2015-02-28 15:00:00         97.0    ...              64.0      73.0      78.0   \n",
       "2015-02-28 16:00:00         97.0    ...              67.0      73.0      66.0   \n",
       "2015-02-28 17:00:00         98.0    ...              69.0      77.0      63.0   \n",
       "2015-02-28 18:00:00         97.0    ...              66.0      77.0      62.0   \n",
       "2015-02-28 19:00:00         99.0    ...              70.0      77.0      61.0   \n",
       "2015-02-28 20:00:00         98.0    ...              69.0      69.0      60.0   \n",
       "2015-02-28 21:00:00         98.0    ...              70.0      69.0      60.0   \n",
       "2015-02-28 22:00:00         97.0    ...              68.0      69.0      63.0   \n",
       "2015-02-28 23:00:00         97.0    ...              69.0      79.0      67.0   \n",
       "\n",
       "                     Boston  Beersheba  Tel Aviv District  Eilat  Haifa  \\\n",
       "datetime                                                                  \n",
       "2015-02-01 00:00:00   100.0       83.0               77.0  100.0  100.0   \n",
       "2015-02-01 01:00:00   100.0       82.0               79.0  100.0  100.0   \n",
       "2015-02-01 02:00:00   100.0       82.0               80.0  100.0  100.0   \n",
       "2015-02-01 03:00:00   100.0       82.0               81.0  100.0  100.0   \n",
       "2015-02-01 04:00:00   100.0       83.0               81.0  100.0  100.0   \n",
       "2015-02-01 05:00:00   100.0       83.0               85.0  100.0  100.0   \n",
       "2015-02-01 06:00:00   100.0       83.0               83.0  100.0  100.0   \n",
       "2015-02-01 07:00:00   100.0       85.0               53.0  100.0   99.0   \n",
       "2015-02-01 08:00:00   100.0       85.0               36.0  100.0   99.0   \n",
       "2015-02-01 09:00:00   100.0       85.0               26.0  100.0   99.0   \n",
       "2015-02-01 10:00:00   100.0       77.0               31.0   93.0   84.0   \n",
       "2015-02-01 11:00:00   100.0       77.0               31.0   93.0   84.0   \n",
       "2015-02-01 12:00:00   100.0       77.0               32.0   93.0   84.0   \n",
       "2015-02-01 13:00:00   100.0       76.0               32.0   92.0   84.0   \n",
       "2015-02-01 14:00:00   100.0       72.0               43.0   90.0   91.0   \n",
       "2015-02-01 15:00:00   100.0       72.0               42.0   95.0   83.0   \n",
       "2015-02-01 16:00:00   100.0       77.0               48.0   96.0   86.0   \n",
       "2015-02-01 17:00:00   100.0       86.0               60.0  100.0   93.0   \n",
       "2015-02-01 18:00:00   100.0       86.0               64.0  100.0   96.0   \n",
       "2015-02-01 19:00:00   100.0       81.0               69.0  100.0  100.0   \n",
       "2015-02-01 20:00:00   100.0       81.0               70.0  100.0   99.0   \n",
       "2015-02-01 21:00:00   100.0       81.0               73.0  100.0  100.0   \n",
       "2015-02-01 22:00:00   100.0       80.0               74.0  100.0  100.0   \n",
       "2015-02-01 23:00:00   100.0       80.0               75.0  100.0   99.0   \n",
       "2015-02-02 00:00:00   100.0       79.0               75.0  100.0   99.0   \n",
       "2015-02-02 01:00:00   100.0       79.0               84.0  100.0   95.0   \n",
       "2015-02-02 02:00:00   100.0       78.0               82.0  100.0   95.0   \n",
       "2015-02-02 03:00:00   100.0       80.0               82.0  100.0   98.0   \n",
       "2015-02-02 04:00:00   100.0       80.0               81.0  100.0  100.0   \n",
       "2015-02-02 05:00:00   100.0       82.0               83.0  100.0  100.0   \n",
       "...                     ...        ...                ...    ...    ...   \n",
       "2015-02-27 18:00:00   100.0       76.0               57.0   83.0   81.0   \n",
       "2015-02-27 19:00:00   100.0       81.0               60.0   93.0   82.0   \n",
       "2015-02-27 20:00:00   100.0       84.0               60.0   95.0   85.0   \n",
       "2015-02-27 21:00:00   100.0       81.0               71.0   95.0   80.0   \n",
       "2015-02-27 22:00:00   100.0       85.0               67.0   98.0   86.0   \n",
       "2015-02-27 23:00:00   100.0       84.0               82.0   99.0   82.0   \n",
       "2015-02-28 00:00:00   100.0       84.0               82.0   99.0   82.0   \n",
       "2015-02-28 01:00:00   100.0       96.0              100.0  100.0  100.0   \n",
       "2015-02-28 02:00:00   100.0       96.0              100.0  100.0  100.0   \n",
       "2015-02-28 03:00:00   100.0       96.0              100.0  100.0  100.0   \n",
       "2015-02-28 04:00:00   100.0       90.0              100.0  100.0  100.0   \n",
       "2015-02-28 05:00:00   100.0       90.0              100.0  100.0  100.0   \n",
       "2015-02-28 06:00:00   100.0       90.0              100.0  100.0  100.0   \n",
       "2015-02-28 07:00:00   100.0       96.0               97.0  100.0   97.0   \n",
       "2015-02-28 08:00:00   100.0       96.0               97.0  100.0   97.0   \n",
       "2015-02-28 09:00:00   100.0       96.0               97.0  100.0   97.0   \n",
       "2015-02-28 10:00:00   100.0       85.0               96.0   92.0   96.0   \n",
       "2015-02-28 11:00:00   100.0       85.0               96.0   92.0   96.0   \n",
       "2015-02-28 12:00:00   100.0       85.0               96.0   92.0   96.0   \n",
       "2015-02-28 13:00:00   100.0       71.0               95.0   87.0   95.0   \n",
       "2015-02-28 14:00:00   100.0       50.0               90.0   87.0   90.0   \n",
       "2015-02-28 15:00:00   100.0       51.0               88.0   86.0   90.0   \n",
       "2015-02-28 16:00:00   100.0       79.0               64.0   86.0  100.0   \n",
       "2015-02-28 17:00:00   100.0       79.0               69.0   86.0  100.0   \n",
       "2015-02-28 18:00:00   100.0       79.0               69.0   86.0  100.0   \n",
       "2015-02-28 19:00:00   100.0       90.0               75.0  100.0  100.0   \n",
       "2015-02-28 20:00:00   100.0       90.0               78.0  100.0  100.0   \n",
       "2015-02-28 21:00:00   100.0       90.0               79.0  100.0  100.0   \n",
       "2015-02-28 22:00:00   100.0       89.0               82.0  100.0  100.0   \n",
       "2015-02-28 23:00:00   100.0       89.0               83.0  100.0  100.0   \n",
       "\n",
       "                     Nahariyya  Jerusalem  \n",
       "datetime                                   \n",
       "2015-02-01 00:00:00       97.0       91.0  \n",
       "2015-02-01 01:00:00      100.0       93.0  \n",
       "2015-02-01 02:00:00      100.0       90.0  \n",
       "2015-02-01 03:00:00      100.0       89.0  \n",
       "2015-02-01 04:00:00       93.0       87.0  \n",
       "2015-02-01 05:00:00       93.0       85.0  \n",
       "2015-02-01 06:00:00       93.0       84.0  \n",
       "2015-02-01 07:00:00       52.0       83.0  \n",
       "2015-02-01 08:00:00       52.0       82.0  \n",
       "2015-02-01 09:00:00       52.0       82.0  \n",
       "2015-02-01 10:00:00       44.0       80.0  \n",
       "2015-02-01 11:00:00       44.0       80.0  \n",
       "2015-02-01 12:00:00       44.0       81.0  \n",
       "2015-02-01 13:00:00       45.0       80.0  \n",
       "2015-02-01 14:00:00       72.0       80.0  \n",
       "2015-02-01 15:00:00       53.0       86.0  \n",
       "2015-02-01 16:00:00       65.0       85.0  \n",
       "2015-02-01 17:00:00       87.0       89.0  \n",
       "2015-02-01 18:00:00       87.0       86.0  \n",
       "2015-02-01 19:00:00       89.0       92.0  \n",
       "2015-02-01 20:00:00       89.0       91.0  \n",
       "2015-02-01 21:00:00       89.0       92.0  \n",
       "2015-02-01 22:00:00       94.0       91.0  \n",
       "2015-02-01 23:00:00       94.0       91.0  \n",
       "2015-02-02 00:00:00       94.0       88.0  \n",
       "2015-02-02 01:00:00       95.0       89.0  \n",
       "2015-02-02 02:00:00       95.0       87.0  \n",
       "2015-02-02 03:00:00       97.0       86.0  \n",
       "2015-02-02 04:00:00       98.0       84.0  \n",
       "2015-02-02 05:00:00       92.0       82.0  \n",
       "...                        ...        ...  \n",
       "2015-02-27 18:00:00       81.0       83.0  \n",
       "2015-02-27 19:00:00       82.0       88.0  \n",
       "2015-02-27 20:00:00       85.0       90.0  \n",
       "2015-02-27 21:00:00       81.0       89.0  \n",
       "2015-02-27 22:00:00       86.0       91.0  \n",
       "2015-02-27 23:00:00       84.0       91.0  \n",
       "2015-02-28 00:00:00       84.0       92.0  \n",
       "2015-02-28 01:00:00       95.0       91.0  \n",
       "2015-02-28 02:00:00       95.0       92.0  \n",
       "2015-02-28 03:00:00       95.0       91.0  \n",
       "2015-02-28 04:00:00       96.0       92.0  \n",
       "2015-02-28 05:00:00       96.0       92.0  \n",
       "2015-02-28 06:00:00       96.0       86.0  \n",
       "2015-02-28 07:00:00       82.0       88.0  \n",
       "2015-02-28 08:00:00       82.0       84.0  \n",
       "2015-02-28 09:00:00       82.0       83.0  \n",
       "2015-02-28 10:00:00       63.0       78.0  \n",
       "2015-02-28 11:00:00       63.0       76.0  \n",
       "2015-02-28 12:00:00       63.0       75.0  \n",
       "2015-02-28 13:00:00       73.0       72.0  \n",
       "2015-02-28 14:00:00       73.0       71.0  \n",
       "2015-02-28 15:00:00       74.0       77.0  \n",
       "2015-02-28 16:00:00       98.0       73.0  \n",
       "2015-02-28 17:00:00       95.0       76.0  \n",
       "2015-02-28 18:00:00       95.0       83.0  \n",
       "2015-02-28 19:00:00       95.0       85.0  \n",
       "2015-02-28 20:00:00       95.0       91.0  \n",
       "2015-02-28 21:00:00       95.0       88.0  \n",
       "2015-02-28 22:00:00       93.0       97.0  \n",
       "2015-02-28 23:00:00       93.0       97.0  \n",
       "\n",
       "[672 rows x 37 columns]"
      ]
     },
     "execution_count": 54,
     "metadata": {},
     "output_type": "execute_result"
    }
   ],
   "source": [
    "train2['2015-02']"
   ]
  },
  {
   "cell_type": "raw",
   "metadata": {},
   "source": [
    "이렇게 to_datetime 메서드를 통해 단 코드 두 줄만으로 datetime을 인덱스로 만들 수 있다!!!!!!!!!!!!!tㅐ"
   ]
  },
  {
   "cell_type": "code",
   "execution_count": 55,
   "metadata": {},
   "outputs": [
    {
     "data": {
      "text/plain": [
       "DatetimeIndex(['2012-10-01 12:00:00', '2012-10-01 13:00:00',\n",
       "               '2012-10-01 14:00:00', '2012-10-01 15:00:00',\n",
       "               '2012-10-01 16:00:00', '2012-10-01 17:00:00',\n",
       "               '2012-10-01 18:00:00', '2012-10-01 19:00:00',\n",
       "               '2012-10-01 20:00:00', '2012-10-01 21:00:00',\n",
       "               ...\n",
       "               '2017-11-29 15:00:00', '2017-11-29 16:00:00',\n",
       "               '2017-11-29 17:00:00', '2017-11-29 18:00:00',\n",
       "               '2017-11-29 19:00:00', '2017-11-29 20:00:00',\n",
       "               '2017-11-29 21:00:00', '2017-11-29 22:00:00',\n",
       "               '2017-11-29 23:00:00', '2017-11-30 00:00:00'],\n",
       "              dtype='datetime64[ns]', length=45253, freq=None)"
      ]
     },
     "execution_count": 55,
     "metadata": {},
     "output_type": "execute_result"
    }
   ],
   "source": [
    "train.index # datetime 객체를 DataFrame 객체의 인덱스로 넘기면 자동으로 DatetimeIndex 로 지정된다.\n"
   ]
  },
  {
   "cell_type": "raw",
   "metadata": {},
   "source": [
    "불러올 때부터 인덱스로 삼기 ..... 그다지 효율적이게 보이지는 않네...\n",
    "pd.read_csv( ,   ,   idx_col = 날짜가 있는 열의 이름 )"
   ]
  },
  {
   "cell_type": "code",
   "execution_count": 230,
   "metadata": {},
   "outputs": [
    {
     "data": {
      "text/html": [
       "<div>\n",
       "<style scoped>\n",
       "    .dataframe tbody tr th:only-of-type {\n",
       "        vertical-align: middle;\n",
       "    }\n",
       "\n",
       "    .dataframe tbody tr th {\n",
       "        vertical-align: top;\n",
       "    }\n",
       "\n",
       "    .dataframe thead th {\n",
       "        text-align: right;\n",
       "    }\n",
       "</style>\n",
       "<table border=\"1\" class=\"dataframe\">\n",
       "  <thead>\n",
       "    <tr style=\"text-align: right;\">\n",
       "      <th></th>\n",
       "      <th>Vancouver</th>\n",
       "      <th>Portland</th>\n",
       "      <th>San Francisco</th>\n",
       "      <th>Seattle</th>\n",
       "      <th>Los Angeles</th>\n",
       "      <th>San Diego</th>\n",
       "      <th>Las Vegas</th>\n",
       "      <th>Phoenix</th>\n",
       "      <th>Albuquerque</th>\n",
       "      <th>Denver</th>\n",
       "      <th>...</th>\n",
       "      <th>Philadelphia</th>\n",
       "      <th>New York</th>\n",
       "      <th>Montreal</th>\n",
       "      <th>Boston</th>\n",
       "      <th>Beersheba</th>\n",
       "      <th>Tel Aviv District</th>\n",
       "      <th>Eilat</th>\n",
       "      <th>Haifa</th>\n",
       "      <th>Nahariyya</th>\n",
       "      <th>Jerusalem</th>\n",
       "    </tr>\n",
       "    <tr>\n",
       "      <th>datetime</th>\n",
       "      <th></th>\n",
       "      <th></th>\n",
       "      <th></th>\n",
       "      <th></th>\n",
       "      <th></th>\n",
       "      <th></th>\n",
       "      <th></th>\n",
       "      <th></th>\n",
       "      <th></th>\n",
       "      <th></th>\n",
       "      <th></th>\n",
       "      <th></th>\n",
       "      <th></th>\n",
       "      <th></th>\n",
       "      <th></th>\n",
       "      <th></th>\n",
       "      <th></th>\n",
       "      <th></th>\n",
       "      <th></th>\n",
       "      <th></th>\n",
       "      <th></th>\n",
       "    </tr>\n",
       "  </thead>\n",
       "  <tbody>\n",
       "    <tr>\n",
       "      <th>2012-10-01 12:00:00</th>\n",
       "      <td>NaN</td>\n",
       "      <td>NaN</td>\n",
       "      <td>NaN</td>\n",
       "      <td>NaN</td>\n",
       "      <td>NaN</td>\n",
       "      <td>NaN</td>\n",
       "      <td>NaN</td>\n",
       "      <td>NaN</td>\n",
       "      <td>NaN</td>\n",
       "      <td>NaN</td>\n",
       "      <td>...</td>\n",
       "      <td>NaN</td>\n",
       "      <td>NaN</td>\n",
       "      <td>NaN</td>\n",
       "      <td>NaN</td>\n",
       "      <td>NaN</td>\n",
       "      <td>NaN</td>\n",
       "      <td>25.0</td>\n",
       "      <td>NaN</td>\n",
       "      <td>NaN</td>\n",
       "      <td>NaN</td>\n",
       "    </tr>\n",
       "    <tr>\n",
       "      <th>2012-10-01 13:00:00</th>\n",
       "      <td>76.0</td>\n",
       "      <td>81.0</td>\n",
       "      <td>88.0</td>\n",
       "      <td>81.0</td>\n",
       "      <td>88.0</td>\n",
       "      <td>82.0</td>\n",
       "      <td>22.0</td>\n",
       "      <td>23.0</td>\n",
       "      <td>50.0</td>\n",
       "      <td>62.0</td>\n",
       "      <td>...</td>\n",
       "      <td>71.0</td>\n",
       "      <td>58.0</td>\n",
       "      <td>93.0</td>\n",
       "      <td>68.0</td>\n",
       "      <td>50.0</td>\n",
       "      <td>63.0</td>\n",
       "      <td>22.0</td>\n",
       "      <td>51.0</td>\n",
       "      <td>51.0</td>\n",
       "      <td>50.0</td>\n",
       "    </tr>\n",
       "    <tr>\n",
       "      <th>2012-10-01 14:00:00</th>\n",
       "      <td>76.0</td>\n",
       "      <td>80.0</td>\n",
       "      <td>87.0</td>\n",
       "      <td>80.0</td>\n",
       "      <td>88.0</td>\n",
       "      <td>81.0</td>\n",
       "      <td>21.0</td>\n",
       "      <td>23.0</td>\n",
       "      <td>49.0</td>\n",
       "      <td>62.0</td>\n",
       "      <td>...</td>\n",
       "      <td>70.0</td>\n",
       "      <td>57.0</td>\n",
       "      <td>91.0</td>\n",
       "      <td>68.0</td>\n",
       "      <td>51.0</td>\n",
       "      <td>62.0</td>\n",
       "      <td>22.0</td>\n",
       "      <td>51.0</td>\n",
       "      <td>51.0</td>\n",
       "      <td>50.0</td>\n",
       "    </tr>\n",
       "    <tr>\n",
       "      <th>2012-10-01 15:00:00</th>\n",
       "      <td>76.0</td>\n",
       "      <td>80.0</td>\n",
       "      <td>86.0</td>\n",
       "      <td>80.0</td>\n",
       "      <td>88.0</td>\n",
       "      <td>81.0</td>\n",
       "      <td>21.0</td>\n",
       "      <td>23.0</td>\n",
       "      <td>49.0</td>\n",
       "      <td>62.0</td>\n",
       "      <td>...</td>\n",
       "      <td>70.0</td>\n",
       "      <td>57.0</td>\n",
       "      <td>87.0</td>\n",
       "      <td>68.0</td>\n",
       "      <td>51.0</td>\n",
       "      <td>62.0</td>\n",
       "      <td>22.0</td>\n",
       "      <td>51.0</td>\n",
       "      <td>51.0</td>\n",
       "      <td>50.0</td>\n",
       "    </tr>\n",
       "    <tr>\n",
       "      <th>2012-10-01 16:00:00</th>\n",
       "      <td>77.0</td>\n",
       "      <td>80.0</td>\n",
       "      <td>85.0</td>\n",
       "      <td>79.0</td>\n",
       "      <td>88.0</td>\n",
       "      <td>81.0</td>\n",
       "      <td>21.0</td>\n",
       "      <td>23.0</td>\n",
       "      <td>49.0</td>\n",
       "      <td>62.0</td>\n",
       "      <td>...</td>\n",
       "      <td>69.0</td>\n",
       "      <td>57.0</td>\n",
       "      <td>84.0</td>\n",
       "      <td>68.0</td>\n",
       "      <td>52.0</td>\n",
       "      <td>62.0</td>\n",
       "      <td>22.0</td>\n",
       "      <td>51.0</td>\n",
       "      <td>51.0</td>\n",
       "      <td>50.0</td>\n",
       "    </tr>\n",
       "  </tbody>\n",
       "</table>\n",
       "<p>5 rows × 36 columns</p>\n",
       "</div>"
      ],
      "text/plain": [
       "                     Vancouver  Portland  San Francisco  Seattle  Los Angeles  \\\n",
       "datetime                                                                        \n",
       "2012-10-01 12:00:00        NaN       NaN            NaN      NaN          NaN   \n",
       "2012-10-01 13:00:00       76.0      81.0           88.0     81.0         88.0   \n",
       "2012-10-01 14:00:00       76.0      80.0           87.0     80.0         88.0   \n",
       "2012-10-01 15:00:00       76.0      80.0           86.0     80.0         88.0   \n",
       "2012-10-01 16:00:00       77.0      80.0           85.0     79.0         88.0   \n",
       "\n",
       "                     San Diego  Las Vegas  Phoenix  Albuquerque  Denver  \\\n",
       "datetime                                                                  \n",
       "2012-10-01 12:00:00        NaN        NaN      NaN          NaN     NaN   \n",
       "2012-10-01 13:00:00       82.0       22.0     23.0         50.0    62.0   \n",
       "2012-10-01 14:00:00       81.0       21.0     23.0         49.0    62.0   \n",
       "2012-10-01 15:00:00       81.0       21.0     23.0         49.0    62.0   \n",
       "2012-10-01 16:00:00       81.0       21.0     23.0         49.0    62.0   \n",
       "\n",
       "                       ...      Philadelphia  New York  Montreal  Boston  \\\n",
       "datetime               ...                                                 \n",
       "2012-10-01 12:00:00    ...               NaN       NaN       NaN     NaN   \n",
       "2012-10-01 13:00:00    ...              71.0      58.0      93.0    68.0   \n",
       "2012-10-01 14:00:00    ...              70.0      57.0      91.0    68.0   \n",
       "2012-10-01 15:00:00    ...              70.0      57.0      87.0    68.0   \n",
       "2012-10-01 16:00:00    ...              69.0      57.0      84.0    68.0   \n",
       "\n",
       "                     Beersheba  Tel Aviv District  Eilat  Haifa  Nahariyya  \\\n",
       "datetime                                                                     \n",
       "2012-10-01 12:00:00        NaN                NaN   25.0    NaN        NaN   \n",
       "2012-10-01 13:00:00       50.0               63.0   22.0   51.0       51.0   \n",
       "2012-10-01 14:00:00       51.0               62.0   22.0   51.0       51.0   \n",
       "2012-10-01 15:00:00       51.0               62.0   22.0   51.0       51.0   \n",
       "2012-10-01 16:00:00       52.0               62.0   22.0   51.0       51.0   \n",
       "\n",
       "                     Jerusalem  \n",
       "datetime                        \n",
       "2012-10-01 12:00:00        NaN  \n",
       "2012-10-01 13:00:00       50.0  \n",
       "2012-10-01 14:00:00       50.0  \n",
       "2012-10-01 15:00:00       50.0  \n",
       "2012-10-01 16:00:00       50.0  \n",
       "\n",
       "[5 rows x 36 columns]"
      ]
     },
     "execution_count": 230,
     "metadata": {},
     "output_type": "execute_result"
    }
   ],
   "source": [
    "train3 = pd.read_csv('C:\\\\python\\\\DATA_SET\\\\weather_data\\\\humidity.csv', index_col = 'datetime')\n",
    "train3.head()"
   ]
  },
  {
   "cell_type": "code",
   "execution_count": 232,
   "metadata": {},
   "outputs": [],
   "source": [
    "train3.index = pd.to_datetime(train3.index)"
   ]
  },
  {
   "cell_type": "markdown",
   "metadata": {},
   "source": [
    "## 10.2.1 인덱싱, 선택, 부분 선택\n",
    "#### TimeSeries 객체 : Series의 하위 클래스 , 인덱싱에서 Series와 동일하게 동작"
   ]
  },
  {
   "cell_type": "code",
   "execution_count": 56,
   "metadata": {},
   "outputs": [
    {
     "data": {
      "text/plain": [
       "2011-01-02   -0.277957\n",
       "2011-01-05   -1.521713\n",
       "2011-01-07   -0.216465\n",
       "2011-01-08   -0.675459\n",
       "2011-01-10   -0.286333\n",
       "2011-01-12    2.030976\n",
       "dtype: float64"
      ]
     },
     "execution_count": 56,
     "metadata": {},
     "output_type": "execute_result"
    }
   ],
   "source": [
    "ts"
   ]
  },
  {
   "cell_type": "code",
   "execution_count": 57,
   "metadata": {},
   "outputs": [],
   "source": [
    "stmp = ts.index[2]\n",
    "# timeseires 객체의 인덱스에서(datetime) 하나를 추출 -> timestamp(시점)"
   ]
  },
  {
   "cell_type": "code",
   "execution_count": 58,
   "metadata": {},
   "outputs": [
    {
     "data": {
      "text/plain": [
       "-0.2164648707287775"
      ]
     },
     "execution_count": 58,
     "metadata": {},
     "output_type": "execute_result"
    }
   ],
   "source": [
    "ts[stmp]"
   ]
  },
  {
   "cell_type": "raw",
   "metadata": {},
   "source": [
    "해석 가능한 날짜를 문자열로 넘겨서 편리하게 사용 가능\n",
    "인덱스에 적힌 그대로 적지 않아도 된다."
   ]
  },
  {
   "cell_type": "code",
   "execution_count": 59,
   "metadata": {},
   "outputs": [
    {
     "data": {
      "text/plain": [
       "-0.28633317105014183"
      ]
     },
     "execution_count": 59,
     "metadata": {},
     "output_type": "execute_result"
    }
   ],
   "source": [
    "ts['1/10/2011'] # 인덱스는 2000-00-00 형식으로 적혀 있지만 다른 형식(여기서는 '/'사용)을 사용하여도 잘 알아듣는다 기특한 자식"
   ]
  },
  {
   "cell_type": "code",
   "execution_count": 60,
   "metadata": {},
   "outputs": [
    {
     "data": {
      "text/plain": [
       "-0.28633317105014183"
      ]
     },
     "execution_count": 60,
     "metadata": {},
     "output_type": "execute_result"
    }
   ],
   "source": [
    "ts['20110110']"
   ]
  },
  {
   "cell_type": "raw",
   "metadata": {},
   "source": [
    "긴 시계열에서는 년, 월, 일 의 인덱스만 넘겨서 따로 추출 가능"
   ]
  },
  {
   "cell_type": "code",
   "execution_count": 61,
   "metadata": {},
   "outputs": [],
   "source": [
    "longer_ts = pd.Series(np.random.randint(1000, size = 600),\n",
    "                     index = pd.date_range('1/1/2000', periods = 600))\n",
    "\n",
    "# date_range 의 기본 frequnecy 는 'D'(하루) 이다."
   ]
  },
  {
   "cell_type": "code",
   "execution_count": 62,
   "metadata": {
    "scrolled": true
   },
   "outputs": [
    {
     "name": "stdout",
     "output_type": "stream",
     "text": [
      "start_time : 2000-01-01 00:00:00 \n",
      " end_time : 2001-08-22 00:00:00\n"
     ]
    }
   ],
   "source": [
    "print('start_time : {0} \\n end_time : {1}'.format(longer_ts.index[0],longer_ts.index[-1]))"
   ]
  },
  {
   "cell_type": "code",
   "execution_count": 63,
   "metadata": {},
   "outputs": [
    {
     "data": {
      "text/plain": [
       "DatetimeIndex(['2000-01-01', '2000-01-02', '2000-01-03', '2000-01-04',\n",
       "               '2000-01-05', '2000-01-06', '2000-01-07', '2000-01-08',\n",
       "               '2000-01-09', '2000-01-10',\n",
       "               ...\n",
       "               '2001-08-13', '2001-08-14', '2001-08-15', '2001-08-16',\n",
       "               '2001-08-17', '2001-08-18', '2001-08-19', '2001-08-20',\n",
       "               '2001-08-21', '2001-08-22'],\n",
       "              dtype='datetime64[ns]', length=600, freq='D')"
      ]
     },
     "execution_count": 63,
     "metadata": {},
     "output_type": "execute_result"
    }
   ],
   "source": [
    "longer_ts.index"
   ]
  },
  {
   "cell_type": "code",
   "execution_count": 64,
   "metadata": {},
   "outputs": [
    {
     "data": {
      "text/plain": [
       "2000-01-01    268\n",
       "2000-01-02    239\n",
       "2000-01-03    745\n",
       "2000-01-04    311\n",
       "2000-01-05    511\n",
       "Freq: D, dtype: int32"
      ]
     },
     "execution_count": 64,
     "metadata": {},
     "output_type": "execute_result"
    }
   ],
   "source": [
    "longer_ts.head()"
   ]
  },
  {
   "cell_type": "code",
   "execution_count": 65,
   "metadata": {},
   "outputs": [
    {
     "data": {
      "text/plain": [
       "2000-01-01    268\n",
       "2000-01-02    239\n",
       "2000-01-03    745\n",
       "2000-01-04    311\n",
       "2000-01-05    511\n",
       "Freq: D, dtype: int32"
      ]
     },
     "execution_count": 65,
     "metadata": {},
     "output_type": "execute_result"
    }
   ],
   "source": [
    "longer_ts['2000'].head() # 년만 입력하여 2000년도 데이터만 추출한다."
   ]
  },
  {
   "cell_type": "code",
   "execution_count": 66,
   "metadata": {},
   "outputs": [
    {
     "data": {
      "text/plain": [
       "2000-05-01    790\n",
       "2000-05-02    738\n",
       "2000-05-03     80\n",
       "2000-05-04    732\n",
       "2000-05-05    666\n",
       "Freq: D, dtype: int32"
      ]
     },
     "execution_count": 66,
     "metadata": {},
     "output_type": "execute_result"
    }
   ],
   "source": [
    "longer_ts['2000-05'].head() # 연과 월까지만 입력하여 2000-5월 데이터만 추출한다."
   ]
  },
  {
   "cell_type": "raw",
   "metadata": {},
   "source": [
    "날짜로 데이터를 슬라이싱 하는 방법은 Series와 동일\n",
    "series객체[datetime( ):]"
   ]
  },
  {
   "cell_type": "code",
   "execution_count": 67,
   "metadata": {},
   "outputs": [
    {
     "data": {
      "text/plain": [
       "2001-01-07    534\n",
       "2001-01-08    280\n",
       "2001-01-09    767\n",
       "2001-01-10    614\n",
       "2001-01-11    467\n",
       "Freq: D, dtype: int32"
      ]
     },
     "execution_count": 67,
     "metadata": {},
     "output_type": "execute_result"
    }
   ],
   "source": [
    "longer_ts[datetime(2001,1,7):].head()"
   ]
  },
  {
   "cell_type": "raw",
   "metadata": {},
   "source": [
    "시계열은 자동으로 연대순 정렬 : 시간으로 정렬된다.\n",
    "따라서 [시작시간 : 끝 시간]을 인덱스로 주면\n",
    "그 사이의 시간에 대한 데이터가 추출된다."
   ]
  },
  {
   "cell_type": "code",
   "execution_count": 68,
   "metadata": {},
   "outputs": [
    {
     "data": {
      "text/plain": [
       "2001-01-07    534\n",
       "2001-01-08    280\n",
       "2001-01-09    767\n",
       "2001-01-10    614\n",
       "2001-01-11    467\n",
       "2001-01-12    993\n",
       "2001-01-13    103\n",
       "2001-01-14    996\n",
       "2001-01-15     15\n",
       "2001-01-16    491\n",
       "2001-01-17     32\n",
       "2001-01-18    170\n",
       "2001-01-19    746\n",
       "2001-01-20    580\n",
       "2001-01-21    844\n",
       "2001-01-22    590\n",
       "2001-01-23    763\n",
       "2001-01-24    793\n",
       "2001-01-25    660\n",
       "2001-01-26    313\n",
       "2001-01-27    454\n",
       "2001-01-28     76\n",
       "2001-01-29    965\n",
       "2001-01-30    535\n",
       "2001-01-31    960\n",
       "2001-02-01    757\n",
       "Freq: D, dtype: int32"
      ]
     },
     "execution_count": 68,
     "metadata": {},
     "output_type": "execute_result"
    }
   ],
   "source": [
    "longer_ts['2001-01-07':'2001/02/01']"
   ]
  },
  {
   "cell_type": "markdown",
   "metadata": {},
   "source": [
    "#### truncate메서드 : TimeSeries를 2개의 날짜로 나누어준다.\n",
    "#### DataFrame에서도 동일 적용/ 인덱스에 적용"
   ]
  },
  {
   "cell_type": "code",
   "execution_count": 69,
   "metadata": {},
   "outputs": [
    {
     "data": {
      "text/plain": [
       "2011-01-02   -0.277957\n",
       "2011-01-05   -1.521713\n",
       "2011-01-07   -0.216465\n",
       "2011-01-08   -0.675459\n",
       "2011-01-10   -0.286333\n",
       "2011-01-12    2.030976\n",
       "dtype: float64"
      ]
     },
     "execution_count": 69,
     "metadata": {},
     "output_type": "execute_result"
    }
   ],
   "source": [
    "ts"
   ]
  },
  {
   "cell_type": "code",
   "execution_count": 70,
   "metadata": {},
   "outputs": [
    {
     "data": {
      "text/plain": [
       "2011-01-08   -0.675459\n",
       "2011-01-10   -0.286333\n",
       "2011-01-12    2.030976\n",
       "dtype: float64"
      ]
     },
     "execution_count": 70,
     "metadata": {},
     "output_type": "execute_result"
    }
   ],
   "source": [
    "ts.truncate(before = '1/8/2011') # 1월 8일 아래의(before,이후의) 데이터를 추출"
   ]
  },
  {
   "cell_type": "code",
   "execution_count": 71,
   "metadata": {},
   "outputs": [
    {
     "data": {
      "text/plain": [
       "2011-01-02   -0.277957\n",
       "2011-01-05   -1.521713\n",
       "2011-01-07   -0.216465\n",
       "2011-01-08   -0.675459\n",
       "dtype: float64"
      ]
     },
     "execution_count": 71,
     "metadata": {},
     "output_type": "execute_result"
    }
   ],
   "source": [
    "ts.truncate(after = '1/8/2011') # 1월 8일 위의(after, 이전의) 데이터를 추출"
   ]
  },
  {
   "cell_type": "code",
   "execution_count": 72,
   "metadata": {},
   "outputs": [],
   "source": [
    "dates_pd = pd.date_range('1/1/2000', periods = 100, freq = 'W-WED') \n",
    "# freq : 빈도 수( 각 datetime 간의 term)\n",
    "# freq = 'W-WED' : 'W'(week)를 주기로 'WED'(수요일) / 즉 매주 수요일을 찍어준다.\n",
    "\n"
   ]
  },
  {
   "cell_type": "code",
   "execution_count": 73,
   "metadata": {},
   "outputs": [
    {
     "data": {
      "text/plain": [
       "100"
      ]
     },
     "execution_count": 73,
     "metadata": {},
     "output_type": "execute_result"
    }
   ],
   "source": [
    "len(dates_pd)"
   ]
  },
  {
   "cell_type": "code",
   "execution_count": 74,
   "metadata": {},
   "outputs": [],
   "source": [
    "long_df = pd.DataFrame(np.random.randint(100, size = 400).reshape(100,4),\n",
    "                      index = dates_pd,\n",
    "                      columns = ['colorado','texas','newyork','ohio'])"
   ]
  },
  {
   "cell_type": "code",
   "execution_count": 75,
   "metadata": {},
   "outputs": [
    {
     "data": {
      "text/html": [
       "<div>\n",
       "<style scoped>\n",
       "    .dataframe tbody tr th:only-of-type {\n",
       "        vertical-align: middle;\n",
       "    }\n",
       "\n",
       "    .dataframe tbody tr th {\n",
       "        vertical-align: top;\n",
       "    }\n",
       "\n",
       "    .dataframe thead th {\n",
       "        text-align: right;\n",
       "    }\n",
       "</style>\n",
       "<table border=\"1\" class=\"dataframe\">\n",
       "  <thead>\n",
       "    <tr style=\"text-align: right;\">\n",
       "      <th></th>\n",
       "      <th>colorado</th>\n",
       "      <th>texas</th>\n",
       "      <th>newyork</th>\n",
       "      <th>ohio</th>\n",
       "    </tr>\n",
       "  </thead>\n",
       "  <tbody>\n",
       "    <tr>\n",
       "      <th>2000-01-05</th>\n",
       "      <td>92</td>\n",
       "      <td>34</td>\n",
       "      <td>10</td>\n",
       "      <td>57</td>\n",
       "    </tr>\n",
       "    <tr>\n",
       "      <th>2000-01-12</th>\n",
       "      <td>52</td>\n",
       "      <td>2</td>\n",
       "      <td>21</td>\n",
       "      <td>20</td>\n",
       "    </tr>\n",
       "    <tr>\n",
       "      <th>2000-01-19</th>\n",
       "      <td>77</td>\n",
       "      <td>2</td>\n",
       "      <td>67</td>\n",
       "      <td>53</td>\n",
       "    </tr>\n",
       "    <tr>\n",
       "      <th>2000-01-26</th>\n",
       "      <td>66</td>\n",
       "      <td>93</td>\n",
       "      <td>89</td>\n",
       "      <td>65</td>\n",
       "    </tr>\n",
       "    <tr>\n",
       "      <th>2000-02-02</th>\n",
       "      <td>96</td>\n",
       "      <td>92</td>\n",
       "      <td>4</td>\n",
       "      <td>21</td>\n",
       "    </tr>\n",
       "  </tbody>\n",
       "</table>\n",
       "</div>"
      ],
      "text/plain": [
       "            colorado  texas  newyork  ohio\n",
       "2000-01-05        92     34       10    57\n",
       "2000-01-12        52      2       21    20\n",
       "2000-01-19        77      2       67    53\n",
       "2000-01-26        66     93       89    65\n",
       "2000-02-02        96     92        4    21"
      ]
     },
     "execution_count": 75,
     "metadata": {},
     "output_type": "execute_result"
    }
   ],
   "source": [
    "long_df.head()\n"
   ]
  },
  {
   "cell_type": "code",
   "execution_count": 76,
   "metadata": {},
   "outputs": [
    {
     "data": {
      "text/html": [
       "<div>\n",
       "<style scoped>\n",
       "    .dataframe tbody tr th:only-of-type {\n",
       "        vertical-align: middle;\n",
       "    }\n",
       "\n",
       "    .dataframe tbody tr th {\n",
       "        vertical-align: top;\n",
       "    }\n",
       "\n",
       "    .dataframe thead th {\n",
       "        text-align: right;\n",
       "    }\n",
       "</style>\n",
       "<table border=\"1\" class=\"dataframe\">\n",
       "  <thead>\n",
       "    <tr style=\"text-align: right;\">\n",
       "      <th></th>\n",
       "      <th>colorado</th>\n",
       "      <th>texas</th>\n",
       "      <th>newyork</th>\n",
       "      <th>ohio</th>\n",
       "    </tr>\n",
       "  </thead>\n",
       "  <tbody>\n",
       "    <tr>\n",
       "      <th>2001-05-02</th>\n",
       "      <td>16</td>\n",
       "      <td>10</td>\n",
       "      <td>88</td>\n",
       "      <td>70</td>\n",
       "    </tr>\n",
       "    <tr>\n",
       "      <th>2001-05-09</th>\n",
       "      <td>38</td>\n",
       "      <td>94</td>\n",
       "      <td>88</td>\n",
       "      <td>13</td>\n",
       "    </tr>\n",
       "    <tr>\n",
       "      <th>2001-05-16</th>\n",
       "      <td>40</td>\n",
       "      <td>30</td>\n",
       "      <td>38</td>\n",
       "      <td>95</td>\n",
       "    </tr>\n",
       "    <tr>\n",
       "      <th>2001-05-23</th>\n",
       "      <td>99</td>\n",
       "      <td>59</td>\n",
       "      <td>7</td>\n",
       "      <td>68</td>\n",
       "    </tr>\n",
       "    <tr>\n",
       "      <th>2001-05-30</th>\n",
       "      <td>8</td>\n",
       "      <td>41</td>\n",
       "      <td>63</td>\n",
       "      <td>94</td>\n",
       "    </tr>\n",
       "  </tbody>\n",
       "</table>\n",
       "</div>"
      ],
      "text/plain": [
       "            colorado  texas  newyork  ohio\n",
       "2001-05-02        16     10       88    70\n",
       "2001-05-09        38     94       88    13\n",
       "2001-05-16        40     30       38    95\n",
       "2001-05-23        99     59        7    68\n",
       "2001-05-30         8     41       63    94"
      ]
     },
     "execution_count": 76,
     "metadata": {},
     "output_type": "execute_result"
    }
   ],
   "source": [
    "long_df['5-2001'] # 2001년 5월 인덱스만 찾는다."
   ]
  },
  {
   "cell_type": "markdown",
   "metadata": {},
   "source": [
    "## 10.2.2 중복된 색인을 갖는 시계열\n",
    "### 중복된 timestamp에 여러 데이터가 몰려있는 경우\n",
    "### 즉 서로 다른 데이터가 같은 날짜(timestamp)로 적혀있는 경우"
   ]
  },
  {
   "cell_type": "code",
   "execution_count": 77,
   "metadata": {},
   "outputs": [],
   "source": [
    "dates_dup = pd.DatetimeIndex(['1/1/2000'] + ['1/2/2000'] *3 + ['1/3/2000'])"
   ]
  },
  {
   "cell_type": "code",
   "execution_count": 78,
   "metadata": {},
   "outputs": [],
   "source": [
    "dup_ts = pd.Series(np.arange(5), index = dates_dup) # 1/2/2000 같은 날짜에 데이터가 3개나 있는 경우"
   ]
  },
  {
   "cell_type": "code",
   "execution_count": 79,
   "metadata": {},
   "outputs": [
    {
     "data": {
      "text/plain": [
       "2000-01-01    0\n",
       "2000-01-02    1\n",
       "2000-01-02    2\n",
       "2000-01-02    3\n",
       "2000-01-03    4\n",
       "dtype: int32"
      ]
     },
     "execution_count": 79,
     "metadata": {},
     "output_type": "execute_result"
    }
   ],
   "source": [
    "dup_ts"
   ]
  },
  {
   "cell_type": "raw",
   "metadata": {},
   "source": [
    "날짜 index 의 각각 값이 고유한지 판단\n",
    "겹치는 날짜가 없는지 판단"
   ]
  },
  {
   "cell_type": "code",
   "execution_count": 80,
   "metadata": {},
   "outputs": [
    {
     "data": {
      "text/plain": [
       "False"
      ]
     },
     "execution_count": 80,
     "metadata": {},
     "output_type": "execute_result"
    }
   ],
   "source": [
    "dup_ts.index.is_unique"
   ]
  },
  {
   "cell_type": "code",
   "execution_count": 238,
   "metadata": {
    "scrolled": true
   },
   "outputs": [
    {
     "data": {
      "text/plain": [
       "array([False, False,  True,  True, False])"
      ]
     },
     "execution_count": 238,
     "metadata": {},
     "output_type": "execute_result"
    }
   ],
   "source": [
    "dup_ts.index.duplicated()\n",
    "# duplicated 를 적용하면 겹치는 것끼리 True 나온다."
   ]
  },
  {
   "cell_type": "code",
   "execution_count": 82,
   "metadata": {},
   "outputs": [
    {
     "data": {
      "text/plain": [
       "2000-01-02    1\n",
       "2000-01-02    2\n",
       "2000-01-02    3\n",
       "dtype: int32"
      ]
     },
     "execution_count": 82,
     "metadata": {},
     "output_type": "execute_result"
    }
   ],
   "source": [
    "dup_ts['1/2/2000'] # 유일하지 않은 timestamp 인덱스"
   ]
  },
  {
   "cell_type": "raw",
   "metadata": {},
   "source": [
    "유일하지 않은 timestamp 데이터를 집계하는 법\n",
    "groupby 메서드 사용\n",
    "level = 0으로 주어"
   ]
  },
  {
   "cell_type": "code",
   "execution_count": 83,
   "metadata": {},
   "outputs": [
    {
     "data": {
      "text/plain": [
       "2000-01-01    0\n",
       "2000-01-02    2\n",
       "2000-01-03    4\n",
       "dtype: int32"
      ]
     },
     "execution_count": 83,
     "metadata": {},
     "output_type": "execute_result"
    }
   ],
   "source": [
    "dup_ts.groupby(level = 0).mean()\n",
    "\n",
    "# level = 0 (아마 인덱스 말하는 듯) : 인덱스의 각 데이터를 기준으로 그룹화 한다.\n",
    "# 같은 이름을 가진 인덱스끼리 그룹이 되는거임\n",
    "# 그리고 그 그룹마다 평균(mean) 을 내어 반환\n",
    "\n",
    "# 즉 날짜가 겹치는 데이터 중에 하나만 살리고 나머지는 버리는 것이 아니라\n",
    "# 평균을 내서 하나의 날짜로 합친다!! 굿\n",
    "\n",
    "\n"
   ]
  },
  {
   "cell_type": "code",
   "execution_count": 84,
   "metadata": {},
   "outputs": [
    {
     "data": {
      "text/plain": [
       "2000-01-01    1\n",
       "2000-01-02    3\n",
       "2000-01-03    1\n",
       "dtype: int64"
      ]
     },
     "execution_count": 84,
     "metadata": {},
     "output_type": "execute_result"
    }
   ],
   "source": [
    "dup_ts.groupby(level = 0).count()"
   ]
  },
  {
   "cell_type": "markdown",
   "metadata": {},
   "source": [
    "## 10.3.1 날짜 범위 생성하기\n",
    "#### pd.date_range : range 나 np.arange 와 비슷한 [특정 규칙이 있는  '날짜' ]를 생성하는 메서드\n",
    "#### 특정 빈도(freq)에 따라 길이(periods) 만큼의 DatetimeIndex 생성\n",
    "#### pd.date_range(start =  , end =  , periods =  , freq =  , normalize = T or F  )\n",
    "\n",
    "### frequency 파악이 정말 중요!!!!!!"
   ]
  },
  {
   "cell_type": "code",
   "execution_count": 247,
   "metadata": {},
   "outputs": [
    {
     "data": {
      "text/plain": [
       "DatetimeIndex(['2012-04-01', '2012-04-02', '2012-04-03', '2012-04-04',\n",
       "               '2012-04-05', '2012-04-06', '2012-04-07', '2012-04-08',\n",
       "               '2012-04-09', '2012-04-10', '2012-04-11', '2012-04-12',\n",
       "               '2012-04-13', '2012-04-14', '2012-04-15', '2012-04-16',\n",
       "               '2012-04-17', '2012-04-18', '2012-04-19', '2012-04-20',\n",
       "               '2012-04-21', '2012-04-22', '2012-04-23', '2012-04-24',\n",
       "               '2012-04-25', '2012-04-26', '2012-04-27', '2012-04-28',\n",
       "               '2012-04-29', '2012-04-30', '2012-05-01', '2012-05-02',\n",
       "               '2012-05-03', '2012-05-04', '2012-05-05', '2012-05-06',\n",
       "               '2012-05-07', '2012-05-08', '2012-05-09', '2012-05-10',\n",
       "               '2012-05-11', '2012-05-12', '2012-05-13', '2012-05-14',\n",
       "               '2012-05-15', '2012-05-16', '2012-05-17', '2012-05-18',\n",
       "               '2012-05-19', '2012-05-20', '2012-05-21', '2012-05-22',\n",
       "               '2012-05-23', '2012-05-24', '2012-05-25', '2012-05-26',\n",
       "               '2012-05-27', '2012-05-28', '2012-05-29', '2012-05-30',\n",
       "               '2012-05-31', '2012-06-01'],\n",
       "              dtype='datetime64[ns]', freq='D')"
      ]
     },
     "execution_count": 247,
     "metadata": {},
     "output_type": "execute_result"
    }
   ],
   "source": [
    "index = pd.date_range('4/1/2012','6/1/2012') \n",
    "# freq 의 default 값은 'D'(day) 이다.\n",
    "\n",
    "index"
   ]
  },
  {
   "cell_type": "code",
   "execution_count": 86,
   "metadata": {},
   "outputs": [
    {
     "data": {
      "text/plain": [
       "DatetimeIndex(['2000-01-01', '2000-01-02', '2000-01-03', '2000-01-04',\n",
       "               '2000-01-05', '2000-01-06', '2000-01-07', '2000-01-08',\n",
       "               '2000-01-09', '2000-01-10', '2000-01-11', '2000-01-12',\n",
       "               '2000-01-13', '2000-01-14', '2000-01-15', '2000-01-16',\n",
       "               '2000-01-17', '2000-01-18', '2000-01-19', '2000-01-20'],\n",
       "              dtype='datetime64[ns]', freq='D')"
      ]
     },
     "execution_count": 86,
     "metadata": {},
     "output_type": "execute_result"
    }
   ],
   "source": [
    "pd.date_range(start = '1/1/2000', periods = 20) \n",
    "# 날짜를 하나만 적는 경우 default 값으로 '시작날짜'로 인식한다."
   ]
  },
  {
   "cell_type": "code",
   "execution_count": 87,
   "metadata": {},
   "outputs": [
    {
     "data": {
      "text/plain": [
       "DatetimeIndex(['1999-12-13', '1999-12-14', '1999-12-15', '1999-12-16',\n",
       "               '1999-12-17', '1999-12-18', '1999-12-19', '1999-12-20',\n",
       "               '1999-12-21', '1999-12-22', '1999-12-23', '1999-12-24',\n",
       "               '1999-12-25', '1999-12-26', '1999-12-27', '1999-12-28',\n",
       "               '1999-12-29', '1999-12-30', '1999-12-31', '2000-01-01'],\n",
       "              dtype='datetime64[ns]', freq='D')"
      ]
     },
     "execution_count": 87,
     "metadata": {},
     "output_type": "execute_result"
    }
   ],
   "source": [
    "pd.date_range(end = '1/1/2000', periods = 20)"
   ]
  },
  {
   "cell_type": "raw",
   "metadata": {},
   "source": [
    "해당 날짜의 정확한 시간(예 : 12:34:04 )까지 살리고 싶은 경우\n",
    "# 그냥 시간까지 입력하면 된다."
   ]
  },
  {
   "cell_type": "code",
   "execution_count": 88,
   "metadata": {},
   "outputs": [
    {
     "data": {
      "text/plain": [
       "DatetimeIndex(['2000-01-01 12:23:54', '2000-01-02 12:23:54',\n",
       "               '2000-01-03 12:23:54', '2000-01-04 12:23:54',\n",
       "               '2000-01-05 12:23:54', '2000-01-06 12:23:54',\n",
       "               '2000-01-07 12:23:54', '2000-01-08 12:23:54',\n",
       "               '2000-01-09 12:23:54', '2000-01-10 12:23:54',\n",
       "               '2000-01-11 12:23:54', '2000-01-12 12:23:54',\n",
       "               '2000-01-13 12:23:54', '2000-01-14 12:23:54',\n",
       "               '2000-01-15 12:23:54', '2000-01-16 12:23:54',\n",
       "               '2000-01-17 12:23:54', '2000-01-18 12:23:54',\n",
       "               '2000-01-19 12:23:54', '2000-01-20 12:23:54'],\n",
       "              dtype='datetime64[ns]', freq='D')"
      ]
     },
     "execution_count": 88,
     "metadata": {},
     "output_type": "execute_result"
    }
   ],
   "source": [
    "pd.date_range('1/1/2000 12:23:54', periods = 20)"
   ]
  },
  {
   "cell_type": "raw",
   "metadata": {},
   "source": [
    "시간을 살리지 않고 '정규화' 하고 싶은 경우\n",
    "normalize = True 옵션을 사용하면 된다. \n",
    "시간은 모두 없어져 정규화 되고 요일까지만 살릴 수 있게 된다."
   ]
  },
  {
   "cell_type": "code",
   "execution_count": 89,
   "metadata": {},
   "outputs": [
    {
     "data": {
      "text/plain": [
       "DatetimeIndex(['2000-01-01', '2000-01-02', '2000-01-03', '2000-01-04',\n",
       "               '2000-01-05', '2000-01-06', '2000-01-07', '2000-01-08',\n",
       "               '2000-01-09', '2000-01-10', '2000-01-11', '2000-01-12',\n",
       "               '2000-01-13', '2000-01-14', '2000-01-15', '2000-01-16',\n",
       "               '2000-01-17', '2000-01-18', '2000-01-19', '2000-01-20',\n",
       "               '2000-01-21', '2000-01-22', '2000-01-23', '2000-01-24',\n",
       "               '2000-01-25', '2000-01-26', '2000-01-27', '2000-01-28',\n",
       "               '2000-01-29', '2000-01-30', '2000-01-31', '2000-02-01',\n",
       "               '2000-02-02', '2000-02-03', '2000-02-04', '2000-02-05',\n",
       "               '2000-02-06', '2000-02-07', '2000-02-08', '2000-02-09',\n",
       "               '2000-02-10', '2000-02-11', '2000-02-12', '2000-02-13',\n",
       "               '2000-02-14', '2000-02-15', '2000-02-16', '2000-02-17',\n",
       "               '2000-02-18', '2000-02-19', '2000-02-20', '2000-02-21',\n",
       "               '2000-02-22', '2000-02-23', '2000-02-24', '2000-02-25',\n",
       "               '2000-02-26', '2000-02-27', '2000-02-28', '2000-02-29',\n",
       "               '2000-03-01'],\n",
       "              dtype='datetime64[ns]', freq='D')"
      ]
     },
     "execution_count": 89,
     "metadata": {},
     "output_type": "execute_result"
    }
   ],
   "source": [
    "pd.date_range('1/1/2000 12:34:04','3/1/2000 23:23:08', normalize = True)"
   ]
  },
  {
   "cell_type": "code",
   "execution_count": 251,
   "metadata": {},
   "outputs": [
    {
     "data": {
      "text/plain": [
       "DatetimeIndex(['2018-04-23', '2018-04-24', '2018-04-25', '2018-04-26',\n",
       "               '2018-04-27', '2018-04-28', '2018-04-29', '2018-04-30',\n",
       "               '2018-05-01'],\n",
       "              dtype='datetime64[ns]', freq='D')"
      ]
     },
     "execution_count": 251,
     "metadata": {},
     "output_type": "execute_result"
    }
   ],
   "source": [
    "pd.date_range('2018/4/23  12:15:34' , '2018/5/1 12:15:06' , normalize = True)\n",
    "# 시와 분까지 같다고 해도 과감하게 일(day)까지 정규화한다."
   ]
  },
  {
   "cell_type": "markdown",
   "metadata": {},
   "source": [
    "## 10.3.2 빈도와 날짜 오프셋\n",
    "#### pandas에서 빈도란 : 기본빈도와 배수의 조합\n",
    "#### 기본빈도 : 'M'(월별) , 'H'(시간별)\n",
    "#### 날짜 오프셋 : 자세한 옵션 설명(p.408 )\n",
    "\n",
    "### 이런거 보면....datetime 모듈 말고 그냥 pandas 로 통일해서 다 가능할 것 같은데?\n"
   ]
  },
  {
   "cell_type": "code",
   "execution_count": 90,
   "metadata": {},
   "outputs": [],
   "source": [
    "from pandas.tseries.offsets import Hour, Minute"
   ]
  },
  {
   "cell_type": "code",
   "execution_count": null,
   "metadata": {},
   "outputs": [],
   "source": [
    "# datetime 의 timedelta 랑 유사한데?"
   ]
  },
  {
   "cell_type": "code",
   "execution_count": 91,
   "metadata": {},
   "outputs": [],
   "source": [
    "hour = Hour()"
   ]
  },
  {
   "cell_type": "code",
   "execution_count": 92,
   "metadata": {},
   "outputs": [
    {
     "data": {
      "text/plain": [
       "<Hour>"
      ]
     },
     "execution_count": 92,
     "metadata": {},
     "output_type": "execute_result"
    }
   ],
   "source": [
    "hour"
   ]
  },
  {
   "cell_type": "code",
   "execution_count": 93,
   "metadata": {},
   "outputs": [],
   "source": [
    "four_hour = Hour(4) # 오프셋의 곱은 인자에 숫자를 넘겨 사용"
   ]
  },
  {
   "cell_type": "code",
   "execution_count": 94,
   "metadata": {},
   "outputs": [
    {
     "data": {
      "text/plain": [
       "<4 * Hours>"
      ]
     },
     "execution_count": 94,
     "metadata": {},
     "output_type": "execute_result"
    }
   ],
   "source": [
    "four_hour"
   ]
  },
  {
   "cell_type": "code",
   "execution_count": 95,
   "metadata": {},
   "outputs": [
    {
     "data": {
      "text/plain": [
       "<260 * Minutes>"
      ]
     },
     "execution_count": 95,
     "metadata": {},
     "output_type": "execute_result"
    }
   ],
   "source": [
    "# 오프셋은 덧셈으로 합쳐질 수 있다.\n",
    "Hour(4) + Minute(20)"
   ]
  },
  {
   "cell_type": "code",
   "execution_count": 96,
   "metadata": {},
   "outputs": [
    {
     "data": {
      "text/plain": [
       "DatetimeIndex(['2000-01-01 00:00:00', '2000-01-01 04:00:00',\n",
       "               '2000-01-01 08:00:00', '2000-01-01 12:00:00',\n",
       "               '2000-01-01 16:00:00', '2000-01-01 20:00:00',\n",
       "               '2000-01-02 00:00:00', '2000-01-02 04:00:00',\n",
       "               '2000-01-02 08:00:00', '2000-01-02 12:00:00',\n",
       "               '2000-01-02 16:00:00', '2000-01-02 20:00:00',\n",
       "               '2000-01-03 00:00:00', '2000-01-03 04:00:00',\n",
       "               '2000-01-03 08:00:00', '2000-01-03 12:00:00',\n",
       "               '2000-01-03 16:00:00', '2000-01-03 20:00:00'],\n",
       "              dtype='datetime64[ns]', freq='4H')"
      ]
     },
     "execution_count": 96,
     "metadata": {},
     "output_type": "execute_result"
    }
   ],
   "source": [
    "pd.date_range('1/1/2000','1/3/2000 23:59:59', freq = '4h') # freq 에 오프셋을 넘겨 사용"
   ]
  },
  {
   "cell_type": "code",
   "execution_count": 97,
   "metadata": {},
   "outputs": [
    {
     "data": {
      "text/plain": [
       "DatetimeIndex(['2000-01-01 00:00:00', '2000-01-01 02:30:00',\n",
       "               '2000-01-01 05:00:00', '2000-01-01 07:30:00',\n",
       "               '2000-01-01 10:00:00', '2000-01-01 12:30:00',\n",
       "               '2000-01-01 15:00:00', '2000-01-01 17:30:00',\n",
       "               '2000-01-01 20:00:00', '2000-01-01 22:30:00',\n",
       "               '2000-01-02 01:00:00', '2000-01-02 03:30:00',\n",
       "               '2000-01-02 06:00:00', '2000-01-02 08:30:00',\n",
       "               '2000-01-02 11:00:00', '2000-01-02 13:30:00',\n",
       "               '2000-01-02 16:00:00', '2000-01-02 18:30:00',\n",
       "               '2000-01-02 21:00:00', '2000-01-02 23:30:00'],\n",
       "              dtype='datetime64[ns]', freq='150T')"
      ]
     },
     "execution_count": 97,
     "metadata": {},
     "output_type": "execute_result"
    }
   ],
   "source": [
    "pd.date_range('1/1/2000', periods = 20 , freq = '2h30min')"
   ]
  },
  {
   "cell_type": "markdown",
   "metadata": {},
   "source": [
    "### 월별 주차\n",
    "#### freq = 'WOM-3FRI' : Week Of Month 3째주 금요일\n",
    "#### 몇째주 무슨요일 : 월급 날짜 파악할 때 좋을 듯...."
   ]
  },
  {
   "cell_type": "code",
   "execution_count": 98,
   "metadata": {},
   "outputs": [],
   "source": [
    "rng = pd.date_range('1/1/2018', periods = 4, freq = 'WOM-2TUE')\n",
    "# 2018년 1월 1일 부터 가장 가까운 월별 둘째주 화요일의 날짜를 인덱싱한다."
   ]
  },
  {
   "cell_type": "code",
   "execution_count": 99,
   "metadata": {},
   "outputs": [
    {
     "data": {
      "text/plain": [
       "DatetimeIndex(['2018-01-09', '2018-02-13', '2018-03-13', '2018-04-10'], dtype='datetime64[ns]', freq='WOM-2TUE')"
      ]
     },
     "execution_count": 99,
     "metadata": {},
     "output_type": "execute_result"
    }
   ],
   "source": [
    "rng\n"
   ]
  },
  {
   "cell_type": "markdown",
   "metadata": {},
   "source": [
    "## 10.3.3 데이터 시프트\n",
    "#### 시프트 : 데이터를 시간 축에서 앞,뒤로 이동시키는 것\n",
    "#### pandas 나 series 의 하위 메서드\n",
    "#### timestamp 인덱스를 변경시키지 않고 데이터를 앞이나 뒤로 유연하게 이동시키기\n",
    "#### 여러 시계열에서 퍼센트 변화를 계산할 때 흔히 사용"
   ]
  },
  {
   "cell_type": "code",
   "execution_count": 100,
   "metadata": {},
   "outputs": [],
   "source": [
    "ts_shft = pd.Series(np.random.randint(10, size = 10),\n",
    "                   index = pd.date_range('1/1/2018', periods = 10))"
   ]
  },
  {
   "cell_type": "code",
   "execution_count": 101,
   "metadata": {},
   "outputs": [
    {
     "data": {
      "text/plain": [
       "2018-01-01    0\n",
       "2018-01-02    7\n",
       "2018-01-03    2\n",
       "2018-01-04    8\n",
       "2018-01-05    8\n",
       "2018-01-06    1\n",
       "2018-01-07    7\n",
       "2018-01-08    4\n",
       "2018-01-09    5\n",
       "2018-01-10    5\n",
       "Freq: D, dtype: int32"
      ]
     },
     "execution_count": 101,
     "metadata": {},
     "output_type": "execute_result"
    }
   ],
   "source": [
    "ts_shft"
   ]
  },
  {
   "cell_type": "code",
   "execution_count": 102,
   "metadata": {},
   "outputs": [
    {
     "data": {
      "text/plain": [
       "2018-01-01    2.0\n",
       "2018-01-02    8.0\n",
       "2018-01-03    8.0\n",
       "2018-01-04    1.0\n",
       "2018-01-05    7.0\n",
       "2018-01-06    4.0\n",
       "2018-01-07    5.0\n",
       "2018-01-08    5.0\n",
       "2018-01-09    NaN\n",
       "2018-01-10    NaN\n",
       "Freq: D, dtype: float64"
      ]
     },
     "execution_count": 102,
     "metadata": {},
     "output_type": "execute_result"
    }
   ],
   "source": [
    "ts_shft.shift(-2) # 앞으로 두 인덱스를 당긴다"
   ]
  },
  {
   "cell_type": "code",
   "execution_count": 103,
   "metadata": {},
   "outputs": [
    {
     "data": {
      "text/plain": [
       "2018-01-01    NaN\n",
       "2018-01-02    NaN\n",
       "2018-01-03    NaN\n",
       "2018-01-04    0.0\n",
       "2018-01-05    7.0\n",
       "2018-01-06    2.0\n",
       "2018-01-07    8.0\n",
       "2018-01-08    8.0\n",
       "2018-01-09    1.0\n",
       "2018-01-10    7.0\n",
       "Freq: D, dtype: float64"
      ]
     },
     "execution_count": 103,
     "metadata": {},
     "output_type": "execute_result"
    }
   ],
   "source": [
    "ts_shft.shift(3) # 뒤로 세 인덱스 민다."
   ]
  },
  {
   "cell_type": "code",
   "execution_count": 104,
   "metadata": {},
   "outputs": [
    {
     "data": {
      "text/plain": [
       "2018-01-01         NaN\n",
       "2018-01-02         inf\n",
       "2018-01-03   -0.714286\n",
       "2018-01-04    3.000000\n",
       "2018-01-05    0.000000\n",
       "2018-01-06   -0.875000\n",
       "2018-01-07    6.000000\n",
       "2018-01-08   -0.428571\n",
       "2018-01-09    0.250000\n",
       "2018-01-10    0.000000\n",
       "Freq: D, dtype: float64"
      ]
     },
     "execution_count": 104,
     "metadata": {},
     "output_type": "execute_result"
    }
   ],
   "source": [
    "ts_shft / ts_shft.shift(1) - 1 # 퍼센트 구하기(현 데이터 / 전 데이터)"
   ]
  },
  {
   "cell_type": "raw",
   "metadata": {},
   "source": [
    "freq(빈도) 를 넘겨 timestamp 가 확장되도록 할 수 있다.\n",
    "ㅓ"
   ]
  },
  {
   "cell_type": "code",
   "execution_count": 105,
   "metadata": {},
   "outputs": [
    {
     "data": {
      "text/plain": [
       "2018-01-04    0\n",
       "2018-01-05    7\n",
       "2018-01-06    2\n",
       "2018-01-07    8\n",
       "2018-01-08    8\n",
       "2018-01-09    1\n",
       "2018-01-10    7\n",
       "2018-01-11    4\n",
       "2018-01-12    5\n",
       "2018-01-13    5\n",
       "Freq: D, dtype: int32"
      ]
     },
     "execution_count": 105,
     "metadata": {},
     "output_type": "execute_result"
    }
   ],
   "source": [
    "ts_shft.shift(3, freq = 'D') \n",
    "# 아래로 밀었다. \n",
    "# 아래의 3개가 원래는 10일까지 데이터 였는데 freq = 'D'로 일별로 추측하여 3일을 추가한것\n"
   ]
  },
  {
   "cell_type": "code",
   "execution_count": 106,
   "metadata": {},
   "outputs": [
    {
     "data": {
      "text/plain": [
       "2018-03-31    0\n",
       "2018-03-31    7\n",
       "2018-03-31    2\n",
       "2018-03-31    8\n",
       "2018-03-31    8\n",
       "2018-03-31    1\n",
       "2018-03-31    7\n",
       "2018-03-31    4\n",
       "2018-03-31    5\n",
       "2018-03-31    5\n",
       "dtype: int32"
      ]
     },
     "execution_count": 106,
     "metadata": {},
     "output_type": "execute_result"
    }
   ],
   "source": [
    "ts_shft.shift(3, freq = 'M')"
   ]
  },
  {
   "cell_type": "markdown",
   "metadata": {},
   "source": [
    "### 오프셋 만큼 날짜 시프트하기\n",
    "#### 날짜 오프셋은 datetime이나 Timestamp 객체 둘 다에 적용가능"
   ]
  },
  {
   "cell_type": "code",
   "execution_count": 107,
   "metadata": {},
   "outputs": [],
   "source": [
    "from pandas.tseries.offsets import Day, MonthEnd"
   ]
  },
  {
   "cell_type": "code",
   "execution_count": 108,
   "metadata": {},
   "outputs": [],
   "source": [
    "now = datetime(2011, 11, 17)"
   ]
  },
  {
   "cell_type": "code",
   "execution_count": 109,
   "metadata": {},
   "outputs": [
    {
     "data": {
      "text/plain": [
       "Timestamp('2011-11-20 00:00:00')"
      ]
     },
     "execution_count": 109,
     "metadata": {},
     "output_type": "execute_result"
    }
   ],
   "source": [
    "now + 3 * Day()"
   ]
  },
  {
   "cell_type": "code",
   "execution_count": 110,
   "metadata": {},
   "outputs": [
    {
     "data": {
      "text/plain": [
       "Timestamp('2011-11-30 00:00:00')"
      ]
     },
     "execution_count": 110,
     "metadata": {},
     "output_type": "execute_result"
    }
   ],
   "source": [
    "now + MonthEnd() \n",
    "# now에 저장되어 있는 해당 날짜의 달의 마지막 날짜를 반환\n",
    "# 이거 조금 신기"
   ]
  },
  {
   "cell_type": "raw",
   "metadata": {},
   "source": [
    "MonthEnd(now) # 이렇게는 못함....\n",
    "\n",
    "# 숫자 다루듯이 생각해야함(숫자나 operator)"
   ]
  },
  {
   "cell_type": "code",
   "execution_count": 111,
   "metadata": {},
   "outputs": [
    {
     "data": {
      "text/plain": [
       "Timestamp('2011-12-31 00:00:00')"
      ]
     },
     "execution_count": 111,
     "metadata": {},
     "output_type": "execute_result"
    }
   ],
   "source": [
    "now + MonthEnd(2) # 다음 달의 마지막 날짜를 반환"
   ]
  },
  {
   "cell_type": "raw",
   "metadata": {},
   "source": [
    "rollback / rollforwark 메서드\n",
    "명시적으로 날짜를 앞으로 당기거나 뒤로 밀 수 있다"
   ]
  },
  {
   "cell_type": "code",
   "execution_count": 253,
   "metadata": {},
   "outputs": [
    {
     "data": {
      "text/plain": [
       "Timestamp('2011-10-31 00:00:00')"
      ]
     },
     "execution_count": 253,
     "metadata": {},
     "output_type": "execute_result"
    }
   ],
   "source": [
    "now + MonthEnd(-1)"
   ]
  },
  {
   "cell_type": "code",
   "execution_count": 112,
   "metadata": {
    "scrolled": true
   },
   "outputs": [
    {
     "data": {
      "text/plain": [
       "Timestamp('2011-10-31 00:00:00')"
      ]
     },
     "execution_count": 112,
     "metadata": {},
     "output_type": "execute_result"
    }
   ],
   "source": [
    "MonthEnd().rollback(now) # 해당 날짜의 전 달의 마지막 날"
   ]
  },
  {
   "cell_type": "code",
   "execution_count": 113,
   "metadata": {},
   "outputs": [
    {
     "data": {
      "text/plain": [
       "Timestamp('2011-11-30 00:00:00')"
      ]
     },
     "execution_count": 113,
     "metadata": {},
     "output_type": "execute_result"
    }
   ],
   "source": [
    "MonthEnd().rollforward(now) # 해당 날짜의 달의 마지막 날"
   ]
  },
  {
   "cell_type": "raw",
   "metadata": {},
   "source": [
    "아닌뒈? 아닌데? 이렇게 해도 되는데?"
   ]
  },
  {
   "cell_type": "code",
   "execution_count": 254,
   "metadata": {},
   "outputs": [
    {
     "data": {
      "text/plain": [
       "Timestamp('2011-10-31 00:00:00')"
      ]
     },
     "execution_count": 254,
     "metadata": {},
     "output_type": "execute_result"
    }
   ],
   "source": [
    "now + MonthEnd(-1) # 전 달의 마지막 날"
   ]
  },
  {
   "cell_type": "code",
   "execution_count": 255,
   "metadata": {},
   "outputs": [
    {
     "data": {
      "text/plain": [
       "Timestamp('2011-11-30 00:00:00')"
      ]
     },
     "execution_count": 255,
     "metadata": {},
     "output_type": "execute_result"
    }
   ],
   "source": [
    "now + MonthEnd() # 현재 달의 마지막 날"
   ]
  },
  {
   "cell_type": "markdown",
   "metadata": {},
   "source": [
    "### groupby와 오프셋 같이 사용하기"
   ]
  },
  {
   "cell_type": "code",
   "execution_count": 114,
   "metadata": {},
   "outputs": [],
   "source": [
    "ts_off = pd.Series(np.random.randint(20, size = 20),\n",
    "                  index = pd.date_range('1/1/2018', periods = 20, freq = '4d'))"
   ]
  },
  {
   "cell_type": "code",
   "execution_count": 115,
   "metadata": {},
   "outputs": [
    {
     "data": {
      "text/plain": [
       "2018-01-01    14\n",
       "2018-01-05    19\n",
       "2018-01-09     8\n",
       "2018-01-13    13\n",
       "2018-01-17    12\n",
       "2018-01-21    10\n",
       "2018-01-25    13\n",
       "2018-01-29    13\n",
       "2018-02-02    13\n",
       "2018-02-06    12\n",
       "2018-02-10     8\n",
       "2018-02-14    13\n",
       "2018-02-18    12\n",
       "2018-02-22     6\n",
       "2018-02-26    15\n",
       "2018-03-02     1\n",
       "2018-03-06     2\n",
       "2018-03-10     7\n",
       "2018-03-14    11\n",
       "2018-03-18     0\n",
       "Freq: 4D, dtype: int32"
      ]
     },
     "execution_count": 115,
     "metadata": {},
     "output_type": "execute_result"
    }
   ],
   "source": [
    "ts_off"
   ]
  },
  {
   "cell_type": "code",
   "execution_count": 116,
   "metadata": {},
   "outputs": [
    {
     "data": {
      "text/plain": [
       "2018-01-31    102\n",
       "2018-02-28     79\n",
       "2018-03-31     21\n",
       "dtype: int32"
      ]
     },
     "execution_count": 116,
     "metadata": {},
     "output_type": "execute_result"
    }
   ],
   "source": [
    "ts_off.groupby(MonthEnd()).sum() \n",
    "# 인덱스(날짜)를 모두 해당 날짜의 마지막 날로 바꾸고, 그 값들을 기준으로 그룹화 하여 계산한 것\n",
    "# 즉 그룹화를 통해 \n",
    "#'1/1/2018' ~ '1/31/2018' -> '2018-01-31' 그룹으로 묶이고\n",
    "# .... 이런식으로 그룹이 3개가 생긴것이다."
   ]
  },
  {
   "cell_type": "code",
   "execution_count": 117,
   "metadata": {},
   "outputs": [
    {
     "name": "stderr",
     "output_type": "stream",
     "text": [
      "c:\\program files\\python36\\lib\\site-packages\\ipykernel_launcher.py:1: FutureWarning: how in .resample() is deprecated\n",
      "the new syntax is .resample(...).sum()\n",
      "  \"\"\"Entry point for launching an IPython kernel.\n"
     ]
    },
    {
     "data": {
      "text/plain": [
       "2018-01-31    102\n",
       "2018-02-28     79\n",
       "2018-03-31     21\n",
       "Freq: M, dtype: int32"
      ]
     },
     "execution_count": 117,
     "metadata": {},
     "output_type": "execute_result"
    }
   ],
   "source": [
    "ts_off.resample('M', how = 'sum') \n",
    "# 리샘플링 : 빈도를 낮추거나 높이기\n",
    "# 같은 방법"
   ]
  },
  {
   "cell_type": "markdown",
   "metadata": {},
   "source": [
    "# 10.4 시간대 다루기\n",
    "#### 일광절약시간(DST) :  문제를 일으키는 흔한 요인\n",
    "#### UTC 로부터 떨어진 offset으로 각 나라,위치의 시간 파악\n",
    "#### 파이썬의 시간대 정보 \n",
    "#### pytz : 전 세계의 시간대 정보를 모다둔 올슨 데이터베이스를 담고 있는 서브파티 라이브러리 / pandas는 이를 이미 사용하고 있다.\n"
   ]
  },
  {
   "cell_type": "code",
   "execution_count": 118,
   "metadata": {},
   "outputs": [],
   "source": [
    "import pytz"
   ]
  },
  {
   "cell_type": "raw",
   "metadata": {},
   "source": [
    "pytz.common_timezones: 시간대 정보가 저장되어 있는 '지역' 리스트\n",
    "pytz.timezone('지역') : 위의 리스트의 요소를 인자로 넣어 해당 지역을 시간 반환"
   ]
  },
  {
   "cell_type": "code",
   "execution_count": 119,
   "metadata": {},
   "outputs": [
    {
     "data": {
      "text/plain": [
       "['US/Eastern', 'US/Hawaii', 'US/Mountain', 'US/Pacific', 'UTC']"
      ]
     },
     "execution_count": 119,
     "metadata": {},
     "output_type": "execute_result"
    }
   ],
   "source": [
    "pytz.common_timezones[-5:] # 시간대 정보가 있는 지역들"
   ]
  },
  {
   "cell_type": "code",
   "execution_count": 120,
   "metadata": {
    "scrolled": true
   },
   "outputs": [
    {
     "data": {
      "text/plain": [
       "<DstTzInfo 'US/Hawaii' LMT-1 day, 13:29:00 STD>"
      ]
     },
     "execution_count": 120,
     "metadata": {},
     "output_type": "execute_result"
    }
   ],
   "source": [
    "pytz.timezone('US/Hawaii')"
   ]
  },
  {
   "cell_type": "markdown",
   "metadata": {},
   "source": [
    "## 10.4.1 지역화와 변환\n",
    "#### pandas에서 시계열은 시간대를 엄격히 다루지 않는다.\n",
    "#### 지역화 적용 x : 지역마다 시간을 재는 방식이 다른 것(예 : 일광절약시간) 을 세세히 감안하지 않는다."
   ]
  },
  {
   "cell_type": "code",
   "execution_count": 121,
   "metadata": {},
   "outputs": [
    {
     "data": {
      "text/plain": [
       "2011-01-02   -0.277957\n",
       "2011-01-05   -1.521713\n",
       "2011-01-07   -0.216465\n",
       "2011-01-08   -0.675459\n",
       "2011-01-10   -0.286333\n",
       "2011-01-12    2.030976\n",
       "dtype: float64"
      ]
     },
     "execution_count": 121,
     "metadata": {},
     "output_type": "execute_result"
    }
   ],
   "source": [
    "ts"
   ]
  },
  {
   "cell_type": "code",
   "execution_count": 122,
   "metadata": {},
   "outputs": [
    {
     "name": "stdout",
     "output_type": "stream",
     "text": [
      "None\n"
     ]
    }
   ],
   "source": [
    "print(ts.index.tz) # tz의 값은 None"
   ]
  },
  {
   "cell_type": "raw",
   "metadata": {},
   "source": [
    "시간대를 정하여 날짜 범위를 생성할 수 있다.\n",
    "pd.date_range(  ,   ,   ,  tz = 'UTC' ) 옵션"
   ]
  },
  {
   "cell_type": "code",
   "execution_count": 123,
   "metadata": {},
   "outputs": [
    {
     "data": {
      "text/plain": [
       "DatetimeIndex(['2018-01-31', '2018-02-28', '2018-03-31', '2018-04-30',\n",
       "               '2018-05-31', '2018-06-30', '2018-07-31', '2018-08-31',\n",
       "               '2018-09-30', '2018-10-31', '2018-11-30', '2018-12-31',\n",
       "               '2019-01-31', '2019-02-28', '2019-03-31', '2019-04-30',\n",
       "               '2019-05-31', '2019-06-30', '2019-07-31', '2019-08-31'],\n",
       "              dtype='datetime64[ns, UTC]', freq='M')"
      ]
     },
     "execution_count": 123,
     "metadata": {},
     "output_type": "execute_result"
    }
   ],
   "source": [
    "pd.date_range('1/1/2018', periods = 20, freq = 'M', tz = 'UTC')"
   ]
  },
  {
   "cell_type": "code",
   "execution_count": 124,
   "metadata": {},
   "outputs": [],
   "source": [
    "# 지역화 시간하기 tz_localize 사용\n",
    "ts_utc = ts.tz_localize('UTC') \n",
    "# UTC 옵션을 통해 표준 시간대로 맞춘다.\n"
   ]
  },
  {
   "cell_type": "code",
   "execution_count": 125,
   "metadata": {},
   "outputs": [
    {
     "data": {
      "text/plain": [
       "2011-01-02 00:00:00+00:00   -0.277957\n",
       "2011-01-05 00:00:00+00:00   -1.521713\n",
       "2011-01-07 00:00:00+00:00   -0.216465\n",
       "2011-01-08 00:00:00+00:00   -0.675459\n",
       "2011-01-10 00:00:00+00:00   -0.286333\n",
       "2011-01-12 00:00:00+00:00    2.030976\n",
       "dtype: float64"
      ]
     },
     "execution_count": 125,
     "metadata": {},
     "output_type": "execute_result"
    }
   ],
   "source": [
    "ts_utc"
   ]
  },
  {
   "cell_type": "raw",
   "metadata": {},
   "source": [
    "지역화가 된 후 tz_convert로 다른 시간대로 변경 가능하다.\n",
    "여기서는 UTC 로 바꾸어 표준 시간대로 설정 후 지역시간으로 바꾸어준다."
   ]
  },
  {
   "cell_type": "code",
   "execution_count": 126,
   "metadata": {},
   "outputs": [
    {
     "data": {
      "text/plain": [
       "2011-01-01 19:00:00-05:00   -0.277957\n",
       "2011-01-04 19:00:00-05:00   -1.521713\n",
       "2011-01-06 19:00:00-05:00   -0.216465\n",
       "2011-01-07 19:00:00-05:00   -0.675459\n",
       "2011-01-09 19:00:00-05:00   -0.286333\n",
       "2011-01-11 19:00:00-05:00    2.030976\n",
       "dtype: float64"
      ]
     },
     "execution_count": 126,
     "metadata": {},
     "output_type": "execute_result"
    }
   ],
   "source": [
    "ts_utc.tz_convert('US/Eastern')"
   ]
  },
  {
   "cell_type": "markdown",
   "metadata": {},
   "source": [
    "## 10.4.2 시간대 고려해 Timestamp 객체 \n",
    "#### timestamp : 도장처럼 일정 날짜나 시간을 딱!!!! 찍어 놓은 객체\n",
    "#### timestamp 객체도 시간대를 고려한 형태로 변환 가능"
   ]
  },
  {
   "cell_type": "code",
   "execution_count": 127,
   "metadata": {},
   "outputs": [],
   "source": [
    "t_stamp = pd.Timestamp('2018-1-1 4:00')"
   ]
  },
  {
   "cell_type": "code",
   "execution_count": 128,
   "metadata": {},
   "outputs": [],
   "source": [
    "t_stamp_utc = t_stamp.tz_localize('UTC') # UTC(표준시간 형식으로 바꾸어준다.)"
   ]
  },
  {
   "cell_type": "code",
   "execution_count": 129,
   "metadata": {},
   "outputs": [
    {
     "data": {
      "text/plain": [
       "Timestamp('2018-01-01 04:00:00+0000', tz='UTC')"
      ]
     },
     "execution_count": 129,
     "metadata": {},
     "output_type": "execute_result"
    }
   ],
   "source": [
    "t_stamp_utc"
   ]
  },
  {
   "cell_type": "code",
   "execution_count": 130,
   "metadata": {},
   "outputs": [
    {
     "data": {
      "text/plain": [
       "Timestamp('2017-12-31 18:00:00-1000', tz='US/Hawaii')"
      ]
     },
     "execution_count": 130,
     "metadata": {},
     "output_type": "execute_result"
    }
   ],
   "source": [
    "t_stamp_utc.tz_convert('US/Hawaii') # 표준시간대에서 tz_convert('지역') 메서드를 통해 해당 지역의 시간으로 바꾸어준다."
   ]
  },
  {
   "cell_type": "raw",
   "metadata": {},
   "source": [
    "생성 시 부터 해당 지역 시간으로 정해줄 수 있다. \n",
    "tz = '지역' 옵션"
   ]
  },
  {
   "cell_type": "code",
   "execution_count": 131,
   "metadata": {},
   "outputs": [],
   "source": [
    "t_stamp_moscow = pd.Timestamp('2018/1/1 16:23', tz = 'Europe/Moscow')"
   ]
  },
  {
   "cell_type": "code",
   "execution_count": 132,
   "metadata": {},
   "outputs": [
    {
     "data": {
      "text/plain": [
       "Timestamp('2018-01-01 16:23:00+0300', tz='Europe/Moscow')"
      ]
     },
     "execution_count": 132,
     "metadata": {},
     "output_type": "execute_result"
    }
   ],
   "source": [
    "t_stamp_moscow"
   ]
  },
  {
   "cell_type": "raw",
   "metadata": {},
   "source": [
    "Timestamp 객체 : UTC 타임스탬프 값을 UNIX epoch(1970/1/1 부터 ) 현재까지의 나노초로 저장"
   ]
  },
  {
   "cell_type": "code",
   "execution_count": 133,
   "metadata": {},
   "outputs": [
    {
     "data": {
      "text/plain": [
       "1514779200000000000"
      ]
     },
     "execution_count": 133,
     "metadata": {},
     "output_type": "execute_result"
    }
   ],
   "source": [
    "t_stamp_utc.value # 나노초로 저장"
   ]
  },
  {
   "cell_type": "code",
   "execution_count": 134,
   "metadata": {},
   "outputs": [
    {
     "data": {
      "text/plain": [
       "1514779200000000000"
      ]
     },
     "execution_count": 134,
     "metadata": {},
     "output_type": "execute_result"
    }
   ],
   "source": [
    "t_stamp_utc.tz_convert('Asia/Seoul').value"
   ]
  },
  {
   "cell_type": "markdown",
   "metadata": {},
   "source": [
    "## 10.4.3 다른 시간대 간의 연산\n",
    "#### timestamp 객체 : 내부적으로 UTC 로 저장된다. 따라서 추가적인 변환 필요없음."
   ]
  },
  {
   "cell_type": "code",
   "execution_count": 135,
   "metadata": {},
   "outputs": [],
   "source": [
    "ts.index = pd.date_range('1/1/2018 09:30' , periods = 6, freq = 'B') # 'B' : 영업일(평일)"
   ]
  },
  {
   "cell_type": "code",
   "execution_count": 136,
   "metadata": {},
   "outputs": [
    {
     "data": {
      "text/plain": [
       "2018-01-01 09:30:00   -0.277957\n",
       "2018-01-02 09:30:00   -1.521713\n",
       "2018-01-03 09:30:00   -0.216465\n",
       "2018-01-04 09:30:00   -0.675459\n",
       "2018-01-05 09:30:00   -0.286333\n",
       "2018-01-08 09:30:00    2.030976\n",
       "Freq: B, dtype: float64"
      ]
     },
     "execution_count": 136,
     "metadata": {},
     "output_type": "execute_result"
    }
   ],
   "source": [
    "ts"
   ]
  },
  {
   "cell_type": "code",
   "execution_count": 137,
   "metadata": {},
   "outputs": [],
   "source": [
    "#ts1 = ts[:4].tz_localize('Europe/London')\n",
    "#ts2 = ts[2:].tz_convert('Europe/Moscow')"
   ]
  },
  {
   "cell_type": "markdown",
   "metadata": {},
   "source": [
    "# 10.5 기간과 기간 연산\n",
    "#### pd.Period클래스\n",
    "#### pd.Period(   )"
   ]
  },
  {
   "cell_type": "code",
   "execution_count": 138,
   "metadata": {},
   "outputs": [
    {
     "data": {
      "text/plain": [
       "Period('2018', 'A-DEC')"
      ]
     },
     "execution_count": 138,
     "metadata": {},
     "output_type": "execute_result"
    }
   ],
   "source": [
    "p = pd.Period(2018, freq = 'A-DEC') # 2018/1/1 ~ 2018/12/31\n",
    "\n",
    "p"
   ]
  },
  {
   "cell_type": "code",
   "execution_count": 139,
   "metadata": {},
   "outputs": [
    {
     "data": {
      "text/plain": [
       "Period('2023', 'A-DEC')"
      ]
     },
     "execution_count": 139,
     "metadata": {},
     "output_type": "execute_result"
    }
   ],
   "source": [
    "p + 5 # 5년 뒤로"
   ]
  },
  {
   "cell_type": "code",
   "execution_count": 140,
   "metadata": {},
   "outputs": [
    {
     "data": {
      "text/plain": [
       "Period('2016', 'A-DEC')"
      ]
     },
     "execution_count": 140,
     "metadata": {},
     "output_type": "execute_result"
    }
   ],
   "source": [
    "p -2 # 2년 앞으로"
   ]
  },
  {
   "cell_type": "raw",
   "metadata": {},
   "source": [
    "두 기간의 빈도(freq) 가 같다면 두 기간의 차는 둘 사이의 간격이 된다."
   ]
  },
  {
   "cell_type": "code",
   "execution_count": 141,
   "metadata": {},
   "outputs": [
    {
     "data": {
      "text/plain": [
       "10"
      ]
     },
     "execution_count": 141,
     "metadata": {},
     "output_type": "execute_result"
    }
   ],
   "source": [
    "pd.Period('3/4/2028', freq = 'A-DEC') - p"
   ]
  },
  {
   "cell_type": "markdown",
   "metadata": {},
   "source": [
    "#### pd.period_range( ) : 기간 범위"
   ]
  },
  {
   "cell_type": "code",
   "execution_count": 142,
   "metadata": {},
   "outputs": [],
   "source": [
    "rng = pd.period_range('1/1/2000','6/30/2000', freq = 'M')"
   ]
  },
  {
   "cell_type": "markdown",
   "metadata": {},
   "source": [
    "#### PeriodIndex 클래스 : 순차적인 기간을 저장 / 축 색인과 동일하게 적용된다."
   ]
  },
  {
   "cell_type": "code",
   "execution_count": 143,
   "metadata": {},
   "outputs": [
    {
     "data": {
      "text/plain": [
       "2000-01    1.245669\n",
       "2000-02   -2.338036\n",
       "2000-03    0.146969\n",
       "2000-04    1.390020\n",
       "2000-05    0.418426\n",
       "2000-06   -0.630898\n",
       "Freq: M, dtype: float64"
      ]
     },
     "execution_count": 143,
     "metadata": {},
     "output_type": "execute_result"
    }
   ],
   "source": [
    "pd.Series(np.random.randn(6), index = rng)"
   ]
  },
  {
   "cell_type": "raw",
   "metadata": {},
   "source": [
    "문자열 배열을 이용해 PeriodIndex 클래스 생성가능"
   ]
  },
  {
   "cell_type": "code",
   "execution_count": 144,
   "metadata": {},
   "outputs": [],
   "source": [
    "values = ['2001Q3','2002Q2','2003Q1']"
   ]
  },
  {
   "cell_type": "code",
   "execution_count": 145,
   "metadata": {},
   "outputs": [
    {
     "data": {
      "text/plain": [
       "PeriodIndex(['2001Q3', '2002Q2', '2003Q1'], dtype='period[Q-DEC]', freq='Q-DEC')"
      ]
     },
     "execution_count": 145,
     "metadata": {},
     "output_type": "execute_result"
    }
   ],
   "source": [
    "index_v = pd.PeriodIndex(values , freq = 'Q-DEC')\n",
    "index_v"
   ]
  },
  {
   "cell_type": "markdown",
   "metadata": {},
   "source": [
    "## 10.5.1 Period의 빈도 변환\n",
    "#### asfreq( ) : 다른 빈도로 변환\n"
   ]
  },
  {
   "cell_type": "code",
   "execution_count": 146,
   "metadata": {},
   "outputs": [
    {
     "data": {
      "text/plain": [
       "Period('2018', 'A-DEC')"
      ]
     },
     "execution_count": 146,
     "metadata": {},
     "output_type": "execute_result"
    }
   ],
   "source": [
    "p # 새해 첫날부터 시작하는 연간 빈도"
   ]
  },
  {
   "cell_type": "code",
   "execution_count": 147,
   "metadata": {},
   "outputs": [
    {
     "data": {
      "text/plain": [
       "Period('2018-01', 'M')"
      ]
     },
     "execution_count": 147,
     "metadata": {},
     "output_type": "execute_result"
    }
   ],
   "source": [
    "p.asfreq('M', how = 'start') # 연간 빈도로 변환하였다."
   ]
  },
  {
   "cell_type": "code",
   "execution_count": 148,
   "metadata": {},
   "outputs": [
    {
     "data": {
      "text/plain": [
       "Period('2018-12', 'M')"
      ]
     },
     "execution_count": 148,
     "metadata": {},
     "output_type": "execute_result"
    }
   ],
   "source": [
    "p.asfreq('M', how = 'end')"
   ]
  },
  {
   "cell_type": "markdown",
   "metadata": {},
   "source": [
    "## 10.5.2 분기 빈도\n",
    "#### 분기 데이터 : 재정, 금융 및 여러 분야에서 사용\n",
    "#### "
   ]
  },
  {
   "cell_type": "code",
   "execution_count": 149,
   "metadata": {},
   "outputs": [],
   "source": [
    "pq = pd.Period('2012Q4', freq = 'Q-JAN')"
   ]
  },
  {
   "cell_type": "code",
   "execution_count": 150,
   "metadata": {},
   "outputs": [
    {
     "data": {
      "text/plain": [
       "Period('2012Q4', 'Q-JAN')"
      ]
     },
     "execution_count": 150,
     "metadata": {},
     "output_type": "execute_result"
    }
   ],
   "source": [
    "pq"
   ]
  },
  {
   "cell_type": "code",
   "execution_count": 151,
   "metadata": {},
   "outputs": [
    {
     "data": {
      "text/plain": [
       "Period('2011-11-01', 'D')"
      ]
     },
     "execution_count": 151,
     "metadata": {},
     "output_type": "execute_result"
    }
   ],
   "source": [
    "pq.asfreq('D', 'start')"
   ]
  },
  {
   "cell_type": "code",
   "execution_count": 152,
   "metadata": {},
   "outputs": [
    {
     "data": {
      "text/plain": [
       "Period('2018Q2', 'Q-AUG')"
      ]
     },
     "execution_count": 152,
     "metadata": {},
     "output_type": "execute_result"
    }
   ],
   "source": [
    "pd.Period('2018/1/30', freq = 'Q-AUG')"
   ]
  },
  {
   "cell_type": "code",
   "execution_count": null,
   "metadata": {},
   "outputs": [],
   "source": []
  },
  {
   "cell_type": "markdown",
   "metadata": {},
   "source": [
    "## 10.6 리샘플링과 빈도 변환\n",
    "#### 리샘플링 : 빈도(freq)를 변환하는 과정\n",
    "#### pd.resample() 메서드\n",
    "##### 다운샘플링 : 상위 빈도 -> 하위 빈도 / 많은 빈도 -> 적은 빈도 ex) 일 -> 월\n",
    "##### 업샘플링 : 하위 빈도 -> 상위 빈도\n",
    "#### resample 메서드 옵션 설명 p.426\n",
    "#### closed = 'right' or 'left' : 전체에서 연산의 시작점을 앞으로 할지 뒤로 할지의 \n",
    "#### label = 'right' or 'left' : 연산 후 각 그룹에서 사용할 datetime 인덱스 값을 어떤 것으로 할지\n",
    "#### loffset : 반환 결과 값의 datetime 인덱스를 더 조정하고 싶을 때/ label 옵션보다 더 나아가서"
   ]
  },
  {
   "cell_type": "code",
   "execution_count": 153,
   "metadata": {},
   "outputs": [
    {
     "data": {
      "text/plain": [
       "PeriodIndex(['2000-01', '2000-02', '2000-03', '2000-04', '2000-05', '2000-06'], dtype='period[M]', freq='M')"
      ]
     },
     "execution_count": 153,
     "metadata": {},
     "output_type": "execute_result"
    }
   ],
   "source": [
    "\n",
    "rng"
   ]
  },
  {
   "cell_type": "code",
   "execution_count": 154,
   "metadata": {},
   "outputs": [],
   "source": [
    "rng_rs = pd.date_range('1/1/2018', periods = 100, frq = 'D') \n",
    "# 빈도를 day 로 하여 datetime 객체를 생성"
   ]
  },
  {
   "cell_type": "code",
   "execution_count": 155,
   "metadata": {},
   "outputs": [],
   "source": [
    "ts_rs = pd.Series(np.random.randint(100, size = len(rng_rs)), index = rng_rs)"
   ]
  },
  {
   "cell_type": "code",
   "execution_count": 156,
   "metadata": {},
   "outputs": [
    {
     "data": {
      "text/plain": [
       "2018-01-01    34\n",
       "2018-01-02    52\n",
       "2018-01-03    10\n",
       "2018-01-04    71\n",
       "2018-01-05    63\n",
       "Freq: D, dtype: int32"
      ]
     },
     "execution_count": 156,
     "metadata": {},
     "output_type": "execute_result"
    }
   ],
   "source": [
    "ts_rs.head()"
   ]
  },
  {
   "cell_type": "code",
   "execution_count": 157,
   "metadata": {},
   "outputs": [
    {
     "name": "stderr",
     "output_type": "stream",
     "text": [
      "c:\\program files\\python36\\lib\\site-packages\\ipykernel_launcher.py:1: FutureWarning: how in .resample() is deprecated\n",
      "the new syntax is .resample(...).mean()\n",
      "  \"\"\"Entry point for launching an IPython kernel.\n"
     ]
    },
    {
     "data": {
      "text/plain": [
       "2018-01-31    45.225806\n",
       "2018-02-28    60.000000\n",
       "2018-03-31    51.032258\n",
       "2018-04-30    36.400000\n",
       "Freq: M, dtype: float64"
      ]
     },
     "execution_count": 157,
     "metadata": {},
     "output_type": "execute_result"
    }
   ],
   "source": [
    "ts_rs.resample('M', how = 'mean')\n",
    "# resampling을 이용하여 빈도는 일별(day) -> 월별(Month) 로 바꾸어준다.\n",
    "# 바꿀 시 사용할 데이터는 평균값으로 계산하여 산출한다. how = 'mean'\n",
    "# 취합한 데이터를 mean 적용하여 매칭할 datetime 인덱스는 월별 마지막 날짜로 default 로 잡혀있다."
   ]
  },
  {
   "cell_type": "code",
   "execution_count": 158,
   "metadata": {},
   "outputs": [
    {
     "data": {
      "text/plain": [
       "45.225806451612904"
      ]
     },
     "execution_count": 158,
     "metadata": {},
     "output_type": "execute_result"
    }
   ],
   "source": [
    "ts_rs['2018-01'].mean() # 월별 데이터에 평균값을 취한 것과 값이 일치한다."
   ]
  },
  {
   "cell_type": "code",
   "execution_count": 159,
   "metadata": {},
   "outputs": [
    {
     "name": "stderr",
     "output_type": "stream",
     "text": [
      "c:\\program files\\python36\\lib\\site-packages\\ipykernel_launcher.py:1: FutureWarning: how in .resample() is deprecated\n",
      "the new syntax is .resample(...).mean()\n",
      "  \"\"\"Entry point for launching an IPython kernel.\n"
     ]
    },
    {
     "data": {
      "text/plain": [
       "2018-01    45.225806\n",
       "2018-02    60.000000\n",
       "2018-03    51.032258\n",
       "2018-04    36.400000\n",
       "Freq: M, dtype: float64"
      ]
     },
     "execution_count": 159,
     "metadata": {},
     "output_type": "execute_result"
    }
   ],
   "source": [
    "ts_rs.resample('M', how = 'mean' , kind = 'period')\n",
    "# kind 옵션을 사용하여 월별 취합에서 datetime 인덱스를 어떤식으로 설정할 것인지 가능"
   ]
  },
  {
   "cell_type": "markdown",
   "metadata": {},
   "source": [
    "## 10.6.1 다운샘플링\n",
    "#### 시계열 조각을 크기를 원하는 빈도로 정의\n",
    "#### 각 간격은 한쪽이 열려있게 된다.\n",
    "#### 양 끝 중 한쪽만 포함한다는 말\n",
    "#### 고려사항\n",
    "##### 각 간격의 양 끝 중 열어둘 쪽 : closed = 'right' or 'left' 옵션\n",
    "##### 집계하려는 구간의 라벨을 간격의 사작으로 할 지 끝으로 할지의 여부"
   ]
  },
  {
   "cell_type": "code",
   "execution_count": 160,
   "metadata": {},
   "outputs": [],
   "source": [
    "rng_ds = pd.date_range('1/1/2018', periods = 12, freq = 'T')"
   ]
  },
  {
   "cell_type": "code",
   "execution_count": 161,
   "metadata": {},
   "outputs": [],
   "source": [
    "ts_ds = pd.Series(np.arange(12), index= rng_ds)"
   ]
  },
  {
   "cell_type": "code",
   "execution_count": 162,
   "metadata": {},
   "outputs": [
    {
     "data": {
      "text/plain": [
       "2018-01-01 00:00:00     0\n",
       "2018-01-01 00:01:00     1\n",
       "2018-01-01 00:02:00     2\n",
       "2018-01-01 00:03:00     3\n",
       "2018-01-01 00:04:00     4\n",
       "2018-01-01 00:05:00     5\n",
       "2018-01-01 00:06:00     6\n",
       "2018-01-01 00:07:00     7\n",
       "2018-01-01 00:08:00     8\n",
       "2018-01-01 00:09:00     9\n",
       "2018-01-01 00:10:00    10\n",
       "2018-01-01 00:11:00    11\n",
       "Freq: T, dtype: int32"
      ]
     },
     "execution_count": 162,
     "metadata": {},
     "output_type": "execute_result"
    }
   ],
   "source": [
    "ts_ds # 1/1/2018 에 각 시간별로(1시간 단위) 데이터"
   ]
  },
  {
   "cell_type": "code",
   "execution_count": 163,
   "metadata": {},
   "outputs": [
    {
     "name": "stderr",
     "output_type": "stream",
     "text": [
      "c:\\program files\\python36\\lib\\site-packages\\ipykernel_launcher.py:3: FutureWarning: how in .resample() is deprecated\n",
      "the new syntax is .resample(...).sum()\n",
      "  This is separate from the ipykernel package so we can avoid doing imports until\n"
     ]
    },
    {
     "data": {
      "text/plain": [
       "2018-01-01 00:00:00    10\n",
       "2018-01-01 00:05:00    35\n",
       "2018-01-01 00:10:00    21\n",
       "Freq: 5T, dtype: int32"
      ]
     },
     "execution_count": 163,
     "metadata": {},
     "output_type": "execute_result"
    }
   ],
   "source": [
    "# 각 그룹을 5분 단위로 묶어서 그룹의 합를 집계\n",
    "# closed 옵션 : 데이터 그룹화 시 시작점을 어디로 할 지 정한다.\n",
    "ts_ds.resample('5min', how = 'sum')"
   ]
  },
  {
   "cell_type": "code",
   "execution_count": 164,
   "metadata": {},
   "outputs": [
    {
     "name": "stderr",
     "output_type": "stream",
     "text": [
      "c:\\program files\\python36\\lib\\site-packages\\ipykernel_launcher.py:1: FutureWarning: how in .resample() is deprecated\n",
      "the new syntax is .resample(...).sum()\n",
      "  \"\"\"Entry point for launching an IPython kernel.\n"
     ]
    },
    {
     "data": {
      "text/plain": [
       "2017-12-31 23:55:00     0\n",
       "2018-01-01 00:00:00    15\n",
       "2018-01-01 00:05:00    40\n",
       "2018-01-01 00:10:00    11\n",
       "Freq: 5T, dtype: int32"
      ]
     },
     "execution_count": 164,
     "metadata": {},
     "output_type": "execute_result"
    }
   ],
   "source": [
    "ts_ds.resample('5min', how = 'sum', closed = 'right')"
   ]
  },
  {
   "cell_type": "code",
   "execution_count": 165,
   "metadata": {},
   "outputs": [
    {
     "name": "stderr",
     "output_type": "stream",
     "text": [
      "c:\\program files\\python36\\lib\\site-packages\\ipykernel_launcher.py:1: FutureWarning: how in .resample() is deprecated\n",
      "the new syntax is .resample(...).mean()\n",
      "  \"\"\"Entry point for launching an IPython kernel.\n"
     ]
    },
    {
     "data": {
      "text/plain": [
       "2018-01-01 00:05:00     2.0\n",
       "2018-01-01 00:10:00     7.0\n",
       "2018-01-01 00:15:00    10.5\n",
       "Freq: 5T, dtype: float64"
      ]
     },
     "execution_count": 165,
     "metadata": {},
     "output_type": "execute_result"
    }
   ],
   "source": [
    "ts_ds.resample('5min', how = 'mean', closed = 'left', label = 'right')\n",
    "# 각 그룹에서 label 값을 어떤 datetime 인덱스로 잡을지"
   ]
  },
  {
   "cell_type": "code",
   "execution_count": 166,
   "metadata": {},
   "outputs": [
    {
     "name": "stderr",
     "output_type": "stream",
     "text": [
      "c:\\program files\\python36\\lib\\site-packages\\ipykernel_launcher.py:1: FutureWarning: how in .resample() is deprecated\n",
      "the new syntax is .resample(...).mean()\n",
      "  \"\"\"Entry point for launching an IPython kernel.\n"
     ]
    },
    {
     "data": {
      "text/plain": [
       "2018-01-01 00:04:30     2.0\n",
       "2018-01-01 00:09:30     7.0\n",
       "2018-01-01 00:14:30    10.5\n",
       "Freq: 5T, dtype: float64"
      ]
     },
     "execution_count": 166,
     "metadata": {},
     "output_type": "execute_result"
    }
   ],
   "source": [
    "ts_ds.resample('5min', how = 'mean', closed = 'left', label = 'right', loffset = '-30s')\n",
    "# 30초를 더 당겨 datetime 의 인덱스로 지정한다.\n",
    "# shift 메서드를 사용하여도 같다."
   ]
  },
  {
   "cell_type": "markdown",
   "metadata": {},
   "source": [
    "### OHLC(Open - High - Low - Close) 리샘플링\n",
    "#### 금융 데이터 분석에서 데이터를 집계하는 방식\n",
    "#### 1. Open(시가)\n",
    "#### 2. High(고가)\n",
    "#### 3. Low(저가)\n",
    "#### 4. Close(종가)\n",
    "#### how = 'ohlc' 옵션을 넘겨 \n",
    "#### 이 각각의 column을 가지는 데이터 프레임을 반환한다."
   ]
  },
  {
   "cell_type": "code",
   "execution_count": 167,
   "metadata": {},
   "outputs": [
    {
     "name": "stderr",
     "output_type": "stream",
     "text": [
      "c:\\program files\\python36\\lib\\site-packages\\ipykernel_launcher.py:1: FutureWarning: how in .resample() is deprecated\n",
      "the new syntax is .resample(...).ohlc()\n",
      "  \"\"\"Entry point for launching an IPython kernel.\n"
     ]
    },
    {
     "data": {
      "text/html": [
       "<div>\n",
       "<style scoped>\n",
       "    .dataframe tbody tr th:only-of-type {\n",
       "        vertical-align: middle;\n",
       "    }\n",
       "\n",
       "    .dataframe tbody tr th {\n",
       "        vertical-align: top;\n",
       "    }\n",
       "\n",
       "    .dataframe thead th {\n",
       "        text-align: right;\n",
       "    }\n",
       "</style>\n",
       "<table border=\"1\" class=\"dataframe\">\n",
       "  <thead>\n",
       "    <tr style=\"text-align: right;\">\n",
       "      <th></th>\n",
       "      <th>open</th>\n",
       "      <th>high</th>\n",
       "      <th>low</th>\n",
       "      <th>close</th>\n",
       "    </tr>\n",
       "  </thead>\n",
       "  <tbody>\n",
       "    <tr>\n",
       "      <th>2018-01-01 00:00:00</th>\n",
       "      <td>0</td>\n",
       "      <td>4</td>\n",
       "      <td>0</td>\n",
       "      <td>4</td>\n",
       "    </tr>\n",
       "    <tr>\n",
       "      <th>2018-01-01 00:05:00</th>\n",
       "      <td>5</td>\n",
       "      <td>9</td>\n",
       "      <td>5</td>\n",
       "      <td>9</td>\n",
       "    </tr>\n",
       "    <tr>\n",
       "      <th>2018-01-01 00:10:00</th>\n",
       "      <td>10</td>\n",
       "      <td>11</td>\n",
       "      <td>10</td>\n",
       "      <td>11</td>\n",
       "    </tr>\n",
       "  </tbody>\n",
       "</table>\n",
       "</div>"
      ],
      "text/plain": [
       "                     open  high  low  close\n",
       "2018-01-01 00:00:00     0     4    0      4\n",
       "2018-01-01 00:05:00     5     9    5      9\n",
       "2018-01-01 00:10:00    10    11   10     11"
      ]
     },
     "execution_count": 167,
     "metadata": {},
     "output_type": "execute_result"
    }
   ],
   "source": [
    "ts_ds.resample('5min', how = 'ohlc')"
   ]
  },
  {
   "cell_type": "markdown",
   "metadata": {},
   "source": [
    "### groupby 를 사용한 리샘플링\n",
    "#### 색인 필드에 접근하는 함수를 만들어 사용"
   ]
  },
  {
   "cell_type": "code",
   "execution_count": 168,
   "metadata": {},
   "outputs": [
    {
     "data": {
      "text/plain": [
       "DatetimeIndex(['2018-01-01', '2018-01-02', '2018-01-03', '2018-01-04',\n",
       "               '2018-01-05', '2018-01-06', '2018-01-07', '2018-01-08',\n",
       "               '2018-01-09', '2018-01-10', '2018-01-11', '2018-01-12',\n",
       "               '2018-01-13', '2018-01-14', '2018-01-15', '2018-01-16',\n",
       "               '2018-01-17', '2018-01-18', '2018-01-19', '2018-01-20',\n",
       "               '2018-01-21', '2018-01-22', '2018-01-23', '2018-01-24',\n",
       "               '2018-01-25', '2018-01-26', '2018-01-27', '2018-01-28',\n",
       "               '2018-01-29', '2018-01-30', '2018-01-31', '2018-02-01',\n",
       "               '2018-02-02', '2018-02-03', '2018-02-04', '2018-02-05',\n",
       "               '2018-02-06', '2018-02-07', '2018-02-08', '2018-02-09',\n",
       "               '2018-02-10', '2018-02-11', '2018-02-12', '2018-02-13',\n",
       "               '2018-02-14', '2018-02-15', '2018-02-16', '2018-02-17',\n",
       "               '2018-02-18', '2018-02-19', '2018-02-20', '2018-02-21',\n",
       "               '2018-02-22', '2018-02-23', '2018-02-24', '2018-02-25',\n",
       "               '2018-02-26', '2018-02-27', '2018-02-28', '2018-03-01',\n",
       "               '2018-03-02', '2018-03-03', '2018-03-04', '2018-03-05',\n",
       "               '2018-03-06', '2018-03-07', '2018-03-08', '2018-03-09',\n",
       "               '2018-03-10', '2018-03-11', '2018-03-12', '2018-03-13',\n",
       "               '2018-03-14', '2018-03-15', '2018-03-16', '2018-03-17',\n",
       "               '2018-03-18', '2018-03-19', '2018-03-20', '2018-03-21',\n",
       "               '2018-03-22', '2018-03-23', '2018-03-24', '2018-03-25',\n",
       "               '2018-03-26', '2018-03-27', '2018-03-28', '2018-03-29',\n",
       "               '2018-03-30', '2018-03-31', '2018-04-01', '2018-04-02',\n",
       "               '2018-04-03', '2018-04-04', '2018-04-05', '2018-04-06',\n",
       "               '2018-04-07', '2018-04-08', '2018-04-09', '2018-04-10'],\n",
       "              dtype='datetime64[ns]', freq='D')"
      ]
     },
     "execution_count": 168,
     "metadata": {},
     "output_type": "execute_result"
    }
   ],
   "source": [
    "g_rng = pd.date_range('1/1/2018', periods = 100, freq = 'D')\n",
    "g_rng # 1월 부터 4월까지 있다."
   ]
  },
  {
   "cell_type": "code",
   "execution_count": 169,
   "metadata": {},
   "outputs": [
    {
     "data": {
      "text/plain": [
       "Int64Index([1, 1, 1, 1, 1, 1, 1, 1, 1, 1, 1, 1, 1, 1, 1, 1, 1, 1, 1, 1, 1, 1,\n",
       "            1, 1, 1, 1, 1, 1, 1, 1, 1, 2, 2, 2, 2, 2, 2, 2, 2, 2, 2, 2, 2, 2,\n",
       "            2, 2, 2, 2, 2, 2, 2, 2, 2, 2, 2, 2, 2, 2, 2, 3, 3, 3, 3, 3, 3, 3,\n",
       "            3, 3, 3, 3, 3, 3, 3, 3, 3, 3, 3, 3, 3, 3, 3, 3, 3, 3, 3, 3, 3, 3,\n",
       "            3, 3, 4, 4, 4, 4, 4, 4, 4, 4, 4, 4],\n",
       "           dtype='int64')"
      ]
     },
     "execution_count": 169,
     "metadata": {},
     "output_type": "execute_result"
    }
   ],
   "source": [
    "g_rng.month # 이런식으로 date_range 객체는 month, day, year 등등의 하위 attribute 를 갖고 있으므로 \n",
    "# 이를 추출하는 함수를 만들어 groupby 메서드의 인자로 넘겨준다."
   ]
  },
  {
   "cell_type": "code",
   "execution_count": 170,
   "metadata": {},
   "outputs": [],
   "source": [
    "g_ts = pd.Series(np.arange(100),index = g_rng)"
   ]
  },
  {
   "cell_type": "code",
   "execution_count": 171,
   "metadata": {},
   "outputs": [
    {
     "data": {
      "text/plain": [
       "1    15.0\n",
       "2    44.5\n",
       "3    74.0\n",
       "4    94.5\n",
       "dtype: float64"
      ]
     },
     "execution_count": 171,
     "metadata": {},
     "output_type": "execute_result"
    }
   ],
   "source": [
    "g_ts.groupby(lambda x : x.month).mean()"
   ]
  },
  {
   "cell_type": "markdown",
   "metadata": {},
   "source": [
    "## 10.6.2 업샘플링과 보간\n",
    "#### 하위 빈도(적은 빈도수) -> 상위 빈도(많은 빈도수)  ex ) 월  - > 일\n",
    "#### 관측되지 않은 데이터가 있기 때문에 집계가 필요하지 않다\n",
    "#### 대신 없는 값을 채워야 하는 '보간'이 필요하다.\n",
    "#### 보간 수행 옵션\n",
    "#### fill_method = 'ffill', 'bfill', \n",
    "#### limit = 정수 : 보간을 수행할 범위 지정"
   ]
  },
  {
   "cell_type": "code",
   "execution_count": 172,
   "metadata": {},
   "outputs": [],
   "source": [
    "df_us = pd.DataFrame(np.random.randn(2,4), \n",
    "                    columns = ['Colorado','Texas','New York','Ohio'],\n",
    "                    index = pd.date_range('1/1/2018', periods = 2, freq = 'W-WED'))"
   ]
  },
  {
   "cell_type": "code",
   "execution_count": 173,
   "metadata": {},
   "outputs": [
    {
     "data": {
      "text/html": [
       "<div>\n",
       "<style scoped>\n",
       "    .dataframe tbody tr th:only-of-type {\n",
       "        vertical-align: middle;\n",
       "    }\n",
       "\n",
       "    .dataframe tbody tr th {\n",
       "        vertical-align: top;\n",
       "    }\n",
       "\n",
       "    .dataframe thead th {\n",
       "        text-align: right;\n",
       "    }\n",
       "</style>\n",
       "<table border=\"1\" class=\"dataframe\">\n",
       "  <thead>\n",
       "    <tr style=\"text-align: right;\">\n",
       "      <th></th>\n",
       "      <th>Colorado</th>\n",
       "      <th>Texas</th>\n",
       "      <th>New York</th>\n",
       "      <th>Ohio</th>\n",
       "    </tr>\n",
       "  </thead>\n",
       "  <tbody>\n",
       "    <tr>\n",
       "      <th>2018-01-03</th>\n",
       "      <td>-0.012398</td>\n",
       "      <td>0.093366</td>\n",
       "      <td>1.112673</td>\n",
       "      <td>0.533964</td>\n",
       "    </tr>\n",
       "    <tr>\n",
       "      <th>2018-01-10</th>\n",
       "      <td>-1.522021</td>\n",
       "      <td>0.456140</td>\n",
       "      <td>0.152864</td>\n",
       "      <td>0.217102</td>\n",
       "    </tr>\n",
       "  </tbody>\n",
       "</table>\n",
       "</div>"
      ],
      "text/plain": [
       "            Colorado     Texas  New York      Ohio\n",
       "2018-01-03 -0.012398  0.093366  1.112673  0.533964\n",
       "2018-01-10 -1.522021  0.456140  0.152864  0.217102"
      ]
     },
     "execution_count": 173,
     "metadata": {},
     "output_type": "execute_result"
    }
   ],
   "source": [
    "df_us"
   ]
  },
  {
   "cell_type": "code",
   "execution_count": 174,
   "metadata": {},
   "outputs": [],
   "source": [
    "df_daily = df_us.resample('D')"
   ]
  },
  {
   "cell_type": "code",
   "execution_count": 175,
   "metadata": {},
   "outputs": [
    {
     "data": {
      "text/plain": [
       "DatetimeIndexResampler [freq=<Day>, axis=0, closed=left, label=left, convention=start, base=0]"
      ]
     },
     "execution_count": 175,
     "metadata": {},
     "output_type": "execute_result"
    }
   ],
   "source": [
    "df_daily"
   ]
  },
  {
   "cell_type": "code",
   "execution_count": 176,
   "metadata": {},
   "outputs": [
    {
     "name": "stderr",
     "output_type": "stream",
     "text": [
      "c:\\program files\\python36\\lib\\site-packages\\ipykernel_launcher.py:1: FutureWarning: fill_method is deprecated to .resample()\n",
      "the new syntax is .resample(...).ffill()\n",
      "  \"\"\"Entry point for launching an IPython kernel.\n"
     ]
    },
    {
     "data": {
      "text/html": [
       "<div>\n",
       "<style scoped>\n",
       "    .dataframe tbody tr th:only-of-type {\n",
       "        vertical-align: middle;\n",
       "    }\n",
       "\n",
       "    .dataframe tbody tr th {\n",
       "        vertical-align: top;\n",
       "    }\n",
       "\n",
       "    .dataframe thead th {\n",
       "        text-align: right;\n",
       "    }\n",
       "</style>\n",
       "<table border=\"1\" class=\"dataframe\">\n",
       "  <thead>\n",
       "    <tr style=\"text-align: right;\">\n",
       "      <th></th>\n",
       "      <th>Colorado</th>\n",
       "      <th>Texas</th>\n",
       "      <th>New York</th>\n",
       "      <th>Ohio</th>\n",
       "    </tr>\n",
       "  </thead>\n",
       "  <tbody>\n",
       "    <tr>\n",
       "      <th>2018-01-03</th>\n",
       "      <td>-0.012398</td>\n",
       "      <td>0.093366</td>\n",
       "      <td>1.112673</td>\n",
       "      <td>0.533964</td>\n",
       "    </tr>\n",
       "    <tr>\n",
       "      <th>2018-01-04</th>\n",
       "      <td>-0.012398</td>\n",
       "      <td>0.093366</td>\n",
       "      <td>1.112673</td>\n",
       "      <td>0.533964</td>\n",
       "    </tr>\n",
       "    <tr>\n",
       "      <th>2018-01-05</th>\n",
       "      <td>-0.012398</td>\n",
       "      <td>0.093366</td>\n",
       "      <td>1.112673</td>\n",
       "      <td>0.533964</td>\n",
       "    </tr>\n",
       "    <tr>\n",
       "      <th>2018-01-06</th>\n",
       "      <td>-0.012398</td>\n",
       "      <td>0.093366</td>\n",
       "      <td>1.112673</td>\n",
       "      <td>0.533964</td>\n",
       "    </tr>\n",
       "    <tr>\n",
       "      <th>2018-01-07</th>\n",
       "      <td>-0.012398</td>\n",
       "      <td>0.093366</td>\n",
       "      <td>1.112673</td>\n",
       "      <td>0.533964</td>\n",
       "    </tr>\n",
       "    <tr>\n",
       "      <th>2018-01-08</th>\n",
       "      <td>-0.012398</td>\n",
       "      <td>0.093366</td>\n",
       "      <td>1.112673</td>\n",
       "      <td>0.533964</td>\n",
       "    </tr>\n",
       "    <tr>\n",
       "      <th>2018-01-09</th>\n",
       "      <td>-0.012398</td>\n",
       "      <td>0.093366</td>\n",
       "      <td>1.112673</td>\n",
       "      <td>0.533964</td>\n",
       "    </tr>\n",
       "    <tr>\n",
       "      <th>2018-01-10</th>\n",
       "      <td>-1.522021</td>\n",
       "      <td>0.456140</td>\n",
       "      <td>0.152864</td>\n",
       "      <td>0.217102</td>\n",
       "    </tr>\n",
       "  </tbody>\n",
       "</table>\n",
       "</div>"
      ],
      "text/plain": [
       "            Colorado     Texas  New York      Ohio\n",
       "2018-01-03 -0.012398  0.093366  1.112673  0.533964\n",
       "2018-01-04 -0.012398  0.093366  1.112673  0.533964\n",
       "2018-01-05 -0.012398  0.093366  1.112673  0.533964\n",
       "2018-01-06 -0.012398  0.093366  1.112673  0.533964\n",
       "2018-01-07 -0.012398  0.093366  1.112673  0.533964\n",
       "2018-01-08 -0.012398  0.093366  1.112673  0.533964\n",
       "2018-01-09 -0.012398  0.093366  1.112673  0.533964\n",
       "2018-01-10 -1.522021  0.456140  0.152864  0.217102"
      ]
     },
     "execution_count": 176,
     "metadata": {},
     "output_type": "execute_result"
    }
   ],
   "source": [
    "df_us.resample('D', fill_method = 'ffill')"
   ]
  },
  {
   "cell_type": "code",
   "execution_count": 177,
   "metadata": {},
   "outputs": [
    {
     "name": "stderr",
     "output_type": "stream",
     "text": [
      "c:\\program files\\python36\\lib\\site-packages\\ipykernel_launcher.py:1: FutureWarning: fill_method is deprecated to .resample()\n",
      "the new syntax is .resample(...).bfill(limit=2)\n",
      "  \"\"\"Entry point for launching an IPython kernel.\n"
     ]
    },
    {
     "data": {
      "text/html": [
       "<div>\n",
       "<style scoped>\n",
       "    .dataframe tbody tr th:only-of-type {\n",
       "        vertical-align: middle;\n",
       "    }\n",
       "\n",
       "    .dataframe tbody tr th {\n",
       "        vertical-align: top;\n",
       "    }\n",
       "\n",
       "    .dataframe thead th {\n",
       "        text-align: right;\n",
       "    }\n",
       "</style>\n",
       "<table border=\"1\" class=\"dataframe\">\n",
       "  <thead>\n",
       "    <tr style=\"text-align: right;\">\n",
       "      <th></th>\n",
       "      <th>Colorado</th>\n",
       "      <th>Texas</th>\n",
       "      <th>New York</th>\n",
       "      <th>Ohio</th>\n",
       "    </tr>\n",
       "  </thead>\n",
       "  <tbody>\n",
       "    <tr>\n",
       "      <th>2018-01-03</th>\n",
       "      <td>-0.012398</td>\n",
       "      <td>0.093366</td>\n",
       "      <td>1.112673</td>\n",
       "      <td>0.533964</td>\n",
       "    </tr>\n",
       "    <tr>\n",
       "      <th>2018-01-04</th>\n",
       "      <td>NaN</td>\n",
       "      <td>NaN</td>\n",
       "      <td>NaN</td>\n",
       "      <td>NaN</td>\n",
       "    </tr>\n",
       "    <tr>\n",
       "      <th>2018-01-05</th>\n",
       "      <td>NaN</td>\n",
       "      <td>NaN</td>\n",
       "      <td>NaN</td>\n",
       "      <td>NaN</td>\n",
       "    </tr>\n",
       "    <tr>\n",
       "      <th>2018-01-06</th>\n",
       "      <td>NaN</td>\n",
       "      <td>NaN</td>\n",
       "      <td>NaN</td>\n",
       "      <td>NaN</td>\n",
       "    </tr>\n",
       "    <tr>\n",
       "      <th>2018-01-07</th>\n",
       "      <td>NaN</td>\n",
       "      <td>NaN</td>\n",
       "      <td>NaN</td>\n",
       "      <td>NaN</td>\n",
       "    </tr>\n",
       "    <tr>\n",
       "      <th>2018-01-08</th>\n",
       "      <td>-1.522021</td>\n",
       "      <td>0.456140</td>\n",
       "      <td>0.152864</td>\n",
       "      <td>0.217102</td>\n",
       "    </tr>\n",
       "    <tr>\n",
       "      <th>2018-01-09</th>\n",
       "      <td>-1.522021</td>\n",
       "      <td>0.456140</td>\n",
       "      <td>0.152864</td>\n",
       "      <td>0.217102</td>\n",
       "    </tr>\n",
       "    <tr>\n",
       "      <th>2018-01-10</th>\n",
       "      <td>-1.522021</td>\n",
       "      <td>0.456140</td>\n",
       "      <td>0.152864</td>\n",
       "      <td>0.217102</td>\n",
       "    </tr>\n",
       "  </tbody>\n",
       "</table>\n",
       "</div>"
      ],
      "text/plain": [
       "            Colorado     Texas  New York      Ohio\n",
       "2018-01-03 -0.012398  0.093366  1.112673  0.533964\n",
       "2018-01-04       NaN       NaN       NaN       NaN\n",
       "2018-01-05       NaN       NaN       NaN       NaN\n",
       "2018-01-06       NaN       NaN       NaN       NaN\n",
       "2018-01-07       NaN       NaN       NaN       NaN\n",
       "2018-01-08 -1.522021  0.456140  0.152864  0.217102\n",
       "2018-01-09 -1.522021  0.456140  0.152864  0.217102\n",
       "2018-01-10 -1.522021  0.456140  0.152864  0.217102"
      ]
     },
     "execution_count": 177,
     "metadata": {},
     "output_type": "execute_result"
    }
   ],
   "source": [
    "df_us.resample('D', fill_method = 'bfill', limit = 2)\n",
    "# 뒤에서 부터 채워 2개까지만 채운다."
   ]
  },
  {
   "cell_type": "raw",
   "metadata": {},
   "source": [
    "빈도의 정도(level) 이 같은 빈도에 대해서 리샘플링 하는 경우에는\n",
    "겹치지 않는다.\n",
    "현재 W-WED 매주 수요일 마다로 설정 되어 있는 datetime 을\n",
    "같은 level 빈도인 W-THU(매주 목요일) 로 리샘플링 하는 경우"
   ]
  },
  {
   "cell_type": "code",
   "execution_count": 178,
   "metadata": {
    "scrolled": true
   },
   "outputs": [
    {
     "name": "stderr",
     "output_type": "stream",
     "text": [
      "c:\\program files\\python36\\lib\\site-packages\\ipykernel_launcher.py:1: FutureWarning: fill_method is deprecated to .resample()\n",
      "the new syntax is .resample(...).ffill()\n",
      "  \"\"\"Entry point for launching an IPython kernel.\n"
     ]
    },
    {
     "data": {
      "text/html": [
       "<div>\n",
       "<style scoped>\n",
       "    .dataframe tbody tr th:only-of-type {\n",
       "        vertical-align: middle;\n",
       "    }\n",
       "\n",
       "    .dataframe tbody tr th {\n",
       "        vertical-align: top;\n",
       "    }\n",
       "\n",
       "    .dataframe thead th {\n",
       "        text-align: right;\n",
       "    }\n",
       "</style>\n",
       "<table border=\"1\" class=\"dataframe\">\n",
       "  <thead>\n",
       "    <tr style=\"text-align: right;\">\n",
       "      <th></th>\n",
       "      <th>Colorado</th>\n",
       "      <th>Texas</th>\n",
       "      <th>New York</th>\n",
       "      <th>Ohio</th>\n",
       "    </tr>\n",
       "  </thead>\n",
       "  <tbody>\n",
       "    <tr>\n",
       "      <th>2018-01-04</th>\n",
       "      <td>-0.012398</td>\n",
       "      <td>0.093366</td>\n",
       "      <td>1.112673</td>\n",
       "      <td>0.533964</td>\n",
       "    </tr>\n",
       "    <tr>\n",
       "      <th>2018-01-11</th>\n",
       "      <td>-1.522021</td>\n",
       "      <td>0.456140</td>\n",
       "      <td>0.152864</td>\n",
       "      <td>0.217102</td>\n",
       "    </tr>\n",
       "  </tbody>\n",
       "</table>\n",
       "</div>"
      ],
      "text/plain": [
       "            Colorado     Texas  New York      Ohio\n",
       "2018-01-04 -0.012398  0.093366  1.112673  0.533964\n",
       "2018-01-11 -1.522021  0.456140  0.152864  0.217102"
      ]
     },
     "execution_count": 178,
     "metadata": {},
     "output_type": "execute_result"
    }
   ],
   "source": [
    "df_us.resample('W-THU', fill_method = 'ffill')"
   ]
  },
  {
   "cell_type": "markdown",
   "metadata": {},
   "source": [
    "## 10.6.3 기간 샘플링\n",
    "#### resample( 'freq 옵션' , how =   , ) "
   ]
  },
  {
   "cell_type": "code",
   "execution_count": 179,
   "metadata": {},
   "outputs": [],
   "source": [
    "sr = pd.Series(np.random.randint(20, size = 100),\n",
    "              index = pd.date_range('1/1/2018', periods = 100, freq = 'M'))"
   ]
  },
  {
   "cell_type": "code",
   "execution_count": 180,
   "metadata": {},
   "outputs": [
    {
     "name": "stderr",
     "output_type": "stream",
     "text": [
      "c:\\program files\\python36\\lib\\site-packages\\ipykernel_launcher.py:1: FutureWarning: how in .resample() is deprecated\n",
      "the new syntax is .resample(...).mean()\n",
      "  \"\"\"Entry point for launching an IPython kernel.\n"
     ]
    }
   ],
   "source": [
    "annual_frame = sr.resample('A-DEC', how = 'mean') # 주어진 월의 마지막 날을 반환하는 메서드\n",
    "# A - DEC : DEC(12월)의 마지막 날을 반환하는 연간 주기"
   ]
  },
  {
   "cell_type": "code",
   "execution_count": 181,
   "metadata": {},
   "outputs": [
    {
     "data": {
      "text/plain": [
       "2018-12-31     8.000000\n",
       "2019-12-31     8.833333\n",
       "2020-12-31    11.000000\n",
       "2021-12-31     9.500000\n",
       "2022-12-31    11.666667\n",
       "2023-12-31    10.416667\n",
       "2024-12-31    12.916667\n",
       "2025-12-31    10.666667\n",
       "2026-12-31    10.500000\n",
       "Freq: A-DEC, dtype: float64"
      ]
     },
     "execution_count": 181,
     "metadata": {},
     "output_type": "execute_result"
    }
   ],
   "source": [
    "annual_frame"
   ]
  },
  {
   "cell_type": "raw",
   "metadata": {},
   "source": [
    "업샘플링 : asfreq 메서드 처럼 리샘플링 전에 새 빈도에서 구간의 끝을 어느쪽에 두어야할지 미리 결정해야 함.\n",
    "convention 인자 사용\n"
   ]
  },
  {
   "cell_type": "code",
   "execution_count": 182,
   "metadata": {},
   "outputs": [
    {
     "name": "stderr",
     "output_type": "stream",
     "text": [
      "c:\\program files\\python36\\lib\\site-packages\\ipykernel_launcher.py:1: FutureWarning: fill_method is deprecated to .resample()\n",
      "the new syntax is .resample(...).ffill()\n",
      "  \"\"\"Entry point for launching an IPython kernel.\n"
     ]
    },
    {
     "data": {
      "text/plain": [
       "2018-12-31     8.000000\n",
       "2019-03-31     8.000000\n",
       "2019-06-30     8.000000\n",
       "2019-09-30     8.000000\n",
       "2019-12-31     8.833333\n",
       "2020-03-31     8.833333\n",
       "2020-06-30     8.833333\n",
       "2020-09-30     8.833333\n",
       "2020-12-31    11.000000\n",
       "2021-03-31    11.000000\n",
       "2021-06-30    11.000000\n",
       "2021-09-30    11.000000\n",
       "2021-12-31     9.500000\n",
       "2022-03-31     9.500000\n",
       "2022-06-30     9.500000\n",
       "2022-09-30     9.500000\n",
       "2022-12-31    11.666667\n",
       "2023-03-31    11.666667\n",
       "2023-06-30    11.666667\n",
       "2023-09-30    11.666667\n",
       "2023-12-31    10.416667\n",
       "2024-03-31    10.416667\n",
       "2024-06-30    10.416667\n",
       "2024-09-30    10.416667\n",
       "2024-12-31    12.916667\n",
       "2025-03-31    12.916667\n",
       "2025-06-30    12.916667\n",
       "2025-09-30    12.916667\n",
       "2025-12-31    10.666667\n",
       "2026-03-31    10.666667\n",
       "2026-06-30    10.666667\n",
       "2026-09-30    10.666667\n",
       "2026-12-31    10.500000\n",
       "Freq: Q-DEC, dtype: float64"
      ]
     },
     "execution_count": 182,
     "metadata": {},
     "output_type": "execute_result"
    }
   ],
   "source": [
    "annual_frame.resample('Q-DEC', fill_method = 'ffill')"
   ]
  },
  {
   "cell_type": "code",
   "execution_count": 183,
   "metadata": {},
   "outputs": [
    {
     "name": "stderr",
     "output_type": "stream",
     "text": [
      "c:\\program files\\python36\\lib\\site-packages\\ipykernel_launcher.py:1: FutureWarning: fill_method is deprecated to .resample()\n",
      "the new syntax is .resample(...).ffill()\n",
      "  \"\"\"Entry point for launching an IPython kernel.\n"
     ]
    },
    {
     "data": {
      "text/plain": [
       "2018-12-31     8.000000\n",
       "2019-03-31     8.000000\n",
       "2019-06-30     8.000000\n",
       "2019-09-30     8.000000\n",
       "2019-12-31     8.833333\n",
       "2020-03-31     8.833333\n",
       "2020-06-30     8.833333\n",
       "2020-09-30     8.833333\n",
       "2020-12-31    11.000000\n",
       "2021-03-31    11.000000\n",
       "2021-06-30    11.000000\n",
       "2021-09-30    11.000000\n",
       "2021-12-31     9.500000\n",
       "2022-03-31     9.500000\n",
       "2022-06-30     9.500000\n",
       "2022-09-30     9.500000\n",
       "2022-12-31    11.666667\n",
       "2023-03-31    11.666667\n",
       "2023-06-30    11.666667\n",
       "2023-09-30    11.666667\n",
       "2023-12-31    10.416667\n",
       "2024-03-31    10.416667\n",
       "2024-06-30    10.416667\n",
       "2024-09-30    10.416667\n",
       "2024-12-31    12.916667\n",
       "2025-03-31    12.916667\n",
       "2025-06-30    12.916667\n",
       "2025-09-30    12.916667\n",
       "2025-12-31    10.666667\n",
       "2026-03-31    10.666667\n",
       "2026-06-30    10.666667\n",
       "2026-09-30    10.666667\n",
       "2026-12-31    10.500000\n",
       "Freq: Q-DEC, dtype: float64"
      ]
     },
     "execution_count": 183,
     "metadata": {},
     "output_type": "execute_result"
    }
   ],
   "source": [
    "annual_frame.resample('Q-DEC', fill_method = 'ffill', convention = 'end')"
   ]
  },
  {
   "cell_type": "markdown",
   "metadata": {},
   "source": [
    "## 10.7 시계열 그래프\n",
    "#### pandas 의 시계열 그래프 : matplotlib 보다 더 개선된 데이터 포맷 지원!!!!!!!!!!!"
   ]
  },
  {
   "cell_type": "code",
   "execution_count": 184,
   "metadata": {},
   "outputs": [
    {
     "name": "stderr",
     "output_type": "stream",
     "text": [
      "c:\\program files\\python36\\lib\\site-packages\\IPython\\core\\interactiveshell.py:2728: DtypeWarning: Columns (2,3,4,5) have mixed types. Specify dtype option on import or set low_memory=False.\n",
      "  interactivity=interactivity, compiler=compiler, result=result)\n"
     ]
    }
   ],
   "source": [
    "coin = pd.read_csv('C:\\\\python\\\\DATA_SET\\\\bitcoin_data\\\\bitcoin_data.csv', skiprows = 4)"
   ]
  },
  {
   "cell_type": "code",
   "execution_count": 185,
   "metadata": {},
   "outputs": [],
   "source": [
    "humidity = pd.read_csv('C:\\\\python\\\\DATA_SET\\\\weather_data\\\\humidity.csv')"
   ]
  },
  {
   "cell_type": "code",
   "execution_count": 186,
   "metadata": {},
   "outputs": [],
   "source": [
    "humidity_datetime = pd.to_datetime(humidity['datetime'])"
   ]
  },
  {
   "cell_type": "code",
   "execution_count": 187,
   "metadata": {},
   "outputs": [],
   "source": [
    "humidity.index = humidity_datetime"
   ]
  },
  {
   "cell_type": "code",
   "execution_count": 188,
   "metadata": {},
   "outputs": [],
   "source": [
    "humidity.drop('datetime', axis = 1, inplace = True)"
   ]
  },
  {
   "cell_type": "code",
   "execution_count": 189,
   "metadata": {},
   "outputs": [],
   "source": [
    "hum_V = humidity['Vancouver']"
   ]
  },
  {
   "cell_type": "code",
   "execution_count": 190,
   "metadata": {},
   "outputs": [
    {
     "data": {
      "text/plain": [
       "<matplotlib.axes._subplots.AxesSubplot at 0x1513aed6c88>"
      ]
     },
     "execution_count": 190,
     "metadata": {},
     "output_type": "execute_result"
    },
    {
     "data": {
      "image/png": "[encoded data removed]",
      "text/plain": [
       "<matplotlib.figure.Figure at 0x1513aed66d8>"
      ]
     },
     "metadata": {},
     "output_type": "display_data"
    }
   ],
   "source": [
    "hum_V.plot()"
   ]
  },
  {
   "cell_type": "code",
   "execution_count": 191,
   "metadata": {},
   "outputs": [
    {
     "data": {
      "text/plain": [
       "<matplotlib.axes._subplots.AxesSubplot at 0x15138116b38>"
      ]
     },
     "execution_count": 191,
     "metadata": {},
     "output_type": "execute_result"
    },
    {
     "data": {
      "image/png": "[encoded data removed]",
      "text/plain": [
       "<matplotlib.figure.Figure at 0x151381247b8>"
      ]
     },
     "metadata": {},
     "output_type": "display_data"
    }
   ],
   "source": [
    "hum_V.groupby(lambda x : x.month).mean().plot() #월별로 평균을 낸 것"
   ]
  },
  {
   "cell_type": "code",
   "execution_count": 192,
   "metadata": {},
   "outputs": [
    {
     "data": {
      "text/plain": [
       "DatetimeIndexResampler [freq=<MonthEnd>, axis=0, closed=right, label=right, convention=start, base=0]"
      ]
     },
     "execution_count": 192,
     "metadata": {},
     "output_type": "execute_result"
    }
   ],
   "source": [
    "hum_V.resample('M')"
   ]
  },
  {
   "cell_type": "code",
   "execution_count": 193,
   "metadata": {
    "scrolled": true
   },
   "outputs": [
    {
     "data": {
      "text/plain": [
       "<matplotlib.axes._subplots.AxesSubplot at 0x15138313390>"
      ]
     },
     "execution_count": 193,
     "metadata": {},
     "output_type": "execute_result"
    },
    {
     "data": {
      "image/png": "[encoded data removed]",
      "text/plain": [
       "<matplotlib.figure.Figure at 0x151381292b0>"
      ]
     },
     "metadata": {},
     "output_type": "display_data"
    }
   ],
   "source": [
    "hum_V.resample('M').mean().plot()"
   ]
  },
  {
   "cell_type": "code",
   "execution_count": 194,
   "metadata": {},
   "outputs": [
    {
     "data": {
      "text/plain": [
       "<matplotlib.axes._subplots.AxesSubplot at 0x1513a479390>"
      ]
     },
     "execution_count": 194,
     "metadata": {},
     "output_type": "execute_result"
    },
    {
     "data": {
      "image/png": "[encoded data removed]",
      "text/plain": [
       "<matplotlib.figure.Figure at 0x1513a4870f0>"
      ]
     },
     "metadata": {},
     "output_type": "display_data"
    }
   ],
   "source": [
    "# 2017년 데이터만 보고 싶다면?\n",
    "hum_V['2017'].plot() \n",
    "# 이것은 각 빈도가 1시간 단위인 데이터들의 그래프이다.\n",
    "# 너무 보기 힘든 그래프이다."
   ]
  },
  {
   "cell_type": "code",
   "execution_count": 195,
   "metadata": {},
   "outputs": [
    {
     "data": {
      "text/plain": [
       "<matplotlib.axes._subplots.AxesSubplot at 0x1513a5edcf8>"
      ]
     },
     "execution_count": 195,
     "metadata": {},
     "output_type": "execute_result"
    },
    {
     "data": {
      "image/png": "[encoded data removed]",
      "text/plain": [
       "<matplotlib.figure.Figure at 0x1513a5fc668>"
      ]
     },
     "metadata": {},
     "output_type": "display_data"
    }
   ],
   "source": [
    "# 빈도를 1일로 다운샘플링 하여 그래프를 간결화 해보자. \n",
    "# 집계 시 연산은 mean 값으로 한다.\n",
    "hum_V.resample('1d').mean().plot()\n",
    "# 이래도 아직 보기 힘들구만..."
   ]
  },
  {
   "cell_type": "code",
   "execution_count": 196,
   "metadata": {},
   "outputs": [
    {
     "data": {
      "text/plain": [
       "<matplotlib.axes._subplots.AxesSubplot at 0x1513a5ab128>"
      ]
     },
     "execution_count": 196,
     "metadata": {},
     "output_type": "execute_result"
    },
    {
     "data": {
      "image/png": "[encoded data removed]",
      "text/plain": [
       "<matplotlib.figure.Figure at 0x1513a6a1a20>"
      ]
     },
     "metadata": {},
     "output_type": "display_data"
    }
   ],
   "source": [
    "hum_V.resample('M').mean().plot()"
   ]
  },
  {
   "cell_type": "markdown",
   "metadata": {},
   "source": [
    "## 10.8 이동창 기능 잘 모르겠음....... 나중에\n",
    "#### 배열 변형, 움직이는 창, 지수 가중과 함께 수행되는 함수와 통계\n",
    "#### rolling_mean : timeseries 나 dataframe 과 window(기간을 나타내는 숫자로 표현) 을 인자로 취한다.\n"
   ]
  },
  {
   "cell_type": "code",
   "execution_count": 197,
   "metadata": {},
   "outputs": [
    {
     "name": "stderr",
     "output_type": "stream",
     "text": [
      "c:\\program files\\python36\\lib\\site-packages\\ipykernel_launcher.py:1: FutureWarning: pd.rolling_mean is deprecated for Series and will be removed in a future version, replace with \n",
      "\tSeries.rolling(window=250,center=False).mean()\n",
      "  \"\"\"Entry point for launching an IPython kernel.\n"
     ]
    },
    {
     "data": {
      "text/plain": [
       "datetime\n",
       "2012-10-01 12:00:00   NaN\n",
       "2012-10-01 13:00:00   NaN\n",
       "2012-10-01 14:00:00   NaN\n",
       "2012-10-01 15:00:00   NaN\n",
       "2012-10-01 16:00:00   NaN\n",
       "2012-10-01 17:00:00   NaN\n",
       "2012-10-01 18:00:00   NaN\n",
       "2012-10-01 19:00:00   NaN\n",
       "2012-10-01 20:00:00   NaN\n",
       "2012-10-01 21:00:00   NaN\n",
       "2012-10-01 22:00:00   NaN\n",
       "2012-10-01 23:00:00   NaN\n",
       "2012-10-02 00:00:00   NaN\n",
       "2012-10-02 01:00:00   NaN\n",
       "2012-10-02 02:00:00   NaN\n",
       "2012-10-02 03:00:00   NaN\n",
       "2012-10-02 04:00:00   NaN\n",
       "2012-10-02 05:00:00   NaN\n",
       "2012-10-02 06:00:00   NaN\n",
       "2012-10-02 07:00:00   NaN\n",
       "2012-10-02 08:00:00   NaN\n",
       "2012-10-02 09:00:00   NaN\n",
       "2012-10-02 10:00:00   NaN\n",
       "2012-10-02 11:00:00   NaN\n",
       "2012-10-02 12:00:00   NaN\n",
       "2012-10-02 13:00:00   NaN\n",
       "2012-10-02 14:00:00   NaN\n",
       "2012-10-02 15:00:00   NaN\n",
       "2012-10-02 16:00:00   NaN\n",
       "2012-10-02 17:00:00   NaN\n",
       "                       ..\n",
       "2017-11-28 19:00:00   NaN\n",
       "2017-11-28 20:00:00   NaN\n",
       "2017-11-28 21:00:00   NaN\n",
       "2017-11-28 22:00:00   NaN\n",
       "2017-11-28 23:00:00   NaN\n",
       "2017-11-29 00:00:00   NaN\n",
       "2017-11-29 01:00:00   NaN\n",
       "2017-11-29 02:00:00   NaN\n",
       "2017-11-29 03:00:00   NaN\n",
       "2017-11-29 04:00:00   NaN\n",
       "2017-11-29 05:00:00   NaN\n",
       "2017-11-29 06:00:00   NaN\n",
       "2017-11-29 07:00:00   NaN\n",
       "2017-11-29 08:00:00   NaN\n",
       "2017-11-29 09:00:00   NaN\n",
       "2017-11-29 10:00:00   NaN\n",
       "2017-11-29 11:00:00   NaN\n",
       "2017-11-29 12:00:00   NaN\n",
       "2017-11-29 13:00:00   NaN\n",
       "2017-11-29 14:00:00   NaN\n",
       "2017-11-29 15:00:00   NaN\n",
       "2017-11-29 16:00:00   NaN\n",
       "2017-11-29 17:00:00   NaN\n",
       "2017-11-29 18:00:00   NaN\n",
       "2017-11-29 19:00:00   NaN\n",
       "2017-11-29 20:00:00   NaN\n",
       "2017-11-29 21:00:00   NaN\n",
       "2017-11-29 22:00:00   NaN\n",
       "2017-11-29 23:00:00   NaN\n",
       "2017-11-30 00:00:00   NaN\n",
       "Name: Vancouver, Length: 45253, dtype: float64"
      ]
     },
     "execution_count": 197,
     "metadata": {},
     "output_type": "execute_result"
    }
   ],
   "source": [
    "pd.rolling_mean(hum_V, 250)"
   ]
  },
  {
   "cell_type": "code",
   "execution_count": 198,
   "metadata": {},
   "outputs": [
    {
     "name": "stderr",
     "output_type": "stream",
     "text": [
      "c:\\program files\\python36\\lib\\site-packages\\ipykernel_launcher.py:1: FutureWarning: pd.rolling_mean is deprecated for Series and will be removed in a future version, replace with \n",
      "\tSeries.rolling(window=250,center=False).mean()\n",
      "  \"\"\"Entry point for launching an IPython kernel.\n"
     ]
    },
    {
     "data": {
      "text/plain": [
       "<matplotlib.axes._subplots.AxesSubplot at 0x1513a7220f0>"
      ]
     },
     "execution_count": 198,
     "metadata": {},
     "output_type": "execute_result"
    },
    {
     "data": {
      "image/png": "[encoded data removed]",
      "text/plain": [
       "<matplotlib.figure.Figure at 0x1513a72d160>"
      ]
     },
     "metadata": {},
     "output_type": "display_data"
    }
   ],
   "source": [
    "pd.rolling_mean(hum_V, 250).plot()"
   ]
  },
  {
   "cell_type": "markdown",
   "metadata": {},
   "source": [
    "## 10.8.1 지수 가중 함수\n",
    "#### 이것도 잘 모르겠다..."
   ]
  },
  {
   "cell_type": "code",
   "execution_count": null,
   "metadata": {},
   "outputs": [],
   "source": []
  },
  {
   "cell_type": "code",
   "execution_count": null,
   "metadata": {},
   "outputs": [],
   "source": []
  },
  {
   "cell_type": "code",
   "execution_count": null,
   "metadata": {},
   "outputs": [],
   "source": []
  },
  {
   "cell_type": "code",
   "execution_count": null,
   "metadata": {},
   "outputs": [],
   "source": []
  },
  {
   "cell_type": "code",
   "execution_count": null,
   "metadata": {},
   "outputs": [],
   "source": []
  }
 ],
 "metadata": {
  "kernelspec": {
   "display_name": "Python 3",
   "language": "python",
   "name": "python3"
  },
  "language_info": {
   "codemirror_mode": {
    "name": "ipython",
    "version": 3
   },
   "file_extension": ".py",
   "mimetype": "text/x-python",
   "name": "python",
   "nbconvert_exporter": "python",
   "pygments_lexer": "ipython3",
   "version": "3.6.4"
  }
 },
 "nbformat": 4,
 "nbformat_minor": 2
}
