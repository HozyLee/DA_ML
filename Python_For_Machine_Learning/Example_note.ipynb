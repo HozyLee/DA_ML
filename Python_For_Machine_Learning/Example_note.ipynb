{
 "cells": [
  {
   "cell_type": "markdown",
   "metadata": {},
   "source": [
    "# 궁금사항 테스트 하는 노트"
   ]
  },
  {
   "cell_type": "code",
   "execution_count": 1,
   "metadata": {},
   "outputs": [],
   "source": [
    "# python for machine learning"
   ]
  },
  {
   "cell_type": "code",
   "execution_count": 3,
   "metadata": {},
   "outputs": [],
   "source": [
    "import sklearn\n",
    "from sklearn.model_selection import train_test_split\n",
    "import sklearn.datasets\n",
    "import mglearn\n",
    "import numpy as np\n",
    "import pandas as pd\n",
    "import matplotlib.pyplot as plt"
   ]
  },
  {
   "cell_type": "code",
   "execution_count": 9,
   "metadata": {},
   "outputs": [],
   "source": [
    "# 결정 트리\n",
    "# 유방암 데이터셋\n",
    "cancer = sklearn.datasets.load_breast_cancer()\n",
    "X_train, X_test, y_train, y_test = train_test_split(cancer.data, cancer.target, random_state = 0)\n",
    "tree = sklearn.tree.DecisionTreeClassifier(max_depth = 4) # default"
   ]
  },
  {
   "cell_type": "code",
   "execution_count": 10,
   "metadata": {},
   "outputs": [
    {
     "data": {
      "text/plain": [
       "DecisionTreeClassifier(class_weight=None, criterion='gini', max_depth=4,\n",
       "            max_features=None, max_leaf_nodes=None,\n",
       "            min_impurity_decrease=0.0, min_impurity_split=None,\n",
       "            min_samples_leaf=1, min_samples_split=2,\n",
       "            min_weight_fraction_leaf=0.0, presort=False, random_state=None,\n",
       "            splitter='best')"
      ]
     },
     "execution_count": 10,
     "metadata": {},
     "output_type": "execute_result"
    }
   ],
   "source": [
    "tree.fit(X_train, y_train)"
   ]
  },
  {
   "cell_type": "code",
   "execution_count": 12,
   "metadata": {},
   "outputs": [
    {
     "name": "stdout",
     "output_type": "stream",
     "text": [
      "train 데이터의 정확도 : 0.993\n",
      "test 데이터의 정확도 : 0.909\n"
     ]
    }
   ],
   "source": [
    "print('train 데이터의 정확도 : {:.3f}'.format(tree.score(X_train, y_train)))\n",
    "print('test 데이터의 정확도 : {:.3f}'.format(tree.score(X_test, y_test)))"
   ]
  },
  {
   "cell_type": "code",
   "execution_count": 18,
   "metadata": {},
   "outputs": [
    {
     "data": {
      "text/plain": [
       "(30,)"
      ]
     },
     "execution_count": 18,
     "metadata": {},
     "output_type": "execute_result"
    }
   ],
   "source": [
    "\n",
    "\n",
    "tree.feature_importances_.shape"
   ]
  },
  {
   "cell_type": "code",
   "execution_count": 19,
   "metadata": {},
   "outputs": [
    {
     "ename": "TypeError",
     "evalue": "<lambda>() missing 2 required positional arguments: 'y' and 'width'",
     "output_type": "error",
     "traceback": [
      "\u001b[1;31m---------------------------------------------------------------------------\u001b[0m",
      "\u001b[1;31mTypeError\u001b[0m                                 Traceback (most recent call last)",
      "\u001b[1;32m<ipython-input-19-6d2bf2506a1b>\u001b[0m in \u001b[0;36m<module>\u001b[1;34m()\u001b[0m\n\u001b[1;32m----> 1\u001b[1;33m \u001b[0mplt\u001b[0m\u001b[1;33m.\u001b[0m\u001b[0mbarh\u001b[0m\u001b[1;33m(\u001b[0m\u001b[1;33m)\u001b[0m\u001b[1;33m\u001b[0m\u001b[0m\n\u001b[0m",
      "\u001b[1;32mc:\\program files\\python36\\lib\\site-packages\\matplotlib\\pyplot.py\u001b[0m in \u001b[0;36mbarh\u001b[1;34m(*args, **kwargs)\u001b[0m\n\u001b[0;32m   2667\u001b[0m                       mplDeprecation)\n\u001b[0;32m   2668\u001b[0m     \u001b[1;32mtry\u001b[0m\u001b[1;33m:\u001b[0m\u001b[1;33m\u001b[0m\u001b[0m\n\u001b[1;32m-> 2669\u001b[1;33m         \u001b[0mret\u001b[0m \u001b[1;33m=\u001b[0m \u001b[0max\u001b[0m\u001b[1;33m.\u001b[0m\u001b[0mbarh\u001b[0m\u001b[1;33m(\u001b[0m\u001b[1;33m*\u001b[0m\u001b[0margs\u001b[0m\u001b[1;33m,\u001b[0m \u001b[1;33m**\u001b[0m\u001b[0mkwargs\u001b[0m\u001b[1;33m)\u001b[0m\u001b[1;33m\u001b[0m\u001b[0m\n\u001b[0m\u001b[0;32m   2670\u001b[0m     \u001b[1;32mfinally\u001b[0m\u001b[1;33m:\u001b[0m\u001b[1;33m\u001b[0m\u001b[0m\n\u001b[0;32m   2671\u001b[0m         \u001b[0max\u001b[0m\u001b[1;33m.\u001b[0m\u001b[0m_hold\u001b[0m \u001b[1;33m=\u001b[0m \u001b[0mwashold\u001b[0m\u001b[1;33m\u001b[0m\u001b[0m\n",
      "\u001b[1;32mc:\\program files\\python36\\lib\\site-packages\\matplotlib\\axes\\_axes.py\u001b[0m in \u001b[0;36mbarh\u001b[1;34m(self, *args, **kwargs)\u001b[0m\n\u001b[0;32m   2272\u001b[0m                 \u001b[1;32mbreak\u001b[0m\u001b[1;33m\u001b[0m\u001b[0m\n\u001b[0;32m   2273\u001b[0m         \u001b[1;32melse\u001b[0m\u001b[1;33m:\u001b[0m\u001b[1;33m\u001b[0m\u001b[0m\n\u001b[1;32m-> 2274\u001b[1;33m             \u001b[1;32mraise\u001b[0m \u001b[0mexcs\u001b[0m\u001b[1;33m[\u001b[0m\u001b[1;36m0\u001b[0m\u001b[1;33m]\u001b[0m\u001b[1;33m\u001b[0m\u001b[0m\n\u001b[0m\u001b[0;32m   2275\u001b[0m \u001b[1;33m\u001b[0m\u001b[0m\n\u001b[0;32m   2276\u001b[0m         \u001b[1;32mif\u001b[0m \u001b[0mdp\u001b[0m\u001b[1;33m:\u001b[0m\u001b[1;33m\u001b[0m\u001b[0m\n",
      "\u001b[1;32mc:\\program files\\python36\\lib\\site-packages\\matplotlib\\axes\\_axes.py\u001b[0m in \u001b[0;36mbarh\u001b[1;34m(self, *args, **kwargs)\u001b[0m\n\u001b[0;32m   2264\u001b[0m         \u001b[1;32mfor\u001b[0m \u001b[0mmatcher\u001b[0m \u001b[1;32min\u001b[0m \u001b[0mmatchers\u001b[0m\u001b[1;33m:\u001b[0m\u001b[1;33m\u001b[0m\u001b[0m\n\u001b[0;32m   2265\u001b[0m             \u001b[1;32mtry\u001b[0m\u001b[1;33m:\u001b[0m\u001b[1;33m\u001b[0m\u001b[0m\n\u001b[1;32m-> 2266\u001b[1;33m                 \u001b[0mdp\u001b[0m\u001b[1;33m,\u001b[0m \u001b[0my\u001b[0m\u001b[1;33m,\u001b[0m \u001b[0mwidth\u001b[0m\u001b[1;33m,\u001b[0m \u001b[0mheight\u001b[0m\u001b[1;33m,\u001b[0m \u001b[0mleft\u001b[0m\u001b[1;33m,\u001b[0m \u001b[0mkwargs\u001b[0m \u001b[1;33m=\u001b[0m \u001b[0mmatcher\u001b[0m\u001b[1;33m(\u001b[0m\u001b[1;33m*\u001b[0m\u001b[0margs\u001b[0m\u001b[1;33m,\u001b[0m \u001b[1;33m**\u001b[0m\u001b[0mkwargs\u001b[0m\u001b[1;33m)\u001b[0m\u001b[1;33m\u001b[0m\u001b[0m\n\u001b[0m\u001b[0;32m   2267\u001b[0m             \u001b[1;32mexcept\u001b[0m \u001b[0mTypeError\u001b[0m \u001b[1;32mas\u001b[0m \u001b[0me\u001b[0m\u001b[1;33m:\u001b[0m\u001b[1;33m\u001b[0m\u001b[0m\n\u001b[0;32m   2268\u001b[0m                 \u001b[1;31m# This can only come from a no-match as there is\u001b[0m\u001b[1;33m\u001b[0m\u001b[1;33m\u001b[0m\u001b[0m\n",
      "\u001b[1;31mTypeError\u001b[0m: <lambda>() missing 2 required positional arguments: 'y' and 'width'"
     ]
    },
    {
     "data": {
      "image/png": "[encoded data removed]",
      "text/plain": [
       "<matplotlib.figure.Figure at 0x1dfa6194160>"
      ]
     },
     "metadata": {},
     "output_type": "display_data"
    }
   ],
   "source": [
    "plt.barh()"
   ]
  },
  {
   "cell_type": "code",
   "execution_count": null,
   "metadata": {},
   "outputs": [],
   "source": [
    "plt.barh(tree.feature_importances_)"
   ]
  },
  {
   "cell_type": "code",
   "execution_count": 27,
   "metadata": {},
   "outputs": [
    {
     "data": {
      "image/png": "[encoded data removed]",
      "text/plain": [
       "<matplotlib.figure.Figure at 0x1dfa74e6e80>"
      ]
     },
     "metadata": {},
     "output_type": "display_data"
    }
   ],
   "source": [
    "fig , axes = plt.subplots(2,3, figsize = (10,10), sharex = True, sharey = True)"
   ]
  },
  {
   "cell_type": "code",
   "execution_count": 24,
   "metadata": {},
   "outputs": [
    {
     "name": "stdout",
     "output_type": "stream",
     "text": [
      "AxesSubplot(0.125,0.536818;0.227941x0.343182)\n",
      "AxesSubplot(0.398529,0.536818;0.227941x0.343182)\n",
      "AxesSubplot(0.672059,0.536818;0.227941x0.343182)\n",
      "AxesSubplot(0.125,0.125;0.227941x0.343182)\n",
      "AxesSubplot(0.398529,0.125;0.227941x0.343182)\n",
      "AxesSubplot(0.672059,0.125;0.227941x0.343182)\n"
     ]
    }
   ],
   "source": [
    "for i in range(2):\n",
    "    for j in range(3):\n",
    "        print(axes[i,j])"
   ]
  },
  {
   "cell_type": "code",
   "execution_count": 28,
   "metadata": {},
   "outputs": [
    {
     "data": {
      "text/plain": [
       "array([<matplotlib.axes._subplots.AxesSubplot object at 0x000001DFA70A6D68>,\n",
       "       <matplotlib.axes._subplots.AxesSubplot object at 0x000001DFA70017F0>,\n",
       "       <matplotlib.axes._subplots.AxesSubplot object at 0x000001DFA705A668>,\n",
       "       <matplotlib.axes._subplots.AxesSubplot object at 0x000001DFA71BE588>,\n",
       "       <matplotlib.axes._subplots.AxesSubplot object at 0x000001DFA7266320>,\n",
       "       <matplotlib.axes._subplots.AxesSubplot object at 0x000001DFA6B999E8>],\n",
       "      dtype=object)"
      ]
     },
     "execution_count": 28,
     "metadata": {},
     "output_type": "execute_result"
    }
   ],
   "source": [
    "axes.ravel()"
   ]
  },
  {
   "cell_type": "code",
   "execution_count": 35,
   "metadata": {},
   "outputs": [],
   "source": [
    "from sklearn.datasets import make_blobs\n",
    "\n",
    "X, y = make_blobs(centers = 4, random_state = 8)\n",
    "y = y% 2\n"
   ]
  },
  {
   "cell_type": "code",
   "execution_count": 36,
   "metadata": {},
   "outputs": [],
   "source": [
    "mask = (y == 0)"
   ]
  },
  {
   "cell_type": "code",
   "execution_count": 38,
   "metadata": {},
   "outputs": [
    {
     "data": {
      "text/plain": [
       "array([False,  True, False, False, False,  True,  True, False, False,\n",
       "       False,  True,  True, False, False, False,  True,  True, False,\n",
       "       False,  True,  True, False,  True,  True, False,  True,  True,\n",
       "       False,  True, False, False, False, False, False,  True,  True,\n",
       "       False,  True, False,  True, False, False,  True,  True,  True,\n",
       "        True, False,  True, False, False, False,  True,  True,  True,\n",
       "       False,  True,  True,  True,  True, False, False,  True, False,\n",
       "        True,  True, False, False, False,  True,  True, False,  True,\n",
       "        True, False,  True,  True, False,  True, False, False,  True,\n",
       "        True, False,  True, False,  True,  True,  True,  True, False,\n",
       "       False,  True, False,  True,  True, False, False, False, False,\n",
       "       False])"
      ]
     },
     "execution_count": 38,
     "metadata": {},
     "output_type": "execute_result"
    }
   ],
   "source": [
    "mask"
   ]
  },
  {
   "cell_type": "code",
   "execution_count": 41,
   "metadata": {},
   "outputs": [
    {
     "data": {
      "text/plain": [
       "array([ True, False,  True,  True,  True, False, False,  True,  True,\n",
       "        True, False, False,  True,  True,  True, False, False,  True,\n",
       "        True, False, False,  True, False, False,  True, False, False,\n",
       "        True, False,  True,  True,  True,  True,  True, False, False,\n",
       "        True, False,  True, False,  True,  True, False, False, False,\n",
       "       False,  True, False,  True,  True,  True, False, False, False,\n",
       "        True, False, False, False, False,  True,  True, False,  True,\n",
       "       False, False,  True,  True,  True, False, False,  True, False,\n",
       "       False,  True, False, False,  True, False,  True,  True, False,\n",
       "       False,  True, False,  True, False, False, False, False,  True,\n",
       "        True, False,  True, False, False,  True,  True,  True,  True,\n",
       "        True])"
      ]
     },
     "execution_count": 41,
     "metadata": {},
     "output_type": "execute_result"
    }
   ],
   "source": [
    "~mask "
   ]
  },
  {
   "cell_type": "markdown",
   "metadata": {},
   "source": [
    "!mask"
   ]
  },
  {
   "cell_type": "code",
   "execution_count": 42,
   "metadata": {},
   "outputs": [],
   "source": [
    "cancer = sklearn.datasets.load_breast_cancer()"
   ]
  },
  {
   "cell_type": "code",
   "execution_count": 43,
   "metadata": {},
   "outputs": [],
   "source": [
    "X = cancer.data"
   ]
  },
  {
   "cell_type": "code",
   "execution_count": 44,
   "metadata": {},
   "outputs": [
    {
     "data": {
      "text/plain": [
       "{'boxes': [<matplotlib.lines.Line2D at 0x1dfa72ea860>,\n",
       "  <matplotlib.lines.Line2D at 0x1dfa6e48780>,\n",
       "  <matplotlib.lines.Line2D at 0x1dfa6e22908>,\n",
       "  <matplotlib.lines.Line2D at 0x1dfa66fe1d0>,\n",
       "  <matplotlib.lines.Line2D at 0x1dfa68f39b0>,\n",
       "  <matplotlib.lines.Line2D at 0x1dfa68d32b0>,\n",
       "  <matplotlib.lines.Line2D at 0x1dfa73d2630>,\n",
       "  <matplotlib.lines.Line2D at 0x1dfa716fc18>,\n",
       "  <matplotlib.lines.Line2D at 0x1dfa68fdd68>,\n",
       "  <matplotlib.lines.Line2D at 0x1dfa7098160>,\n",
       "  <matplotlib.lines.Line2D at 0x1dfa6862e10>,\n",
       "  <matplotlib.lines.Line2D at 0x1dfa65aa860>,\n",
       "  <matplotlib.lines.Line2D at 0x1dfa60466a0>,\n",
       "  <matplotlib.lines.Line2D at 0x1dfa7589668>,\n",
       "  <matplotlib.lines.Line2D at 0x1dfa757d550>,\n",
       "  <matplotlib.lines.Line2D at 0x1dfa3bef3c8>,\n",
       "  <matplotlib.lines.Line2D at 0x1dfa6194588>,\n",
       "  <matplotlib.lines.Line2D at 0x1dfa6b4be80>,\n",
       "  <matplotlib.lines.Line2D at 0x1dfa5f5eef0>,\n",
       "  <matplotlib.lines.Line2D at 0x1dfa5f75e10>,\n",
       "  <matplotlib.lines.Line2D at 0x1dfa6032e48>,\n",
       "  <matplotlib.lines.Line2D at 0x1dfa5f88860>,\n",
       "  <matplotlib.lines.Line2D at 0x1dfa5f7ce10>,\n",
       "  <matplotlib.lines.Line2D at 0x1dfa713b710>,\n",
       "  <matplotlib.lines.Line2D at 0x1dfa745a7b8>,\n",
       "  <matplotlib.lines.Line2D at 0x1dfa674e198>,\n",
       "  <matplotlib.lines.Line2D at 0x1dfa6cc6400>,\n",
       "  <matplotlib.lines.Line2D at 0x1dfa749e908>,\n",
       "  <matplotlib.lines.Line2D at 0x1dfa6c42c88>,\n",
       "  <matplotlib.lines.Line2D at 0x1dfa6bd8a90>],\n",
       " 'caps': [<matplotlib.lines.Line2D at 0x1dfa754fb70>,\n",
       "  <matplotlib.lines.Line2D at 0x1dfa754f630>,\n",
       "  <matplotlib.lines.Line2D at 0x1dfa7289fd0>,\n",
       "  <matplotlib.lines.Line2D at 0x1dfa7289c88>,\n",
       "  <matplotlib.lines.Line2D at 0x1dfa7282828>,\n",
       "  <matplotlib.lines.Line2D at 0x1dfa7282b38>,\n",
       "  <matplotlib.lines.Line2D at 0x1dfa72ce550>,\n",
       "  <matplotlib.lines.Line2D at 0x1dfa68f3e10>,\n",
       "  <matplotlib.lines.Line2D at 0x1dfa72d8208>,\n",
       "  <matplotlib.lines.Line2D at 0x1dfa6e6d390>,\n",
       "  <matplotlib.lines.Line2D at 0x1dfa6e7e978>,\n",
       "  <matplotlib.lines.Line2D at 0x1dfa7549a58>,\n",
       "  <matplotlib.lines.Line2D at 0x1dfa7149e48>,\n",
       "  <matplotlib.lines.Line2D at 0x1dfa7149c50>,\n",
       "  <matplotlib.lines.Line2D at 0x1dfa7223588>,\n",
       "  <matplotlib.lines.Line2D at 0x1dfa72233c8>,\n",
       "  <matplotlib.lines.Line2D at 0x1dfa72b9978>,\n",
       "  <matplotlib.lines.Line2D at 0x1dfa6e90198>,\n",
       "  <matplotlib.lines.Line2D at 0x1dfa6d62978>,\n",
       "  <matplotlib.lines.Line2D at 0x1dfa6d623c8>,\n",
       "  <matplotlib.lines.Line2D at 0x1dfa71f9e10>,\n",
       "  <matplotlib.lines.Line2D at 0x1dfa7116c50>,\n",
       "  <matplotlib.lines.Line2D at 0x1dfa3ee0cc0>,\n",
       "  <matplotlib.lines.Line2D at 0x1dfa3c08518>,\n",
       "  <matplotlib.lines.Line2D at 0x1dfa62f36d8>,\n",
       "  <matplotlib.lines.Line2D at 0x1dfa62f3f60>,\n",
       "  <matplotlib.lines.Line2D at 0x1dfa7587d30>,\n",
       "  <matplotlib.lines.Line2D at 0x1dfa7587780>,\n",
       "  <matplotlib.lines.Line2D at 0x1dfa6049978>,\n",
       "  <matplotlib.lines.Line2D at 0x1dfa6049b70>,\n",
       "  <matplotlib.lines.Line2D at 0x1dfa604cc50>,\n",
       "  <matplotlib.lines.Line2D at 0x1dfa604cf60>,\n",
       "  <matplotlib.lines.Line2D at 0x1dfa6ae7198>,\n",
       "  <matplotlib.lines.Line2D at 0x1dfa6ae7208>,\n",
       "  <matplotlib.lines.Line2D at 0x1dfa5f94470>,\n",
       "  <matplotlib.lines.Line2D at 0x1dfa5f94358>,\n",
       "  <matplotlib.lines.Line2D at 0x1dfa60296d8>,\n",
       "  <matplotlib.lines.Line2D at 0x1dfa3c216d8>,\n",
       "  <matplotlib.lines.Line2D at 0x1dfa6026630>,\n",
       "  <matplotlib.lines.Line2D at 0x1dfa6026198>,\n",
       "  <matplotlib.lines.Line2D at 0x1dfa5f7db70>,\n",
       "  <matplotlib.lines.Line2D at 0x1dfa5f7d0f0>,\n",
       "  <matplotlib.lines.Line2D at 0x1dfa3deaf60>,\n",
       "  <matplotlib.lines.Line2D at 0x1dfa5f7cef0>,\n",
       "  <matplotlib.lines.Line2D at 0x1dfa3c6f668>,\n",
       "  <matplotlib.lines.Line2D at 0x1dfa3f004a8>,\n",
       "  <matplotlib.lines.Line2D at 0x1dfa70d9710>,\n",
       "  <matplotlib.lines.Line2D at 0x1dfa70d9c88>,\n",
       "  <matplotlib.lines.Line2D at 0x1dfa73f6da0>,\n",
       "  <matplotlib.lines.Line2D at 0x1dfa73f6b00>,\n",
       "  <matplotlib.lines.Line2D at 0x1dfa5f844a8>,\n",
       "  <matplotlib.lines.Line2D at 0x1dfa5f84a58>,\n",
       "  <matplotlib.lines.Line2D at 0x1dfa6bafda0>,\n",
       "  <matplotlib.lines.Line2D at 0x1dfa6ba01d0>,\n",
       "  <matplotlib.lines.Line2D at 0x1dfa7306470>,\n",
       "  <matplotlib.lines.Line2D at 0x1dfa6dfa6d8>,\n",
       "  <matplotlib.lines.Line2D at 0x1dfa71dcdd8>,\n",
       "  <matplotlib.lines.Line2D at 0x1dfa6b78f60>,\n",
       "  <matplotlib.lines.Line2D at 0x1dfa73346d8>,\n",
       "  <matplotlib.lines.Line2D at 0x1dfa7334ac8>],\n",
       " 'fliers': [<matplotlib.lines.Line2D at 0x1dfa6e48d30>,\n",
       "  <matplotlib.lines.Line2D at 0x1dfa7289ba8>,\n",
       "  <matplotlib.lines.Line2D at 0x1dfa72820b8>,\n",
       "  <matplotlib.lines.Line2D at 0x1dfa68f3d68>,\n",
       "  <matplotlib.lines.Line2D at 0x1dfa68d3cc0>,\n",
       "  <matplotlib.lines.Line2D at 0x1dfa740d240>,\n",
       "  <matplotlib.lines.Line2D at 0x1dfa716f940>,\n",
       "  <matplotlib.lines.Line2D at 0x1dfa68fd7f0>,\n",
       "  <matplotlib.lines.Line2D at 0x1dfa64c4908>,\n",
       "  <matplotlib.lines.Line2D at 0x1dfa70ff908>,\n",
       "  <matplotlib.lines.Line2D at 0x1dfa6168c18>,\n",
       "  <matplotlib.lines.Line2D at 0x1dfa60467f0>,\n",
       "  <matplotlib.lines.Line2D at 0x1dfa3bf2e10>,\n",
       "  <matplotlib.lines.Line2D at 0x1dfa757d240>,\n",
       "  <matplotlib.lines.Line2D at 0x1dfa3befd68>,\n",
       "  <matplotlib.lines.Line2D at 0x1dfa689c4a8>,\n",
       "  <matplotlib.lines.Line2D at 0x1dfa6ae7f98>,\n",
       "  <matplotlib.lines.Line2D at 0x1dfa5f61048>,\n",
       "  <matplotlib.lines.Line2D at 0x1dfa5f75a20>,\n",
       "  <matplotlib.lines.Line2D at 0x1dfa6032470>,\n",
       "  <matplotlib.lines.Line2D at 0x1dfa5f88eb8>,\n",
       "  <matplotlib.lines.Line2D at 0x1dfa5f7cc18>,\n",
       "  <matplotlib.lines.Line2D at 0x1dfa5f32128>,\n",
       "  <matplotlib.lines.Line2D at 0x1dfa70d91d0>,\n",
       "  <matplotlib.lines.Line2D at 0x1dfa73f6240>,\n",
       "  <matplotlib.lines.Line2D at 0x1dfa5f84b70>,\n",
       "  <matplotlib.lines.Line2D at 0x1dfa6ba0eb8>,\n",
       "  <matplotlib.lines.Line2D at 0x1dfa6c56c88>,\n",
       "  <matplotlib.lines.Line2D at 0x1dfa6bd8240>,\n",
       "  <matplotlib.lines.Line2D at 0x1dfa735d2e8>],\n",
       " 'means': [],\n",
       " 'medians': [<matplotlib.lines.Line2D at 0x1dfa754f208>,\n",
       "  <matplotlib.lines.Line2D at 0x1dfa72892b0>,\n",
       "  <matplotlib.lines.Line2D at 0x1dfa72825c0>,\n",
       "  <matplotlib.lines.Line2D at 0x1dfa68f3e80>,\n",
       "  <matplotlib.lines.Line2D at 0x1dfa6e6d6d8>,\n",
       "  <matplotlib.lines.Line2D at 0x1dfa7549b00>,\n",
       "  <matplotlib.lines.Line2D at 0x1dfa716f550>,\n",
       "  <matplotlib.lines.Line2D at 0x1dfa68fd2b0>,\n",
       "  <matplotlib.lines.Line2D at 0x1dfa6e909e8>,\n",
       "  <matplotlib.lines.Line2D at 0x1dfa6fd03c8>,\n",
       "  <matplotlib.lines.Line2D at 0x1dfa63579e8>,\n",
       "  <matplotlib.lines.Line2D at 0x1dfa3c089b0>,\n",
       "  <matplotlib.lines.Line2D at 0x1dfa3bf2748>,\n",
       "  <matplotlib.lines.Line2D at 0x1dfa7587898>,\n",
       "  <matplotlib.lines.Line2D at 0x1dfa6049cc0>,\n",
       "  <matplotlib.lines.Line2D at 0x1dfa6266128>,\n",
       "  <matplotlib.lines.Line2D at 0x1dfa6ae7eb8>,\n",
       "  <matplotlib.lines.Line2D at 0x1dfa5f94fd0>,\n",
       "  <matplotlib.lines.Line2D at 0x1dfa5f754e0>,\n",
       "  <matplotlib.lines.Line2D at 0x1dfa6037048>,\n",
       "  <matplotlib.lines.Line2D at 0x1dfa5f7d7f0>,\n",
       "  <matplotlib.lines.Line2D at 0x1dfa5f7cc50>,\n",
       "  <matplotlib.lines.Line2D at 0x1dfa7266f60>,\n",
       "  <matplotlib.lines.Line2D at 0x1dfa70d94a8>,\n",
       "  <matplotlib.lines.Line2D at 0x1dfa73f6358>,\n",
       "  <matplotlib.lines.Line2D at 0x1dfa5f842b0>,\n",
       "  <matplotlib.lines.Line2D at 0x1dfa6ba0780>,\n",
       "  <matplotlib.lines.Line2D at 0x1dfa6cd4198>,\n",
       "  <matplotlib.lines.Line2D at 0x1dfa6bd81d0>,\n",
       "  <matplotlib.lines.Line2D at 0x1dfa7334eb8>],\n",
       " 'whiskers': [<matplotlib.lines.Line2D at 0x1dfa72ea208>,\n",
       "  <matplotlib.lines.Line2D at 0x1dfa72eaf98>,\n",
       "  <matplotlib.lines.Line2D at 0x1dfa6e48978>,\n",
       "  <matplotlib.lines.Line2D at 0x1dfa6e48240>,\n",
       "  <matplotlib.lines.Line2D at 0x1dfa6e22518>,\n",
       "  <matplotlib.lines.Line2D at 0x1dfa6e22f98>,\n",
       "  <matplotlib.lines.Line2D at 0x1dfa72cec50>,\n",
       "  <matplotlib.lines.Line2D at 0x1dfa72ce630>,\n",
       "  <matplotlib.lines.Line2D at 0x1dfa72d8b38>,\n",
       "  <matplotlib.lines.Line2D at 0x1dfa72d8a58>,\n",
       "  <matplotlib.lines.Line2D at 0x1dfa68d3a20>,\n",
       "  <matplotlib.lines.Line2D at 0x1dfa6928358>,\n",
       "  <matplotlib.lines.Line2D at 0x1dfa744a4a8>,\n",
       "  <matplotlib.lines.Line2D at 0x1dfa7188470>,\n",
       "  <matplotlib.lines.Line2D at 0x1dfa6fbd860>,\n",
       "  <matplotlib.lines.Line2D at 0x1dfa7223e10>,\n",
       "  <matplotlib.lines.Line2D at 0x1dfa72b9860>,\n",
       "  <matplotlib.lines.Line2D at 0x1dfa72b9b00>,\n",
       "  <matplotlib.lines.Line2D at 0x1dfa6fb6780>,\n",
       "  <matplotlib.lines.Line2D at 0x1dfa6d62898>,\n",
       "  <matplotlib.lines.Line2D at 0x1dfa71f9128>,\n",
       "  <matplotlib.lines.Line2D at 0x1dfa71f96a0>,\n",
       "  <matplotlib.lines.Line2D at 0x1dfa69c8518>,\n",
       "  <matplotlib.lines.Line2D at 0x1dfa6136fd0>,\n",
       "  <matplotlib.lines.Line2D at 0x1dfa62f34e0>,\n",
       "  <matplotlib.lines.Line2D at 0x1dfa62f3eb8>,\n",
       "  <matplotlib.lines.Line2D at 0x1dfa7589550>,\n",
       "  <matplotlib.lines.Line2D at 0x1dfa7589be0>,\n",
       "  <matplotlib.lines.Line2D at 0x1dfa757d320>,\n",
       "  <matplotlib.lines.Line2D at 0x1dfa757de80>,\n",
       "  <matplotlib.lines.Line2D at 0x1dfa604c1d0>,\n",
       "  <matplotlib.lines.Line2D at 0x1dfa604cda0>,\n",
       "  <matplotlib.lines.Line2D at 0x1dfa61945c0>,\n",
       "  <matplotlib.lines.Line2D at 0x1dfa6b57f60>,\n",
       "  <matplotlib.lines.Line2D at 0x1dfa5f2b6d8>,\n",
       "  <matplotlib.lines.Line2D at 0x1dfa5f42668>,\n",
       "  <matplotlib.lines.Line2D at 0x1dfa6029c88>,\n",
       "  <matplotlib.lines.Line2D at 0x1dfa60290b8>,\n",
       "  <matplotlib.lines.Line2D at 0x1dfa3d74710>,\n",
       "  <matplotlib.lines.Line2D at 0x1dfa6026e10>,\n",
       "  <matplotlib.lines.Line2D at 0x1dfa6032d30>,\n",
       "  <matplotlib.lines.Line2D at 0x1dfa5f7deb8>,\n",
       "  <matplotlib.lines.Line2D at 0x1dfa5f88550>,\n",
       "  <matplotlib.lines.Line2D at 0x1dfa5f886d8>,\n",
       "  <matplotlib.lines.Line2D at 0x1dfa5f46ba8>,\n",
       "  <matplotlib.lines.Line2D at 0x1dfa3c6f320>,\n",
       "  <matplotlib.lines.Line2D at 0x1dfa713b630>,\n",
       "  <matplotlib.lines.Line2D at 0x1dfa713bfd0>,\n",
       "  <matplotlib.lines.Line2D at 0x1dfa745ab70>,\n",
       "  <matplotlib.lines.Line2D at 0x1dfa745a128>,\n",
       "  <matplotlib.lines.Line2D at 0x1dfa6048630>,\n",
       "  <matplotlib.lines.Line2D at 0x1dfa6048940>,\n",
       "  <matplotlib.lines.Line2D at 0x1dfa6bafb00>,\n",
       "  <matplotlib.lines.Line2D at 0x1dfa6baf320>,\n",
       "  <matplotlib.lines.Line2D at 0x1dfa7328160>,\n",
       "  <matplotlib.lines.Line2D at 0x1dfa6e1fac8>,\n",
       "  <matplotlib.lines.Line2D at 0x1dfa6c34710>,\n",
       "  <matplotlib.lines.Line2D at 0x1dfa6b62198>,\n",
       "  <matplotlib.lines.Line2D at 0x1dfa6bd8eb8>,\n",
       "  <matplotlib.lines.Line2D at 0x1dfa73342e8>]}"
      ]
     },
     "execution_count": 44,
     "metadata": {},
     "output_type": "execute_result"
    },
    {
     "data": {
      "image/png": "[encoded data removed]",
      "text/plain": [
       "<matplotlib.figure.Figure at 0x1dfa7336c88>"
      ]
     },
     "metadata": {},
     "output_type": "display_data"
    }
   ],
   "source": [
    "plt.boxplot(X)"
   ]
  },
  {
   "cell_type": "code",
   "execution_count": 55,
   "metadata": {},
   "outputs": [],
   "source": [
    "from sklearn.preprocessing import MinMaxScaler\n",
    "\n",
    "X_train, X_test = train_test_split(X)"
   ]
  },
  {
   "cell_type": "code",
   "execution_count": 56,
   "metadata": {},
   "outputs": [
    {
     "data": {
      "text/plain": [
       "(569, 30)"
      ]
     },
     "execution_count": 56,
     "metadata": {},
     "output_type": "execute_result"
    }
   ],
   "source": [
    "X.shape"
   ]
  },
  {
   "cell_type": "code",
   "execution_count": 57,
   "metadata": {},
   "outputs": [
    {
     "data": {
      "text/plain": [
       "569"
      ]
     },
     "execution_count": 57,
     "metadata": {},
     "output_type": "execute_result"
    }
   ],
   "source": [
    "X_train.shape[0] + X_test.shape[0]"
   ]
  },
  {
   "cell_type": "code",
   "execution_count": 62,
   "metadata": {},
   "outputs": [],
   "source": [
    "scaler = MinMaxScaler().fit(X_train)"
   ]
  },
  {
   "cell_type": "code",
   "execution_count": 65,
   "metadata": {},
   "outputs": [],
   "source": [
    "X_scaled = scaler.transform(X)"
   ]
  },
  {
   "cell_type": "code",
   "execution_count": 70,
   "metadata": {},
   "outputs": [
    {
     "data": {
      "text/plain": [
       "{'boxes': [<matplotlib.lines.Line2D at 0x1dfa8b43400>,\n",
       "  <matplotlib.lines.Line2D at 0x1dfa8b4beb8>,\n",
       "  <matplotlib.lines.Line2D at 0x1dfa8ffbc50>,\n",
       "  <matplotlib.lines.Line2D at 0x1dfa900a9e8>,\n",
       "  <matplotlib.lines.Line2D at 0x1dfa9019780>,\n",
       "  <matplotlib.lines.Line2D at 0x1dfa9029518>,\n",
       "  <matplotlib.lines.Line2D at 0x1dfa903a2b0>,\n",
       "  <matplotlib.lines.Line2D at 0x1dfa904c048>,\n",
       "  <matplotlib.lines.Line2D at 0x1dfa9053da0>,\n",
       "  <matplotlib.lines.Line2D at 0x1dfa9066b38>,\n",
       "  <matplotlib.lines.Line2D at 0x1dfaa5678d0>,\n",
       "  <matplotlib.lines.Line2D at 0x1dfaa577668>,\n",
       "  <matplotlib.lines.Line2D at 0x1dfaa589400>,\n",
       "  <matplotlib.lines.Line2D at 0x1dfaa59d198>,\n",
       "  <matplotlib.lines.Line2D at 0x1dfaa5a5a20>,\n",
       "  <matplotlib.lines.Line2D at 0x1dfaa5b86d8>,\n",
       "  <matplotlib.lines.Line2D at 0x1dfaa5c92e8>,\n",
       "  <matplotlib.lines.Line2D at 0x1dfaa5d2eb8>,\n",
       "  <matplotlib.lines.Line2D at 0x1dfaa5e5ac8>,\n",
       "  <matplotlib.lines.Line2D at 0x1dfaa5f76d8>,\n",
       "  <matplotlib.lines.Line2D at 0x1dfaa60a2e8>,\n",
       "  <matplotlib.lines.Line2D at 0x1dfaa613eb8>,\n",
       "  <matplotlib.lines.Line2D at 0x1dfaa626ac8>,\n",
       "  <matplotlib.lines.Line2D at 0x1dfaa6386d8>,\n",
       "  <matplotlib.lines.Line2D at 0x1dfaa64a2e8>,\n",
       "  <matplotlib.lines.Line2D at 0x1dfaa654eb8>,\n",
       "  <matplotlib.lines.Line2D at 0x1dfaa668ac8>,\n",
       "  <matplotlib.lines.Line2D at 0x1dfaa6796d8>,\n",
       "  <matplotlib.lines.Line2D at 0x1dfaa68b2e8>,\n",
       "  <matplotlib.lines.Line2D at 0x1dfaa694eb8>],\n",
       " 'caps': [<matplotlib.lines.Line2D at 0x1dfa8b43e10>,\n",
       "  <matplotlib.lines.Line2D at 0x1dfa8b4b278>,\n",
       "  <matplotlib.lines.Line2D at 0x1dfa8ff3ba8>,\n",
       "  <matplotlib.lines.Line2D at 0x1dfa8ff3fd0>,\n",
       "  <matplotlib.lines.Line2D at 0x1dfa9003940>,\n",
       "  <matplotlib.lines.Line2D at 0x1dfa9003d68>,\n",
       "  <matplotlib.lines.Line2D at 0x1dfa90126d8>,\n",
       "  <matplotlib.lines.Line2D at 0x1dfa9012b00>,\n",
       "  <matplotlib.lines.Line2D at 0x1dfa9023470>,\n",
       "  <matplotlib.lines.Line2D at 0x1dfa9023898>,\n",
       "  <matplotlib.lines.Line2D at 0x1dfa9031208>,\n",
       "  <matplotlib.lines.Line2D at 0x1dfa9031630>,\n",
       "  <matplotlib.lines.Line2D at 0x1dfa903af60>,\n",
       "  <matplotlib.lines.Line2D at 0x1dfa90413c8>,\n",
       "  <matplotlib.lines.Line2D at 0x1dfa904ccf8>,\n",
       "  <matplotlib.lines.Line2D at 0x1dfa9053160>,\n",
       "  <matplotlib.lines.Line2D at 0x1dfa905ca90>,\n",
       "  <matplotlib.lines.Line2D at 0x1dfa905ceb8>,\n",
       "  <matplotlib.lines.Line2D at 0x1dfa906f828>,\n",
       "  <matplotlib.lines.Line2D at 0x1dfa906fc50>,\n",
       "  <matplotlib.lines.Line2D at 0x1dfaa5705c0>,\n",
       "  <matplotlib.lines.Line2D at 0x1dfaa5709e8>,\n",
       "  <matplotlib.lines.Line2D at 0x1dfaa581358>,\n",
       "  <matplotlib.lines.Line2D at 0x1dfaa581780>,\n",
       "  <matplotlib.lines.Line2D at 0x1dfaa5920f0>,\n",
       "  <matplotlib.lines.Line2D at 0x1dfaa592518>,\n",
       "  <matplotlib.lines.Line2D at 0x1dfaa59de48>,\n",
       "  <matplotlib.lines.Line2D at 0x1dfa8b0c860>,\n",
       "  <matplotlib.lines.Line2D at 0x1dfaa5ae710>,\n",
       "  <matplotlib.lines.Line2D at 0x1dfaa5aeb00>,\n",
       "  <matplotlib.lines.Line2D at 0x1dfaa5c1320>,\n",
       "  <matplotlib.lines.Line2D at 0x1dfaa5c1710>,\n",
       "  <matplotlib.lines.Line2D at 0x1dfaa5c9ef0>,\n",
       "  <matplotlib.lines.Line2D at 0x1dfaa5d2320>,\n",
       "  <matplotlib.lines.Line2D at 0x1dfaa5dcb00>,\n",
       "  <matplotlib.lines.Line2D at 0x1dfaa5dcef0>,\n",
       "  <matplotlib.lines.Line2D at 0x1dfaa5ed710>,\n",
       "  <matplotlib.lines.Line2D at 0x1dfaa5edb00>,\n",
       "  <matplotlib.lines.Line2D at 0x1dfaa600320>,\n",
       "  <matplotlib.lines.Line2D at 0x1dfaa600710>,\n",
       "  <matplotlib.lines.Line2D at 0x1dfaa60aef0>,\n",
       "  <matplotlib.lines.Line2D at 0x1dfaa613320>,\n",
       "  <matplotlib.lines.Line2D at 0x1dfaa61db00>,\n",
       "  <matplotlib.lines.Line2D at 0x1dfaa61def0>,\n",
       "  <matplotlib.lines.Line2D at 0x1dfaa62f710>,\n",
       "  <matplotlib.lines.Line2D at 0x1dfaa62fb00>,\n",
       "  <matplotlib.lines.Line2D at 0x1dfaa641320>,\n",
       "  <matplotlib.lines.Line2D at 0x1dfaa641710>,\n",
       "  <matplotlib.lines.Line2D at 0x1dfaa64aef0>,\n",
       "  <matplotlib.lines.Line2D at 0x1dfaa654320>,\n",
       "  <matplotlib.lines.Line2D at 0x1dfaa65db00>,\n",
       "  <matplotlib.lines.Line2D at 0x1dfaa65def0>,\n",
       "  <matplotlib.lines.Line2D at 0x1dfaa671710>,\n",
       "  <matplotlib.lines.Line2D at 0x1dfaa671b00>,\n",
       "  <matplotlib.lines.Line2D at 0x1dfaa683320>,\n",
       "  <matplotlib.lines.Line2D at 0x1dfaa683710>,\n",
       "  <matplotlib.lines.Line2D at 0x1dfaa68bef0>,\n",
       "  <matplotlib.lines.Line2D at 0x1dfaa694320>,\n",
       "  <matplotlib.lines.Line2D at 0x1dfaa69eb00>,\n",
       "  <matplotlib.lines.Line2D at 0x1dfaa69eef0>],\n",
       " 'fliers': [<matplotlib.lines.Line2D at 0x1dfa8b4bac8>,\n",
       "  <matplotlib.lines.Line2D at 0x1dfa8ffb860>,\n",
       "  <matplotlib.lines.Line2D at 0x1dfa900a5f8>,\n",
       "  <matplotlib.lines.Line2D at 0x1dfa9019390>,\n",
       "  <matplotlib.lines.Line2D at 0x1dfa9029128>,\n",
       "  <matplotlib.lines.Line2D at 0x1dfa9031e80>,\n",
       "  <matplotlib.lines.Line2D at 0x1dfa9041c18>,\n",
       "  <matplotlib.lines.Line2D at 0x1dfa90539b0>,\n",
       "  <matplotlib.lines.Line2D at 0x1dfa9066748>,\n",
       "  <matplotlib.lines.Line2D at 0x1dfaa5674e0>,\n",
       "  <matplotlib.lines.Line2D at 0x1dfaa577278>,\n",
       "  <matplotlib.lines.Line2D at 0x1dfaa581fd0>,\n",
       "  <matplotlib.lines.Line2D at 0x1dfaa592d68>,\n",
       "  <matplotlib.lines.Line2D at 0x1dfaa5a5630>,\n",
       "  <matplotlib.lines.Line2D at 0x1dfaa5b8320>,\n",
       "  <matplotlib.lines.Line2D at 0x1dfaa5c1ef0>,\n",
       "  <matplotlib.lines.Line2D at 0x1dfaa5d2b00>,\n",
       "  <matplotlib.lines.Line2D at 0x1dfaa5e5710>,\n",
       "  <matplotlib.lines.Line2D at 0x1dfaa5f7320>,\n",
       "  <matplotlib.lines.Line2D at 0x1dfaa600ef0>,\n",
       "  <matplotlib.lines.Line2D at 0x1dfaa613b00>,\n",
       "  <matplotlib.lines.Line2D at 0x1dfaa626710>,\n",
       "  <matplotlib.lines.Line2D at 0x1dfaa638320>,\n",
       "  <matplotlib.lines.Line2D at 0x1dfaa641ef0>,\n",
       "  <matplotlib.lines.Line2D at 0x1dfaa654b00>,\n",
       "  <matplotlib.lines.Line2D at 0x1dfaa668710>,\n",
       "  <matplotlib.lines.Line2D at 0x1dfaa679320>,\n",
       "  <matplotlib.lines.Line2D at 0x1dfaa683ef0>,\n",
       "  <matplotlib.lines.Line2D at 0x1dfaa694b00>,\n",
       "  <matplotlib.lines.Line2D at 0x1dfaa6a7710>],\n",
       " 'means': [],\n",
       " 'medians': [<matplotlib.lines.Line2D at 0x1dfa8b4b6a0>,\n",
       "  <matplotlib.lines.Line2D at 0x1dfa8ffb438>,\n",
       "  <matplotlib.lines.Line2D at 0x1dfa900a1d0>,\n",
       "  <matplotlib.lines.Line2D at 0x1dfa9012f28>,\n",
       "  <matplotlib.lines.Line2D at 0x1dfa9023cc0>,\n",
       "  <matplotlib.lines.Line2D at 0x1dfa9031a58>,\n",
       "  <matplotlib.lines.Line2D at 0x1dfa90417f0>,\n",
       "  <matplotlib.lines.Line2D at 0x1dfa9053588>,\n",
       "  <matplotlib.lines.Line2D at 0x1dfa9066320>,\n",
       "  <matplotlib.lines.Line2D at 0x1dfaa5670b8>,\n",
       "  <matplotlib.lines.Line2D at 0x1dfaa570e10>,\n",
       "  <matplotlib.lines.Line2D at 0x1dfaa581ba8>,\n",
       "  <matplotlib.lines.Line2D at 0x1dfaa592940>,\n",
       "  <matplotlib.lines.Line2D at 0x1dfa8b0cf28>,\n",
       "  <matplotlib.lines.Line2D at 0x1dfaa5aeef0>,\n",
       "  <matplotlib.lines.Line2D at 0x1dfaa5c1b00>,\n",
       "  <matplotlib.lines.Line2D at 0x1dfaa5d2710>,\n",
       "  <matplotlib.lines.Line2D at 0x1dfaa5e5320>,\n",
       "  <matplotlib.lines.Line2D at 0x1dfaa5edef0>,\n",
       "  <matplotlib.lines.Line2D at 0x1dfaa600b00>,\n",
       "  <matplotlib.lines.Line2D at 0x1dfaa613710>,\n",
       "  <matplotlib.lines.Line2D at 0x1dfaa626320>,\n",
       "  <matplotlib.lines.Line2D at 0x1dfaa62fef0>,\n",
       "  <matplotlib.lines.Line2D at 0x1dfaa641b00>,\n",
       "  <matplotlib.lines.Line2D at 0x1dfaa654710>,\n",
       "  <matplotlib.lines.Line2D at 0x1dfaa668320>,\n",
       "  <matplotlib.lines.Line2D at 0x1dfaa671ef0>,\n",
       "  <matplotlib.lines.Line2D at 0x1dfaa683b00>,\n",
       "  <matplotlib.lines.Line2D at 0x1dfaa694710>,\n",
       "  <matplotlib.lines.Line2D at 0x1dfaa6a7320>],\n",
       " 'whiskers': [<matplotlib.lines.Line2D at 0x1dfa8b43550>,\n",
       "  <matplotlib.lines.Line2D at 0x1dfa8b439e8>,\n",
       "  <matplotlib.lines.Line2D at 0x1dfa8ff3358>,\n",
       "  <matplotlib.lines.Line2D at 0x1dfa8ff3780>,\n",
       "  <matplotlib.lines.Line2D at 0x1dfa90030f0>,\n",
       "  <matplotlib.lines.Line2D at 0x1dfa9003518>,\n",
       "  <matplotlib.lines.Line2D at 0x1dfa900ae48>,\n",
       "  <matplotlib.lines.Line2D at 0x1dfa90122b0>,\n",
       "  <matplotlib.lines.Line2D at 0x1dfa9019be0>,\n",
       "  <matplotlib.lines.Line2D at 0x1dfa9023048>,\n",
       "  <matplotlib.lines.Line2D at 0x1dfa9029978>,\n",
       "  <matplotlib.lines.Line2D at 0x1dfa9029da0>,\n",
       "  <matplotlib.lines.Line2D at 0x1dfa903a710>,\n",
       "  <matplotlib.lines.Line2D at 0x1dfa903ab38>,\n",
       "  <matplotlib.lines.Line2D at 0x1dfa904c4a8>,\n",
       "  <matplotlib.lines.Line2D at 0x1dfa904c8d0>,\n",
       "  <matplotlib.lines.Line2D at 0x1dfa905c240>,\n",
       "  <matplotlib.lines.Line2D at 0x1dfa905c668>,\n",
       "  <matplotlib.lines.Line2D at 0x1dfa9066f98>,\n",
       "  <matplotlib.lines.Line2D at 0x1dfa906f400>,\n",
       "  <matplotlib.lines.Line2D at 0x1dfaa567d30>,\n",
       "  <matplotlib.lines.Line2D at 0x1dfaa570198>,\n",
       "  <matplotlib.lines.Line2D at 0x1dfaa577ac8>,\n",
       "  <matplotlib.lines.Line2D at 0x1dfaa577ef0>,\n",
       "  <matplotlib.lines.Line2D at 0x1dfaa589860>,\n",
       "  <matplotlib.lines.Line2D at 0x1dfaa589c88>,\n",
       "  <matplotlib.lines.Line2D at 0x1dfaa59d5f8>,\n",
       "  <matplotlib.lines.Line2D at 0x1dfaa59da20>,\n",
       "  <matplotlib.lines.Line2D at 0x1dfaa5a5e80>,\n",
       "  <matplotlib.lines.Line2D at 0x1dfaa5ae2e8>,\n",
       "  <matplotlib.lines.Line2D at 0x1dfaa5b8b00>,\n",
       "  <matplotlib.lines.Line2D at 0x1dfaa5b8ef0>,\n",
       "  <matplotlib.lines.Line2D at 0x1dfaa5c9710>,\n",
       "  <matplotlib.lines.Line2D at 0x1dfaa5c9b00>,\n",
       "  <matplotlib.lines.Line2D at 0x1dfaa5dc320>,\n",
       "  <matplotlib.lines.Line2D at 0x1dfaa5dc710>,\n",
       "  <matplotlib.lines.Line2D at 0x1dfaa5e5ef0>,\n",
       "  <matplotlib.lines.Line2D at 0x1dfaa5ed320>,\n",
       "  <matplotlib.lines.Line2D at 0x1dfaa5f7b00>,\n",
       "  <matplotlib.lines.Line2D at 0x1dfaa5f7ef0>,\n",
       "  <matplotlib.lines.Line2D at 0x1dfaa60a710>,\n",
       "  <matplotlib.lines.Line2D at 0x1dfaa60ab00>,\n",
       "  <matplotlib.lines.Line2D at 0x1dfaa61d320>,\n",
       "  <matplotlib.lines.Line2D at 0x1dfaa61d710>,\n",
       "  <matplotlib.lines.Line2D at 0x1dfaa626ef0>,\n",
       "  <matplotlib.lines.Line2D at 0x1dfaa62f320>,\n",
       "  <matplotlib.lines.Line2D at 0x1dfaa638b00>,\n",
       "  <matplotlib.lines.Line2D at 0x1dfaa638ef0>,\n",
       "  <matplotlib.lines.Line2D at 0x1dfaa64a710>,\n",
       "  <matplotlib.lines.Line2D at 0x1dfaa64ab00>,\n",
       "  <matplotlib.lines.Line2D at 0x1dfaa65d320>,\n",
       "  <matplotlib.lines.Line2D at 0x1dfaa65d710>,\n",
       "  <matplotlib.lines.Line2D at 0x1dfaa668ef0>,\n",
       "  <matplotlib.lines.Line2D at 0x1dfaa671320>,\n",
       "  <matplotlib.lines.Line2D at 0x1dfaa679b00>,\n",
       "  <matplotlib.lines.Line2D at 0x1dfaa679ef0>,\n",
       "  <matplotlib.lines.Line2D at 0x1dfaa68b710>,\n",
       "  <matplotlib.lines.Line2D at 0x1dfaa68bb00>,\n",
       "  <matplotlib.lines.Line2D at 0x1dfaa69e320>,\n",
       "  <matplotlib.lines.Line2D at 0x1dfaa69e710>]}"
      ]
     },
     "execution_count": 70,
     "metadata": {},
     "output_type": "execute_result"
    },
    {
     "data": {
      "image/png": "[encoded data removed]",
      "text/plain": [
       "<matplotlib.figure.Figure at 0x1dfa83007f0>"
      ]
     },
     "metadata": {},
     "output_type": "display_data"
    }
   ],
   "source": [
    "plt.figure(figsize = (15,8))\n",
    "plt.boxplot(X_scaled)"
   ]
  },
  {
   "cell_type": "code",
   "execution_count": 90,
   "metadata": {
    "scrolled": false
   },
   "outputs": [
    {
     "name": "stdout",
     "output_type": "stream",
     "text": [
      "[4 1 5 0 7 2 3 6 9 8]\n",
      "[1 6 0 2 3 9 7 8 4 5]\n",
      "[4 9 5 0 8 1 2 6 7 3]\n",
      "[5 9 8 0 2 1 3 7 6 4]\n",
      "[5 3 8 6 7 0 1 9 4 2]\n",
      "[5 4 3 6 2 0 1 7 8 9]\n",
      "[1 6 5 4 2 7 8 0 3 9]\n",
      "[7 6 9 0 3 5 1 4 2 8]\n",
      "[9 3 0 2 6 7 5 1 8 4]\n",
      "[9 1 8 0 2 5 4 3 6 7]\n"
     ]
    }
   ],
   "source": [
    "np.random.seed(2)\n",
    "\n",
    "for i in range(10):\n",
    "    print(np.random.permutation(range(10)))\n"
   ]
  },
  {
   "cell_type": "code",
   "execution_count": 113,
   "metadata": {},
   "outputs": [
    {
     "data": {
      "text/plain": [
       "array(['a', 'b', 'c', 'a', 'c', 'b', 'b', 'a'], dtype='<U1')"
      ]
     },
     "execution_count": 113,
     "metadata": {},
     "output_type": "execute_result"
    }
   ],
   "source": [
    "name[no_name]"
   ]
  },
  {
   "cell_type": "code",
   "execution_count": 12,
   "metadata": {},
   "outputs": [
    {
     "name": "stdout",
     "output_type": "stream",
     "text": [
      "['Tom', 'Kim', 'John', 'Hun', 'Tom', 'Lee', 'Lee'] \n",
      " 에서 중복되는 이름은 \n",
      " ['Tom', 'Lee'] 입니다.\n"
     ]
    }
   ],
   "source": [
    "# 이름 리스트를 만들어 줍니다.\n",
    "name_list = ['Tom','Kim','John','Hun','Tom','Lee','Lee']\n",
    "duplicated_name = name_list.copy()\n",
    "\n",
    "# unique 값을 찾기 위해 set 을 사용합니다.\n",
    "name_set = set(name_list)\n",
    "\n",
    "# 이것을 다시 리스트 형태로 만들어 줍니다\n",
    "name_list_not_duplicated = list(name_set)\n",
    "\n",
    "# 유니크한 값들을 하나씩 탐색하며 원래 이름 리스트에서 제거\n",
    "## -> 중복되는 이름들은 살아있겠죠?? ㅎㅎ\n",
    "for name in name_list_not_duplicated:\n",
    "    duplicated_name.remove(name)\n",
    "    \n",
    "# 이 문제에서는 중복되는 이름들이 최대 2개씩이지만\n",
    "# 3개 이상인 문제에 대해서도 중복되는 이름이 하나씩 나와야 하므로\n",
    "# 이것을 다시 list -> set -> list 로 형변환 해줍니다.\n",
    "duplicated_name = list(set(duplicated_name))\n",
    "\n",
    "print('{0} \\n 에서 중복되는 이름은 \\n {1} 입니다.'.format(name_list, duplicated_name))"
   ]
  },
  {
   "cell_type": "code",
   "execution_count": 15,
   "metadata": {},
   "outputs": [
    {
     "data": {
      "text/plain": [
       "array([0, 3, 2, 1], dtype=int64)"
      ]
     },
     "execution_count": 15,
     "metadata": {},
     "output_type": "execute_result"
    }
   ],
   "source": [
    "np.bincount(np.array([1,1,1,2,2,3]))"
   ]
  },
  {
   "cell_type": "code",
   "execution_count": 6,
   "metadata": {},
   "outputs": [
    {
     "data": {
      "text/plain": [
       "['Lee', 'Lee', 'Lee', 'Lee']"
      ]
     },
     "execution_count": 6,
     "metadata": {},
     "output_type": "execute_result"
    }
   ],
   "source": [
    "findDuplicated(name_list)\n"
   ]
  },
  {
   "cell_type": "code",
   "execution_count": 30,
   "metadata": {},
   "outputs": [
    {
     "name": "stdout",
     "output_type": "stream",
     "text": [
      "['Tom', 'Kim', 'Lee'] 에서 가능한 모든 조합은  \n",
      "[['Tom', 'Kim'], ['Tom', 'Lee'], ['Kim', 'Lee']] 입니다.\n"
     ]
    }
   ],
   "source": [
    "##  모든 조합 만들기 ##\n",
    "\n",
    "# 로직 아이디어\n",
    "## 리스트의 첫번째 요소부터 탐색한다.\n",
    "## 탐색 중인 요소(인덱스 i)와 그 뒤의 요소들(인덱스 j)와 매칭시킨다.\n",
    "## 이렇게 하면 쌍 조합이 겹치는 것들 없이 매칭시킬 수 있다.\n",
    "comb_list = ['Tom','Kim','Lee']\n",
    "match_list =[] # 조합을 담을 리스트\n",
    "\n",
    "for i in range(len(comb_list)):\n",
    "    for j in range(i+1, len(comb_list)):\n",
    "        match_list.append([comb_list[i],comb_list[j]])\n",
    "            \n",
    "print('{} 에서 가능한 모든 조합은  \\n{} 입니다.'.format(comb_list, match_list))\n"
   ]
  },
  {
   "cell_type": "code",
   "execution_count": 9,
   "metadata": {},
   "outputs": [
    {
     "data": {
      "text/plain": [
       "[['Tom', 'Kim'], ['Tom', 'Lee'], ['Kim', 'Lee']]"
      ]
     },
     "execution_count": 9,
     "metadata": {},
     "output_type": "execute_result"
    }
   ],
   "source": [
    "match_list"
   ]
  },
  {
   "cell_type": "code",
   "execution_count": 10,
   "metadata": {},
   "outputs": [
    {
     "data": {
      "text/plain": [
       "[('Tom', 'Kim'),\n",
       " ('Tom', 'Lee'),\n",
       " ('Kim', 'Tom'),\n",
       " ('Kim', 'Lee'),\n",
       " ('Lee', 'Tom'),\n",
       " ('Lee', 'Kim')]"
      ]
     },
     "execution_count": 10,
     "metadata": {},
     "output_type": "execute_result"
    }
   ],
   "source": [
    "from itertools import permutations\n",
    "list(permutations(comb_list,2))"
   ]
  },
  {
   "cell_type": "code",
   "execution_count": 4,
   "metadata": {},
   "outputs": [
    {
     "name": "stdout",
     "output_type": "stream",
     "text": [
      "[8, 4, 8, 1, 24, 8, 104, 0, 34, 6, 2, 75] 에서 \n",
      "가장 큰 숫자는 104 입니다.\n",
      "\n",
      "max() 함수를 이용한 가장 큰 숫자 : 104\n"
     ]
    }
   ],
   "source": [
    "# max를 이용하지 않고 가장 큰 숫자 찾기\n",
    "\n",
    "# 그냥 아무렇게나 number 리스트를 만들어줍니다.\n",
    "numbers = [8,4,8,1,24,8,104,0,34,6,2,75]\n",
    "\n",
    "numbers_unique = list(set(numbers))\n",
    "compare_dict = {}\n",
    "\n",
    "for i in numbers_unique:\n",
    "    null_list = []\n",
    "    for j in numbers_unique:\n",
    "        compare = i < j\n",
    "        null_list.append(compare)\n",
    "    compare_dict[i] = null_list\n",
    "\n",
    "for num in numbers_unique:\n",
    "    if True in compare_dict[num]:\n",
    "        pass\n",
    "    else : print('{} 에서 \\n가장 큰 숫자는 {} 입니다.\\n'.format(numbers,num))\n",
    "\n",
    "# 실제로 가장 큰 숫자가 맞는지 확인해보기\n",
    "print('max() 함수를 이용한 가장 큰 숫자 : {}'.format(max(numbers)))"
   ]
  },
  {
   "cell_type": "code",
   "execution_count": 11,
   "metadata": {},
   "outputs": [
    {
     "data": {
      "text/plain": [
       "3"
      ]
     },
     "execution_count": 11,
     "metadata": {},
     "output_type": "execute_result"
    }
   ],
   "source": [
    "int('3')"
   ]
  },
  {
   "cell_type": "code",
   "execution_count": 3,
   "metadata": {},
   "outputs": [],
   "source": [
    "from mglearn.datasets import make_wave\n",
    "from sklearn.linear_model import LinearRegression\n",
    "from sklearn.tree import DecisionTreeRegressor"
   ]
  },
  {
   "cell_type": "code",
   "execution_count": 4,
   "metadata": {},
   "outputs": [],
   "source": [
    "X, y = make_wave(n_samples = 100)"
   ]
  },
  {
   "cell_type": "code",
   "execution_count": 5,
   "metadata": {},
   "outputs": [],
   "source": [
    "bins = np.linspace(-3,3, 11)"
   ]
  },
  {
   "cell_type": "code",
   "execution_count": 6,
   "metadata": {},
   "outputs": [],
   "source": [
    "which_bin = np.digitize(X, bins = bins)"
   ]
  },
  {
   "cell_type": "code",
   "execution_count": 10,
   "metadata": {},
   "outputs": [
    {
     "data": {
      "text/plain": [
       "array([-3. , -2.4, -1.8, -1.2, -0.6,  0. ,  0.6,  1.2,  1.8,  2.4,  3. ])"
      ]
     },
     "execution_count": 10,
     "metadata": {},
     "output_type": "execute_result"
    }
   ],
   "source": [
    "bins"
   ]
  },
  {
   "cell_type": "code",
   "execution_count": 9,
   "metadata": {
    "scrolled": true
   },
   "outputs": [
    {
     "data": {
      "text/plain": [
       "array([[ 4],\n",
       "       [10],\n",
       "       [ 8],\n",
       "       [ 6],\n",
       "       [ 2],\n",
       "       [ 2],\n",
       "       [ 1],\n",
       "       [ 9],\n",
       "       [ 7],\n",
       "       [ 8],\n",
       "       [ 1],\n",
       "       [10],\n",
       "       [ 9],\n",
       "       [ 3],\n",
       "       [ 2],\n",
       "       [ 2],\n",
       "       [ 4],\n",
       "       [ 6],\n",
       "       [ 5],\n",
       "       [ 3],\n",
       "       [ 7],\n",
       "       [ 2],\n",
       "       [ 3],\n",
       "       [ 4],\n",
       "       [ 5],\n",
       "       [ 8],\n",
       "       [ 2],\n",
       "       [ 6],\n",
       "       [ 6],\n",
       "       [ 1],\n",
       "       [ 7],\n",
       "       [ 2],\n",
       "       [ 1],\n",
       "       [10],\n",
       "       [10],\n",
       "       [ 9],\n",
       "       [ 4],\n",
       "       [ 1],\n",
       "       [ 7],\n",
       "       [ 5],\n",
       "       [ 2],\n",
       "       [ 5],\n",
       "       [ 1],\n",
       "       [10],\n",
       "       [ 3],\n",
       "       [ 7],\n",
       "       [ 4],\n",
       "       [ 6],\n",
       "       [ 6],\n",
       "       [ 2],\n",
       "       [10],\n",
       "       [ 8],\n",
       "       [10],\n",
       "       [ 9],\n",
       "       [ 6],\n",
       "       [10],\n",
       "       [ 1],\n",
       "       [ 2],\n",
       "       [ 1],\n",
       "       [ 4],\n",
       "       [ 4],\n",
       "       [ 3],\n",
       "       [ 9],\n",
       "       [ 4],\n",
       "       [ 3],\n",
       "       [ 6],\n",
       "       [ 2],\n",
       "       [ 9],\n",
       "       [ 1],\n",
       "       [10],\n",
       "       [ 8],\n",
       "       [ 2],\n",
       "       [ 1],\n",
       "       [ 9],\n",
       "       [ 8],\n",
       "       [ 8],\n",
       "       [ 8],\n",
       "       [ 1],\n",
       "       [ 4],\n",
       "       [ 2],\n",
       "       [ 9],\n",
       "       [ 7],\n",
       "       [ 4],\n",
       "       [ 1],\n",
       "       [ 4],\n",
       "       [ 4],\n",
       "       [ 8],\n",
       "       [ 7],\n",
       "       [ 9],\n",
       "       [ 5],\n",
       "       [ 2],\n",
       "       [ 8],\n",
       "       [ 8],\n",
       "       [ 6],\n",
       "       [ 8],\n",
       "       [ 5],\n",
       "       [ 6],\n",
       "       [ 5],\n",
       "       [ 1],\n",
       "       [ 2]], dtype=int64)"
      ]
     },
     "execution_count": 9,
     "metadata": {},
     "output_type": "execute_result"
    }
   ],
   "source": [
    "which_bin"
   ]
  },
  {
   "cell_type": "code",
   "execution_count": 11,
   "metadata": {},
   "outputs": [],
   "source": [
    "from sklearn.preprocessing import OneHotEncoder"
   ]
  },
  {
   "cell_type": "code",
   "execution_count": 12,
   "metadata": {},
   "outputs": [
    {
     "data": {
      "text/plain": [
       "OneHotEncoder(categorical_features='all', dtype=<class 'numpy.float64'>,\n",
       "       handle_unknown='error', n_values='auto', sparse=False)"
      ]
     },
     "execution_count": 12,
     "metadata": {},
     "output_type": "execute_result"
    }
   ],
   "source": [
    "encoder = OneHotEncoder(sparse = False)\n",
    "encoder.fit(which_bin)\n"
   ]
  },
  {
   "cell_type": "code",
   "execution_count": 13,
   "metadata": {},
   "outputs": [],
   "source": [
    "X_binned = encoder.transform(which_bin)"
   ]
  },
  {
   "cell_type": "code",
   "execution_count": 19,
   "metadata": {},
   "outputs": [
    {
     "data": {
      "text/plain": [
       "array([[0., 0., 0., 1., 0., 0., 0., 0., 0., 0.],\n",
       "       [0., 0., 0., 0., 0., 0., 0., 0., 0., 1.],\n",
       "       [0., 0., 0., 0., 0., 0., 0., 1., 0., 0.],\n",
       "       [0., 0., 0., 0., 0., 1., 0., 0., 0., 0.]])"
      ]
     },
     "execution_count": 19,
     "metadata": {},
     "output_type": "execute_result"
    }
   ],
   "source": [
    "X_binned[:4,:]"
   ]
  },
  {
   "cell_type": "code",
   "execution_count": 21,
   "metadata": {},
   "outputs": [
    {
     "data": {
      "text/plain": [
       "array([[-0.75275929,  0.        ,  0.        , ...,  0.        ,\n",
       "         0.        ,  0.        ],\n",
       "       [ 2.70428584,  0.        ,  0.        , ...,  0.        ,\n",
       "         0.        ,  1.        ],\n",
       "       [ 1.39196365,  0.        ,  0.        , ...,  1.        ,\n",
       "         0.        ,  0.        ],\n",
       "       ...,\n",
       "       [-0.43475389,  0.        ,  0.        , ...,  0.        ,\n",
       "         0.        ,  0.        ],\n",
       "       [-2.84748524,  1.        ,  0.        , ...,  0.        ,\n",
       "         0.        ,  0.        ],\n",
       "       [-2.35265144,  0.        ,  1.        , ...,  0.        ,\n",
       "         0.        ,  0.        ]])"
      ]
     },
     "execution_count": 21,
     "metadata": {},
     "output_type": "execute_result"
    }
   ],
   "source": [
    "np.hstack([X, X_binned])"
   ]
  },
  {
   "cell_type": "code",
   "execution_count": 22,
   "metadata": {},
   "outputs": [
    {
     "data": {
      "text/plain": [
       "array([[-0.        , -0.        , -0.        , -0.75275929, -0.        ,\n",
       "        -0.        , -0.        , -0.        , -0.        , -0.        ],\n",
       "       [ 0.        ,  0.        ,  0.        ,  0.        ,  0.        ,\n",
       "         0.        ,  0.        ,  0.        ,  0.        ,  2.70428584],\n",
       "       [ 0.        ,  0.        ,  0.        ,  0.        ,  0.        ,\n",
       "         0.        ,  0.        ,  1.39196365,  0.        ,  0.        ],\n",
       "       [ 0.        ,  0.        ,  0.        ,  0.        ,  0.        ,\n",
       "         0.59195091,  0.        ,  0.        ,  0.        ,  0.        ],\n",
       "       [-0.        , -2.06388816, -0.        , -0.        , -0.        ,\n",
       "        -0.        , -0.        , -0.        , -0.        , -0.        ],\n",
       "       [-0.        , -2.06403288, -0.        , -0.        , -0.        ,\n",
       "        -0.        , -0.        , -0.        , -0.        , -0.        ],\n",
       "       [-2.65149833, -0.        , -0.        , -0.        , -0.        ,\n",
       "        -0.        , -0.        , -0.        , -0.        , -0.        ],\n",
       "       [ 0.        ,  0.        ,  0.        ,  0.        ,  0.        ,\n",
       "         0.        ,  0.        ,  0.        ,  2.19705687,  0.        ],\n",
       "       [ 0.        ,  0.        ,  0.        ,  0.        ,  0.        ,\n",
       "         0.        ,  0.60669007,  0.        ,  0.        ,  0.        ],\n",
       "       [ 0.        ,  0.        ,  0.        ,  0.        ,  0.        ,\n",
       "         0.        ,  0.        ,  1.24843547,  0.        ,  0.        ],\n",
       "       [-2.87649303, -0.        , -0.        , -0.        , -0.        ,\n",
       "        -0.        , -0.        , -0.        , -0.        , -0.        ],\n",
       "       [ 0.        ,  0.        ,  0.        ,  0.        ,  0.        ,\n",
       "         0.        ,  0.        ,  0.        ,  0.        ,  2.81945911],\n",
       "       [ 0.        ,  0.        ,  0.        ,  0.        ,  0.        ,\n",
       "         0.        ,  0.        ,  0.        ,  1.99465584,  0.        ],\n",
       "       [-0.        , -0.        , -1.72596534, -0.        , -0.        ,\n",
       "        -0.        , -0.        , -0.        , -0.        , -0.        ],\n",
       "       [-0.        , -1.9090502 , -0.        , -0.        , -0.        ,\n",
       "        -0.        , -0.        , -0.        , -0.        , -0.        ],\n",
       "       [-0.        , -1.89957294, -0.        , -0.        , -0.        ,\n",
       "        -0.        , -0.        , -0.        , -0.        , -0.        ],\n",
       "       [-0.        , -0.        , -0.        , -1.17454654, -0.        ,\n",
       "        -0.        , -0.        , -0.        , -0.        , -0.        ],\n",
       "       [ 0.        ,  0.        ,  0.        ,  0.        ,  0.        ,\n",
       "         0.14853859,  0.        ,  0.        ,  0.        ,  0.        ],\n",
       "       [-0.        , -0.        , -0.        , -0.        , -0.40832989,\n",
       "        -0.        , -0.        , -0.        , -0.        , -0.        ],\n",
       "       [-0.        , -0.        , -1.25262516, -0.        , -0.        ,\n",
       "        -0.        , -0.        , -0.        , -0.        , -0.        ],\n",
       "       [ 0.        ,  0.        ,  0.        ,  0.        ,  0.        ,\n",
       "         0.        ,  0.67111737,  0.        ,  0.        ,  0.        ],\n",
       "       [-0.        , -2.16303684, -0.        , -0.        , -0.        ,\n",
       "        -0.        , -0.        , -0.        , -0.        , -0.        ],\n",
       "       [-0.        , -0.        , -1.24713211, -0.        , -0.        ,\n",
       "        -0.        , -0.        , -0.        , -0.        , -0.        ],\n",
       "       [-0.        , -0.        , -0.        , -0.80182894, -0.        ,\n",
       "        -0.        , -0.        , -0.        , -0.        , -0.        ],\n",
       "       [-0.        , -0.        , -0.        , -0.        , -0.26358009,\n",
       "        -0.        , -0.        , -0.        , -0.        , -0.        ],\n",
       "       [ 0.        ,  0.        ,  0.        ,  0.        ,  0.        ,\n",
       "         0.        ,  0.        ,  1.71105577,  0.        ,  0.        ],\n",
       "       [-0.        , -1.80195731, -0.        , -0.        , -0.        ,\n",
       "        -0.        , -0.        , -0.        , -0.        , -0.        ],\n",
       "       [ 0.        ,  0.        ,  0.        ,  0.        ,  0.        ,\n",
       "         0.08540663,  0.        ,  0.        ,  0.        ,  0.        ],\n",
       "       [ 0.        ,  0.        ,  0.        ,  0.        ,  0.        ,\n",
       "         0.55448741,  0.        ,  0.        ,  0.        ,  0.        ],\n",
       "       [-2.72129752, -0.        , -0.        , -0.        , -0.        ,\n",
       "        -0.        , -0.        , -0.        , -0.        , -0.        ],\n",
       "       [ 0.        ,  0.        ,  0.        ,  0.        ,  0.        ,\n",
       "         0.        ,  0.64526911,  0.        ,  0.        ,  0.        ],\n",
       "       [-0.        , -1.97685526, -0.        , -0.        , -0.        ,\n",
       "        -0.        , -0.        , -0.        , -0.        , -0.        ],\n",
       "       [-2.60969044, -0.        , -0.        , -0.        , -0.        ,\n",
       "        -0.        , -0.        , -0.        , -0.        , -0.        ],\n",
       "       [ 0.        ,  0.        ,  0.        ,  0.        ,  0.        ,\n",
       "         0.        ,  0.        ,  0.        ,  0.        ,  2.69331322],\n",
       "       [ 0.        ,  0.        ,  0.        ,  0.        ,  0.        ,\n",
       "         0.        ,  0.        ,  0.        ,  0.        ,  2.7937922 ],\n",
       "       [ 0.        ,  0.        ,  0.        ,  0.        ,  0.        ,\n",
       "         0.        ,  0.        ,  0.        ,  1.85038409,  0.        ],\n",
       "       [-0.        , -0.        , -0.        , -1.17231738, -0.        ,\n",
       "        -0.        , -0.        , -0.        , -0.        , -0.        ],\n",
       "       [-2.41396732, -0.        , -0.        , -0.        , -0.        ,\n",
       "        -0.        , -0.        , -0.        , -0.        , -0.        ],\n",
       "       [ 0.        ,  0.        ,  0.        ,  0.        ,  0.        ,\n",
       "         0.        ,  1.10539816,  0.        ,  0.        ,  0.        ],\n",
       "       [-0.        , -0.        , -0.        , -0.        , -0.35908504,\n",
       "        -0.        , -0.        , -0.        , -0.        , -0.        ],\n",
       "       [-0.        , -2.26777059, -0.        , -0.        , -0.        ,\n",
       "        -0.        , -0.        , -0.        , -0.        , -0.        ],\n",
       "       [-0.        , -0.        , -0.        , -0.        , -0.02893854,\n",
       "        -0.        , -0.        , -0.        , -0.        , -0.        ],\n",
       "       [-2.79366887, -0.        , -0.        , -0.        , -0.        ,\n",
       "        -0.        , -0.        , -0.        , -0.        , -0.        ],\n",
       "       [ 0.        ,  0.        ,  0.        ,  0.        ,  0.        ,\n",
       "         0.        ,  0.        ,  0.        ,  0.        ,  2.45592241],\n",
       "       [-0.        , -0.        , -1.44732011, -0.        , -0.        ,\n",
       "        -0.        , -0.        , -0.        , -0.        , -0.        ],\n",
       "       [ 0.        ,  0.        ,  0.        ,  0.        ,  0.        ,\n",
       "         0.        ,  0.97513371,  0.        ,  0.        ,  0.        ],\n",
       "       [-0.        , -0.        , -0.        , -1.12973354, -0.        ,\n",
       "        -0.        , -0.        , -0.        , -0.        , -0.        ],\n",
       "       [ 0.        ,  0.        ,  0.        ,  0.        ,  0.        ,\n",
       "         0.12040813,  0.        ,  0.        ,  0.        ,  0.        ],\n",
       "       [ 0.        ,  0.        ,  0.        ,  0.        ,  0.        ,\n",
       "         0.28026168,  0.        ,  0.        ,  0.        ,  0.        ],\n",
       "       [-0.        , -1.89087327, -0.        , -0.        , -0.        ,\n",
       "        -0.        , -0.        , -0.        , -0.        , -0.        ],\n",
       "       [ 0.        ,  0.        ,  0.        ,  0.        ,  0.        ,\n",
       "         0.        ,  0.        ,  0.        ,  0.        ,  2.81750777],\n",
       "       [ 0.        ,  0.        ,  0.        ,  0.        ,  0.        ,\n",
       "         0.        ,  0.        ,  1.65079694,  0.        ,  0.        ],\n",
       "       [ 0.        ,  0.        ,  0.        ,  0.        ,  0.        ,\n",
       "         0.        ,  0.        ,  0.        ,  0.        ,  2.63699365],\n",
       "       [ 0.        ,  0.        ,  0.        ,  0.        ,  0.        ,\n",
       "         0.        ,  0.        ,  0.        ,  2.3689641 ,  0.        ],\n",
       "       [ 0.        ,  0.        ,  0.        ,  0.        ,  0.        ,\n",
       "         0.58739987,  0.        ,  0.        ,  0.        ,  0.        ],\n",
       "       [ 0.        ,  0.        ,  0.        ,  0.        ,  0.        ,\n",
       "         0.        ,  0.        ,  0.        ,  0.        ,  2.53124541],\n",
       "       [-2.46904499, -0.        , -0.        , -0.        , -0.        ,\n",
       "        -0.        , -0.        , -0.        , -0.        , -0.        ],\n",
       "       [-0.        , -1.82410283, -0.        , -0.        , -0.        ,\n",
       "        -0.        , -0.        , -0.        , -0.        , -0.        ],\n",
       "       [-2.72863627, -0.        , -0.        , -0.        , -0.        ,\n",
       "        -0.        , -0.        , -0.        , -0.        , -0.        ],\n",
       "       [-0.        , -0.        , -0.        , -1.04801802, -0.        ,\n",
       "        -0.        , -0.        , -0.        , -0.        , -0.        ],\n",
       "       [-0.        , -0.        , -0.        , -0.66793626, -0.        ,\n",
       "        -0.        , -0.        , -0.        , -0.        , -0.        ],\n",
       "       [-0.        , -0.        , -1.37190581, -0.        , -0.        ,\n",
       "        -0.        , -0.        , -0.        , -0.        , -0.        ],\n",
       "       [ 0.        ,  0.        ,  0.        ,  0.        ,  0.        ,\n",
       "         0.        ,  0.        ,  0.        ,  1.97242505,  0.        ],\n",
       "       [-0.        , -0.        , -0.        , -0.85948004, -0.        ,\n",
       "        -0.        , -0.        , -0.        , -0.        , -0.        ],\n",
       "       [-0.        , -0.        , -1.31439294, -0.        , -0.        ,\n",
       "        -0.        , -0.        , -0.        , -0.        , -0.        ],\n",
       "       [ 0.        ,  0.        ,  0.        ,  0.        ,  0.        ,\n",
       "         0.2561765 ,  0.        ,  0.        ,  0.        ,  0.        ],\n",
       "       [-0.        , -2.15445465, -0.        , -0.        , -0.        ,\n",
       "        -0.        , -0.        , -0.        , -0.        , -0.        ],\n",
       "       [ 0.        ,  0.        ,  0.        ,  0.        ,  0.        ,\n",
       "         0.        ,  0.        ,  0.        ,  1.81318188,  0.        ],\n",
       "       [-2.55269614, -0.        , -0.        , -0.        , -0.        ,\n",
       "        -0.        , -0.        , -0.        , -0.        , -0.        ],\n",
       "       [ 0.        ,  0.        ,  0.        ,  0.        ,  0.        ,\n",
       "         0.        ,  0.        ,  0.        ,  0.        ,  2.92132162],\n",
       "       [ 0.        ,  0.        ,  0.        ,  0.        ,  0.        ,\n",
       "         0.        ,  0.        ,  1.63346862,  0.        ,  0.        ],\n",
       "       [-0.        , -1.80770591, -0.        , -0.        , -0.        ,\n",
       "        -0.        , -0.        , -0.        , -0.        , -0.        ],\n",
       "       [-2.9668673 , -0.        , -0.        , -0.        , -0.        ,\n",
       "        -0.        , -0.        , -0.        , -0.        , -0.        ],\n",
       "       [ 0.        ,  0.        ,  0.        ,  0.        ,  0.        ,\n",
       "         0.        ,  0.        ,  0.        ,  1.89276857,  0.        ],\n",
       "       [ 0.        ,  0.        ,  0.        ,  0.        ,  0.        ,\n",
       "         0.        ,  0.        ,  1.24114406,  0.        ,  0.        ],\n",
       "       [ 0.        ,  0.        ,  0.        ,  0.        ,  0.        ,\n",
       "         0.        ,  0.        ,  1.37404301,  0.        ,  0.        ],\n",
       "       [ 0.        ,  0.        ,  0.        ,  0.        ,  0.        ,\n",
       "         0.        ,  0.        ,  1.62762208,  0.        ,  0.        ],\n",
       "       [-2.55573209, -0.        , -0.        , -0.        , -0.        ,\n",
       "        -0.        , -0.        , -0.        , -0.        , -0.        ],\n",
       "       [-0.        , -0.        , -0.        , -0.84920563, -0.        ,\n",
       "        -0.        , -0.        , -0.        , -0.        , -0.        ],\n",
       "       [-0.        , -2.30478564, -0.        , -0.        , -0.        ,\n",
       "        -0.        , -0.        , -0.        , -0.        , -0.        ],\n",
       "       [ 0.        ,  0.        ,  0.        ,  0.        ,  0.        ,\n",
       "         0.        ,  0.        ,  0.        ,  2.17862056,  0.        ],\n",
       "       [ 0.        ,  0.        ,  0.        ,  0.        ,  0.        ,\n",
       "         0.        ,  0.73978876,  0.        ,  0.        ,  0.        ],\n",
       "       [-0.        , -0.        , -0.        , -1.01461185, -0.        ,\n",
       "        -0.        , -0.        , -0.        , -0.        , -0.        ],\n",
       "       [-2.6186499 , -0.        , -0.        , -0.        , -0.        ,\n",
       "        -0.        , -0.        , -0.        , -0.        , -0.        ],\n",
       "       [-0.        , -0.        , -0.        , -1.13410607, -0.        ,\n",
       "        -0.        , -0.        , -0.        , -0.        , -0.        ],\n",
       "       [-0.        , -0.        , -0.        , -1.04890007, -0.        ,\n",
       "        -0.        , -0.        , -0.        , -0.        , -0.        ],\n",
       "       [ 0.        ,  0.        ,  0.        ,  0.        ,  0.        ,\n",
       "         0.        ,  0.        ,  1.37763707,  0.        ,  0.        ],\n",
       "       [ 0.        ,  0.        ,  0.        ,  0.        ,  0.        ,\n",
       "         0.        ,  0.82534483,  0.        ,  0.        ,  0.        ],\n",
       "       [ 0.        ,  0.        ,  0.        ,  0.        ,  0.        ,\n",
       "         0.        ,  0.        ,  0.        ,  2.32327646,  0.        ],\n",
       "       [-0.        , -0.        , -0.        , -0.        , -0.16671045,\n",
       "        -0.        , -0.        , -0.        , -0.        , -0.        ],\n",
       "       [-0.        , -2.28243452, -0.        , -0.        , -0.        ,\n",
       "        -0.        , -0.        , -0.        , -0.        , -0.        ],\n",
       "       [ 0.        ,  0.        ,  0.        ,  0.        ,  0.        ,\n",
       "         0.        ,  0.        ,  1.27946872,  0.        ,  0.        ],\n",
       "       [ 0.        ,  0.        ,  0.        ,  0.        ,  0.        ,\n",
       "         0.        ,  0.        ,  1.56471029,  0.        ,  0.        ],\n",
       "       [ 0.        ,  0.        ,  0.        ,  0.        ,  0.        ,\n",
       "         0.36766319,  0.        ,  0.        ,  0.        ,  0.        ],\n",
       "       [ 0.        ,  0.        ,  0.        ,  0.        ,  0.        ,\n",
       "         0.        ,  0.        ,  1.62580308,  0.        ,  0.        ],\n",
       "       [-0.        , -0.        , -0.        , -0.        , -0.03722642,\n",
       "        -0.        , -0.        , -0.        , -0.        , -0.        ],\n",
       "       [ 0.        ,  0.        ,  0.        ,  0.        ,  0.        ,\n",
       "         0.13639698,  0.        ,  0.        ,  0.        ,  0.        ],\n",
       "       [-0.        , -0.        , -0.        , -0.        , -0.43475389,\n",
       "        -0.        , -0.        , -0.        , -0.        , -0.        ],\n",
       "       [-2.84748524, -0.        , -0.        , -0.        , -0.        ,\n",
       "        -0.        , -0.        , -0.        , -0.        , -0.        ],\n",
       "       [-0.        , -2.35265144, -0.        , -0.        , -0.        ,\n",
       "        -0.        , -0.        , -0.        , -0.        , -0.        ]])"
      ]
     },
     "execution_count": 22,
     "metadata": {},
     "output_type": "execute_result"
    }
   ],
   "source": [
    "X*X_binned"
   ]
  },
  {
   "cell_type": "code",
   "execution_count": 28,
   "metadata": {},
   "outputs": [],
   "source": [
    "a = np.array([1,2,3]).reshape(3,-1)\n",
    "b = np.array([[0,0,0,1], \n",
    "                 [0,0,1,0],\n",
    "                 [0,1,0,1]])"
   ]
  },
  {
   "cell_type": "code",
   "execution_count": 32,
   "metadata": {},
   "outputs": [],
   "source": [
    "import mglearn"
   ]
  },
  {
   "cell_type": "code",
   "execution_count": 33,
   "metadata": {},
   "outputs": [],
   "source": [
    "citibike =mglearn.datasets.load_citibike()"
   ]
  },
  {
   "cell_type": "code",
   "execution_count": 34,
   "metadata": {},
   "outputs": [
    {
     "data": {
      "text/plain": [
       "pandas.core.series.Series"
      ]
     },
     "execution_count": 34,
     "metadata": {},
     "output_type": "execute_result"
    }
   ],
   "source": [
    "type(citibike)"
   ]
  },
  {
   "cell_type": "code",
   "execution_count": 38,
   "metadata": {},
   "outputs": [],
   "source": [
    "idx = citibike.index"
   ]
  },
  {
   "cell_type": "code",
   "execution_count": 40,
   "metadata": {},
   "outputs": [
    {
     "data": {
      "text/plain": [
       "Timestamp('2015-08-01 00:00:00', freq='3H')"
      ]
     },
     "execution_count": 40,
     "metadata": {},
     "output_type": "execute_result"
    }
   ],
   "source": [
    "idx.min()"
   ]
  },
  {
   "cell_type": "code",
   "execution_count": 41,
   "metadata": {},
   "outputs": [
    {
     "data": {
      "text/plain": [
       "Timestamp('2015-08-31 21:00:00', freq='3H')"
      ]
     },
     "execution_count": 41,
     "metadata": {},
     "output_type": "execute_result"
    }
   ],
   "source": [
    "idx.max()"
   ]
  },
  {
   "cell_type": "code",
   "execution_count": 43,
   "metadata": {},
   "outputs": [
    {
     "data": {
      "text/plain": [
       "248"
      ]
     },
     "execution_count": 43,
     "metadata": {},
     "output_type": "execute_result"
    }
   ],
   "source": [
    "len(idx)"
   ]
  },
  {
   "cell_type": "code",
   "execution_count": 44,
   "metadata": {},
   "outputs": [
    {
     "data": {
      "text/plain": [
       "DatetimeIndex(['2015-08-01 00:00:00', '2015-08-01 03:00:00',\n",
       "               '2015-08-01 06:00:00', '2015-08-01 09:00:00',\n",
       "               '2015-08-01 12:00:00', '2015-08-01 15:00:00',\n",
       "               '2015-08-01 18:00:00', '2015-08-01 21:00:00',\n",
       "               '2015-08-02 00:00:00', '2015-08-02 03:00:00',\n",
       "               ...\n",
       "               '2015-08-30 18:00:00', '2015-08-30 21:00:00',\n",
       "               '2015-08-31 00:00:00', '2015-08-31 03:00:00',\n",
       "               '2015-08-31 06:00:00', '2015-08-31 09:00:00',\n",
       "               '2015-08-31 12:00:00', '2015-08-31 15:00:00',\n",
       "               '2015-08-31 18:00:00', '2015-08-31 21:00:00'],\n",
       "              dtype='datetime64[ns]', name='starttime', length=248, freq='3H')"
      ]
     },
     "execution_count": 44,
     "metadata": {},
     "output_type": "execute_result"
    }
   ],
   "source": [
    "idx"
   ]
  },
  {
   "cell_type": "code",
   "execution_count": 45,
   "metadata": {},
   "outputs": [],
   "source": [
    "import pandas as pd"
   ]
  },
  {
   "cell_type": "code",
   "execution_count": 49,
   "metadata": {},
   "outputs": [],
   "source": [
    "idx_d= pd.date_range(start = idx.min(), end = idx.max(), freq = 'D')"
   ]
  },
  {
   "cell_type": "code",
   "execution_count": 50,
   "metadata": {},
   "outputs": [
    {
     "data": {
      "text/plain": [
       "31"
      ]
     },
     "execution_count": 50,
     "metadata": {},
     "output_type": "execute_result"
    }
   ],
   "source": [
    "len(idx_d)"
   ]
  },
  {
   "cell_type": "code",
   "execution_count": 52,
   "metadata": {},
   "outputs": [
    {
     "data": {
      "text/plain": [
       "DatetimeIndex(['2015-08-01', '2015-08-02', '2015-08-03', '2015-08-04',\n",
       "               '2015-08-05', '2015-08-06', '2015-08-07', '2015-08-08',\n",
       "               '2015-08-09', '2015-08-10', '2015-08-11', '2015-08-12',\n",
       "               '2015-08-13', '2015-08-14', '2015-08-15', '2015-08-16',\n",
       "               '2015-08-17', '2015-08-18', '2015-08-19', '2015-08-20',\n",
       "               '2015-08-21', '2015-08-22', '2015-08-23', '2015-08-24',\n",
       "               '2015-08-25', '2015-08-26', '2015-08-27', '2015-08-28',\n",
       "               '2015-08-29', '2015-08-30', '2015-08-31'],\n",
       "              dtype='datetime64[ns]', freq='D')"
      ]
     },
     "execution_count": 52,
     "metadata": {},
     "output_type": "execute_result"
    }
   ],
   "source": [
    "idx_d"
   ]
  },
  {
   "cell_type": "code",
   "execution_count": 51,
   "metadata": {},
   "outputs": [
    {
     "data": {
      "text/plain": [
       "array(['6', '0', '1', '2', '3', '4', '5', '6', '0', '1', '2', '3', '4',\n",
       "       '5', '6', '0', '1', '2', '3', '4', '5', '6', '0', '1', '2', '3',\n",
       "       '4', '5', '6', '0', '1'], dtype='<U1')"
      ]
     },
     "execution_count": 51,
     "metadata": {},
     "output_type": "execute_result"
    }
   ],
   "source": [
    "idx_d.strftime('%w')"
   ]
  },
  {
   "cell_type": "code",
   "execution_count": 57,
   "metadata": {},
   "outputs": [
    {
     "data": {
      "text/plain": [
       "Int64Index([1438387200000000000, 1438398000000000000, 1438408800000000000,\n",
       "            1438419600000000000, 1438430400000000000, 1438441200000000000,\n",
       "            1438452000000000000, 1438462800000000000, 1438473600000000000,\n",
       "            1438484400000000000,\n",
       "            ...\n",
       "            1440957600000000000, 1440968400000000000, 1440979200000000000,\n",
       "            1440990000000000000, 1441000800000000000, 1441011600000000000,\n",
       "            1441022400000000000, 1441033200000000000, 1441044000000000000,\n",
       "            1441054800000000000],\n",
       "           dtype='int64', name='starttime', length=248)"
      ]
     },
     "execution_count": 57,
     "metadata": {},
     "output_type": "execute_result"
    }
   ],
   "source": [
    "citibike.index.astype('int64')"
   ]
  },
  {
   "cell_type": "code",
   "execution_count": 60,
   "metadata": {},
   "outputs": [
    {
     "data": {
      "text/plain": [
       "DatetimeIndex(['2015-08-01 00:00:00', '2015-08-01 03:00:00',\n",
       "               '2015-08-01 06:00:00', '2015-08-01 09:00:00',\n",
       "               '2015-08-01 12:00:00', '2015-08-01 15:00:00',\n",
       "               '2015-08-01 18:00:00', '2015-08-01 21:00:00',\n",
       "               '2015-08-02 00:00:00', '2015-08-02 03:00:00',\n",
       "               ...\n",
       "               '2015-08-30 18:00:00', '2015-08-30 21:00:00',\n",
       "               '2015-08-31 00:00:00', '2015-08-31 03:00:00',\n",
       "               '2015-08-31 06:00:00', '2015-08-31 09:00:00',\n",
       "               '2015-08-31 12:00:00', '2015-08-31 15:00:00',\n",
       "               '2015-08-31 18:00:00', '2015-08-31 21:00:00'],\n",
       "              dtype='datetime64[ns]', name='starttime', length=248, freq='3H')"
      ]
     },
     "execution_count": 60,
     "metadata": {},
     "output_type": "execute_result"
    }
   ],
   "source": [
    "idx"
   ]
  },
  {
   "cell_type": "code",
   "execution_count": 65,
   "metadata": {},
   "outputs": [
    {
     "data": {
      "text/plain": [
       "DatetimeIndex(['2015-08-01 00:00:00', '2015-08-01 03:00:00',\n",
       "               '2015-08-01 06:00:00', '2015-08-01 09:00:00',\n",
       "               '2015-08-01 12:00:00', '2015-08-01 15:00:00',\n",
       "               '2015-08-01 18:00:00', '2015-08-01 21:00:00',\n",
       "               '2015-08-02 00:00:00', '2015-08-02 03:00:00',\n",
       "               ...\n",
       "               '2015-08-30 18:00:00', '2015-08-30 21:00:00',\n",
       "               '2015-08-31 00:00:00', '2015-08-31 03:00:00',\n",
       "               '2015-08-31 06:00:00', '2015-08-31 09:00:00',\n",
       "               '2015-08-31 12:00:00', '2015-08-31 15:00:00',\n",
       "               '2015-08-31 18:00:00', '2015-08-31 21:00:00'],\n",
       "              dtype='datetime64[ns]', name='starttime', length=248, freq='3H')"
      ]
     },
     "execution_count": 65,
     "metadata": {},
     "output_type": "execute_result"
    }
   ],
   "source": [
    "idx"
   ]
  },
  {
   "cell_type": "code",
   "execution_count": 62,
   "metadata": {},
   "outputs": [
    {
     "data": {
      "text/plain": [
       "DatetimeIndex(['2015-08-01', '2015-08-02', '2015-08-03', '2015-08-04',\n",
       "               '2015-08-05', '2015-08-06', '2015-08-07', '2015-08-08',\n",
       "               '2015-08-09', '2015-08-10', '2015-08-11', '2015-08-12',\n",
       "               '2015-08-13', '2015-08-14', '2015-08-15', '2015-08-16',\n",
       "               '2015-08-17', '2015-08-18', '2015-08-19', '2015-08-20',\n",
       "               '2015-08-21', '2015-08-22', '2015-08-23', '2015-08-24',\n",
       "               '2015-08-25', '2015-08-26', '2015-08-27', '2015-08-28',\n",
       "               '2015-08-29', '2015-08-30', '2015-08-31'],\n",
       "              dtype='datetime64[ns]', freq='D')"
      ]
     },
     "execution_count": 62,
     "metadata": {},
     "output_type": "execute_result"
    }
   ],
   "source": [
    "idx_d"
   ]
  },
  {
   "cell_type": "code",
   "execution_count": 61,
   "metadata": {
    "scrolled": false
   },
   "outputs": [
    {
     "data": {
      "text/plain": [
       "Int64Index([5, 6, 0, 1, 2, 3, 4, 5, 6, 0, 1, 2, 3, 4, 5, 6, 0, 1, 2, 3, 4, 5,\n",
       "            6, 0, 1, 2, 3, 4, 5, 6, 0],\n",
       "           dtype='int64')"
      ]
     },
     "execution_count": 61,
     "metadata": {},
     "output_type": "execute_result"
    }
   ],
   "source": [
    "idx_d.dayofweek"
   ]
  },
  {
   "cell_type": "code",
   "execution_count": 64,
   "metadata": {},
   "outputs": [
    {
     "data": {
      "text/plain": [
       "Int64Index([ 0,  3,  6,  9, 12, 15, 18, 21,  0,  3,\n",
       "            ...\n",
       "            18, 21,  0,  3,  6,  9, 12, 15, 18, 21],\n",
       "           dtype='int64', name='starttime', length=248)"
      ]
     },
     "execution_count": 64,
     "metadata": {},
     "output_type": "execute_result"
    }
   ],
   "source": [
    "idx.hour"
   ]
  },
  {
   "cell_type": "code",
   "execution_count": 55,
   "metadata": {},
   "outputs": [],
   "source": [
    "name_list = '이호재,이한림,성원경,전진우'.split(',')\n",
    "cell_name = \"C9\"\n",
    "delimiter = '&\" \"&'\n",
    "function = ['SUBSTITUTE','TRIM']\n",
    "\n",
    "\n",
    "def get_operator_string(nameList):\n",
    "    nL = [ \"'\"+ name + \"!'\" + cell_name for name in nameList]\n",
    "    nL2 = [ n+delimiter for n in nL[:-1] ]\n",
    "    nL2.append(nL[-1])\n",
    "    \n",
    "    name_sum =\"\"\n",
    "    for nn in nL2:\n",
    "        name_sum += nn\n",
    "    result = '={}({}({}),\" \",\")'.format(function[0],function[1],name_sum)\n",
    "    \n",
    "    return result\n",
    "\n",
    "result_string = get_operator_string(name_list)\n",
    "\n",
    "f = open('getFunction.txt','w')\n",
    "f.write(result_string)\n",
    "f.close()"
   ]
  },
  {
   "cell_type": "code",
   "execution_count": 45,
   "metadata": {},
   "outputs": [],
   "source": [
    "import os\n"
   ]
  },
  {
   "cell_type": "code",
   "execution_count": 47,
   "metadata": {},
   "outputs": [
    {
     "data": {
      "text/plain": [
       "'C:\\\\Users\\\\HojaeLee\\\\Python_Study\\\\Python_For_Machine_Learning'"
      ]
     },
     "execution_count": 47,
     "metadata": {},
     "output_type": "execute_result"
    }
   ],
   "source": [
    "os.getcwd()"
   ]
  },
  {
   "cell_type": "code",
   "execution_count": 39,
   "metadata": {},
   "outputs": [],
   "source": [
    "name_list.append('서동성')"
   ]
  },
  {
   "cell_type": "code",
   "execution_count": 40,
   "metadata": {},
   "outputs": [],
   "source": [
    "r2 = get_operator_string(name_list)"
   ]
  },
  {
   "cell_type": "code",
   "execution_count": 41,
   "metadata": {},
   "outputs": [
    {
     "name": "stdout",
     "output_type": "stream",
     "text": [
      "=SUBSTITUTE(TRIM('이호재!'C9&\" \"&'이한림!'C9&\" \"&'성원경!'C9&\" \"&'전진우!'C9&\" \"&'서동성!'C9&\" \"&'서동성!'C9),\" \",\")\n"
     ]
    }
   ],
   "source": [
    "print(r2)"
   ]
  },
  {
   "cell_type": "code",
   "execution_count": null,
   "metadata": {},
   "outputs": [],
   "source": []
  },
  {
   "cell_type": "code",
   "execution_count": 19,
   "metadata": {},
   "outputs": [],
   "source": [
    "name_list2 = [ \"'\"+ name + \"!'\" + cell_name for name in name_list]"
   ]
  },
  {
   "cell_type": "code",
   "execution_count": 20,
   "metadata": {},
   "outputs": [
    {
     "data": {
      "text/plain": [
       "[\"'이호재!'C9\", \"'이한림!'C9\", \"'성원경!'C9\", \"'전진우!'C9\"]"
      ]
     },
     "execution_count": 20,
     "metadata": {},
     "output_type": "execute_result"
    }
   ],
   "source": [
    "name_list2"
   ]
  },
  {
   "cell_type": "code",
   "execution_count": 21,
   "metadata": {},
   "outputs": [],
   "source": [
    "name_list3 = [ n+delimiter for n in name_list2[:-1]]"
   ]
  },
  {
   "cell_type": "code",
   "execution_count": 25,
   "metadata": {},
   "outputs": [],
   "source": [
    "name_list3.append(name_list2[-1])"
   ]
  },
  {
   "cell_type": "code",
   "execution_count": 26,
   "metadata": {},
   "outputs": [
    {
     "data": {
      "text/plain": [
       "['\\'이호재!\\'C9&\" \"&', '\\'이한림!\\'C9&\" \"&', '\\'성원경!\\'C9&\" \"&', \"'전진우!'C9\"]"
      ]
     },
     "execution_count": 26,
     "metadata": {},
     "output_type": "execute_result"
    }
   ],
   "source": [
    "name_list3"
   ]
  },
  {
   "cell_type": "code",
   "execution_count": 27,
   "metadata": {},
   "outputs": [],
   "source": [
    "name_sum = \"\""
   ]
  },
  {
   "cell_type": "code",
   "execution_count": 28,
   "metadata": {},
   "outputs": [],
   "source": [
    "for nn in name_list3:\n",
    "    name_sum += nn\n",
    "    "
   ]
  },
  {
   "cell_type": "code",
   "execution_count": 29,
   "metadata": {},
   "outputs": [
    {
     "data": {
      "text/plain": [
       "'\\'이호재!\\'C9&\" \"&\\'이한림!\\'C9&\" \"&\\'성원경!\\'C9&\" \"&\\'전진우!\\'C9'"
      ]
     },
     "execution_count": 29,
     "metadata": {},
     "output_type": "execute_result"
    }
   ],
   "source": [
    "name_sum\n"
   ]
  },
  {
   "cell_type": "code",
   "execution_count": 32,
   "metadata": {
    "scrolled": true
   },
   "outputs": [],
   "source": [
    "result = '={}({}({})),\" \",\"'.format(function[0],function[1],name_sum)"
   ]
  },
  {
   "cell_type": "code",
   "execution_count": 33,
   "metadata": {},
   "outputs": [
    {
     "data": {
      "text/plain": [
       "'=SUBSTITUTE(TRIM(\\'이호재!\\'C9&\" \"&\\'이한림!\\'C9&\" \"&\\'성원경!\\'C9&\" \"&\\'전진우!\\'C9)),\" \",\"'"
      ]
     },
     "execution_count": 33,
     "metadata": {},
     "output_type": "execute_result"
    }
   ],
   "source": [
    "result"
   ]
  },
  {
   "cell_type": "code",
   "execution_count": null,
   "metadata": {},
   "outputs": [],
   "source": []
  },
  {
   "cell_type": "code",
   "execution_count": null,
   "metadata": {},
   "outputs": [],
   "source": []
  }
 ],
 "metadata": {
  "kernelspec": {
   "display_name": "Python 3",
   "language": "python",
   "name": "python3"
  },
  "language_info": {
   "codemirror_mode": {
    "name": "ipython",
    "version": 3
   },
   "file_extension": ".py",
   "mimetype": "text/x-python",
   "name": "python",
   "nbconvert_exporter": "python",
   "pygments_lexer": "ipython3",
   "version": "3.6.4"
  }
 },
 "nbformat": 4,
 "nbformat_minor": 2
}
