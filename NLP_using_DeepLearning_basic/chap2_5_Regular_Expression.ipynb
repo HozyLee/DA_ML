{
 "cells": [
  {
   "cell_type": "markdown",
   "metadata": {},
   "source": [
    "# 딥 러닝을 이용한 자연어 처리 입문\n",
    "\n",
    "https://wikidocs.net/22660"
   ]
  },
  {
   "cell_type": "markdown",
   "metadata": {},
   "source": [
    "## 02. 텍스트 전처리(text preprocessing)\n",
    "\n",
    "분석에 앞서 텍스트를 사전에 분류하는 작업"
   ]
  },
  {
   "cell_type": "markdown",
   "metadata": {},
   "source": [
    "### 02-5 정규표현식(Regular Expression) \n",
    "\n"
   ]
  },
  {
   "cell_type": "markdown",
   "metadata": {},
   "source": [
    "### 1. 정규 표현식 문법과 모듈 함수"
   ]
  },
  {
   "cell_type": "markdown",
   "metadata": {},
   "source": [
    "#### 1) 정규 표현식 문법\n",
    "\n",
    "    . : 한개의 임의의 문자(줄바꿈 \\n제외)\n",
    "    ? : 앞의 문자가 0개 or 1개\n",
    "    * : 앞의 문자가 0개 이상\n",
    "    + : 앞의 문자가 1개 이상\n",
    "    ^ : 뒤의 문자로 문자열 시작\n",
    "    $ : 앞의 문자로 문자열 끝남\n",
    "    {숫자} : 숫자만큼 반복\n",
    "    {숫자1, 숫자2} : 숫자1 <=  <= 숫자2 만큼 반복\n",
    "    {숫자, } : 숫자 이상만큼 반복\n",
    "    [] : 안의 문자들 중 한개(one character) 문자와 매치\n",
    "        ex) [amk] : a 또는 m 또는 k\n",
    "            [a-zA-Z] : 알파벳 전체(대소문자 둘다) 중에 하나\n",
    "    [^문자] : 해당 문자를 제외한 문자\n",
    "    | : 또는"
   ]
  },
  {
   "cell_type": "markdown",
   "metadata": {},
   "source": [
    "    \\\\ : 역슬래쉬 문자 자체\n",
    "    \\d : 모든 숫자 중 하나 [0-9]와 동일\n",
    "    \\D : 숫자를 제외한 모든 문자 [^0-9]와 동일\n",
    "    \\s : 공백 의미\n",
    "    \\S : 공백을 제외한 문자\n",
    "    \\w : 문자 or 숫자 [a-zA-Z0-9] 와 동일\n",
    "    \\W : 문자 또는 숫자가 아닌 문자 [^a-zA-Z0-9]와 동일"
   ]
  },
  {
   "cell_type": "markdown",
   "metadata": {},
   "source": [
    "#### 2) 정규표현식 모듈 함수\n",
    "\n",
    "    re.compile()\n",
    "    re.search() : 문자열 전체에 대해 정규표현식과 매치되는지 검색\n",
    "    re.match() : 문자열 처음이 ~~\n",
    "    re.split() : 정규표현식 기준으로 문자 분리\n",
    "    re.findall() : 문자열 전체에 대해 정규표현식과 매치되는 문자열 모두 검색\n",
    "    re.finditer() : 매치되는 모든 경우의 문자열에 대한 iterator 객체 리턴\n",
    "    re.sub() : 정규표현식과 일치하는 부분을 다른 문자열로 대체"
   ]
  },
  {
   "cell_type": "markdown",
   "metadata": {},
   "source": [
    "### 2. 정규 표현식 실습"
   ]
  },
  {
   "cell_type": "markdown",
   "metadata": {},
   "source": [
    "#### 1) . 기호\n",
    "\n",
    "임의의 한개의 문자를 나타낸다. "
   ]
  },
  {
   "cell_type": "code",
   "execution_count": 4,
   "metadata": {},
   "outputs": [
    {
     "name": "stdout",
     "output_type": "stream",
     "text": [
      "None\n",
      "<_sre.SRE_Match object; span=(0, 3), match='abc'>\n",
      "None\n"
     ]
    }
   ],
   "source": [
    "import re\n",
    "r = re.compile(\"a.c\")\n",
    "\n",
    "print(r.search('kkk'))\n",
    "print(r.search('abc'))\n",
    "print(r.search('ac'))"
   ]
  },
  {
   "cell_type": "markdown",
   "metadata": {},
   "source": [
    "#### 2) ?기호\n",
    "\n",
    "?앞의 문자가 존재 or 존재 X : 즉, 0개 or 1개"
   ]
  },
  {
   "cell_type": "code",
   "execution_count": 5,
   "metadata": {},
   "outputs": [
    {
     "name": "stdout",
     "output_type": "stream",
     "text": [
      "None\n",
      "<_sre.SRE_Match object; span=(0, 3), match='abc'>\n",
      "<_sre.SRE_Match object; span=(0, 2), match='ac'>\n"
     ]
    }
   ],
   "source": [
    "import re\n",
    "r = re.compile('ab?c')\n",
    "\n",
    "print(r.search('abbc'))\n",
    "print(r.search('abc'))\n",
    "print(r.search('ac'))"
   ]
  },
  {
   "cell_type": "markdown",
   "metadata": {},
   "source": [
    "#### 3) * 기호\n",
    "\n",
    "앞의 문자가 0개 이상인 경우 : 존재할수도 있고 하지 않을수도 있다."
   ]
  },
  {
   "cell_type": "code",
   "execution_count": 6,
   "metadata": {},
   "outputs": [
    {
     "name": "stdout",
     "output_type": "stream",
     "text": [
      "None\n",
      "<_sre.SRE_Match object; span=(0, 2), match='ac'>\n",
      "<_sre.SRE_Match object; span=(0, 3), match='abc'>\n",
      "<_sre.SRE_Match object; span=(0, 16), match='abbbbbbbbbbbbbbc'>\n"
     ]
    }
   ],
   "source": [
    "import re\n",
    "r= re.compile('ab*c')\n",
    "\n",
    "print(r.search('a'))\n",
    "print(r.search('ac'))\n",
    "print(r.search('abc'))\n",
    "print(r.search('abbbbbbbbbbbbbbc'))"
   ]
  },
  {
   "cell_type": "markdown",
   "metadata": {},
   "source": [
    "#### 4) + 기호\n",
    " '* 과 유사 : 대신 1개 이상인 경우"
   ]
  },
  {
   "cell_type": "code",
   "execution_count": 7,
   "metadata": {},
   "outputs": [
    {
     "name": "stdout",
     "output_type": "stream",
     "text": [
      "None\n",
      "None\n",
      "<_sre.SRE_Match object; span=(0, 3), match='abc'>\n",
      "<_sre.SRE_Match object; span=(0, 18), match='abbbbbbbbbbbbbbbbc'>\n"
     ]
    }
   ],
   "source": [
    "import re\n",
    "r = re.compile('ab+c')\n",
    "\n",
    "print(r.search('a'))\n",
    "print(r.search('ac'))\n",
    "print(r.search('abc'))\n",
    "print(r.search('abbbbbbbbbbbbbbbbc'))\n",
    "\n",
    "# 위와 결과가 다르다. 'ac' 인 경우에 대해\n",
    "# b 가 1개 이상 나와야 매칭되기 때문"
   ]
  },
  {
   "cell_type": "markdown",
   "metadata": {},
   "source": [
    "#### 5) ^ 기호\n",
    "\n",
    "시작되는 문자를 지정\n",
    "\n",
    "주의 : [] 안의 ^와는 다른 개념이다"
   ]
  },
  {
   "cell_type": "code",
   "execution_count": 13,
   "metadata": {},
   "outputs": [
    {
     "name": "stdout",
     "output_type": "stream",
     "text": [
      "<_sre.SRE_Match object; span=(0, 3), match='ab8'>\n",
      "None\n",
      "None\n",
      "None\n"
     ]
    }
   ],
   "source": [
    "import re\n",
    "r = re.compile('^ab[0-9]') # ab로 시작하는 문자\n",
    "\n",
    "print(r.search('ab8'))\n",
    "print(r.search('abc9'))\n",
    "print(r.search('aaa'))\n",
    "print(r.search('bcaaa'))\n",
    "\n",
    "# re객체(정규표현식) 에 해당되는 부분만 match로 나온다."
   ]
  },
  {
   "cell_type": "markdown",
   "metadata": {},
   "source": [
    "#### 6) {숫자} 기호\n",
    "\n",
    "앞의 문자가 숫자 만큼 반복"
   ]
  },
  {
   "cell_type": "code",
   "execution_count": 9,
   "metadata": {},
   "outputs": [
    {
     "name": "stdout",
     "output_type": "stream",
     "text": [
      "None\n",
      "None\n",
      "<_sre.SRE_Match object; span=(0, 4), match='abbc'>\n",
      "None\n"
     ]
    }
   ],
   "source": [
    "import re\n",
    "r = re.compile('ab{2}c')\n",
    "\n",
    "print(r.search('ac'))\n",
    "print(r.search('abc'))\n",
    "print(r.search('abbc'))\n",
    "print(r.search('abb'))"
   ]
  },
  {
   "cell_type": "markdown",
   "metadata": {},
   "source": [
    "#### 7) {숫자1, 숫자2} 기호\n",
    "\n",
    "앞의 문자가 숫자1 이상 숫자2 이하만큼 반복"
   ]
  },
  {
   "cell_type": "code",
   "execution_count": 15,
   "metadata": {},
   "outputs": [
    {
     "name": "stdout",
     "output_type": "stream",
     "text": [
      "None\n",
      "<_sre.SRE_Match object; span=(0, 3), match='abc'>\n",
      "<_sre.SRE_Match object; span=(0, 4), match='abbc'>\n",
      "<_sre.SRE_Match object; span=(0, 5), match='abbbc'>\n",
      "None\n"
     ]
    }
   ],
   "source": [
    "import re\n",
    "r = re.compile('ab{1,3}c')\n",
    "\n",
    "print(r.search('ac'))\n",
    "print(r.search('abc'))\n",
    "print(r.search('abbc'))\n",
    "print(r.search('abbbc'))\n",
    "print(r.search('abbbbc'))"
   ]
  },
  {
   "cell_type": "markdown",
   "metadata": {},
   "source": [
    "#### 8) {숫자, } 기호\n",
    "\n",
    "앞의 문자가 숫자 이상만큼 반복"
   ]
  },
  {
   "cell_type": "code",
   "execution_count": 16,
   "metadata": {},
   "outputs": [
    {
     "name": "stdout",
     "output_type": "stream",
     "text": [
      "None\n",
      "None\n",
      "<_sre.SRE_Match object; span=(0, 4), match='abbc'>\n",
      "<_sre.SRE_Match object; span=(0, 15), match='abbbbbbbbbbbbbc'>\n"
     ]
    }
   ],
   "source": [
    "import re\n",
    "r = re.compile('ab{2,}c')\n",
    "\n",
    "print(r.search('ac'))\n",
    "print(r.search('abc'))\n",
    "print(r.search('abbc'))\n",
    "print(r.search('abbbbbbbbbbbbbc'))"
   ]
  },
  {
   "cell_type": "markdown",
   "metadata": {},
   "source": [
    "#### 9) [] 기호\n",
    "\n",
    "안의 문자들 중 하나만 매치\n",
    "\n",
    "[abc] : a 또는 b 또는 c\n",
    "\n",
    "[a-zA-Z] : 알파벳 전체 중 하나\n",
    "\n",
    "[0-9] : 0 ~ 9 중 하나"
   ]
  },
  {
   "cell_type": "code",
   "execution_count": 17,
   "metadata": {},
   "outputs": [
    {
     "name": "stdout",
     "output_type": "stream",
     "text": [
      "None\n",
      "<_sre.SRE_Match object; span=(0, 1), match='a'>\n",
      "<_sre.SRE_Match object; span=(0, 1), match='b'>\n",
      "<_sre.SRE_Match object; span=(0, 1), match='c'>\n",
      "<_sre.SRE_Match object; span=(0, 1), match='a'>\n"
     ]
    }
   ],
   "source": [
    "import re\n",
    "r = re.compile('[abc]')\n",
    "print(r.search('z'))\n",
    "print(r.search('a'))\n",
    "print(r.search('b'))\n",
    "print(r.search('c'))\n",
    "print(r.search('ab'))"
   ]
  },
  {
   "cell_type": "code",
   "execution_count": null,
   "metadata": {},
   "outputs": [],
   "source": []
  }
 ],
 "metadata": {
  "kernelspec": {
   "display_name": "Python 3",
   "language": "python",
   "name": "python3"
  },
  "language_info": {
   "codemirror_mode": {
    "name": "ipython",
    "version": 3
   },
   "file_extension": ".py",
   "mimetype": "text/x-python",
   "name": "python",
   "nbconvert_exporter": "python",
   "pygments_lexer": "ipython3",
   "version": "3.6.6"
  }
 },
 "nbformat": 4,
 "nbformat_minor": 2
}
