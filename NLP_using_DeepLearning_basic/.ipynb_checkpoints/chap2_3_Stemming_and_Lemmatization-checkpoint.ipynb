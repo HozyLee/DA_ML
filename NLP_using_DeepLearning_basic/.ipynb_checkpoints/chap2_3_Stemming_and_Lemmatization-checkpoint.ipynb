{
 "cells": [
  {
   "cell_type": "markdown",
   "metadata": {},
   "source": [
    "# 딥 러닝을 이용한 자연어 처리 입문\n",
    "\n",
    "https://wikidocs.net/22660"
   ]
  },
  {
   "cell_type": "markdown",
   "metadata": {},
   "source": [
    "## 02. 텍스트 전처리(text preprocessing)\n",
    "\n",
    "분석에 앞서 텍스트를 사전에 분류하는 작업"
   ]
  },
  {
   "cell_type": "markdown",
   "metadata": {},
   "source": [
    "### 02-3 어간 추출(Stemming) 과 표제어 추출(Lemmatization) \n",
    "\n",
    "단어의 갯수를 줄일 수 있는 기법\n",
    "\n",
    "의미\n",
    "\n",
    "- 하나의 단어로 일반화 시키는 것\n",
    "- 코퍼스로부터의 복잡성을 줄이는 것\n"
   ]
  },
  {
   "cell_type": "markdown",
   "metadata": {},
   "source": [
    "### 1. 표제어 추출(Lemmatization)\n",
    "\n",
    "Lemma : 표제어, 기본 사전형 단어\n",
    "\n",
    "ex) is, was, does, do.. -> be\n",
    "\n",
    "형태학적(가장 작은 의미의 단위) 파싱을 진행 : 형태소 종류로 나눈는 것\n",
    "\n",
    "형태소 종류\n",
    "    \n",
    "    1. 어간(stem) : 단어의 의미를 담고 있는 부분\n",
    "    2. 접사(affix) : 단어에 의미를 추가하는 부분\n",
    "    \n",
    "    \n",
    "ex) cats -> cat(어간) + s(접사)"
   ]
  },
  {
   "cell_type": "code",
   "execution_count": 2,
   "metadata": {},
   "outputs": [
    {
     "data": {
      "text/plain": [
       "['policy',\n",
       " 'doing',\n",
       " 'organization',\n",
       " 'have',\n",
       " 'going',\n",
       " 'love',\n",
       " 'life',\n",
       " 'fly',\n",
       " 'dy',\n",
       " 'watched',\n",
       " 'ha',\n",
       " 'starting']"
      ]
     },
     "execution_count": 2,
     "metadata": {},
     "output_type": "execute_result"
    }
   ],
   "source": [
    "import nltk\n",
    "\n",
    "from nltk.stem import WordNetLemmatizer\n",
    "\n",
    "n = WordNetLemmatizer()\n",
    "\n",
    "words = ['policy', 'doing', 'organization', 'have', 'going', 'love', 'lives', 'fly', 'dies', 'watched', 'has', 'starting']\n",
    "\n",
    "[n.lemmatize(w) for w in words]"
   ]
  },
  {
   "cell_type": "markdown",
   "metadata": {},
   "source": [
    "위의 결과\n",
    "has -> ha : 알수 없는 의미\n",
    "    \n",
    "표제어 추출기의 특성\n",
    "- 본래 단어의 품사를 알아야 정확한 결과를 얻을 수 있다."
   ]
  },
  {
   "cell_type": "code",
   "execution_count": 5,
   "metadata": {},
   "outputs": [
    {
     "data": {
      "text/plain": [
       "'die'"
      ]
     },
     "execution_count": 5,
     "metadata": {},
     "output_type": "execute_result"
    }
   ],
   "source": [
    "# 함수에 품사를 넘겨주어 정확한 결과를 얻는다.\n",
    "n.lemmatize('dies', 'v')"
   ]
  },
  {
   "cell_type": "code",
   "execution_count": 6,
   "metadata": {},
   "outputs": [
    {
     "data": {
      "text/plain": [
       "'watch'"
      ]
     },
     "execution_count": 6,
     "metadata": {},
     "output_type": "execute_result"
    }
   ],
   "source": [
    "n.lemmatize('watches','v')"
   ]
  },
  {
   "cell_type": "code",
   "execution_count": 7,
   "metadata": {},
   "outputs": [
    {
     "data": {
      "text/plain": [
       "'have'"
      ]
     },
     "execution_count": 7,
     "metadata": {},
     "output_type": "execute_result"
    }
   ],
   "source": [
    "n.lemmatize('has','v')"
   ]
  },
  {
   "cell_type": "markdown",
   "metadata": {},
   "source": [
    "### 2. 어간 추출(Stemming)\n",
    "\n",
    "형태학적 분석의 단순화 버전\n",
    "\n",
    "정해진 규칙만 보고 단어의 어미를 어림잡아 자르는 작업\n",
    "\n",
    "\n",
    "따라서, 결과물이 사전에 존재하지 않을 수 있다."
   ]
  },
  {
   "cell_type": "markdown",
   "metadata": {},
   "source": [
    "#### PorterStemmer\n",
    "\n",
    "결과 : \n",
    "was -> wa 로 사전에 없는 단어로 어간이 추출되었다.\n",
    "\n",
    "porterstemmer의 특징 : 단순히, 특정 조건에 의해 어간을 추출하였기 때문"
   ]
  },
  {
   "cell_type": "code",
   "execution_count": 11,
   "metadata": {},
   "outputs": [
    {
     "name": "stdout",
     "output_type": "stream",
     "text": [
      "단어 : 어간 dictionary\n",
      "{'This': 'thi', 'was': 'wa', 'not': 'not', 'the': 'the', 'map': 'map', 'we': 'we', 'found': 'found', 'in': 'in', 'Billy': 'billi', 'Bones': 'bone', \"'s\": \"'s\", 'chest': 'chest', ',': ',', 'but': 'but', 'an': 'an', 'accurate': 'accur', 'copy': 'copi', 'complete': 'complet', 'all': 'all', 'things': 'thing', '--': '--', 'names': 'name', 'and': 'and', 'heights': 'height', 'soundings': 'sound', 'with': 'with', 'single': 'singl', 'exception': 'except', 'of': 'of', 'red': 'red', 'crosses': 'cross', 'written': 'written', 'notes': 'note', '.': '.'}\n"
     ]
    }
   ],
   "source": [
    "# 1. 코퍼스로부터 단어를 추출한다. 코퍼스 -> 단어\n",
    "import nltk\n",
    "from nltk.stem import PorterStemmer\n",
    "from nltk.tokenize import word_tokenize\n",
    "\n",
    "s = PorterStemmer()\n",
    "\n",
    "text= \"This was not the map we found in Billy Bones's chest, but an accurate copy, complete in all things--names and heights and soundings--with the single exception of the red crosses and the written notes.\"\n",
    "words=word_tokenize(text)\n",
    "\n",
    "# 단어로부터 어간을 추출한다. 단어 -> 어간\n",
    "\n",
    "words_stem = [s.stem(w) for w in words]\n",
    "\n",
    "print('단어 : 어간 dictionary')\n",
    "\n",
    "print(dict(zip(words, words_stem)))\n",
    "\n"
   ]
  },
  {
   "cell_type": "markdown",
   "metadata": {},
   "source": [
    "#### Lancaster Stemmer"
   ]
  },
  {
   "cell_type": "code",
   "execution_count": 12,
   "metadata": {},
   "outputs": [
    {
     "name": "stdout",
     "output_type": "stream",
     "text": [
      "Porter Stemmer 결과==================================================\n",
      "{'policy': 'polici', 'doing': 'do', 'organization': 'organ', 'have': 'have', 'going': 'go', 'love': 'love', 'lives': 'live', 'fly': 'fli', 'dies': 'die', 'watched': 'watch', 'has': 'ha', 'starting': 'start'}\n",
      "Porter Stemmer 결과==================================================\n",
      "{'policy': 'policy', 'doing': 'doing', 'organization': 'org', 'have': 'hav', 'going': 'going', 'love': 'lov', 'lives': 'liv', 'fly': 'fly', 'dies': 'die', 'watched': 'watch', 'has': 'has', 'starting': 'start'}\n"
     ]
    }
   ],
   "source": [
    "import nltk\n",
    "from nltk.stem import PorterStemmer\n",
    "from nltk.stem import LancasterStemmer\n",
    "s = PorterStemmer()\n",
    "l = LancasterStemmer()\n",
    "words = ['policy', 'doing', 'organization', 'have', 'going', 'love', 'lives', 'fly', 'dies', 'watched', 'has', 'starting']\n",
    "\n",
    "print('Porter Stemmer 결과' + '=' * 50)\n",
    "print(dict(zip(words, [s.stem(w) for w in words])))\n",
    "\n",
    "print('Porter Stemmer 결과' + '=' * 50)\n",
    "print(dict(zip(words, [l.stem(w) for w in words])))\n"
   ]
  },
  {
   "cell_type": "code",
   "execution_count": null,
   "metadata": {},
   "outputs": [],
   "source": []
  }
 ],
 "metadata": {
  "kernelspec": {
   "display_name": "Python 3",
   "language": "python",
   "name": "python3"
  },
  "language_info": {
   "codemirror_mode": {
    "name": "ipython",
    "version": 3
   },
   "file_extension": ".py",
   "mimetype": "text/x-python",
   "name": "python",
   "nbconvert_exporter": "python",
   "pygments_lexer": "ipython3",
   "version": "3.6.6"
  }
 },
 "nbformat": 4,
 "nbformat_minor": 2
}
